{
 "cells": [
  {
   "cell_type": "markdown",
   "id": "d7235dd1",
   "metadata": {},
   "source": [
    "https://aws-data-wrangler.readthedocs.io/en/stable/stubs/awswrangler.s3.read_csv.html"
   ]
  },
  {
   "cell_type": "code",
   "execution_count": 1,
   "id": "2c881b69",
   "metadata": {},
   "outputs": [
    {
     "name": "stdout",
     "output_type": "stream",
     "text": [
      "Collecting awswrangler\n",
      "  Downloading awswrangler-2.9.0-py3-none-any.whl (183 kB)\n",
      "\u001b[K     |████████████████████████████████| 183 kB 14.6 MB/s eta 0:00:01\n",
      "\u001b[?25hRequirement already satisfied: pandas<1.3.0,>=1.1.0 in /home/ec2-user/anaconda3/envs/python3/lib/python3.6/site-packages (from awswrangler) (1.1.5)\n",
      "Requirement already satisfied: openpyxl~=3.0.0 in /home/ec2-user/anaconda3/envs/python3/lib/python3.6/site-packages (from awswrangler) (3.0.6)\n",
      "Requirement already satisfied: boto3<2.0.0,>=1.16.8 in /home/ec2-user/anaconda3/envs/python3/lib/python3.6/site-packages (from awswrangler) (1.17.76)\n",
      "Collecting redshift-connector~=2.0.0\n",
      "  Downloading redshift_connector-2.0.881-py3-none-any.whl (91 kB)\n",
      "\u001b[K     |████████████████████████████████| 91 kB 3.0 MB/s  eta 0:00:01\n",
      "\u001b[?25hRequirement already satisfied: numpy<1.21.0,>=1.18.0 in /home/ec2-user/anaconda3/envs/python3/lib/python3.6/site-packages (from awswrangler) (1.19.5)\n",
      "Requirement already satisfied: pyarrow<4.1.0,>=2.0.0 in /home/ec2-user/anaconda3/envs/python3/lib/python3.6/site-packages (from awswrangler) (4.0.0)\n",
      "Collecting pg8000<1.20.0,>=1.16.0\n",
      "  Downloading pg8000-1.19.5-py3-none-any.whl (34 kB)\n",
      "Collecting pymysql<1.1.0,>=0.9.0\n",
      "  Downloading PyMySQL-1.0.2-py3-none-any.whl (43 kB)\n",
      "\u001b[K     |████████████████████████████████| 43 kB 3.4 MB/s  eta 0:00:01\n",
      "\u001b[?25hRequirement already satisfied: botocore<2.0.0,>=1.19.8 in /home/ec2-user/anaconda3/envs/python3/lib/python3.6/site-packages (from awswrangler) (1.20.76)\n",
      "Requirement already satisfied: s3transfer<0.5.0,>=0.4.0 in /home/ec2-user/anaconda3/envs/python3/lib/python3.6/site-packages (from boto3<2.0.0,>=1.16.8->awswrangler) (0.4.2)\n",
      "Requirement already satisfied: jmespath<1.0.0,>=0.7.1 in /home/ec2-user/anaconda3/envs/python3/lib/python3.6/site-packages (from boto3<2.0.0,>=1.16.8->awswrangler) (0.10.0)\n",
      "Requirement already satisfied: python-dateutil<3.0.0,>=2.1 in /home/ec2-user/anaconda3/envs/python3/lib/python3.6/site-packages (from botocore<2.0.0,>=1.19.8->awswrangler) (2.8.1)\n",
      "Requirement already satisfied: urllib3<1.27,>=1.25.4 in /home/ec2-user/anaconda3/envs/python3/lib/python3.6/site-packages (from botocore<2.0.0,>=1.19.8->awswrangler) (1.26.4)\n",
      "Requirement already satisfied: jdcal in /home/ec2-user/anaconda3/envs/python3/lib/python3.6/site-packages (from openpyxl~=3.0.0->awswrangler) (1.4.1)\n",
      "Requirement already satisfied: et-xmlfile in /home/ec2-user/anaconda3/envs/python3/lib/python3.6/site-packages (from openpyxl~=3.0.0->awswrangler) (1.0.1)\n",
      "Requirement already satisfied: pytz>=2017.2 in /home/ec2-user/anaconda3/envs/python3/lib/python3.6/site-packages (from pandas<1.3.0,>=1.1.0->awswrangler) (2021.1)\n",
      "Collecting scramp==1.4.0\n",
      "  Downloading scramp-1.4.0-py3-none-any.whl (8.4 kB)\n",
      "Requirement already satisfied: asn1crypto==1.4.0 in /home/ec2-user/anaconda3/envs/python3/lib/python3.6/site-packages (from scramp==1.4.0->pg8000<1.20.0,>=1.16.0->awswrangler) (1.4.0)\n",
      "Requirement already satisfied: six>=1.5 in /home/ec2-user/anaconda3/envs/python3/lib/python3.6/site-packages (from python-dateutil<3.0.0,>=2.1->botocore<2.0.0,>=1.19.8->awswrangler) (1.15.0)\n",
      "Requirement already satisfied: beautifulsoup4<5.0.0,>=4.7.0 in /home/ec2-user/anaconda3/envs/python3/lib/python3.6/site-packages (from redshift-connector~=2.0.0->awswrangler) (4.9.3)\n",
      "Requirement already satisfied: lxml>=4.6.2 in /home/ec2-user/anaconda3/envs/python3/lib/python3.6/site-packages (from redshift-connector~=2.0.0->awswrangler) (4.6.3)\n",
      "Requirement already satisfied: requests<2.25.2,>=2.23.0 in /home/ec2-user/anaconda3/envs/python3/lib/python3.6/site-packages (from redshift-connector~=2.0.0->awswrangler) (2.25.1)\n",
      "Requirement already satisfied: soupsieve>1.2 in /home/ec2-user/anaconda3/envs/python3/lib/python3.6/site-packages (from beautifulsoup4<5.0.0,>=4.7.0->redshift-connector~=2.0.0->awswrangler) (2.0.1)\n",
      "Requirement already satisfied: chardet<5,>=3.0.2 in /home/ec2-user/anaconda3/envs/python3/lib/python3.6/site-packages (from requests<2.25.2,>=2.23.0->redshift-connector~=2.0.0->awswrangler) (3.0.4)\n",
      "Requirement already satisfied: certifi>=2017.4.17 in /home/ec2-user/anaconda3/envs/python3/lib/python3.6/site-packages (from requests<2.25.2,>=2.23.0->redshift-connector~=2.0.0->awswrangler) (2020.12.5)\n",
      "Requirement already satisfied: idna<3,>=2.5 in /home/ec2-user/anaconda3/envs/python3/lib/python3.6/site-packages (from requests<2.25.2,>=2.23.0->redshift-connector~=2.0.0->awswrangler) (2.10)\n",
      "Installing collected packages: scramp, redshift-connector, pymysql, pg8000, awswrangler\n",
      "Successfully installed awswrangler-2.9.0 pg8000-1.19.5 pymysql-1.0.2 redshift-connector-2.0.881 scramp-1.4.0\n",
      "Note: you may need to restart the kernel to use updated packages.\n"
     ]
    }
   ],
   "source": [
    "pip install awswrangler"
   ]
  },
  {
   "cell_type": "code",
   "execution_count": 2,
   "id": "7be5348d",
   "metadata": {},
   "outputs": [],
   "source": [
    "import sagemaker\n",
    "import boto3\n",
    "import awswrangler as wr\n",
    "\n",
    "import pandas as pd\n",
    "import numpy as np\n",
    "from datetime import datetime\n",
    "\n",
    "import json"
   ]
  },
  {
   "cell_type": "code",
   "execution_count": 3,
   "id": "6788f75a",
   "metadata": {},
   "outputs": [],
   "source": [
    "input_bucket = 'adsb-data'\n",
    "input_subfolder = ''\n",
    "\n",
    "output_bucket = 'partly-cloudy-common-area'\n",
    "output_subfolder = ''"
   ]
  },
  {
   "cell_type": "code",
   "execution_count": 4,
   "id": "2f5087df",
   "metadata": {},
   "outputs": [],
   "source": [
    "from sagemaker import get_execution_role\n",
    "role = get_execution_role()"
   ]
  },
  {
   "cell_type": "code",
   "execution_count": null,
   "id": "564a6f32",
   "metadata": {},
   "outputs": [],
   "source": [
    "# Examine the files in the 'adsb-data s3 Bucket\n",
    "conn = boto3.client('s3')\n",
    "contents = conn.list_objects(Bucket= input_bucket, Prefix= input_subfolder)['Contents']\n",
    "for f in contents:\n",
    "    print(f['Key'])"
   ]
  },
  {
   "cell_type": "code",
   "execution_count": null,
   "id": "8180bbff",
   "metadata": {},
   "outputs": [],
   "source": [
    "# Examine the contents in the 'adsb-data' s3 Bucket\n",
    "contents"
   ]
  },
  {
   "cell_type": "code",
   "execution_count": null,
   "id": "067ca34b",
   "metadata": {},
   "outputs": [],
   "source": [
    "# Get all file names in 'adsb-data' Bucket into a list \n",
    "myFileNames = [f['Key'] for f in contents] # <---------------------- Using 'AWS contents' does not work!!!\n",
    "# myFileNames = ['2016_06_20_0002Z.json', '2016_06_20_0003Z.json']"
   ]
  },
  {
   "cell_type": "code",
   "execution_count": 5,
   "id": "185e014d",
   "metadata": {},
   "outputs": [],
   "source": [
    "# Generate all file names assume to be in 'adsb-data' <--------------------------------- Redo by Iteration\n",
    "dateTimes = pd.date_range('2016-06-20 00:00:00', '2016-06-20 23:59:00', freq= 'T')\n",
    "dateTimesSer = pd.Series([str(dateTime) for dateTime in dateTimes], name= 'temp')\n",
    "myFileNames = [dateTimesSer[i][0:4] + '_' + dateTimesSer[i][5:7] + '_' + dateTimesSer[i][8:10] + '_' + dateTimesSer[i][11:13] + dateTimesSer[i][14:16] +'Z.json' for i in range(len(dateTimesSer))]"
   ]
  },
  {
   "cell_type": "code",
   "execution_count": null,
   "id": "373ae279",
   "metadata": {},
   "outputs": [],
   "source": [
    "myFileNames"
   ]
  },
  {
   "cell_type": "code",
   "execution_count": 6,
   "id": "063b007f",
   "metadata": {},
   "outputs": [
    {
     "name": "stdout",
     "output_type": "stream",
     "text": [
      "CPU times: user 6min 15s, sys: 9.52 s, total: 6min 25s\n",
      "Wall time: 10min 47s\n"
     ]
    }
   ],
   "source": [
    "%%time\n",
    "# Obtain necessary data items from all json files in 'adsb-data' in a single dataframe\n",
    "\n",
    "dt = []\n",
    "eyedee = []\n",
    "alt = []\n",
    "lat = []\n",
    "long = []\n",
    "\n",
    "for myFileName in myFileNames:\n",
    "    s3_obj = boto3.client('s3')\n",
    "    s3_myobj = s3_obj.get_object(Bucket= input_bucket, Key= myFileName)\n",
    "    s3_mydata = s3_myobj['Body'].read().decode('utf-8')\n",
    "    js = json.loads(s3_mydata)\n",
    "    \n",
    "    dattim = datetime(year= int(myFileName[0:4]),\n",
    "                      month= int(myFileName[5:7]),\n",
    "                      day= int(myFileName[8:10]),\n",
    "                      hour= int(myFileName[11:13]),\n",
    "                      minute= int(myFileName[13:15]),\n",
    "                      second= 0)\n",
    "    \n",
    "    for i in range(len(js['acList'])):\n",
    "        dt.append(str(dattim))\n",
    "        if \"Id\" in js['acList'][i].keys():\n",
    "            eyedee.append(js['acList'][i]['Id'])\n",
    "        else:\n",
    "            eyedee.append(np.nan)\n",
    "        if \"Alt\" in js['acList'][i].keys():\n",
    "            alt.append(js['acList'][i]['Alt'])\n",
    "        else:\n",
    "            alt.append(np.nan)\n",
    "        if (\"Lat\" in js['acList'][i].keys()):\n",
    "            if type(js['acList'][i]['Lat']) == np.float:\n",
    "                lat.append(js['acList'][i]['Lat'])\n",
    "            else:\n",
    "                lat.append(np.nan)\n",
    "        else:\n",
    "            lat.append(np.nan)\n",
    "        if \"Long\" in js['acList'][i].keys():\n",
    "            long.append(js['acList'][i]['Long'])\n",
    "        else:\n",
    "            long.append(np.nan)\n"
   ]
  },
  {
   "cell_type": "code",
   "execution_count": 7,
   "id": "c943a599",
   "metadata": {},
   "outputs": [],
   "source": [
    "df = pd.DataFrame({\"DateTime\":dt, \"id\":eyedee, 'Altitude':alt, 'Latitude':lat, 'Longitude':long})"
   ]
  },
  {
   "cell_type": "code",
   "execution_count": 8,
   "id": "021024bc",
   "metadata": {},
   "outputs": [
    {
     "data": {
      "text/html": [
       "<div>\n",
       "<style scoped>\n",
       "    .dataframe tbody tr th:only-of-type {\n",
       "        vertical-align: middle;\n",
       "    }\n",
       "\n",
       "    .dataframe tbody tr th {\n",
       "        vertical-align: top;\n",
       "    }\n",
       "\n",
       "    .dataframe thead th {\n",
       "        text-align: right;\n",
       "    }\n",
       "</style>\n",
       "<table border=\"1\" class=\"dataframe\">\n",
       "  <thead>\n",
       "    <tr style=\"text-align: right;\">\n",
       "      <th></th>\n",
       "      <th>DateTime</th>\n",
       "      <th>id</th>\n",
       "      <th>Altitude</th>\n",
       "      <th>Latitude</th>\n",
       "      <th>Longitude</th>\n",
       "    </tr>\n",
       "  </thead>\n",
       "  <tbody>\n",
       "    <tr>\n",
       "      <th>0</th>\n",
       "      <td>2016-06-20 00:00:00</td>\n",
       "      <td>8721588</td>\n",
       "      <td>31000.0</td>\n",
       "      <td>NaN</td>\n",
       "      <td>NaN</td>\n",
       "    </tr>\n",
       "    <tr>\n",
       "      <th>1</th>\n",
       "      <td>2016-06-20 00:00:00</td>\n",
       "      <td>2961715</td>\n",
       "      <td>NaN</td>\n",
       "      <td>0.000000</td>\n",
       "      <td>-2147.483648</td>\n",
       "    </tr>\n",
       "    <tr>\n",
       "      <th>2</th>\n",
       "      <td>2016-06-20 00:00:00</td>\n",
       "      <td>10607858</td>\n",
       "      <td>700.0</td>\n",
       "      <td>NaN</td>\n",
       "      <td>NaN</td>\n",
       "    </tr>\n",
       "    <tr>\n",
       "      <th>3</th>\n",
       "      <td>2016-06-20 00:00:00</td>\n",
       "      <td>12608926</td>\n",
       "      <td>2775.0</td>\n",
       "      <td>NaN</td>\n",
       "      <td>NaN</td>\n",
       "    </tr>\n",
       "    <tr>\n",
       "      <th>4</th>\n",
       "      <td>2016-06-20 00:00:00</td>\n",
       "      <td>7786027</td>\n",
       "      <td>300.0</td>\n",
       "      <td>1.334150</td>\n",
       "      <td>103.987221</td>\n",
       "    </tr>\n",
       "    <tr>\n",
       "      <th>...</th>\n",
       "      <td>...</td>\n",
       "      <td>...</td>\n",
       "      <td>...</td>\n",
       "      <td>...</td>\n",
       "      <td>...</td>\n",
       "    </tr>\n",
       "    <tr>\n",
       "      <th>6743149</th>\n",
       "      <td>2016-06-20 23:59:00</td>\n",
       "      <td>11401618</td>\n",
       "      <td>6950.0</td>\n",
       "      <td>NaN</td>\n",
       "      <td>NaN</td>\n",
       "    </tr>\n",
       "    <tr>\n",
       "      <th>6743150</th>\n",
       "      <td>2016-06-20 23:59:00</td>\n",
       "      <td>11401617</td>\n",
       "      <td>3407.0</td>\n",
       "      <td>NaN</td>\n",
       "      <td>NaN</td>\n",
       "    </tr>\n",
       "    <tr>\n",
       "      <th>6743151</th>\n",
       "      <td>2016-06-20 23:59:00</td>\n",
       "      <td>5271422</td>\n",
       "      <td>1000.0</td>\n",
       "      <td>45.481979</td>\n",
       "      <td>13.648616</td>\n",
       "    </tr>\n",
       "    <tr>\n",
       "      <th>6743152</th>\n",
       "      <td>2016-06-20 23:59:00</td>\n",
       "      <td>11401619</td>\n",
       "      <td>6752.0</td>\n",
       "      <td>NaN</td>\n",
       "      <td>NaN</td>\n",
       "    </tr>\n",
       "    <tr>\n",
       "      <th>6743153</th>\n",
       "      <td>2016-06-20 23:59:00</td>\n",
       "      <td>11402205</td>\n",
       "      <td>8025.0</td>\n",
       "      <td>NaN</td>\n",
       "      <td>NaN</td>\n",
       "    </tr>\n",
       "  </tbody>\n",
       "</table>\n",
       "<p>6743154 rows × 5 columns</p>\n",
       "</div>"
      ],
      "text/plain": [
       "                    DateTime        id  Altitude   Latitude    Longitude\n",
       "0        2016-06-20 00:00:00   8721588   31000.0        NaN          NaN\n",
       "1        2016-06-20 00:00:00   2961715       NaN   0.000000 -2147.483648\n",
       "2        2016-06-20 00:00:00  10607858     700.0        NaN          NaN\n",
       "3        2016-06-20 00:00:00  12608926    2775.0        NaN          NaN\n",
       "4        2016-06-20 00:00:00   7786027     300.0   1.334150   103.987221\n",
       "...                      ...       ...       ...        ...          ...\n",
       "6743149  2016-06-20 23:59:00  11401618    6950.0        NaN          NaN\n",
       "6743150  2016-06-20 23:59:00  11401617    3407.0        NaN          NaN\n",
       "6743151  2016-06-20 23:59:00   5271422    1000.0  45.481979    13.648616\n",
       "6743152  2016-06-20 23:59:00  11401619    6752.0        NaN          NaN\n",
       "6743153  2016-06-20 23:59:00  11402205    8025.0        NaN          NaN\n",
       "\n",
       "[6743154 rows x 5 columns]"
      ]
     },
     "execution_count": 8,
     "metadata": {},
     "output_type": "execute_result"
    }
   ],
   "source": [
    "df"
   ]
  },
  {
   "cell_type": "code",
   "execution_count": 9,
   "id": "c4ff365b",
   "metadata": {},
   "outputs": [
    {
     "data": {
      "text/plain": [
       "DateTime          0\n",
       "id                0\n",
       "Altitude      90618\n",
       "Latitude     718818\n",
       "Longitude    718818\n",
       "dtype: int64"
      ]
     },
     "execution_count": 9,
     "metadata": {},
     "output_type": "execute_result"
    }
   ],
   "source": [
    "# Examine number of records with NULL\n",
    "df.isnull().sum()"
   ]
  },
  {
   "cell_type": "code",
   "execution_count": 10,
   "id": "36ae179d",
   "metadata": {},
   "outputs": [
    {
     "data": {
      "text/plain": [
       "2016-06-20 15:43:00    6711\n",
       "2016-06-20 15:38:00    6694\n",
       "2016-06-20 14:52:00    6656\n",
       "2016-06-20 14:44:00    6649\n",
       "2016-06-20 14:55:00    6648\n",
       "                       ... \n",
       "2016-06-20 04:13:00    2668\n",
       "2016-06-20 04:06:00    2667\n",
       "2016-06-20 04:10:00    2643\n",
       "2016-06-20 04:09:00    2629\n",
       "2016-06-20 03:07:00     736\n",
       "Name: DateTime, Length: 1439, dtype: int64"
      ]
     },
     "execution_count": 10,
     "metadata": {},
     "output_type": "execute_result"
    }
   ],
   "source": [
    "df['DateTime'].value_counts()"
   ]
  },
  {
   "cell_type": "code",
   "execution_count": 11,
   "id": "5762ece2",
   "metadata": {},
   "outputs": [],
   "source": [
    "df_select = df.dropna(axis= 0, how= 'any').copy() # Per Dr. Cherry on 6/17/2021"
   ]
  },
  {
   "cell_type": "code",
   "execution_count": 12,
   "id": "75258d21",
   "metadata": {},
   "outputs": [
    {
     "data": {
      "text/html": [
       "<div>\n",
       "<style scoped>\n",
       "    .dataframe tbody tr th:only-of-type {\n",
       "        vertical-align: middle;\n",
       "    }\n",
       "\n",
       "    .dataframe tbody tr th {\n",
       "        vertical-align: top;\n",
       "    }\n",
       "\n",
       "    .dataframe thead th {\n",
       "        text-align: right;\n",
       "    }\n",
       "</style>\n",
       "<table border=\"1\" class=\"dataframe\">\n",
       "  <thead>\n",
       "    <tr style=\"text-align: right;\">\n",
       "      <th></th>\n",
       "      <th>DateTime</th>\n",
       "      <th>id</th>\n",
       "      <th>Altitude</th>\n",
       "      <th>Latitude</th>\n",
       "      <th>Longitude</th>\n",
       "    </tr>\n",
       "  </thead>\n",
       "  <tbody>\n",
       "    <tr>\n",
       "      <th>4</th>\n",
       "      <td>2016-06-20 00:00:00</td>\n",
       "      <td>7786027</td>\n",
       "      <td>300.0</td>\n",
       "      <td>1.334150</td>\n",
       "      <td>103.987221</td>\n",
       "    </tr>\n",
       "    <tr>\n",
       "      <th>13</th>\n",
       "      <td>2016-06-20 00:00:00</td>\n",
       "      <td>2900289</td>\n",
       "      <td>3752492.0</td>\n",
       "      <td>0.000003</td>\n",
       "      <td>0.000000</td>\n",
       "    </tr>\n",
       "    <tr>\n",
       "      <th>23</th>\n",
       "      <td>2016-06-20 00:00:00</td>\n",
       "      <td>4196356</td>\n",
       "      <td>2900.0</td>\n",
       "      <td>51.487190</td>\n",
       "      <td>-0.581210</td>\n",
       "    </tr>\n",
       "    <tr>\n",
       "      <th>24</th>\n",
       "      <td>2016-06-20 00:00:00</td>\n",
       "      <td>4494056</td>\n",
       "      <td>25450.0</td>\n",
       "      <td>51.418110</td>\n",
       "      <td>2.221830</td>\n",
       "    </tr>\n",
       "    <tr>\n",
       "      <th>25</th>\n",
       "      <td>2016-06-20 00:00:00</td>\n",
       "      <td>11287741</td>\n",
       "      <td>39525.0</td>\n",
       "      <td>50.827541</td>\n",
       "      <td>0.748670</td>\n",
       "    </tr>\n",
       "    <tr>\n",
       "      <th>...</th>\n",
       "      <td>...</td>\n",
       "      <td>...</td>\n",
       "      <td>...</td>\n",
       "      <td>...</td>\n",
       "      <td>...</td>\n",
       "    </tr>\n",
       "    <tr>\n",
       "      <th>6743117</th>\n",
       "      <td>2016-06-20 23:59:00</td>\n",
       "      <td>8189898</td>\n",
       "      <td>0.0</td>\n",
       "      <td>-33.870198</td>\n",
       "      <td>151.210213</td>\n",
       "    </tr>\n",
       "    <tr>\n",
       "      <th>6743128</th>\n",
       "      <td>2016-06-20 23:59:00</td>\n",
       "      <td>12193915</td>\n",
       "      <td>55800.0</td>\n",
       "      <td>37.812332</td>\n",
       "      <td>-120.652634</td>\n",
       "    </tr>\n",
       "    <tr>\n",
       "      <th>6743130</th>\n",
       "      <td>2016-06-20 23:59:00</td>\n",
       "      <td>3289137</td>\n",
       "      <td>3159599.0</td>\n",
       "      <td>0.000706</td>\n",
       "      <td>0.000000</td>\n",
       "    </tr>\n",
       "    <tr>\n",
       "      <th>6743133</th>\n",
       "      <td>2016-06-20 23:59:00</td>\n",
       "      <td>2894892</td>\n",
       "      <td>2894892.0</td>\n",
       "      <td>0.000000</td>\n",
       "      <td>-2147.483648</td>\n",
       "    </tr>\n",
       "    <tr>\n",
       "      <th>6743151</th>\n",
       "      <td>2016-06-20 23:59:00</td>\n",
       "      <td>5271422</td>\n",
       "      <td>1000.0</td>\n",
       "      <td>45.481979</td>\n",
       "      <td>13.648616</td>\n",
       "    </tr>\n",
       "  </tbody>\n",
       "</table>\n",
       "<p>6007771 rows × 5 columns</p>\n",
       "</div>"
      ],
      "text/plain": [
       "                    DateTime        id   Altitude   Latitude    Longitude\n",
       "4        2016-06-20 00:00:00   7786027      300.0   1.334150   103.987221\n",
       "13       2016-06-20 00:00:00   2900289  3752492.0   0.000003     0.000000\n",
       "23       2016-06-20 00:00:00   4196356     2900.0  51.487190    -0.581210\n",
       "24       2016-06-20 00:00:00   4494056    25450.0  51.418110     2.221830\n",
       "25       2016-06-20 00:00:00  11287741    39525.0  50.827541     0.748670\n",
       "...                      ...       ...        ...        ...          ...\n",
       "6743117  2016-06-20 23:59:00   8189898        0.0 -33.870198   151.210213\n",
       "6743128  2016-06-20 23:59:00  12193915    55800.0  37.812332  -120.652634\n",
       "6743130  2016-06-20 23:59:00   3289137  3159599.0   0.000706     0.000000\n",
       "6743133  2016-06-20 23:59:00   2894892  2894892.0   0.000000 -2147.483648\n",
       "6743151  2016-06-20 23:59:00   5271422     1000.0  45.481979    13.648616\n",
       "\n",
       "[6007771 rows x 5 columns]"
      ]
     },
     "execution_count": 12,
     "metadata": {},
     "output_type": "execute_result"
    }
   ],
   "source": [
    "df_select"
   ]
  },
  {
   "cell_type": "code",
   "execution_count": 13,
   "id": "5d0096fe",
   "metadata": {},
   "outputs": [
    {
     "name": "stdout",
     "output_type": "stream",
     "text": [
      "JuneFirst2020_24hr_issr.csv\n",
      "hourly_issr_summary.csv\n"
     ]
    }
   ],
   "source": [
    "# Examine the list of files are already in the output_bucket (i.e., \"partly-cloudy-common-area\")\n",
    "conn = boto3.client('s3')\n",
    "contents = conn.list_objects(Bucket= output_bucket, Prefix= output_subfolder)['Contents']\n",
    "for f in contents:\n",
    "    print(f['Key'])"
   ]
  },
  {
   "cell_type": "code",
   "execution_count": 14,
   "id": "1697d9d9",
   "metadata": {},
   "outputs": [],
   "source": [
    "outputFileName = 'selectAfileName.csv' # <--------------------------------------------- Specify"
   ]
  },
  {
   "cell_type": "markdown",
   "id": "9aad3ab6",
   "metadata": {},
   "source": [
    "wr.s3.to_csv(df_select, f\"s3://{output_bucket}/{outputFileName}\", index=False)"
   ]
  },
  {
   "cell_type": "code",
   "execution_count": null,
   "id": "8ad03ce7",
   "metadata": {},
   "outputs": [],
   "source": []
  }
 ],
 "metadata": {
  "kernelspec": {
   "display_name": "conda_python3",
   "language": "python",
   "name": "conda_python3"
  },
  "language_info": {
   "codemirror_mode": {
    "name": "ipython",
    "version": 3
   },
   "file_extension": ".py",
   "mimetype": "text/x-python",
   "name": "python",
   "nbconvert_exporter": "python",
   "pygments_lexer": "ipython3",
   "version": "3.6.13"
  }
 },
 "nbformat": 4,
 "nbformat_minor": 5
}
