{
 "cells": [
  {
   "cell_type": "code",
   "execution_count": 1,
   "id": "0e2ae51e",
   "metadata": {},
   "outputs": [],
   "source": [
    "from sagemaker import get_execution_role\n",
    "role = get_execution_role()"
   ]
  },
  {
   "cell_type": "code",
   "execution_count": 2,
   "id": "b7e019c5",
   "metadata": {},
   "outputs": [
    {
     "name": "stdout",
     "output_type": "stream",
     "text": [
      "Requirement already satisfied: awswrangler in /home/ec2-user/anaconda3/envs/python3/lib/python3.6/site-packages (2.10.0)\n",
      "Requirement already satisfied: pymysql<1.1.0,>=0.9.0 in /home/ec2-user/anaconda3/envs/python3/lib/python3.6/site-packages (from awswrangler) (1.0.2)\n",
      "Requirement already satisfied: boto3<2.1.0,>=1.16.8 in /home/ec2-user/anaconda3/envs/python3/lib/python3.6/site-packages (from awswrangler) (1.17.99)\n",
      "Requirement already satisfied: openpyxl~=3.0.0 in /home/ec2-user/anaconda3/envs/python3/lib/python3.6/site-packages (from awswrangler) (3.0.6)\n",
      "Requirement already satisfied: pg8000<1.21.0,>=1.16.0 in /home/ec2-user/anaconda3/envs/python3/lib/python3.6/site-packages (from awswrangler) (1.20.0)\n",
      "Requirement already satisfied: botocore<2.1.0,>=1.19.8 in /home/ec2-user/anaconda3/envs/python3/lib/python3.6/site-packages (from awswrangler) (1.20.99)\n",
      "Requirement already satisfied: numpy<2.1.0,>=1.18.0 in /home/ec2-user/anaconda3/envs/python3/lib/python3.6/site-packages (from awswrangler) (1.19.5)\n",
      "Requirement already satisfied: redshift-connector~=2.0.882 in /home/ec2-user/anaconda3/envs/python3/lib/python3.6/site-packages (from awswrangler) (2.0.883)\n",
      "Requirement already satisfied: pandas<2.1.0,>=1.1.0 in /home/ec2-user/anaconda3/envs/python3/lib/python3.6/site-packages (from awswrangler) (1.1.5)\n",
      "Requirement already satisfied: pyarrow<4.1.0,>=2.0.0 in /home/ec2-user/anaconda3/envs/python3/lib/python3.6/site-packages (from awswrangler) (4.0.1)\n",
      "Requirement already satisfied: s3transfer<0.5.0,>=0.4.0 in /home/ec2-user/anaconda3/envs/python3/lib/python3.6/site-packages (from boto3<2.1.0,>=1.16.8->awswrangler) (0.4.2)\n",
      "Requirement already satisfied: jmespath<1.0.0,>=0.7.1 in /home/ec2-user/anaconda3/envs/python3/lib/python3.6/site-packages (from boto3<2.1.0,>=1.16.8->awswrangler) (0.10.0)\n",
      "Requirement already satisfied: urllib3<1.27,>=1.25.4 in /home/ec2-user/anaconda3/envs/python3/lib/python3.6/site-packages (from botocore<2.1.0,>=1.19.8->awswrangler) (1.26.5)\n",
      "Requirement already satisfied: python-dateutil<3.0.0,>=2.1 in /home/ec2-user/anaconda3/envs/python3/lib/python3.6/site-packages (from botocore<2.1.0,>=1.19.8->awswrangler) (2.8.1)\n",
      "Requirement already satisfied: jdcal in /home/ec2-user/anaconda3/envs/python3/lib/python3.6/site-packages (from openpyxl~=3.0.0->awswrangler) (1.4.1)\n",
      "Requirement already satisfied: et-xmlfile in /home/ec2-user/anaconda3/envs/python3/lib/python3.6/site-packages (from openpyxl~=3.0.0->awswrangler) (1.0.1)\n",
      "Requirement already satisfied: pytz>=2017.2 in /home/ec2-user/anaconda3/envs/python3/lib/python3.6/site-packages (from pandas<2.1.0,>=1.1.0->awswrangler) (2021.1)\n",
      "Requirement already satisfied: scramp>=1.4.0 in /home/ec2-user/anaconda3/envs/python3/lib/python3.6/site-packages (from pg8000<1.21.0,>=1.16.0->awswrangler) (1.4.0)\n",
      "Requirement already satisfied: six>=1.5 in /home/ec2-user/anaconda3/envs/python3/lib/python3.6/site-packages (from python-dateutil<3.0.0,>=2.1->botocore<2.1.0,>=1.19.8->awswrangler) (1.15.0)\n",
      "Requirement already satisfied: requests<2.25.2,>=2.23.0 in /home/ec2-user/anaconda3/envs/python3/lib/python3.6/site-packages (from redshift-connector~=2.0.882->awswrangler) (2.25.1)\n",
      "Requirement already satisfied: beautifulsoup4<5.0.0,>=4.7.0 in /home/ec2-user/anaconda3/envs/python3/lib/python3.6/site-packages (from redshift-connector~=2.0.882->awswrangler) (4.9.3)\n",
      "Requirement already satisfied: lxml>=4.6.2 in /home/ec2-user/anaconda3/envs/python3/lib/python3.6/site-packages (from redshift-connector~=2.0.882->awswrangler) (4.6.3)\n",
      "Requirement already satisfied: soupsieve>1.2 in /home/ec2-user/anaconda3/envs/python3/lib/python3.6/site-packages (from beautifulsoup4<5.0.0,>=4.7.0->redshift-connector~=2.0.882->awswrangler) (2.0.1)\n",
      "Requirement already satisfied: certifi>=2017.4.17 in /home/ec2-user/anaconda3/envs/python3/lib/python3.6/site-packages (from requests<2.25.2,>=2.23.0->redshift-connector~=2.0.882->awswrangler) (2021.5.30)\n",
      "Requirement already satisfied: idna<3,>=2.5 in /home/ec2-user/anaconda3/envs/python3/lib/python3.6/site-packages (from requests<2.25.2,>=2.23.0->redshift-connector~=2.0.882->awswrangler) (2.10)\n",
      "Requirement already satisfied: chardet<5,>=3.0.2 in /home/ec2-user/anaconda3/envs/python3/lib/python3.6/site-packages (from requests<2.25.2,>=2.23.0->redshift-connector~=2.0.882->awswrangler) (3.0.4)\n",
      "Requirement already satisfied: asn1crypto==1.4.0 in /home/ec2-user/anaconda3/envs/python3/lib/python3.6/site-packages (from scramp>=1.4.0->pg8000<1.21.0,>=1.16.0->awswrangler) (1.4.0)\n",
      "\u001b[33mWARNING: You are using pip version 21.1.2; however, version 21.2.1 is available.\n",
      "You should consider upgrading via the '/home/ec2-user/anaconda3/envs/python3/bin/python -m pip install --upgrade pip' command.\u001b[0m\n",
      "Note: you may need to restart the kernel to use updated packages.\n"
     ]
    }
   ],
   "source": [
    "pip install awswrangler"
   ]
  },
  {
   "cell_type": "code",
   "execution_count": 3,
   "id": "da657d81",
   "metadata": {},
   "outputs": [
    {
     "name": "stdout",
     "output_type": "stream",
     "text": [
      "Requirement already satisfied: pygeohash in /home/ec2-user/anaconda3/envs/python3/lib/python3.6/site-packages (1.2.0)\n",
      "\u001b[33mWARNING: You are using pip version 21.1.2; however, version 21.2.1 is available.\n",
      "You should consider upgrading via the '/home/ec2-user/anaconda3/envs/python3/bin/python -m pip install --upgrade pip' command.\u001b[0m\n",
      "Note: you may need to restart the kernel to use updated packages.\n"
     ]
    }
   ],
   "source": [
    "pip install pygeohash"
   ]
  },
  {
   "cell_type": "code",
   "execution_count": 4,
   "id": "0bb5adb1",
   "metadata": {},
   "outputs": [],
   "source": [
    "import sagemaker\n",
    "import boto3\n",
    "import awswrangler as wr\n",
    "\n",
    "import pandas as pd\n",
    "import numpy as np\n",
    "from datetime import datetime, timedelta\n",
    "\n",
    "import pygeohash as pgh"
   ]
  },
  {
   "cell_type": "code",
   "execution_count": 5,
   "id": "02dcf77e",
   "metadata": {},
   "outputs": [
    {
     "data": {
      "text/html": [
       "\n",
       "            <div>\n",
       "                <p><b>SparkSession - in-memory</b></p>\n",
       "                \n",
       "        <div>\n",
       "            <p><b>SparkContext</b></p>\n",
       "\n",
       "            <p><a href=\"http://ip-172-16-115-217.ec2.internal:4041\">Spark UI</a></p>\n",
       "\n",
       "            <dl>\n",
       "              <dt>Version</dt>\n",
       "                <dd><code>v2.4.0</code></dd>\n",
       "              <dt>Master</dt>\n",
       "                <dd><code>local[*]</code></dd>\n",
       "              <dt>AppName</dt>\n",
       "                <dd><code>pyspark-shell</code></dd>\n",
       "            </dl>\n",
       "        </div>\n",
       "        \n",
       "            </div>\n",
       "        "
      ],
      "text/plain": [
       "<pyspark.sql.session.SparkSession at 0x7f4a56f455f8>"
      ]
     },
     "execution_count": 5,
     "metadata": {},
     "output_type": "execute_result"
    }
   ],
   "source": [
    "import os\n",
    "import boto3\n",
    "\n",
    "from pyspark import SparkContext, SparkConf\n",
    "from pyspark.sql import SparkSession\n",
    "\n",
    "import sagemaker\n",
    "from sagemaker import get_execution_role\n",
    "import sagemaker_pyspark\n",
    "\n",
    "role = get_execution_role()\n",
    "\n",
    "# Configure Spark to use the SageMaker Spark dependency jars\n",
    "jars = sagemaker_pyspark.classpath_jars()\n",
    "\n",
    "classpath = \":\".join(sagemaker_pyspark.classpath_jars())\n",
    "\n",
    "# See the SageMaker Spark Github to learn how to connect to EMR from a notebook instance\n",
    "spark = (\n",
    "    SparkSession.builder.config(\"spark.driver.extraClassPath\", classpath)\\\n",
    "    .config('spark.driver.memory','32G')\\\n",
    "    .master(\"local[*]\")\\\n",
    "    .getOrCreate()\n",
    ")\n",
    "\n",
    "spark"
   ]
  },
  {
   "cell_type": "code",
   "execution_count": 6,
   "id": "326bc87a",
   "metadata": {},
   "outputs": [],
   "source": [
    "# https://sagemaker-examples.readthedocs.io/en/latest/sagemaker-spark/pyspark_mnist/pyspark_mnist_kmeans.html#Loading-the-Data\n",
    "import boto3\n",
    "\n",
    "cn_regions = [\"cn-north-1\", \"cn-northwest-1\"]\n",
    "region = boto3.Session().region_name\n",
    "endpoint_domain = \"com.cn\" if region in cn_regions else \"com\"\n",
    "spark._jsc.hadoopConfiguration().set(\n",
    "    \"fs.s3a.endpoint\", \"s3.{}.amazonaws.{}\".format(region, endpoint_domain)\n",
    ")"
   ]
  },
  {
   "cell_type": "code",
   "execution_count": 7,
   "id": "3e5f589d",
   "metadata": {},
   "outputs": [],
   "source": [
    "from pyspark.sql.functions import *"
   ]
  },
  {
   "cell_type": "code",
   "execution_count": 8,
   "id": "e6f80895",
   "metadata": {},
   "outputs": [
    {
     "data": {
      "text/plain": [
       "'INTERVAL 5 HOURS'"
      ]
     },
     "execution_count": 8,
     "metadata": {},
     "output_type": "execute_result"
    }
   ],
   "source": [
    "center_name = 'MIAMI' #<<<<<<<<<<<<<<<<<<<<<<<<<<<<<<<<<<<<<<<<<<<<<<<<<<<<<<<<<<<<<<<< CHOOSE!!!\n",
    "hour_diff = 5 #<<<<<<<<<<<<<<<<<<<<<<<<<<<<<<<<<<<<<<<<<<<<<<<<<<<<<<<<<<<<<<<<<<<<<<<<<<<<<<< CHOOSE!!!\n",
    "\n",
    "time_interval = 6\n",
    "time_lag = \"INTERVAL \" + str(hour_diff) + \" HOURS\"\n",
    "time_lag"
   ]
  },
  {
   "cell_type": "code",
   "execution_count": 9,
   "id": "15d2f8b6",
   "metadata": {},
   "outputs": [
    {
     "name": "stdout",
     "output_type": "stream",
     "text": [
      "CPU times: user 1.38 ms, sys: 1.47 ms, total: 2.85 ms\n",
      "Wall time: 5.48 s\n"
     ]
    },
    {
     "data": {
      "text/plain": [
       "67725"
      ]
     },
     "execution_count": 9,
     "metadata": {},
     "output_type": "execute_result"
    }
   ],
   "source": [
    "%%time\n",
    "latlon = spark.read.format('csv')\\\n",
    "        .options(header= 'true', inferSchema= 'true')\\\n",
    "        .load(\"s3a://partly-cloudy-common-area/proof_of_concept/latlonRAP.csv\")\n",
    "\n",
    "latlon.count()"
   ]
  },
  {
   "cell_type": "code",
   "execution_count": 10,
   "id": "7f98c7a0",
   "metadata": {},
   "outputs": [
    {
     "name": "stdout",
     "output_type": "stream",
     "text": [
      "+---+---+------------------+-------------------+\n",
      "| Nx| Ny|               Lat|                Lon|\n",
      "+---+---+------------------+-------------------+\n",
      "|  1|  1|16.280999999999988|-126.13800000000002|\n",
      "|  2|  1|16.322011282850543| -125.9546835180922|\n",
      "|  3|  1|  16.3627888393447|  -125.771251764291|\n",
      "|  4|  1|16.403332351824535|-125.58770530205759|\n",
      "|  5|  1| 16.44364150464794|-125.40404469724042|\n",
      "+---+---+------------------+-------------------+\n",
      "only showing top 5 rows\n",
      "\n"
     ]
    }
   ],
   "source": [
    "latlon.show(5)"
   ]
  },
  {
   "cell_type": "code",
   "execution_count": 11,
   "id": "558cd8b8",
   "metadata": {},
   "outputs": [],
   "source": [
    "geoHashFunc = udf(lambda x,y: pgh.encode(x,y, precision= 5))\n",
    "latlon = latlon.withColumn(\"geoEncode\", geoHashFunc(col('Lat'), col('Lon')))"
   ]
  },
  {
   "cell_type": "code",
   "execution_count": 12,
   "id": "10492574",
   "metadata": {},
   "outputs": [
    {
     "name": "stdout",
     "output_type": "stream",
     "text": [
      "+---+---+------------------+-------------------+---------+\n",
      "| Nx| Ny|               Lat|                Lon|geoEncode|\n",
      "+---+---+------------------+-------------------+---------+\n",
      "|  1|  1|16.280999999999988|-126.13800000000002|    94yk9|\n",
      "|  2|  1|16.322011282850543| -125.9546835180922|    94ykv|\n",
      "|  3|  1|  16.3627888393447|  -125.771251764291|    94yt4|\n",
      "|  4|  1|16.403332351824535|-125.58770530205759|    94ytq|\n",
      "|  5|  1| 16.44364150464794|-125.40404469724042|    94yvd|\n",
      "+---+---+------------------+-------------------+---------+\n",
      "only showing top 5 rows\n",
      "\n"
     ]
    }
   ],
   "source": [
    "latlon.show(5)"
   ]
  },
  {
   "cell_type": "code",
   "execution_count": 13,
   "id": "f31cabf9",
   "metadata": {},
   "outputs": [],
   "source": [
    "latlon = latlon.drop(\"Lat\", \"Lon\")"
   ]
  },
  {
   "cell_type": "code",
   "execution_count": 14,
   "id": "8fe39e9d",
   "metadata": {},
   "outputs": [
    {
     "name": "stdout",
     "output_type": "stream",
     "text": [
      "CPU times: user 2.19 ms, sys: 0 ns, total: 2.19 ms\n",
      "Wall time: 685 ms\n"
     ]
    },
    {
     "data": {
      "text/plain": [
       "25323"
      ]
     },
     "execution_count": 14,
     "metadata": {},
     "output_type": "execute_result"
    }
   ],
   "source": [
    "%%time\n",
    "centers = spark.read.format('csv')\\\n",
    "        .options(header= 'true', inferSchema= 'true')\\\n",
    "        .load(\"s3a://partly-cloudy-common-area/proof_of_concept/rapCellNxNy_ARTCC_intersect.csv\")\n",
    "\n",
    "centers.count()"
   ]
  },
  {
   "cell_type": "code",
   "execution_count": 15,
   "id": "ef3f4cba",
   "metadata": {},
   "outputs": [
    {
     "name": "stdout",
     "output_type": "stream",
     "text": [
      "+--------------+-----------+\n",
      "|          NAME|count(NAME)|\n",
      "+--------------+-----------+\n",
      "|  INDIANAPOLIS|        629|\n",
      "|       ATLANTA|        696|\n",
      "|         MIAMI|        821|\n",
      "|       MEMPHIS|        965|\n",
      "|       OAKLAND|       1203|\n",
      "|   MINNEAPOLIS|       2734|\n",
      "|        DENVER|       1806|\n",
      "|       HOUSTON|       1421|\n",
      "|  JACKSONVILLE|       1264|\n",
      "|       BOSTON |       1070|\n",
      "|   ALBUQUERQUE|       1522|\n",
      "|    WASHINGTON|        796|\n",
      "|       CHICAGO|        690|\n",
      "|   LOS ANGELES|       1157|\n",
      "|    CLEVELAND |        600|\n",
      "|       SEATTLE|       1876|\n",
      "|    FORT WORTH|       1038|\n",
      "|   KANSAS CITY|       1165|\n",
      "|      NEW YORK|        932|\n",
      "|SALT LAKE CITY|       2938|\n",
      "+--------------+-----------+\n",
      "\n"
     ]
    }
   ],
   "source": [
    "centers.groupBy(col(\"NAME\")).agg(count(col(\"NAME\"))).show()"
   ]
  },
  {
   "cell_type": "code",
   "execution_count": 16,
   "id": "5ae66559",
   "metadata": {},
   "outputs": [],
   "source": [
    "centers = centers.drop(\"IDENT\")"
   ]
  },
  {
   "cell_type": "code",
   "execution_count": 17,
   "id": "c976bc5b",
   "metadata": {},
   "outputs": [
    {
     "name": "stdout",
     "output_type": "stream",
     "text": [
      "CPU times: user 1.15 ms, sys: 1.2 ms, total: 2.35 ms\n",
      "Wall time: 10.6 s\n"
     ]
    }
   ],
   "source": [
    "%%time\n",
    "rap = spark.read.format('parquet')\\\n",
    "        .load(\"s3a://partly-cloudy-rap-parquet/*.parquet\")\n"
   ]
  },
  {
   "cell_type": "code",
   "execution_count": 18,
   "id": "9d6bf007",
   "metadata": {},
   "outputs": [
    {
     "name": "stdout",
     "output_type": "stream",
     "text": [
      "root\n",
      " |-- dateTime: timestamp (nullable = true)\n",
      " |-- hPa: integer (nullable = true)\n",
      " |-- FLevel: integer (nullable = true)\n",
      " |-- Nx: integer (nullable = true)\n",
      " |-- Ny: integer (nullable = true)\n",
      " |-- Lat: double (nullable = true)\n",
      " |-- Lon: double (nullable = true)\n",
      " |-- Temperature: double (nullable = true)\n",
      " |-- RH_ice: double (nullable = true)\n",
      " |-- IsISSR: integer (nullable = true)\n",
      "\n"
     ]
    }
   ],
   "source": [
    "rap.printSchema()"
   ]
  },
  {
   "cell_type": "code",
   "execution_count": 19,
   "id": "5c681226",
   "metadata": {},
   "outputs": [
    {
     "name": "stdout",
     "output_type": "stream",
     "text": [
      "CPU times: user 24.7 ms, sys: 13.3 ms, total: 38 ms\n",
      "Wall time: 5min 25s\n"
     ]
    },
    {
     "data": {
      "text/plain": [
       "2864031300"
      ]
     },
     "execution_count": 19,
     "metadata": {},
     "output_type": "execute_result"
    }
   ],
   "source": [
    "%%time\n",
    "rap_centers = rap.join(centers, ['Nx', 'Ny'], \"inner\")\n",
    "rap_centers.count()"
   ]
  },
  {
   "cell_type": "code",
   "execution_count": 20,
   "id": "5af66853",
   "metadata": {},
   "outputs": [
    {
     "name": "stdout",
     "output_type": "stream",
     "text": [
      "+---+---+-------------------+---+------+------------------+------------------+-----------+------+------+-----+\n",
      "| Nx| Ny|           dateTime|hPa|FLevel|               Lat|               Lon|Temperature|RH_ice|IsISSR| NAME|\n",
      "+---+---+-------------------+---+------+------------------+------------------+-----------+------+------+-----+\n",
      "|224| 28|2021-05-21 06:00:00|150|   440|24.166930399343176|-83.17034642802771|    207.523| 39.27|     0|MIAMI|\n",
      "|225| 28|2021-05-21 06:00:00|150|   440| 24.15087515658682|-82.97088525760823|    207.648|  37.0|     0|MIAMI|\n",
      "|226| 28|2021-05-21 06:00:00|150|   440| 24.13455228147526|-82.77147628585855|    207.711|  39.9|     0|MIAMI|\n",
      "|227| 28|2021-05-21 06:00:00|150|   440| 24.11796188467466|-82.57212035475895|    207.586| 45.95|     0|MIAMI|\n",
      "|228| 28|2021-05-21 06:00:00|150|   440| 24.10110407871657|-82.37281830492417|    207.461| 52.92|     0|MIAMI|\n",
      "|229| 28|2021-05-21 06:00:00|150|   440| 24.08397897799963|-82.17357097558329|    207.273| 58.12|     0|MIAMI|\n",
      "|230| 28|2021-05-21 06:00:00|150|   440|  24.0665866987911|  -81.974379204559|    207.273| 61.94|     0|MIAMI|\n",
      "|231| 28|2021-05-21 06:00:00|150|   440|24.048927359228983|-81.77524382824737|    207.273| 64.18|     0|MIAMI|\n",
      "|232| 28|2021-05-21 06:00:00|150|   440|24.031001079323385|-81.57616568159754|    207.273| 65.52|     0|MIAMI|\n",
      "|233| 28|2021-05-21 06:00:00|150|   440|24.012807980958584|-81.37714559809156|    207.273| 66.86|     0|MIAMI|\n",
      "|224| 29|2021-05-21 06:00:00|150|   440|24.348936521204497|-83.15286987059775|    207.523| 38.82|     0|MIAMI|\n",
      "|225| 29|2021-05-21 06:00:00|150|   440|24.332856956002306|-82.95311710628373|    207.711| 39.22|     0|MIAMI|\n",
      "|226| 29|2021-05-21 06:00:00|150|   440| 24.31650934480822|-82.75341677106611|    207.711| 44.13|     0|MIAMI|\n",
      "|227| 29|2021-05-21 06:00:00|150|   440| 24.29989379805324|  -82.553769710559|    207.586| 50.65|     0|MIAMI|\n",
      "|228| 29|2021-05-21 06:00:00|150|   440|24.283010428030448|-82.35417676900133|    207.461| 56.72|     0|MIAMI|\n",
      "|229| 29|2021-05-21 06:00:00|150|   440|24.265859348896726|-82.15463878923576|    207.336| 61.47|     0|MIAMI|\n",
      "|230| 29|2021-05-21 06:00:00|150|   440|24.248440676674633|-81.95515661268864|    207.273| 64.18|     0|MIAMI|\n",
      "|231| 29|2021-05-21 06:00:00|150|   440| 24.23075452925389|-81.75573107934903|    207.273| 65.29|     0|MIAMI|\n",
      "|232| 29|2021-05-21 06:00:00|150|   440| 24.21280102639358| -81.5563630277487|    207.273| 65.73|     0|MIAMI|\n",
      "|233| 29|2021-05-21 06:00:00|150|   440| 24.19458028972356| -81.3570532949415|    207.273| 66.18|     0|MIAMI|\n",
      "+---+---+-------------------+---+------+------------------+------------------+-----------+------+------+-----+\n",
      "only showing top 20 rows\n",
      "\n"
     ]
    }
   ],
   "source": [
    "rap_region = rap_centers.filter(col('NAME') == center_name)\n",
    "rap_region.show()"
   ]
  },
  {
   "cell_type": "markdown",
   "id": "d156047f",
   "metadata": {},
   "source": [
    "%%time\n",
    "rap_flat200430 = rap_region.filter((col(\"FLevel\") >= 200) & (col(\"FLevel\") <= 430))\\\n",
    "                            .groupBy(\"dateTime\", \"Nx\", \"Ny\")\\\n",
    "                            .agg(sum(\"IsISSR\").alias(\"iSSRs200430\"),\n",
    "                                 mean(\"Temperature\").alias(\"meanTemp200430\"),\n",
    "                                 mean(\"RH_ice\").alias(\"meanRH_ice200430\"))\n",
    "rap_flat200430.count()"
   ]
  },
  {
   "cell_type": "code",
   "execution_count": 21,
   "id": "7059fcd1",
   "metadata": {},
   "outputs": [
    {
     "name": "stdout",
     "output_type": "stream",
     "text": [
      "CPU times: user 17.8 ms, sys: 14.4 ms, total: 32.2 ms\n",
      "Wall time: 3min 56s\n"
     ]
    },
    {
     "data": {
      "text/plain": [
       "7142700"
      ]
     },
     "execution_count": 21,
     "metadata": {},
     "output_type": "execute_result"
    }
   ],
   "source": [
    "%%time\n",
    "rap_flat300430 = rap_region.filter((col(\"FLevel\") >= 300) & (col(\"FLevel\") <= 430))\\\n",
    "                            .groupBy(\"dateTime\", \"Nx\", \"Ny\")\\\n",
    "                            .agg(sum(\"IsISSR\").alias(\"iSSRs300430\"),\n",
    "                                 mean(\"Temperature\").alias(\"meanTemp300430\"),\n",
    "                                 mean(\"RH_ice\").alias(\"meanRH_ice300430\"))\n",
    "rap_flat300430.count()"
   ]
  },
  {
   "cell_type": "code",
   "execution_count": 22,
   "id": "8ac8a5b9",
   "metadata": {},
   "outputs": [],
   "source": [
    "centerName = center_name.lower()\n",
    "path = \"s3a://partly-cloudy-common-area/\" + centerName + \"_flat300430.parquet\"\n",
    "rap_flat300430.write.parquet(path, mode= \"overwrite\", compression= 'gzip')"
   ]
  },
  {
   "cell_type": "markdown",
   "id": "336ecd4b",
   "metadata": {},
   "source": [
    "%%time\n",
    "rap_flat_combined = rap_flat200430.join(rap_flat300370, ['dateTime', 'Nx', 'Ny'], \"inner\")\n",
    "rap_flat_combined.count()"
   ]
  },
  {
   "cell_type": "markdown",
   "id": "8f4cb390",
   "metadata": {},
   "source": [
    "%%time\n",
    "rap_flat200430 = rap_flat200430.withColumn(\"localDateTime\", col(\"dateTime\") - expr(time_lag))\n",
    "rap_flat200430.count()\n",
    "rap_flat200430 = rap_flat200430.withColumn(\"dateOnly\", to_date(col(\"localDateTime\")))\n",
    "rap_flat200430 = rap_flat200430.withColumn(\"hour\", hour(col(\"localDateTime\")))\n",
    "periodFunc = udf(lambda x: x//time_interval * time_interval)\n",
    "rap_flat200430 = rap_flat200430.withColumn(\"period\", periodFunc(col('hour')))\n",
    "rap_flat200430.show()"
   ]
  },
  {
   "cell_type": "markdown",
   "id": "f6d48186",
   "metadata": {},
   "source": [
    "%%time\n",
    "rap_flat300370 = rap_flat_combined.withColumn(\"localDateTime\", col(\"dateTime\") - expr(time_lag))\n",
    "rap_flat300370.count()\n",
    "rap_flat300370 = rap_flat300370.withColumn(\"dateOnly\", to_date(col(\"localDateTime\")))\n",
    "rap_flat300370 = rap_flat300370.withColumn(\"hour\", hour(col(\"localDateTime\")))\n",
    "periodFunc = udf(lambda x: x//time_interval * time_interval)\n",
    "rap_flat300370 = rap_flat300370.withColumn(\"period\", periodFunc(col('hour')))\n",
    "rap_flat300370.show()"
   ]
  },
  {
   "cell_type": "markdown",
   "id": "ac249965",
   "metadata": {},
   "source": [
    "%%time\n",
    "rap_flat_combined = rap_flat_combined.withColumn(\"localDateTime\", col(\"dateTime\") - expr(time_lag))\n",
    "rap_flat_combined.count()\n",
    "rap_flat_combined = rap_flat_combined.withColumn(\"dateOnly\", to_date(col(\"localDateTime\")))\n",
    "rap_flat_combined = rap_flat_combined.withColumn(\"hour\", hour(col(\"localDateTime\")))\n",
    "periodFunc = udf(lambda x: x//time_interval * time_interval)\n",
    "rap_flat_combined = rap_flat_combined.withColumn(\"period\", periodFunc(col('hour')))\n",
    "rap_flat_combined.show()"
   ]
  },
  {
   "cell_type": "markdown",
   "id": "289ec37d",
   "metadata": {},
   "source": [
    "centerName = center_name.lower()\n",
    "path = \"s3a://partly-cloudy-ml-inputs-parquet/\" + centerName + \"_flat200430.parquet\"\n",
    "rap_flat200430.write.parquet(path, mode= \"overwrite\", compression= 'gzip')"
   ]
  },
  {
   "cell_type": "markdown",
   "id": "5132ae8b",
   "metadata": {},
   "source": [
    "%%time\n",
    "rap_flat_combined_pd = rap_flat200430.groupBy(col(\"dateOnly\"), col(\"period\"), col(\"Nx\"), col(\"Ny\"))\\\n",
    "                                        .agg(sum(\"iSSRs200430\").alias(\"pdISSRs200430\"),\n",
    "                                            #sum(\"iSSRs300370\").alias(\"pdISSRs300370\"),\n",
    "                                            mean(\"meanTemp200430\").alias(\"pdMeanTemp200430\"),\n",
    "                                            #mean(\"meanTemp300370\").alias(\"pdMeanTemp300370\"),\n",
    "                                            mean(\"meanRH_ice200430\").alias(\"pdMeanRH_ice200430\")\n",
    "                                            #mean(\"meanRH_ice300370\").alias(\"pdMeanRH_ice300370\")\n",
    "                                            )\n",
    "\n",
    "rap_flat_combined_pd.count()"
   ]
  },
  {
   "cell_type": "markdown",
   "id": "de41c8be",
   "metadata": {},
   "source": [
    "%%time\n",
    "rap_flat_combined_pd = rap_flat300370.groupBy(col(\"dateOnly\"), col(\"period\"), col(\"Nx\"), col(\"Ny\"))\\\n",
    "                                        .agg(#sum(\"iSSRs200430\").alias(\"pdISSRs200430\"),\n",
    "                                            sum(\"iSSRs300370\").alias(\"pdISSRs300370\"),\n",
    "                                            #mean(\"meanTemp200430\").alias(\"pdMeanTemp200430\"),\n",
    "                                            mean(\"meanTemp300370\").alias(\"pdMeanTemp300370\"),\n",
    "                                            #mean(\"meanRH_ice200430\").alias(\"pdMeanRH_ice200430\"),\n",
    "                                            mean(\"meanRH_ice300370\").alias(\"pdMeanRH_ice300370\")\n",
    "                                            )\n",
    "\n",
    "rap_flat_combined_pd.count()"
   ]
  },
  {
   "cell_type": "markdown",
   "id": "0cff94ad",
   "metadata": {},
   "source": [
    "centerName = center_name.lower()\n",
    "path = \"s3a://partly-cloudy-common-area/\" + centerName + \"_6_hour_flat300370.parquet\"\n",
    "rap_flat_combined_pd.write.parquet(path, mode= \"overwrite\", compression= 'gzip')"
   ]
  },
  {
   "cell_type": "markdown",
   "id": "445c0c1e",
   "metadata": {},
   "source": [
    "%%time\n",
    "centerName = center_name.lower()\n",
    "rap_flat_combined_pd = spark.read.format('parquet')\\\n",
    "                            .load(\"s3a://partly-cloudy-common-area/\" + centerName + \"_6_hour_flat.parquet\")\n"
   ]
  },
  {
   "cell_type": "markdown",
   "id": "ca668054",
   "metadata": {},
   "source": [
    "%%time\n",
    "rap_flat_combined_pdPandas = rap_flat_combined_pd.toPandas()\n",
    "rap_flat_combined_pdPandas"
   ]
  },
  {
   "cell_type": "markdown",
   "id": "64003e7e",
   "metadata": {},
   "source": [
    "%%time\n",
    "rap_flat_combined_pdPandas['LocalDateTimePeriod'] = [pd.Timestamp(rap_flat_combined_pdPandas['dateOnly'][i]) + timedelta(hours= int(rap_flat_combined_pdPandas['period'][i])) for i in range(len(rap_flat_combined_pdPandas))]\n",
    "rap_flat_combined_pdPandas"
   ]
  },
  {
   "cell_type": "markdown",
   "id": "5d12f992",
   "metadata": {},
   "source": [
    "%%time\n",
    "rap_flat_combined_pdPandas.drop(columns= ['dateOnly', 'period'], inplace= True)"
   ]
  },
  {
   "cell_type": "markdown",
   "id": "a25b29aa",
   "metadata": {},
   "source": [
    "%%time\n",
    "centers_df = wr.s3.read_csv('s3://partly-cloudy-common-area/proof_of_concept/rapCellNxNy_ARTCC_intersect.csv')\n",
    "centers_df"
   ]
  },
  {
   "cell_type": "markdown",
   "id": "3c7c109d",
   "metadata": {},
   "source": [
    "%%time\n",
    "latlon_df = wr.s3.read_csv('s3://partly-cloudy-common-area/proof_of_concept/latlonRAP.csv')\n",
    "latlon_df"
   ]
  },
  {
   "cell_type": "markdown",
   "id": "e83cf985",
   "metadata": {},
   "source": [
    "%%time\n",
    "center_flat_pdPandas_join = pd.merge(rap_flat_combined_pdPandas, centers_df, on= ['Nx', 'Ny'])\n",
    "center_flat_pdPandas_join = pd.merge(center_flat_pdPandas_join, latlon_df, on= ['Nx', 'Ny'])\n",
    "center_flat_pdPandas_join"
   ]
  },
  {
   "cell_type": "markdown",
   "id": "9afb7801",
   "metadata": {},
   "source": [
    "%%time\n",
    "center_flat_pdPandas_join['geoEncode'] = [pgh.encode(center_flat_pdPandas_join['Lat'][i], center_flat_pdPandas_join['Lon'][i], precision= 5) for i in range(len(center_flat_pdPandas_join))]\n",
    "center_flat_pdPandas_join"
   ]
  },
  {
   "cell_type": "markdown",
   "id": "cc34dfcc",
   "metadata": {},
   "source": [
    "%%time\n",
    "center_flat_pd_final = center_flat_pdPandas_join[['LocalDateTimePeriod', \n",
    "                                                  'Nx', 'Ny', \n",
    "                                                  'Lat', 'Lon', \n",
    "                                                  'geoEncode', \n",
    "                                                  'NAME', \n",
    "                                                  'pdISSRs200430', \n",
    "                                                  'pdISSRs300370',\n",
    "                                                  'pdMeanTemp200430',\n",
    "                                                  'pdMeanTemp300370',\n",
    "                                                  'pdMeanRH_ice200430',\n",
    "                                                  'pdMeanRH_ice300370']].copy()\n",
    "center_flat_pd_final"
   ]
  },
  {
   "cell_type": "markdown",
   "id": "fbd76ba9",
   "metadata": {},
   "source": [
    "output_bucket = 'partly-cloudy-ml-inputs'\n",
    "outputFileName = center_name + '_6_hour_flat.csv' "
   ]
  },
  {
   "cell_type": "markdown",
   "id": "cf078535",
   "metadata": {},
   "source": [
    "wr.s3.to_csv(center_flat_pd_final, f\"s3://{output_bucket}/{outputFileName}\", index=False)"
   ]
  },
  {
   "cell_type": "code",
   "execution_count": null,
   "id": "8cbcf178",
   "metadata": {},
   "outputs": [],
   "source": []
  }
 ],
 "metadata": {
  "kernelspec": {
   "display_name": "conda_python3",
   "language": "python",
   "name": "conda_python3"
  },
  "language_info": {
   "codemirror_mode": {
    "name": "ipython",
    "version": 3
   },
   "file_extension": ".py",
   "mimetype": "text/x-python",
   "name": "python",
   "nbconvert_exporter": "python",
   "pygments_lexer": "ipython3",
   "version": "3.6.13"
  }
 },
 "nbformat": 4,
 "nbformat_minor": 5
}
