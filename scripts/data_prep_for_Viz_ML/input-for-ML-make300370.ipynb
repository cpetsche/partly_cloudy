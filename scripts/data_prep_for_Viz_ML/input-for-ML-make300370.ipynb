{
 "cells": [
  {
   "cell_type": "code",
   "execution_count": 1,
   "id": "87be3a0b",
   "metadata": {},
   "outputs": [],
   "source": [
    "from sagemaker import get_execution_role\n",
    "role = get_execution_role()"
   ]
  },
  {
   "cell_type": "code",
   "execution_count": 2,
   "id": "72c19fa7",
   "metadata": {},
   "outputs": [
    {
     "name": "stdout",
     "output_type": "stream",
     "text": [
      "Requirement already satisfied: awswrangler in /home/ec2-user/anaconda3/envs/python3/lib/python3.6/site-packages (2.10.0)\n",
      "Requirement already satisfied: redshift-connector~=2.0.882 in /home/ec2-user/anaconda3/envs/python3/lib/python3.6/site-packages (from awswrangler) (2.0.883)\n",
      "Requirement already satisfied: pg8000<1.21.0,>=1.16.0 in /home/ec2-user/anaconda3/envs/python3/lib/python3.6/site-packages (from awswrangler) (1.20.0)\n",
      "Requirement already satisfied: openpyxl~=3.0.0 in /home/ec2-user/anaconda3/envs/python3/lib/python3.6/site-packages (from awswrangler) (3.0.6)\n",
      "Requirement already satisfied: botocore<2.1.0,>=1.19.8 in /home/ec2-user/anaconda3/envs/python3/lib/python3.6/site-packages (from awswrangler) (1.20.99)\n",
      "Requirement already satisfied: pymysql<1.1.0,>=0.9.0 in /home/ec2-user/anaconda3/envs/python3/lib/python3.6/site-packages (from awswrangler) (1.0.2)\n",
      "Requirement already satisfied: pyarrow<4.1.0,>=2.0.0 in /home/ec2-user/anaconda3/envs/python3/lib/python3.6/site-packages (from awswrangler) (4.0.1)\n",
      "Requirement already satisfied: boto3<2.1.0,>=1.16.8 in /home/ec2-user/anaconda3/envs/python3/lib/python3.6/site-packages (from awswrangler) (1.17.99)\n",
      "Requirement already satisfied: pandas<2.1.0,>=1.1.0 in /home/ec2-user/anaconda3/envs/python3/lib/python3.6/site-packages (from awswrangler) (1.1.5)\n",
      "Requirement already satisfied: numpy<2.1.0,>=1.18.0 in /home/ec2-user/anaconda3/envs/python3/lib/python3.6/site-packages (from awswrangler) (1.19.5)\n",
      "Requirement already satisfied: s3transfer<0.5.0,>=0.4.0 in /home/ec2-user/anaconda3/envs/python3/lib/python3.6/site-packages (from boto3<2.1.0,>=1.16.8->awswrangler) (0.4.2)\n",
      "Requirement already satisfied: jmespath<1.0.0,>=0.7.1 in /home/ec2-user/anaconda3/envs/python3/lib/python3.6/site-packages (from boto3<2.1.0,>=1.16.8->awswrangler) (0.10.0)\n",
      "Requirement already satisfied: urllib3<1.27,>=1.25.4 in /home/ec2-user/anaconda3/envs/python3/lib/python3.6/site-packages (from botocore<2.1.0,>=1.19.8->awswrangler) (1.26.5)\n",
      "Requirement already satisfied: python-dateutil<3.0.0,>=2.1 in /home/ec2-user/anaconda3/envs/python3/lib/python3.6/site-packages (from botocore<2.1.0,>=1.19.8->awswrangler) (2.8.1)\n",
      "Requirement already satisfied: et-xmlfile in /home/ec2-user/anaconda3/envs/python3/lib/python3.6/site-packages (from openpyxl~=3.0.0->awswrangler) (1.0.1)\n",
      "Requirement already satisfied: jdcal in /home/ec2-user/anaconda3/envs/python3/lib/python3.6/site-packages (from openpyxl~=3.0.0->awswrangler) (1.4.1)\n",
      "Requirement already satisfied: pytz>=2017.2 in /home/ec2-user/anaconda3/envs/python3/lib/python3.6/site-packages (from pandas<2.1.0,>=1.1.0->awswrangler) (2021.1)\n",
      "Requirement already satisfied: scramp>=1.4.0 in /home/ec2-user/anaconda3/envs/python3/lib/python3.6/site-packages (from pg8000<1.21.0,>=1.16.0->awswrangler) (1.4.0)\n",
      "Requirement already satisfied: six>=1.5 in /home/ec2-user/anaconda3/envs/python3/lib/python3.6/site-packages (from python-dateutil<3.0.0,>=2.1->botocore<2.1.0,>=1.19.8->awswrangler) (1.15.0)\n",
      "Requirement already satisfied: requests<2.25.2,>=2.23.0 in /home/ec2-user/anaconda3/envs/python3/lib/python3.6/site-packages (from redshift-connector~=2.0.882->awswrangler) (2.25.1)\n",
      "Requirement already satisfied: beautifulsoup4<5.0.0,>=4.7.0 in /home/ec2-user/anaconda3/envs/python3/lib/python3.6/site-packages (from redshift-connector~=2.0.882->awswrangler) (4.9.3)\n",
      "Requirement already satisfied: lxml>=4.6.2 in /home/ec2-user/anaconda3/envs/python3/lib/python3.6/site-packages (from redshift-connector~=2.0.882->awswrangler) (4.6.3)\n",
      "Requirement already satisfied: soupsieve>1.2 in /home/ec2-user/anaconda3/envs/python3/lib/python3.6/site-packages (from beautifulsoup4<5.0.0,>=4.7.0->redshift-connector~=2.0.882->awswrangler) (2.0.1)\n",
      "Requirement already satisfied: certifi>=2017.4.17 in /home/ec2-user/anaconda3/envs/python3/lib/python3.6/site-packages (from requests<2.25.2,>=2.23.0->redshift-connector~=2.0.882->awswrangler) (2021.5.30)\n",
      "Requirement already satisfied: idna<3,>=2.5 in /home/ec2-user/anaconda3/envs/python3/lib/python3.6/site-packages (from requests<2.25.2,>=2.23.0->redshift-connector~=2.0.882->awswrangler) (2.10)\n",
      "Requirement already satisfied: chardet<5,>=3.0.2 in /home/ec2-user/anaconda3/envs/python3/lib/python3.6/site-packages (from requests<2.25.2,>=2.23.0->redshift-connector~=2.0.882->awswrangler) (3.0.4)\n",
      "Requirement already satisfied: asn1crypto==1.4.0 in /home/ec2-user/anaconda3/envs/python3/lib/python3.6/site-packages (from scramp>=1.4.0->pg8000<1.21.0,>=1.16.0->awswrangler) (1.4.0)\n",
      "\u001b[33mWARNING: You are using pip version 21.1.2; however, version 21.1.3 is available.\n",
      "You should consider upgrading via the '/home/ec2-user/anaconda3/envs/python3/bin/python -m pip install --upgrade pip' command.\u001b[0m\n",
      "Note: you may need to restart the kernel to use updated packages.\n"
     ]
    }
   ],
   "source": [
    "pip install awswrangler"
   ]
  },
  {
   "cell_type": "code",
   "execution_count": 3,
   "id": "5598be4d",
   "metadata": {},
   "outputs": [
    {
     "name": "stdout",
     "output_type": "stream",
     "text": [
      "Requirement already satisfied: pygeohash in /home/ec2-user/anaconda3/envs/python3/lib/python3.6/site-packages (1.2.0)\n",
      "\u001b[33mWARNING: You are using pip version 21.1.2; however, version 21.1.3 is available.\n",
      "You should consider upgrading via the '/home/ec2-user/anaconda3/envs/python3/bin/python -m pip install --upgrade pip' command.\u001b[0m\n",
      "Note: you may need to restart the kernel to use updated packages.\n"
     ]
    }
   ],
   "source": [
    "pip install pygeohash"
   ]
  },
  {
   "cell_type": "code",
   "execution_count": 4,
   "id": "6071b8d0",
   "metadata": {},
   "outputs": [],
   "source": [
    "import sagemaker\n",
    "import boto3\n",
    "import awswrangler as wr\n",
    "\n",
    "import pandas as pd\n",
    "import numpy as np\n",
    "from datetime import datetime, timedelta\n",
    "\n",
    "import pygeohash as pgh"
   ]
  },
  {
   "cell_type": "code",
   "execution_count": 5,
   "id": "6ca1a5af",
   "metadata": {},
   "outputs": [
    {
     "data": {
      "text/html": [
       "\n",
       "            <div>\n",
       "                <p><b>SparkSession - in-memory</b></p>\n",
       "                \n",
       "        <div>\n",
       "            <p><b>SparkContext</b></p>\n",
       "\n",
       "            <p><a href=\"http://ip-172-16-70-102.ec2.internal:4042\">Spark UI</a></p>\n",
       "\n",
       "            <dl>\n",
       "              <dt>Version</dt>\n",
       "                <dd><code>v2.4.0</code></dd>\n",
       "              <dt>Master</dt>\n",
       "                <dd><code>local[*]</code></dd>\n",
       "              <dt>AppName</dt>\n",
       "                <dd><code>pyspark-shell</code></dd>\n",
       "            </dl>\n",
       "        </div>\n",
       "        \n",
       "            </div>\n",
       "        "
      ],
      "text/plain": [
       "<pyspark.sql.session.SparkSession at 0x7f75cdd504e0>"
      ]
     },
     "execution_count": 5,
     "metadata": {},
     "output_type": "execute_result"
    }
   ],
   "source": [
    "import os\n",
    "import boto3\n",
    "\n",
    "from pyspark import SparkContext, SparkConf\n",
    "from pyspark.sql import SparkSession\n",
    "\n",
    "import sagemaker\n",
    "from sagemaker import get_execution_role\n",
    "import sagemaker_pyspark\n",
    "\n",
    "role = get_execution_role()\n",
    "\n",
    "# Configure Spark to use the SageMaker Spark dependency jars\n",
    "jars = sagemaker_pyspark.classpath_jars()\n",
    "\n",
    "classpath = \":\".join(sagemaker_pyspark.classpath_jars())\n",
    "\n",
    "# See the SageMaker Spark Github to learn how to connect to EMR from a notebook instance\n",
    "spark = (\n",
    "    SparkSession.builder.config(\"spark.driver.extraClassPath\", classpath)\\\n",
    "#    .config('spark.driver.memory','32G')\\\n",
    "    .master(\"local[*]\")\\\n",
    "    .getOrCreate()\n",
    ")\n",
    "\n",
    "spark"
   ]
  },
  {
   "cell_type": "code",
   "execution_count": 6,
   "id": "6fc78a65",
   "metadata": {},
   "outputs": [],
   "source": [
    "# https://sagemaker-examples.readthedocs.io/en/latest/sagemaker-spark/pyspark_mnist/pyspark_mnist_kmeans.html#Loading-the-Data\n",
    "import boto3\n",
    "\n",
    "cn_regions = [\"cn-north-1\", \"cn-northwest-1\"]\n",
    "region = boto3.Session().region_name\n",
    "endpoint_domain = \"com.cn\" if region in cn_regions else \"com\"\n",
    "spark._jsc.hadoopConfiguration().set(\n",
    "    \"fs.s3a.endpoint\", \"s3.{}.amazonaws.{}\".format(region, endpoint_domain)\n",
    ")"
   ]
  },
  {
   "cell_type": "code",
   "execution_count": 7,
   "id": "52d9da67",
   "metadata": {},
   "outputs": [],
   "source": [
    "from pyspark.sql.functions import *"
   ]
  },
  {
   "cell_type": "code",
   "execution_count": 8,
   "id": "ed1a1af1",
   "metadata": {},
   "outputs": [
    {
     "data": {
      "text/plain": [
       "'INTERVAL 5 HOURS'"
      ]
     },
     "execution_count": 8,
     "metadata": {},
     "output_type": "execute_result"
    }
   ],
   "source": [
    "center_name = 'WASHINGTON' #<<<<<<<<<<<<<<<<<<<<<<<<<<<<<<<<<<<<<<<<<<<<<<<<<<<<<<<<<<<<<<<< CHOOSE!!!\n",
    "hour_diff = 5 #<<<<<<<<<<<<<<<<<<<<<<<<<<<<<<<<<<<<<<<<<<<<<<<<<<<<<<<<<<<<<<<<<<<<<<<<<<<<<<< CHOOSE!!!\n",
    "\n",
    "time_interval = 6\n",
    "time_lag = \"INTERVAL \" + str(hour_diff) + \" HOURS\"\n",
    "time_lag"
   ]
  },
  {
   "cell_type": "code",
   "execution_count": 9,
   "id": "6435223e",
   "metadata": {},
   "outputs": [
    {
     "name": "stdout",
     "output_type": "stream",
     "text": [
      "CPU times: user 2.1 ms, sys: 1.11 ms, total: 3.21 ms\n",
      "Wall time: 5.72 s\n"
     ]
    },
    {
     "data": {
      "text/plain": [
       "67725"
      ]
     },
     "execution_count": 9,
     "metadata": {},
     "output_type": "execute_result"
    }
   ],
   "source": [
    "%%time\n",
    "latlon = spark.read.format('csv')\\\n",
    "        .options(header= 'true', inferSchema= 'true')\\\n",
    "        .load(\"s3a://partly-cloudy-common-area/proof_of_concept/latlonRAP.csv\")\n",
    "\n",
    "latlon.count()"
   ]
  },
  {
   "cell_type": "code",
   "execution_count": 10,
   "id": "19774199",
   "metadata": {},
   "outputs": [
    {
     "name": "stdout",
     "output_type": "stream",
     "text": [
      "+---+---+------------------+-------------------+\n",
      "| Nx| Ny|               Lat|                Lon|\n",
      "+---+---+------------------+-------------------+\n",
      "|  1|  1|16.280999999999988|-126.13800000000002|\n",
      "|  2|  1|16.322011282850543| -125.9546835180922|\n",
      "|  3|  1|  16.3627888393447|  -125.771251764291|\n",
      "|  4|  1|16.403332351824535|-125.58770530205759|\n",
      "|  5|  1| 16.44364150464794|-125.40404469724042|\n",
      "+---+---+------------------+-------------------+\n",
      "only showing top 5 rows\n",
      "\n"
     ]
    }
   ],
   "source": [
    "latlon.show(5)"
   ]
  },
  {
   "cell_type": "code",
   "execution_count": 11,
   "id": "33dbd0c3",
   "metadata": {},
   "outputs": [],
   "source": [
    "geoHashFunc = udf(lambda x,y: pgh.encode(x,y, precision= 5))\n",
    "latlon = latlon.withColumn(\"geoEncode\", geoHashFunc(col('Lat'), col('Lon')))"
   ]
  },
  {
   "cell_type": "code",
   "execution_count": 12,
   "id": "29ee9aa1",
   "metadata": {},
   "outputs": [
    {
     "name": "stdout",
     "output_type": "stream",
     "text": [
      "+---+---+------------------+-------------------+---------+\n",
      "| Nx| Ny|               Lat|                Lon|geoEncode|\n",
      "+---+---+------------------+-------------------+---------+\n",
      "|  1|  1|16.280999999999988|-126.13800000000002|    94yk9|\n",
      "|  2|  1|16.322011282850543| -125.9546835180922|    94ykv|\n",
      "|  3|  1|  16.3627888393447|  -125.771251764291|    94yt4|\n",
      "|  4|  1|16.403332351824535|-125.58770530205759|    94ytq|\n",
      "|  5|  1| 16.44364150464794|-125.40404469724042|    94yvd|\n",
      "+---+---+------------------+-------------------+---------+\n",
      "only showing top 5 rows\n",
      "\n"
     ]
    }
   ],
   "source": [
    "latlon.show(5)"
   ]
  },
  {
   "cell_type": "code",
   "execution_count": 13,
   "id": "b5d43d21",
   "metadata": {},
   "outputs": [],
   "source": [
    "latlon = latlon.drop(\"Lat\", \"Lon\")"
   ]
  },
  {
   "cell_type": "code",
   "execution_count": 14,
   "id": "e3a32d6e",
   "metadata": {},
   "outputs": [
    {
     "name": "stdout",
     "output_type": "stream",
     "text": [
      "CPU times: user 2.82 ms, sys: 0 ns, total: 2.82 ms\n",
      "Wall time: 800 ms\n"
     ]
    },
    {
     "data": {
      "text/plain": [
       "25323"
      ]
     },
     "execution_count": 14,
     "metadata": {},
     "output_type": "execute_result"
    }
   ],
   "source": [
    "%%time\n",
    "centers = spark.read.format('csv')\\\n",
    "        .options(header= 'true', inferSchema= 'true')\\\n",
    "        .load(\"s3a://partly-cloudy-common-area/proof_of_concept/rapCellNxNy_ARTCC_intersect.csv\")\n",
    "\n",
    "centers.count()"
   ]
  },
  {
   "cell_type": "code",
   "execution_count": 15,
   "id": "53dc508e",
   "metadata": {},
   "outputs": [
    {
     "name": "stdout",
     "output_type": "stream",
     "text": [
      "+--------------+-----------+\n",
      "|          NAME|count(NAME)|\n",
      "+--------------+-----------+\n",
      "|  INDIANAPOLIS|        629|\n",
      "|       ATLANTA|        696|\n",
      "|         MIAMI|        821|\n",
      "|       MEMPHIS|        965|\n",
      "|       OAKLAND|       1203|\n",
      "|   MINNEAPOLIS|       2734|\n",
      "|        DENVER|       1806|\n",
      "|       HOUSTON|       1421|\n",
      "|  JACKSONVILLE|       1264|\n",
      "|       BOSTON |       1070|\n",
      "|   ALBUQUERQUE|       1522|\n",
      "|    WASHINGTON|        796|\n",
      "|       CHICAGO|        690|\n",
      "|   LOS ANGELES|       1157|\n",
      "|    CLEVELAND |        600|\n",
      "|       SEATTLE|       1876|\n",
      "|    FORT WORTH|       1038|\n",
      "|   KANSAS CITY|       1165|\n",
      "|      NEW YORK|        932|\n",
      "|SALT LAKE CITY|       2938|\n",
      "+--------------+-----------+\n",
      "\n"
     ]
    }
   ],
   "source": [
    "centers.groupBy(col(\"NAME\")).agg(count(col(\"NAME\"))).show()"
   ]
  },
  {
   "cell_type": "code",
   "execution_count": 16,
   "id": "bdfdfbe8",
   "metadata": {},
   "outputs": [],
   "source": [
    "centers = centers.drop(\"IDENT\")"
   ]
  },
  {
   "cell_type": "code",
   "execution_count": 17,
   "id": "ba2ef1a2",
   "metadata": {},
   "outputs": [
    {
     "name": "stdout",
     "output_type": "stream",
     "text": [
      "CPU times: user 1.46 ms, sys: 761 µs, total: 2.22 ms\n",
      "Wall time: 12.7 s\n"
     ]
    }
   ],
   "source": [
    "%%time\n",
    "rap = spark.read.format('parquet')\\\n",
    "        .load(\"s3a://partly-cloudy-rap-parquet/*.parquet\")\n"
   ]
  },
  {
   "cell_type": "code",
   "execution_count": 18,
   "id": "178f8ce9",
   "metadata": {},
   "outputs": [
    {
     "name": "stdout",
     "output_type": "stream",
     "text": [
      "root\n",
      " |-- dateTime: timestamp (nullable = true)\n",
      " |-- hPa: integer (nullable = true)\n",
      " |-- FLevel: integer (nullable = true)\n",
      " |-- Nx: integer (nullable = true)\n",
      " |-- Ny: integer (nullable = true)\n",
      " |-- Lat: double (nullable = true)\n",
      " |-- Lon: double (nullable = true)\n",
      " |-- Temperature: double (nullable = true)\n",
      " |-- RH_ice: double (nullable = true)\n",
      " |-- IsISSR: integer (nullable = true)\n",
      "\n"
     ]
    }
   ],
   "source": [
    "rap.printSchema()"
   ]
  },
  {
   "cell_type": "code",
   "execution_count": 19,
   "id": "695b258d",
   "metadata": {},
   "outputs": [
    {
     "name": "stdout",
     "output_type": "stream",
     "text": [
      "CPU times: user 44.3 ms, sys: 29.3 ms, total: 73.6 ms\n",
      "Wall time: 10min 11s\n"
     ]
    },
    {
     "data": {
      "text/plain": [
       "2864031300"
      ]
     },
     "execution_count": 19,
     "metadata": {},
     "output_type": "execute_result"
    }
   ],
   "source": [
    "%%time\n",
    "rap_centers = rap.join(centers, ['Nx', 'Ny'], \"inner\")\n",
    "rap_centers.count()"
   ]
  },
  {
   "cell_type": "code",
   "execution_count": 20,
   "id": "8d97fb71",
   "metadata": {},
   "outputs": [
    {
     "name": "stdout",
     "output_type": "stream",
     "text": [
      "+---+---+-------------------+---+------+------------------+------------------+-----------+------+------+----------+\n",
      "| Nx| Ny|           dateTime|hPa|FLevel|               Lat|               Lon|Temperature|RH_ice|IsISSR|      NAME|\n",
      "+---+---+-------------------+---+------+------------------+------------------+-----------+------+------+----------+\n",
      "|249| 80|2021-05-21 06:00:00|150|   440| 33.08049989853595|-76.81416143661127|    206.711| 57.43|     0|WASHINGTON|\n",
      "|247| 81|2021-05-21 06:00:00|150|   440|33.307553271483734|-77.21391541074637|    205.773| 73.12|     0|WASHINGTON|\n",
      "|248| 81|2021-05-21 06:00:00|150|   440|33.283765319430074|-76.99953666572978|    206.273| 63.44|     0|WASHINGTON|\n",
      "|249| 81|2021-05-21 06:00:00|150|   440| 33.25969259374498|-76.78524843292448|    206.773|  56.3|     0|WASHINGTON|\n",
      "|246| 82|2021-05-21 06:00:00|150|   440| 33.51023842897767|-77.40037969646949|    205.336| 82.37|     0|WASHINGTON|\n",
      "|247| 82|2021-05-21 06:00:00|150|   440| 33.48670942545162| -77.1855775052891|    205.898| 71.26|     0|WASHINGTON|\n",
      "|248| 82|2021-05-21 06:00:00|150|   440|  33.4628951845024|-76.97086523443048|    206.461| 62.02|     0|WASHINGTON|\n",
      "|249| 82|2021-05-21 06:00:00|150|   440|  33.4387958349854|-76.75624390385018|    206.898| 55.12|     0|WASHINGTON|\n",
      "|250| 82|2021-05-21 06:00:00|150|   440| 33.41441150744678|-76.54171453081781|    207.461|  48.9|     0|WASHINGTON|\n",
      "|244| 83|2021-05-21 06:00:00|150|   440| 33.73558111180125|-77.80282809640748|    204.523| 96.65|     0|WASHINGTON|\n",
      "|245| 83|2021-05-21 06:00:00|150|   440|33.712597833033634|-77.58751332462188|    204.898| 91.44|     0|WASHINGTON|\n",
      "|246| 83|2021-05-21 06:00:00|150|   440| 33.68932873277319|-77.37228684221449|    205.461| 80.73|     0|WASHINGTON|\n",
      "|247| 83|2021-05-21 06:00:00|150|   440| 33.66577393595243|-77.15714967906642|    206.023| 69.63|     0|WASHINGTON|\n",
      "|248| 83|2021-05-21 06:00:00|150|   440| 33.64193356918032|-76.94210286240482|    206.523| 60.64|     0|WASHINGTON|\n",
      "|249| 83|2021-05-21 06:00:00|150|   440| 33.61780776074657|-76.72714741677582|    207.086|  53.5|     0|WASHINGTON|\n",
      "|250| 83|2021-05-21 06:00:00|150|   440| 33.59339664062609|-76.51228436401753|    207.648| 47.27|     0|WASHINGTON|\n",
      "|243| 84|2021-05-21 06:00:00|150|   440| 33.93734999902605| -77.9910584753003|    204.211| 97.95|     0|WASHINGTON|\n",
      "|244| 84|2021-05-21 06:00:00|150|   440|33.914628022187124|-77.77531918881563|    204.461| 96.68|     0|WASHINGTON|\n",
      "|245| 84|2021-05-21 06:00:00|150|   440| 33.89161977159864| -77.5596675740726|    204.961| 90.05|     0|WASHINGTON|\n",
      "|246| 84|2021-05-21 06:00:00|150|   440| 33.86832536996774|-77.34410466825776|    205.523| 79.34|     0|WASHINGTON|\n",
      "+---+---+-------------------+---+------+------------------+------------------+-----------+------+------+----------+\n",
      "only showing top 20 rows\n",
      "\n"
     ]
    }
   ],
   "source": [
    "rap_region = rap_centers.filter(col('NAME') == center_name)\n",
    "rap_region.show()"
   ]
  },
  {
   "cell_type": "markdown",
   "id": "6363c9d4",
   "metadata": {},
   "source": [
    "%%time\n",
    "rap_flat200430 = rap_region.filter((col(\"FLevel\") >= 200) & (col(\"FLevel\") <= 430))\\\n",
    "                            .groupBy(\"dateTime\", \"Nx\", \"Ny\")\\\n",
    "                            .agg(sum(\"IsISSR\").alias(\"iSSRs200430\"),\n",
    "                                 mean(\"Temperature\").alias(\"meanTemp200430\"),\n",
    "                                 mean(\"RH_ice\").alias(\"meanRH_ice200430\"))\n",
    "rap_flat200430.count()"
   ]
  },
  {
   "cell_type": "code",
   "execution_count": 21,
   "id": "0f1bc28f",
   "metadata": {},
   "outputs": [
    {
     "name": "stdout",
     "output_type": "stream",
     "text": [
      "CPU times: user 22.3 ms, sys: 6.28 ms, total: 28.6 ms\n",
      "Wall time: 3min 36s\n"
     ]
    },
    {
     "data": {
      "text/plain": [
       "6925200"
      ]
     },
     "execution_count": 21,
     "metadata": {},
     "output_type": "execute_result"
    }
   ],
   "source": [
    "%%time\n",
    "rap_flat300370 = rap_region.filter((col(\"FLevel\") >= 300) & (col(\"FLevel\") <= 370))\\\n",
    "                            .groupBy(\"dateTime\", \"Nx\", \"Ny\")\\\n",
    "                            .agg(sum(\"IsISSR\").alias(\"iSSRs300370\"),\n",
    "                                 mean(\"Temperature\").alias(\"meanTemp300370\"),\n",
    "                                 mean(\"RH_ice\").alias(\"meanRH_ice300370\"))\n",
    "rap_flat300370.count()"
   ]
  },
  {
   "cell_type": "code",
   "execution_count": 22,
   "id": "f5b7034a",
   "metadata": {},
   "outputs": [],
   "source": [
    "centerName = center_name.lower()\n",
    "path = \"s3a://partly-cloudy-common-area/\" + centerName + \"_flat300370.parquet\"\n",
    "rap_flat300370.write.parquet(path, mode= \"overwrite\", compression= 'gzip')"
   ]
  },
  {
   "cell_type": "markdown",
   "id": "73f63cfd",
   "metadata": {},
   "source": [
    "%%time\n",
    "rap_flat_combined = rap_flat200430.join(rap_flat300370, ['dateTime', 'Nx', 'Ny'], \"inner\")\n",
    "rap_flat_combined.count()"
   ]
  },
  {
   "cell_type": "markdown",
   "id": "54ce6d43",
   "metadata": {},
   "source": [
    "%%time\n",
    "rap_flat200430 = rap_flat200430.withColumn(\"localDateTime\", col(\"dateTime\") - expr(time_lag))\n",
    "rap_flat200430.count()\n",
    "rap_flat200430 = rap_flat200430.withColumn(\"dateOnly\", to_date(col(\"localDateTime\")))\n",
    "rap_flat200430 = rap_flat200430.withColumn(\"hour\", hour(col(\"localDateTime\")))\n",
    "periodFunc = udf(lambda x: x//time_interval * time_interval)\n",
    "rap_flat200430 = rap_flat200430.withColumn(\"period\", periodFunc(col('hour')))\n",
    "rap_flat200430.show()"
   ]
  },
  {
   "cell_type": "markdown",
   "id": "fe7369f2",
   "metadata": {},
   "source": [
    "%%time\n",
    "rap_flat300370 = rap_flat_combined.withColumn(\"localDateTime\", col(\"dateTime\") - expr(time_lag))\n",
    "rap_flat300370.count()\n",
    "rap_flat300370 = rap_flat300370.withColumn(\"dateOnly\", to_date(col(\"localDateTime\")))\n",
    "rap_flat300370 = rap_flat300370.withColumn(\"hour\", hour(col(\"localDateTime\")))\n",
    "periodFunc = udf(lambda x: x//time_interval * time_interval)\n",
    "rap_flat300370 = rap_flat300370.withColumn(\"period\", periodFunc(col('hour')))\n",
    "rap_flat300370.show()"
   ]
  },
  {
   "cell_type": "markdown",
   "id": "52b0b1dc",
   "metadata": {},
   "source": [
    "%%time\n",
    "rap_flat_combined = rap_flat_combined.withColumn(\"localDateTime\", col(\"dateTime\") - expr(time_lag))\n",
    "rap_flat_combined.count()\n",
    "rap_flat_combined = rap_flat_combined.withColumn(\"dateOnly\", to_date(col(\"localDateTime\")))\n",
    "rap_flat_combined = rap_flat_combined.withColumn(\"hour\", hour(col(\"localDateTime\")))\n",
    "periodFunc = udf(lambda x: x//time_interval * time_interval)\n",
    "rap_flat_combined = rap_flat_combined.withColumn(\"period\", periodFunc(col('hour')))\n",
    "rap_flat_combined.show()"
   ]
  },
  {
   "cell_type": "markdown",
   "id": "06600542",
   "metadata": {},
   "source": [
    "centerName = center_name.lower()\n",
    "path = \"s3a://partly-cloudy-ml-inputs-parquet/\" + centerName + \"_flat200430.parquet\"\n",
    "rap_flat200430.write.parquet(path, mode= \"overwrite\", compression= 'gzip')"
   ]
  },
  {
   "cell_type": "markdown",
   "id": "1dcb9327",
   "metadata": {},
   "source": [
    "%%time\n",
    "rap_flat_combined_pd = rap_flat200430.groupBy(col(\"dateOnly\"), col(\"period\"), col(\"Nx\"), col(\"Ny\"))\\\n",
    "                                        .agg(sum(\"iSSRs200430\").alias(\"pdISSRs200430\"),\n",
    "                                            #sum(\"iSSRs300370\").alias(\"pdISSRs300370\"),\n",
    "                                            mean(\"meanTemp200430\").alias(\"pdMeanTemp200430\"),\n",
    "                                            #mean(\"meanTemp300370\").alias(\"pdMeanTemp300370\"),\n",
    "                                            mean(\"meanRH_ice200430\").alias(\"pdMeanRH_ice200430\")\n",
    "                                            #mean(\"meanRH_ice300370\").alias(\"pdMeanRH_ice300370\")\n",
    "                                            )\n",
    "\n",
    "rap_flat_combined_pd.count()"
   ]
  },
  {
   "cell_type": "markdown",
   "id": "785db66f",
   "metadata": {},
   "source": [
    "%%time\n",
    "rap_flat_combined_pd = rap_flat300370.groupBy(col(\"dateOnly\"), col(\"period\"), col(\"Nx\"), col(\"Ny\"))\\\n",
    "                                        .agg(#sum(\"iSSRs200430\").alias(\"pdISSRs200430\"),\n",
    "                                            sum(\"iSSRs300370\").alias(\"pdISSRs300370\"),\n",
    "                                            #mean(\"meanTemp200430\").alias(\"pdMeanTemp200430\"),\n",
    "                                            mean(\"meanTemp300370\").alias(\"pdMeanTemp300370\"),\n",
    "                                            #mean(\"meanRH_ice200430\").alias(\"pdMeanRH_ice200430\"),\n",
    "                                            mean(\"meanRH_ice300370\").alias(\"pdMeanRH_ice300370\")\n",
    "                                            )\n",
    "\n",
    "rap_flat_combined_pd.count()"
   ]
  },
  {
   "cell_type": "markdown",
   "id": "a7e450c1",
   "metadata": {},
   "source": [
    "centerName = center_name.lower()\n",
    "path = \"s3a://partly-cloudy-common-area/\" + centerName + \"_6_hour_flat300370.parquet\"\n",
    "rap_flat_combined_pd.write.parquet(path, mode= \"overwrite\", compression= 'gzip')"
   ]
  },
  {
   "cell_type": "markdown",
   "id": "0c0d7b35",
   "metadata": {},
   "source": [
    "%%time\n",
    "centerName = center_name.lower()\n",
    "rap_flat_combined_pd = spark.read.format('parquet')\\\n",
    "                            .load(\"s3a://partly-cloudy-common-area/\" + centerName + \"_6_hour_flat.parquet\")\n"
   ]
  },
  {
   "cell_type": "markdown",
   "id": "e0b3d114",
   "metadata": {},
   "source": [
    "%%time\n",
    "rap_flat_combined_pdPandas = rap_flat_combined_pd.toPandas()\n",
    "rap_flat_combined_pdPandas"
   ]
  },
  {
   "cell_type": "markdown",
   "id": "41d9bb9b",
   "metadata": {},
   "source": [
    "%%time\n",
    "rap_flat_combined_pdPandas['LocalDateTimePeriod'] = [pd.Timestamp(rap_flat_combined_pdPandas['dateOnly'][i]) + timedelta(hours= int(rap_flat_combined_pdPandas['period'][i])) for i in range(len(rap_flat_combined_pdPandas))]\n",
    "rap_flat_combined_pdPandas"
   ]
  },
  {
   "cell_type": "markdown",
   "id": "e9c51263",
   "metadata": {},
   "source": [
    "%%time\n",
    "rap_flat_combined_pdPandas.drop(columns= ['dateOnly', 'period'], inplace= True)"
   ]
  },
  {
   "cell_type": "markdown",
   "id": "bf7e43b1",
   "metadata": {},
   "source": [
    "%%time\n",
    "centers_df = wr.s3.read_csv('s3://partly-cloudy-common-area/proof_of_concept/rapCellNxNy_ARTCC_intersect.csv')\n",
    "centers_df"
   ]
  },
  {
   "cell_type": "markdown",
   "id": "6a3c64cf",
   "metadata": {},
   "source": [
    "%%time\n",
    "latlon_df = wr.s3.read_csv('s3://partly-cloudy-common-area/proof_of_concept/latlonRAP.csv')\n",
    "latlon_df"
   ]
  },
  {
   "cell_type": "markdown",
   "id": "d171236d",
   "metadata": {},
   "source": [
    "%%time\n",
    "center_flat_pdPandas_join = pd.merge(rap_flat_combined_pdPandas, centers_df, on= ['Nx', 'Ny'])\n",
    "center_flat_pdPandas_join = pd.merge(center_flat_pdPandas_join, latlon_df, on= ['Nx', 'Ny'])\n",
    "center_flat_pdPandas_join"
   ]
  },
  {
   "cell_type": "markdown",
   "id": "292a29e0",
   "metadata": {},
   "source": [
    "%%time\n",
    "center_flat_pdPandas_join['geoEncode'] = [pgh.encode(center_flat_pdPandas_join['Lat'][i], center_flat_pdPandas_join['Lon'][i], precision= 5) for i in range(len(center_flat_pdPandas_join))]\n",
    "center_flat_pdPandas_join"
   ]
  },
  {
   "cell_type": "markdown",
   "id": "bc4f589b",
   "metadata": {},
   "source": [
    "%%time\n",
    "center_flat_pd_final = center_flat_pdPandas_join[['LocalDateTimePeriod', \n",
    "                                                  'Nx', 'Ny', \n",
    "                                                  'Lat', 'Lon', \n",
    "                                                  'geoEncode', \n",
    "                                                  'NAME', \n",
    "                                                  'pdISSRs200430', \n",
    "                                                  'pdISSRs300370',\n",
    "                                                  'pdMeanTemp200430',\n",
    "                                                  'pdMeanTemp300370',\n",
    "                                                  'pdMeanRH_ice200430',\n",
    "                                                  'pdMeanRH_ice300370']].copy()\n",
    "center_flat_pd_final"
   ]
  },
  {
   "cell_type": "markdown",
   "id": "4a3c6070",
   "metadata": {},
   "source": [
    "output_bucket = 'partly-cloudy-ml-inputs'\n",
    "outputFileName = center_name + '_6_hour_flat.csv' "
   ]
  },
  {
   "cell_type": "markdown",
   "id": "5592b3ad",
   "metadata": {},
   "source": [
    "wr.s3.to_csv(center_flat_pd_final, f\"s3://{output_bucket}/{outputFileName}\", index=False)"
   ]
  },
  {
   "cell_type": "code",
   "execution_count": null,
   "id": "c871ada1",
   "metadata": {},
   "outputs": [],
   "source": []
  }
 ],
 "metadata": {
  "kernelspec": {
   "display_name": "conda_python3",
   "language": "python",
   "name": "conda_python3"
  },
  "language_info": {
   "codemirror_mode": {
    "name": "ipython",
    "version": 3
   },
   "file_extension": ".py",
   "mimetype": "text/x-python",
   "name": "python",
   "nbconvert_exporter": "python",
   "pygments_lexer": "ipython3",
   "version": "3.6.13"
  }
 },
 "nbformat": 4,
 "nbformat_minor": 5
}
