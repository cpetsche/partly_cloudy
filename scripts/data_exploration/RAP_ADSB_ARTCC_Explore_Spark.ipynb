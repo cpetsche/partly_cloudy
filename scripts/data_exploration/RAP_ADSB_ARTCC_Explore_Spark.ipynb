{
 "cells": [
  {
   "cell_type": "code",
   "execution_count": 1,
   "id": "d24e3513",
   "metadata": {},
   "outputs": [
    {
     "name": "stdout",
     "output_type": "stream",
     "text": [
      "Collecting awswrangler\n",
      "  Downloading awswrangler-2.9.0-py3-none-any.whl (183 kB)\n",
      "\u001b[K     |████████████████████████████████| 183 kB 40.4 MB/s eta 0:00:01\n",
      "\u001b[?25hCollecting pymysql<1.1.0,>=0.9.0\n",
      "  Downloading PyMySQL-1.0.2-py3-none-any.whl (43 kB)\n",
      "\u001b[K     |████████████████████████████████| 43 kB 3.4 MB/s  eta 0:00:01\n",
      "\u001b[?25hRequirement already satisfied: botocore<2.0.0,>=1.19.8 in /home/ec2-user/anaconda3/envs/python3/lib/python3.6/site-packages (from awswrangler) (1.20.99)\n",
      "Requirement already satisfied: boto3<2.0.0,>=1.16.8 in /home/ec2-user/anaconda3/envs/python3/lib/python3.6/site-packages (from awswrangler) (1.17.99)\n",
      "Requirement already satisfied: pyarrow<4.1.0,>=2.0.0 in /home/ec2-user/anaconda3/envs/python3/lib/python3.6/site-packages (from awswrangler) (4.0.1)\n",
      "Collecting redshift-connector~=2.0.0\n",
      "  Downloading redshift_connector-2.0.882-py3-none-any.whl (93 kB)\n",
      "\u001b[K     |████████████████████████████████| 93 kB 1.8 MB/s  eta 0:00:01\n",
      "\u001b[?25hCollecting pg8000<1.20.0,>=1.16.0\n",
      "  Downloading pg8000-1.19.5-py3-none-any.whl (34 kB)\n",
      "Requirement already satisfied: openpyxl~=3.0.0 in /home/ec2-user/anaconda3/envs/python3/lib/python3.6/site-packages (from awswrangler) (3.0.6)\n",
      "Requirement already satisfied: numpy<1.21.0,>=1.18.0 in /home/ec2-user/anaconda3/envs/python3/lib/python3.6/site-packages (from awswrangler) (1.19.5)\n",
      "Requirement already satisfied: pandas<1.3.0,>=1.1.0 in /home/ec2-user/anaconda3/envs/python3/lib/python3.6/site-packages (from awswrangler) (1.1.5)\n",
      "Requirement already satisfied: s3transfer<0.5.0,>=0.4.0 in /home/ec2-user/anaconda3/envs/python3/lib/python3.6/site-packages (from boto3<2.0.0,>=1.16.8->awswrangler) (0.4.2)\n",
      "Requirement already satisfied: jmespath<1.0.0,>=0.7.1 in /home/ec2-user/anaconda3/envs/python3/lib/python3.6/site-packages (from boto3<2.0.0,>=1.16.8->awswrangler) (0.10.0)\n",
      "Requirement already satisfied: urllib3<1.27,>=1.25.4 in /home/ec2-user/anaconda3/envs/python3/lib/python3.6/site-packages (from botocore<2.0.0,>=1.19.8->awswrangler) (1.26.5)\n",
      "Requirement already satisfied: python-dateutil<3.0.0,>=2.1 in /home/ec2-user/anaconda3/envs/python3/lib/python3.6/site-packages (from botocore<2.0.0,>=1.19.8->awswrangler) (2.8.1)\n",
      "Requirement already satisfied: jdcal in /home/ec2-user/anaconda3/envs/python3/lib/python3.6/site-packages (from openpyxl~=3.0.0->awswrangler) (1.4.1)\n",
      "Requirement already satisfied: et-xmlfile in /home/ec2-user/anaconda3/envs/python3/lib/python3.6/site-packages (from openpyxl~=3.0.0->awswrangler) (1.0.1)\n",
      "Requirement already satisfied: pytz>=2017.2 in /home/ec2-user/anaconda3/envs/python3/lib/python3.6/site-packages (from pandas<1.3.0,>=1.1.0->awswrangler) (2021.1)\n",
      "Collecting scramp==1.4.0\n",
      "  Downloading scramp-1.4.0-py3-none-any.whl (8.4 kB)\n",
      "Requirement already satisfied: asn1crypto==1.4.0 in /home/ec2-user/anaconda3/envs/python3/lib/python3.6/site-packages (from scramp==1.4.0->pg8000<1.20.0,>=1.16.0->awswrangler) (1.4.0)\n",
      "Requirement already satisfied: six>=1.5 in /home/ec2-user/anaconda3/envs/python3/lib/python3.6/site-packages (from python-dateutil<3.0.0,>=2.1->botocore<2.0.0,>=1.19.8->awswrangler) (1.15.0)\n",
      "Requirement already satisfied: beautifulsoup4<5.0.0,>=4.7.0 in /home/ec2-user/anaconda3/envs/python3/lib/python3.6/site-packages (from redshift-connector~=2.0.0->awswrangler) (4.9.3)\n",
      "Requirement already satisfied: lxml>=4.6.2 in /home/ec2-user/anaconda3/envs/python3/lib/python3.6/site-packages (from redshift-connector~=2.0.0->awswrangler) (4.6.3)\n",
      "Requirement already satisfied: requests<2.25.2,>=2.23.0 in /home/ec2-user/anaconda3/envs/python3/lib/python3.6/site-packages (from redshift-connector~=2.0.0->awswrangler) (2.25.1)\n",
      "Requirement already satisfied: soupsieve>1.2 in /home/ec2-user/anaconda3/envs/python3/lib/python3.6/site-packages (from beautifulsoup4<5.0.0,>=4.7.0->redshift-connector~=2.0.0->awswrangler) (2.0.1)\n",
      "Requirement already satisfied: idna<3,>=2.5 in /home/ec2-user/anaconda3/envs/python3/lib/python3.6/site-packages (from requests<2.25.2,>=2.23.0->redshift-connector~=2.0.0->awswrangler) (2.10)\n",
      "Requirement already satisfied: certifi>=2017.4.17 in /home/ec2-user/anaconda3/envs/python3/lib/python3.6/site-packages (from requests<2.25.2,>=2.23.0->redshift-connector~=2.0.0->awswrangler) (2021.5.30)\n",
      "Requirement already satisfied: chardet<5,>=3.0.2 in /home/ec2-user/anaconda3/envs/python3/lib/python3.6/site-packages (from requests<2.25.2,>=2.23.0->redshift-connector~=2.0.0->awswrangler) (3.0.4)\n",
      "Installing collected packages: scramp, redshift-connector, pymysql, pg8000, awswrangler\n",
      "Successfully installed awswrangler-2.9.0 pg8000-1.19.5 pymysql-1.0.2 redshift-connector-2.0.882 scramp-1.4.0\n",
      "\u001b[33mWARNING: You are using pip version 21.1.2; however, version 21.1.3 is available.\n",
      "You should consider upgrading via the '/home/ec2-user/anaconda3/envs/python3/bin/python -m pip install --upgrade pip' command.\u001b[0m\n",
      "Note: you may need to restart the kernel to use updated packages.\n"
     ]
    }
   ],
   "source": [
    "pip install awswrangler"
   ]
  },
  {
   "cell_type": "code",
   "execution_count": 2,
   "id": "b0fcef94",
   "metadata": {},
   "outputs": [
    {
     "name": "stdout",
     "output_type": "stream",
     "text": [
      "Collecting pygeohash\n",
      "  Downloading pygeohash-1.2.0.tar.gz (5.0 kB)\n",
      "Building wheels for collected packages: pygeohash\n",
      "  Building wheel for pygeohash (setup.py) ... \u001b[?25ldone\n",
      "\u001b[?25h  Created wheel for pygeohash: filename=pygeohash-1.2.0-py2.py3-none-any.whl size=6162 sha256=ac18a701e8f340d305247b6f5235addda78b831bb7f6b7c89eb2e32c1e3b4069\n",
      "  Stored in directory: /home/ec2-user/.cache/pip/wheels/c3/55/b4/887c04afc06affb11d8a6be5b5a48fef2c517756c9fc37303f\n",
      "Successfully built pygeohash\n",
      "Installing collected packages: pygeohash\n",
      "Successfully installed pygeohash-1.2.0\n",
      "\u001b[33mWARNING: You are using pip version 21.1.2; however, version 21.1.3 is available.\n",
      "You should consider upgrading via the '/home/ec2-user/anaconda3/envs/python3/bin/python -m pip install --upgrade pip' command.\u001b[0m\n",
      "Note: you may need to restart the kernel to use updated packages.\n"
     ]
    }
   ],
   "source": [
    "pip install pygeohash"
   ]
  },
  {
   "cell_type": "code",
   "execution_count": 3,
   "id": "8c3caa2b",
   "metadata": {},
   "outputs": [
    {
     "data": {
      "text/html": [
       "\n",
       "            <div>\n",
       "                <p><b>SparkSession - in-memory</b></p>\n",
       "                \n",
       "        <div>\n",
       "            <p><b>SparkContext</b></p>\n",
       "\n",
       "            <p><a href=\"http://ip-172-16-140-18.ec2.internal:4040\">Spark UI</a></p>\n",
       "\n",
       "            <dl>\n",
       "              <dt>Version</dt>\n",
       "                <dd><code>v2.4.0</code></dd>\n",
       "              <dt>Master</dt>\n",
       "                <dd><code>local[*]</code></dd>\n",
       "              <dt>AppName</dt>\n",
       "                <dd><code>pyspark-shell</code></dd>\n",
       "            </dl>\n",
       "        </div>\n",
       "        \n",
       "            </div>\n",
       "        "
      ],
      "text/plain": [
       "<pyspark.sql.session.SparkSession at 0x7fa6ce3a9978>"
      ]
     },
     "execution_count": 3,
     "metadata": {},
     "output_type": "execute_result"
    }
   ],
   "source": [
    "import os\n",
    "import boto3\n",
    "\n",
    "from pyspark import SparkContext, SparkConf\n",
    "from pyspark.sql import SparkSession\n",
    "\n",
    "import sagemaker\n",
    "from sagemaker import get_execution_role\n",
    "import sagemaker_pyspark\n",
    "\n",
    "role = get_execution_role()\n",
    "\n",
    "# Configure Spark to use the SageMaker Spark dependency jars\n",
    "jars = sagemaker_pyspark.classpath_jars()\n",
    "\n",
    "classpath = \":\".join(sagemaker_pyspark.classpath_jars())\n",
    "\n",
    "# See the SageMaker Spark Github to learn how to connect to EMR from a notebook instance\n",
    "spark = (\n",
    "    SparkSession.builder.config(\"spark.driver.extraClassPath\", classpath)\\\n",
    "#    .config('spark.driver.memory','32G')\\\n",
    "    .master(\"local[*]\")\\\n",
    "    .getOrCreate()\n",
    ")\n",
    "\n",
    "spark"
   ]
  },
  {
   "cell_type": "code",
   "execution_count": 4,
   "id": "572f3521",
   "metadata": {},
   "outputs": [],
   "source": [
    "# https://sagemaker-examples.readthedocs.io/en/latest/sagemaker-spark/pyspark_mnist/pyspark_mnist_kmeans.html#Loading-the-Data\n",
    "import boto3\n",
    "\n",
    "cn_regions = [\"cn-north-1\", \"cn-northwest-1\"]\n",
    "region = boto3.Session().region_name\n",
    "endpoint_domain = \"com.cn\" if region in cn_regions else \"com\"\n",
    "spark._jsc.hadoopConfiguration().set(\n",
    "    \"fs.s3a.endpoint\", \"s3.{}.amazonaws.{}\".format(region, endpoint_domain)\n",
    ")"
   ]
  },
  {
   "cell_type": "code",
   "execution_count": 5,
   "id": "188d4a92",
   "metadata": {},
   "outputs": [],
   "source": [
    "from pyspark.sql.functions import *\n",
    "import awswrangler as wr"
   ]
  },
  {
   "cell_type": "code",
   "execution_count": 6,
   "id": "d863a88e",
   "metadata": {},
   "outputs": [],
   "source": [
    "import pandas as pd\n",
    "from datetime import datetime, timedelta\n",
    "import pygeohash as pgh\n",
    "import matplotlib.pyplot as plt"
   ]
  },
  {
   "cell_type": "markdown",
   "id": "61496a5b",
   "metadata": {},
   "source": [
    "## 1. Import Datasets"
   ]
  },
  {
   "cell_type": "markdown",
   "id": "07c79a8a",
   "metadata": {},
   "source": [
    "### 1.1 Hourly Non-Zero Plane Counts In Cells (individual points in all Pressure Levels)"
   ]
  },
  {
   "cell_type": "markdown",
   "id": "cbdbd2d6",
   "metadata": {},
   "source": [
    "%%time\n",
    "hourlyPlaneCountsInCells = spark.read.format('csv')\\\n",
    "        .options(header= 'true', inferSchema= 'true')\\\n",
    "        .load(\"s3a://partly-cloudy-common-area/proof_of_concept/hourlyPlaneCountsInCells.csv\")\n",
    "\n",
    "hourlyPlaneCountsInCells.write.parquet(\n",
    "    \"s3a://partly-cloudy-common-area/proof_of_concept/hourlyPlaneCountsInCells.parquet\", mode= \"overwrite\", compression= 'gzip')"
   ]
  },
  {
   "cell_type": "code",
   "execution_count": 7,
   "id": "b181ba76",
   "metadata": {},
   "outputs": [
    {
     "name": "stdout",
     "output_type": "stream",
     "text": [
      "CPU times: user 2.24 ms, sys: 1.35 ms, total: 3.6 ms\n",
      "Wall time: 4.71 s\n"
     ]
    },
    {
     "data": {
      "text/plain": [
       "1240944"
      ]
     },
     "execution_count": 7,
     "metadata": {},
     "output_type": "execute_result"
    }
   ],
   "source": [
    "%%time\n",
    "hourlyPlaneCountsInCells = spark.read.format('parquet')\\\n",
    "        .load(\"s3a://partly-cloudy-common-area/proof_of_concept/hourlyPlaneCountsInCells.parquet\")\n",
    "\n",
    "hourlyPlaneCountsInCells.count()"
   ]
  },
  {
   "cell_type": "code",
   "execution_count": 8,
   "id": "f20a5fe6",
   "metadata": {},
   "outputs": [
    {
     "name": "stdout",
     "output_type": "stream",
     "text": [
      "+---+---+---+----+-------------------+\n",
      "| Nx| Ny|hPa|hour|hourlyPlanesInCells|\n",
      "+---+---+---+----+-------------------+\n",
      "| 88|122|525|   0|                  1|\n",
      "| 88|122|525|   2|                  2|\n",
      "| 88|122|525|   4|                  1|\n",
      "| 88|122|525|  14|                  3|\n",
      "| 88|122|525|  15|                  1|\n",
      "| 88|122|525|  21|                  2|\n",
      "| 88|122|550|  21|                  1|\n",
      "| 88|122|575|   1|                  1|\n",
      "| 88|123|175|  17|                  1|\n",
      "| 88|123|175|  20|                  1|\n",
      "| 88|123|175|  22|                  1|\n",
      "| 88|123|200|  13|                  2|\n",
      "| 88|123|200|  14|                  1|\n",
      "| 88|123|200|  17|                  1|\n",
      "| 88|123|200|  22|                  1|\n",
      "| 88|123|225|   0|                  1|\n",
      "| 88|123|225|   1|                  1|\n",
      "| 88|123|225|   3|                  1|\n",
      "| 88|123|225|   8|                  1|\n",
      "| 88|123|225|  13|                  1|\n",
      "+---+---+---+----+-------------------+\n",
      "only showing top 20 rows\n",
      "\n"
     ]
    }
   ],
   "source": [
    "hourlyPlaneCountsInCells = hourlyPlaneCountsInCells.drop(\"FL\")\n",
    "hourlyPlaneCountsInCells.show()"
   ]
  },
  {
   "cell_type": "code",
   "execution_count": 9,
   "id": "7706b4eb",
   "metadata": {},
   "outputs": [
    {
     "name": "stdout",
     "output_type": "stream",
     "text": [
      "+---+------+\n",
      "|hPa|counts|\n",
      "+---+------+\n",
      "|375| 36656|\n",
      "|950| 10559|\n",
      "|300| 48913|\n",
      "|350| 42884|\n",
      "|875| 14635|\n",
      "|625| 19945|\n",
      "|225|149428|\n",
      "|725| 16971|\n",
      "|325| 47760|\n",
      "|925| 12894|\n",
      "|500| 23463|\n",
      "|250|158847|\n",
      "|650| 20308|\n",
      "|425| 31235|\n",
      "|775| 15689|\n",
      "|675| 21213|\n",
      "|175| 64028|\n",
      "|850| 15085|\n",
      "|900| 13099|\n",
      "|800| 15774|\n",
      "+---+------+\n",
      "only showing top 20 rows\n",
      "\n"
     ]
    }
   ],
   "source": [
    "hourlyPlaneCountsInCells.groupBy(col(\"hPa\"))\\\n",
    "                        .agg((count(col(\"hourlyPlanesInCells\")).alias(\"counts\"))).show()"
   ]
  },
  {
   "cell_type": "markdown",
   "id": "e5b5a1f1",
   "metadata": {},
   "source": [
    "%%time\n",
    "df = spark.read.format('csv')\\\n",
    "        .options(header= 'true', inferSchema= 'true')\\\n",
    "        .load(\"s3a://partly-cloudy-rap-csv/2021_05_*.csv\") # \"s3a://partly-cloudy-rap-csv/2021_05_05_19.csv\"; \"s3a://partly-cloudy-rap-csv/*.csv\""
   ]
  },
  {
   "cell_type": "markdown",
   "id": "29eeae9a",
   "metadata": {},
   "source": [
    "%%time\n",
    "df.count()"
   ]
  },
  {
   "cell_type": "markdown",
   "id": "0cdc8428",
   "metadata": {},
   "source": [
    "%%time\n",
    "df.write.parquet(\"s3a://partly-cloudy-rap-parquet/2021_05.parquet\", mode= \"overwrite\", compression= 'gzip')"
   ]
  },
  {
   "cell_type": "markdown",
   "id": "ca6bb85a",
   "metadata": {},
   "source": [
    "### 1.2 ARTCC (single pressure level) Nx and Ny"
   ]
  },
  {
   "cell_type": "code",
   "execution_count": 10,
   "id": "f8f287c2",
   "metadata": {},
   "outputs": [
    {
     "name": "stdout",
     "output_type": "stream",
     "text": [
      "CPU times: user 1.68 ms, sys: 1.01 ms, total: 2.69 ms\n",
      "Wall time: 1.27 s\n"
     ]
    },
    {
     "data": {
      "text/plain": [
       "25323"
      ]
     },
     "execution_count": 10,
     "metadata": {},
     "output_type": "execute_result"
    }
   ],
   "source": [
    "%%time\n",
    "centers = spark.read.format('csv')\\\n",
    "        .options(header= 'true', inferSchema= 'true')\\\n",
    "        .load(\"s3a://partly-cloudy-common-area/proof_of_concept/rapCellNxNy_ARTCC_intersect.csv\")\n",
    "\n",
    "centers.count()"
   ]
  },
  {
   "cell_type": "code",
   "execution_count": 11,
   "id": "29744a2e",
   "metadata": {},
   "outputs": [
    {
     "name": "stdout",
     "output_type": "stream",
     "text": [
      "+-----+-----+---+---+\n",
      "|IDENT| NAME| Nx| Ny|\n",
      "+-----+-----+---+---+\n",
      "|  ZMA|MIAMI|233| 28|\n",
      "|  ZMA|MIAMI|242| 29|\n",
      "|  ZMA|MIAMI|232| 28|\n",
      "|  ZMA|MIAMI|241| 29|\n",
      "|  ZMA|MIAMI|249| 30|\n",
      "|  ZMA|MIAMI|231| 28|\n",
      "|  ZMA|MIAMI|240| 29|\n",
      "|  ZMA|MIAMI|230| 28|\n",
      "|  ZMA|MIAMI|248| 30|\n",
      "|  ZMA|MIAMI|239| 29|\n",
      "|  ZMA|MIAMI|229| 28|\n",
      "|  ZMA|MIAMI|247| 30|\n",
      "|  ZMA|MIAMI|238| 29|\n",
      "|  ZMA|MIAMI|228| 28|\n",
      "|  ZMA|MIAMI|246| 30|\n",
      "|  ZMA|MIAMI|227| 28|\n",
      "|  ZMA|MIAMI|237| 29|\n",
      "|  ZMA|MIAMI|226| 28|\n",
      "|  ZMA|MIAMI|245| 30|\n",
      "|  ZMA|MIAMI|236| 29|\n",
      "+-----+-----+---+---+\n",
      "only showing top 20 rows\n",
      "\n"
     ]
    }
   ],
   "source": [
    "centers.show()"
   ]
  },
  {
   "cell_type": "markdown",
   "id": "fe5f946e",
   "metadata": {},
   "source": [
    "### 1.3 NOAA RAP Data (6/1/2020 through 5/30/2021)"
   ]
  },
  {
   "cell_type": "code",
   "execution_count": 7,
   "id": "387038b0",
   "metadata": {},
   "outputs": [
    {
     "name": "stdout",
     "output_type": "stream",
     "text": [
      "CPU times: user 3.22 ms, sys: 1.74 ms, total: 4.96 ms\n",
      "Wall time: 14.1 s\n"
     ]
    }
   ],
   "source": [
    "%%time\n",
    "rap = spark.read.format('parquet')\\\n",
    "        .load(\"s3a://partly-cloudy-rap-parquet/*.parquet\")"
   ]
  },
  {
   "cell_type": "code",
   "execution_count": 8,
   "id": "6338fb9a",
   "metadata": {},
   "outputs": [],
   "source": [
    "rap = rap.withColumn(\"month\", month(col(\"dateTime\")))\n",
    "rap = rap.withColumn(\"hour\", hour(col(\"dateTime\")))\n",
    "rap = rap.withColumn(\"altitude_ft\", (1 - (col(\"hPa\")/1013.25)**0.190284) * 145366.4)\n",
    "\n",
    "rap = rap.withColumn(\"dateOnly\", to_date(col(\"dateTime\")))\n",
    "\n",
    "time_interval = 6 # 6-hour\n",
    "\n",
    "myUDF1 = udf(lambda x: x//time_interval * time_interval)\n",
    "rap = rap.withColumn(\"period\", myUDF1(col('hour')))"
   ]
  },
  {
   "cell_type": "code",
   "execution_count": 9,
   "id": "58df0d4e",
   "metadata": {},
   "outputs": [
    {
     "name": "stdout",
     "output_type": "stream",
     "text": [
      "CPU times: user 15.2 ms, sys: 8.18 ms, total: 23.4 ms\n",
      "Wall time: 2min 44s\n"
     ]
    },
    {
     "data": {
      "text/plain": [
       "7659697500"
      ]
     },
     "execution_count": 9,
     "metadata": {},
     "output_type": "execute_result"
    }
   ],
   "source": [
    "%%time\n",
    "rap.count()"
   ]
  },
  {
   "cell_type": "code",
   "execution_count": 10,
   "id": "59beffd1",
   "metadata": {},
   "outputs": [
    {
     "name": "stdout",
     "output_type": "stream",
     "text": [
      "+-------------------+---+------+---+---+------------------+-------------------+-----------+------+------+-----+----+-----------------+----------+------+\n",
      "|           dateTime|hPa|FLevel| Nx| Ny|               Lat|                Lon|Temperature|RH_ice|IsISSR|month|hour|      altitude_ft|  dateOnly|period|\n",
      "+-------------------+---+------+---+---+------------------+-------------------+-----------+------+------+-----+----+-----------------+----------+------+\n",
      "|2021-05-21 06:00:00|150|   440|  1|  1|16.280999999999988|-126.13800000000002|    203.586| 76.34|     0|    5|   6|44301.67362239071|2021-05-21|     6|\n",
      "|2021-05-21 06:00:00|150|   440|  2|  1|16.322011282850546|-125.95468351809222|    203.711| 76.53|     0|    5|   6|44301.67362239071|2021-05-21|     6|\n",
      "|2021-05-21 06:00:00|150|   440|  3|  1|  16.3627888393447|-125.77125176429101|    203.836| 74.86|     0|    5|   6|44301.67362239071|2021-05-21|     6|\n",
      "|2021-05-21 06:00:00|150|   440|  4|  1| 16.40333235182454|-125.58770530205761|    203.961| 72.31|     0|    5|   6|44301.67362239071|2021-05-21|     6|\n",
      "|2021-05-21 06:00:00|150|   440|  5|  1| 16.44364150464794|-125.40404469724044|    204.086| 69.52|     0|    5|   6|44301.67362239071|2021-05-21|     6|\n",
      "|2021-05-21 06:00:00|150|   440|  6|  1|16.483715984188144|-125.22027051806752|    204.148| 66.76|     0|    5|   6|44301.67362239071|2021-05-21|     6|\n",
      "|2021-05-21 06:00:00|150|   440|  7|  1|16.523555478833973| -125.0363833351395|    204.148| 64.94|     0|    5|   6|44301.67362239071|2021-05-21|     6|\n",
      "|2021-05-21 06:00:00|150|   440|  8|  1| 16.56315967898957|-124.85238372142196|    204.023| 67.03|     0|    5|   6|44301.67362239071|2021-05-21|     6|\n",
      "|2021-05-21 06:00:00|150|   440|  9|  1|16.602528277074246|-124.66827225223831|    203.836| 72.12|     0|    5|   6|44301.67362239071|2021-05-21|     6|\n",
      "|2021-05-21 06:00:00|150|   440| 10|  1| 16.64166096752226|-124.48404950526174|    203.648| 78.15|     0|    5|   6|44301.67362239071|2021-05-21|     6|\n",
      "+-------------------+---+------+---+---+------------------+-------------------+-----------+------+------+-----+----+-----------------+----------+------+\n",
      "only showing top 10 rows\n",
      "\n"
     ]
    }
   ],
   "source": [
    "rap.show(10)"
   ]
  },
  {
   "cell_type": "code",
   "execution_count": 13,
   "id": "f558c9f6",
   "metadata": {},
   "outputs": [
    {
     "name": "stdout",
     "output_type": "stream",
     "text": [
      "CPU times: user 24.9 ms, sys: 13 ms, total: 38 ms\n",
      "Wall time: 3min 49s\n"
     ]
    },
    {
     "data": {
      "text/html": [
       "<div>\n",
       "<style scoped>\n",
       "    .dataframe tbody tr th:only-of-type {\n",
       "        vertical-align: middle;\n",
       "    }\n",
       "\n",
       "    .dataframe tbody tr th {\n",
       "        vertical-align: top;\n",
       "    }\n",
       "\n",
       "    .dataframe thead th {\n",
       "        text-align: right;\n",
       "    }\n",
       "</style>\n",
       "<table border=\"1\" class=\"dataframe\">\n",
       "  <thead>\n",
       "    <tr style=\"text-align: right;\">\n",
       "      <th></th>\n",
       "      <th>hour</th>\n",
       "      <th>iSSRs</th>\n",
       "    </tr>\n",
       "  </thead>\n",
       "  <tbody>\n",
       "    <tr>\n",
       "      <th>0</th>\n",
       "      <td>12</td>\n",
       "      <td>3176959</td>\n",
       "    </tr>\n",
       "    <tr>\n",
       "      <th>1</th>\n",
       "      <td>22</td>\n",
       "      <td>2496664</td>\n",
       "    </tr>\n",
       "    <tr>\n",
       "      <th>2</th>\n",
       "      <td>1</td>\n",
       "      <td>2409673</td>\n",
       "    </tr>\n",
       "    <tr>\n",
       "      <th>3</th>\n",
       "      <td>13</td>\n",
       "      <td>3304157</td>\n",
       "    </tr>\n",
       "    <tr>\n",
       "      <th>4</th>\n",
       "      <td>6</td>\n",
       "      <td>2295485</td>\n",
       "    </tr>\n",
       "    <tr>\n",
       "      <th>5</th>\n",
       "      <td>16</td>\n",
       "      <td>2424901</td>\n",
       "    </tr>\n",
       "    <tr>\n",
       "      <th>6</th>\n",
       "      <td>3</td>\n",
       "      <td>2336232</td>\n",
       "    </tr>\n",
       "    <tr>\n",
       "      <th>7</th>\n",
       "      <td>20</td>\n",
       "      <td>2047491</td>\n",
       "    </tr>\n",
       "    <tr>\n",
       "      <th>8</th>\n",
       "      <td>5</td>\n",
       "      <td>2304289</td>\n",
       "    </tr>\n",
       "    <tr>\n",
       "      <th>9</th>\n",
       "      <td>19</td>\n",
       "      <td>2018106</td>\n",
       "    </tr>\n",
       "    <tr>\n",
       "      <th>10</th>\n",
       "      <td>15</td>\n",
       "      <td>3477125</td>\n",
       "    </tr>\n",
       "    <tr>\n",
       "      <th>11</th>\n",
       "      <td>17</td>\n",
       "      <td>2115660</td>\n",
       "    </tr>\n",
       "    <tr>\n",
       "      <th>12</th>\n",
       "      <td>9</td>\n",
       "      <td>2519743</td>\n",
       "    </tr>\n",
       "    <tr>\n",
       "      <th>13</th>\n",
       "      <td>4</td>\n",
       "      <td>2296488</td>\n",
       "    </tr>\n",
       "    <tr>\n",
       "      <th>14</th>\n",
       "      <td>8</td>\n",
       "      <td>2269154</td>\n",
       "    </tr>\n",
       "    <tr>\n",
       "      <th>15</th>\n",
       "      <td>23</td>\n",
       "      <td>2461338</td>\n",
       "    </tr>\n",
       "    <tr>\n",
       "      <th>16</th>\n",
       "      <td>7</td>\n",
       "      <td>2292496</td>\n",
       "    </tr>\n",
       "    <tr>\n",
       "      <th>17</th>\n",
       "      <td>10</td>\n",
       "      <td>2643211</td>\n",
       "    </tr>\n",
       "    <tr>\n",
       "      <th>18</th>\n",
       "      <td>21</td>\n",
       "      <td>2513728</td>\n",
       "    </tr>\n",
       "    <tr>\n",
       "      <th>19</th>\n",
       "      <td>11</td>\n",
       "      <td>3000882</td>\n",
       "    </tr>\n",
       "    <tr>\n",
       "      <th>20</th>\n",
       "      <td>14</td>\n",
       "      <td>3363166</td>\n",
       "    </tr>\n",
       "    <tr>\n",
       "      <th>21</th>\n",
       "      <td>2</td>\n",
       "      <td>2382716</td>\n",
       "    </tr>\n",
       "    <tr>\n",
       "      <th>22</th>\n",
       "      <td>0</td>\n",
       "      <td>2437510</td>\n",
       "    </tr>\n",
       "    <tr>\n",
       "      <th>23</th>\n",
       "      <td>18</td>\n",
       "      <td>2082587</td>\n",
       "    </tr>\n",
       "  </tbody>\n",
       "</table>\n",
       "</div>"
      ],
      "text/plain": [
       "    hour    iSSRs\n",
       "0     12  3176959\n",
       "1     22  2496664\n",
       "2      1  2409673\n",
       "3     13  3304157\n",
       "4      6  2295485\n",
       "5     16  2424901\n",
       "6      3  2336232\n",
       "7     20  2047491\n",
       "8      5  2304289\n",
       "9     19  2018106\n",
       "10    15  3477125\n",
       "11    17  2115660\n",
       "12     9  2519743\n",
       "13     4  2296488\n",
       "14     8  2269154\n",
       "15    23  2461338\n",
       "16     7  2292496\n",
       "17    10  2643211\n",
       "18    21  2513728\n",
       "19    11  3000882\n",
       "20    14  3363166\n",
       "21     2  2382716\n",
       "22     0  2437510\n",
       "23    18  2082587"
      ]
     },
     "execution_count": 13,
     "metadata": {},
     "output_type": "execute_result"
    }
   ],
   "source": [
    "%%time\n",
    "totISSRsByHour = rap.filter(col('IsISSR') == 1).groupBy(col(\"hour\")).agg((sum(col(\"isISSR\")).alias(\"iSSRs\")))\n",
    "\n",
    "totISSRsByHour_pd = totISSRsByHour.toPandas()\n",
    "totISSRsByHour_pd.sort_values(by= 'hour', axis= 0, ascending= True, inplace= True)\n",
    "totISSRsByHour_pd.reset_index(inplace= True, drop= True)"
   ]
  },
  {
   "cell_type": "code",
   "execution_count": 19,
   "id": "7995de29",
   "metadata": {},
   "outputs": [
    {
     "data": {
      "image/png": "[encoded data removed]",
      "text/plain": [
       "<Figure size 900x400 with 1 Axes>"
      ]
     },
     "metadata": {
      "needs_background": "light"
     },
     "output_type": "display_data"
    }
   ],
   "source": [
    "# Graph Total ISSR Volume by Hour (all RAP Cells from 6/1/20 through 5/31/21)\n",
    "width = 0.5\n",
    "plt.figure(figsize=(9, 4), dpi=100)\n",
    "plt.bar(totISSRsByHour_pd['hour'], totISSRsByHour_pd['iSSRs'], width)\n",
    "\n",
    "plt.title('Total ISSR Volume by Hour (all RAP Cells from 6/1/20 through 5/31/21)')\n",
    "plt.xlabel('Hour')\n",
    "plt.ylabel('ISSR (cells)')\n",
    "plt.xticks(rotation= 90)\n",
    "\n",
    "plt.show()"
   ]
  },
  {
   "cell_type": "code",
   "execution_count": 41,
   "id": "e7212470",
   "metadata": {},
   "outputs": [
    {
     "name": "stdout",
     "output_type": "stream",
     "text": [
      "CPU times: user 73.7 ms, sys: 24.8 ms, total: 98.4 ms\n",
      "Wall time: 3min 25s\n"
     ]
    }
   ],
   "source": [
    "%%time\n",
    "totISSRsByPeriod = rap.filter(col('IsISSR') == 1).groupBy(col(\"period\")).agg((sum(col(\"isISSR\")).alias(\"iSSRs\")))\n",
    "\n",
    "totISSRsByPeriod_pd = totISSRsByPeriod.toPandas()\n",
    "totISSRsByPeriod_pd.reset_index(drop= True, inplace= True)"
   ]
  },
  {
   "cell_type": "code",
   "execution_count": 42,
   "id": "aba3e95f",
   "metadata": {},
   "outputs": [
    {
     "data": {
      "text/html": [
       "<div>\n",
       "<style scoped>\n",
       "    .dataframe tbody tr th:only-of-type {\n",
       "        vertical-align: middle;\n",
       "    }\n",
       "\n",
       "    .dataframe tbody tr th {\n",
       "        vertical-align: top;\n",
       "    }\n",
       "\n",
       "    .dataframe thead th {\n",
       "        text-align: right;\n",
       "    }\n",
       "</style>\n",
       "<table border=\"1\" class=\"dataframe\">\n",
       "  <thead>\n",
       "    <tr style=\"text-align: right;\">\n",
       "      <th></th>\n",
       "      <th>period</th>\n",
       "      <th>iSSRs</th>\n",
       "    </tr>\n",
       "  </thead>\n",
       "  <tbody>\n",
       "    <tr>\n",
       "      <th>0</th>\n",
       "      <td>0</td>\n",
       "      <td>14166908</td>\n",
       "    </tr>\n",
       "    <tr>\n",
       "      <th>1</th>\n",
       "      <td>18</td>\n",
       "      <td>13619914</td>\n",
       "    </tr>\n",
       "    <tr>\n",
       "      <th>2</th>\n",
       "      <td>6</td>\n",
       "      <td>15020971</td>\n",
       "    </tr>\n",
       "    <tr>\n",
       "      <th>3</th>\n",
       "      <td>12</td>\n",
       "      <td>17861968</td>\n",
       "    </tr>\n",
       "  </tbody>\n",
       "</table>\n",
       "</div>"
      ],
      "text/plain": [
       "  period     iSSRs\n",
       "0      0  14166908\n",
       "1     18  13619914\n",
       "2      6  15020971\n",
       "3     12  17861968"
      ]
     },
     "execution_count": 42,
     "metadata": {},
     "output_type": "execute_result"
    }
   ],
   "source": [
    "totISSRsByPeriod_pd"
   ]
  },
  {
   "cell_type": "code",
   "execution_count": 43,
   "id": "906c21bb",
   "metadata": {},
   "outputs": [
    {
     "data": {
      "image/png": "[encoded data removed]",
      "text/plain": [
       "<Figure size 600x400 with 1 Axes>"
      ]
     },
     "metadata": {
      "needs_background": "light"
     },
     "output_type": "display_data"
    }
   ],
   "source": [
    "# Graph Total ISSR Volume by 6-hour Period (all RAP Cells from 6/1/20 through 5/31/21)\n",
    "width = 0.5\n",
    "plt.figure(figsize=(6, 4), dpi=100)\n",
    "plt.bar(totISSRsByPeriod_pd['period'], totISSRsByPeriod_pd['iSSRs'], width)\n",
    "\n",
    "plt.title('Total ISSR Volume by 6-hour Period (all RAP Cells from 6/1/20 through 5/31/21)')\n",
    "plt.xlabel('Period')\n",
    "plt.ylabel('ISSR (cell-hours)')\n",
    "plt.xticks(rotation= 90)\n",
    "\n",
    "plt.show()"
   ]
  },
  {
   "cell_type": "markdown",
   "id": "85b028bb",
   "metadata": {},
   "source": [
    "%%time\n",
    "rap.filter(col('IsISSR') == 1).groupBy(col(\"FLevel\")).agg((sum(col(\"isISSR\")).alias(\"iSSRs\"))).show()"
   ]
  },
  {
   "cell_type": "markdown",
   "id": "4083eb94",
   "metadata": {},
   "source": [
    "%%time\n",
    "df.filter(df['IsISSR'] == 1).count()"
   ]
  },
  {
   "cell_type": "markdown",
   "id": "a3ded6ad",
   "metadata": {},
   "source": [
    "## 2. Join Datasets"
   ]
  },
  {
   "cell_type": "markdown",
   "id": "ba59ad59",
   "metadata": {},
   "source": [
    "### 2.1 NOAA RAP + ARTCC (Inner Join NOAA RAP with Single Layer ARTCC)"
   ]
  },
  {
   "cell_type": "code",
   "execution_count": 16,
   "id": "4b65479a",
   "metadata": {},
   "outputs": [
    {
     "name": "stdout",
     "output_type": "stream",
     "text": [
      "CPU times: user 22.4 ms, sys: 13.4 ms, total: 35.7 ms\n",
      "Wall time: 4min 49s\n"
     ]
    },
    {
     "data": {
      "text/plain": [
       "2864031300"
      ]
     },
     "execution_count": 16,
     "metadata": {},
     "output_type": "execute_result"
    }
   ],
   "source": [
    "%%time\n",
    "rap_centers = rap.join(centers, ['Nx', 'Ny'], \"inner\")\n",
    "rap_centers.count()"
   ]
  },
  {
   "cell_type": "code",
   "execution_count": 17,
   "id": "27e29eb7",
   "metadata": {},
   "outputs": [
    {
     "name": "stdout",
     "output_type": "stream",
     "text": [
      "+---+---+-------------------+---+------+------------------+------------------+-----------+------+------+-----+----+-----------------+----------+------+-----+-----+\n",
      "| Nx| Ny|           dateTime|hPa|FLevel|               Lat|               Lon|Temperature|RH_ice|IsISSR|month|hour|      altitude_ft|  dateOnly|period|IDENT| NAME|\n",
      "+---+---+-------------------+---+------+------------------+------------------+-----------+------+------+-----+----+-----------------+----------+------+-----+-----+\n",
      "|224| 28|2021-05-21 06:00:00|150|   440|24.166930399343176|-83.17034642802771|    207.523| 39.27|     0|    5|   6|44301.67362239071|2021-05-21|     6|  ZMA|MIAMI|\n",
      "|225| 28|2021-05-21 06:00:00|150|   440| 24.15087515658682|-82.97088525760823|    207.648|  37.0|     0|    5|   6|44301.67362239071|2021-05-21|     6|  ZMA|MIAMI|\n",
      "|226| 28|2021-05-21 06:00:00|150|   440| 24.13455228147526|-82.77147628585855|    207.711|  39.9|     0|    5|   6|44301.67362239071|2021-05-21|     6|  ZMA|MIAMI|\n",
      "|227| 28|2021-05-21 06:00:00|150|   440| 24.11796188467466|-82.57212035475895|    207.586| 45.95|     0|    5|   6|44301.67362239071|2021-05-21|     6|  ZMA|MIAMI|\n",
      "|228| 28|2021-05-21 06:00:00|150|   440| 24.10110407871657|-82.37281830492417|    207.461| 52.92|     0|    5|   6|44301.67362239071|2021-05-21|     6|  ZMA|MIAMI|\n",
      "+---+---+-------------------+---+------+------------------+------------------+-----------+------+------+-----+----+-----------------+----------+------+-----+-----+\n",
      "only showing top 5 rows\n",
      "\n"
     ]
    }
   ],
   "source": [
    "rap_centers.show(5)"
   ]
  },
  {
   "cell_type": "markdown",
   "id": "fb88df3a",
   "metadata": {},
   "source": [
    "df_centers = df_centers.withColumn(\"dateOnly\", to_date(col(\"dateTime\")))\n",
    "\n",
    "udf2 = udf(lambda x: x//6 * 6)\n",
    "#df_centers.select('hour', udf2('hour').alias('period')).show(5)\n",
    "df_centers = df_centers.withColumn(\"period\", udf2(col('hour')))\n",
    "\n",
    "df_centers.show(5)"
   ]
  },
  {
   "cell_type": "markdown",
   "id": "213d0f86",
   "metadata": {},
   "source": [
    "### 2.2 NOAA RAP + ADSB (Left Join NOAA RAP with Hourly Non-Zero Plane Counts In Cells)"
   ]
  },
  {
   "cell_type": "code",
   "execution_count": 19,
   "id": "62db3588",
   "metadata": {},
   "outputs": [
    {
     "name": "stdout",
     "output_type": "stream",
     "text": [
      "CPU times: user 38.4 ms, sys: 15.6 ms, total: 54.1 ms\n",
      "Wall time: 10min 37s\n"
     ]
    },
    {
     "data": {
      "text/plain": [
       "7659697500"
      ]
     },
     "execution_count": 19,
     "metadata": {},
     "output_type": "execute_result"
    }
   ],
   "source": [
    "%%time\n",
    "rap_planes = rap.join(hourlyPlaneCountsInCells, ['Nx', 'Ny', 'hPa', 'hour'], \"left_outer\")\n",
    "\n",
    "rap_planes = rap_planes.withColumn(\"hourlyPlanesInISSR\", (col(\"IsISSR\") * col(\"hourlyPlanesInCells\")))\n",
    "rap_planes.count()"
   ]
  },
  {
   "cell_type": "code",
   "execution_count": 20,
   "id": "78144ab1",
   "metadata": {},
   "outputs": [
    {
     "name": "stdout",
     "output_type": "stream",
     "text": [
      "+---+---+---+----+-------------------+------+------------------+-------------------+-----------+------+------+-----+-----------------+----------+------+-------------------+------------------+\n",
      "| Nx| Ny|hPa|hour|           dateTime|FLevel|               Lat|                Lon|Temperature|RH_ice|IsISSR|month|      altitude_ft|  dateOnly|period|hourlyPlanesInCells|hourlyPlanesInISSR|\n",
      "+---+---+---+----+-------------------+------+------------------+-------------------+-----------+------+------+-----+-----------------+----------+------+-------------------+------------------+\n",
      "|  1|  1|150|   6|2021-05-21 06:00:00|   440|16.280999999999988|-126.13800000000002|    203.586| 76.34|     0|    5|44301.67362239071|2021-05-21|     6|               null|              null|\n",
      "|  2|  1|150|   6|2021-05-21 06:00:00|   440|16.322011282850546|-125.95468351809222|    203.711| 76.53|     0|    5|44301.67362239071|2021-05-21|     6|               null|              null|\n",
      "|  3|  1|150|   6|2021-05-21 06:00:00|   440|  16.3627888393447|-125.77125176429101|    203.836| 74.86|     0|    5|44301.67362239071|2021-05-21|     6|               null|              null|\n",
      "|  4|  1|150|   6|2021-05-21 06:00:00|   440| 16.40333235182454|-125.58770530205761|    203.961| 72.31|     0|    5|44301.67362239071|2021-05-21|     6|               null|              null|\n",
      "|  5|  1|150|   6|2021-05-21 06:00:00|   440| 16.44364150464794|-125.40404469724044|    204.086| 69.52|     0|    5|44301.67362239071|2021-05-21|     6|               null|              null|\n",
      "+---+---+---+----+-------------------+------+------------------+-------------------+-----------+------+------+-----+-----------------+----------+------+-------------------+------------------+\n",
      "only showing top 5 rows\n",
      "\n"
     ]
    }
   ],
   "source": [
    "rap_planes.show(5)"
   ]
  },
  {
   "cell_type": "markdown",
   "id": "9edbc56a",
   "metadata": {},
   "source": [
    "### 2.3 NOAA RAP + ARTCC + ADSB (Left Join \"df_centers\" in 2.1 with Hourly Non-Zero Plane Counts In Cells in 1.1)"
   ]
  },
  {
   "cell_type": "code",
   "execution_count": 18,
   "id": "5973685b",
   "metadata": {},
   "outputs": [
    {
     "name": "stdout",
     "output_type": "stream",
     "text": [
      "CPU times: user 42.8 ms, sys: 25.1 ms, total: 67.9 ms\n",
      "Wall time: 9min 11s\n"
     ]
    },
    {
     "data": {
      "text/plain": [
       "2864031300"
      ]
     },
     "execution_count": 18,
     "metadata": {},
     "output_type": "execute_result"
    }
   ],
   "source": [
    "%%time\n",
    "rap_centers_planes = rap_centers.join(hourlyPlaneCountsInCells, ['Nx', 'Ny', 'hPa', 'hour'], \"left_outer\")\n",
    "\n",
    "rap_centers_planes = rap_centers_planes.withColumn(\"hourlyPlanesInISSR\", (col(\"IsISSR\") * col(\"hourlyPlanesInCells\")))\n",
    "rap_centers_planes.count()"
   ]
  },
  {
   "cell_type": "code",
   "execution_count": 19,
   "id": "93320986",
   "metadata": {},
   "outputs": [
    {
     "name": "stdout",
     "output_type": "stream",
     "text": [
      "+---+---+---+----+-------------------+------+------------------+------------------+-----------+------+------+-----+-----------------+----------+------+-----+-----+-------------------+------------------+\n",
      "| Nx| Ny|hPa|hour|           dateTime|FLevel|               Lat|               Lon|Temperature|RH_ice|IsISSR|month|      altitude_ft|  dateOnly|period|IDENT| NAME|hourlyPlanesInCells|hourlyPlanesInISSR|\n",
      "+---+---+---+----+-------------------+------+------------------+------------------+-----------+------+------+-----+-----------------+----------+------+-----+-----+-------------------+------------------+\n",
      "|224| 28|150|   6|2021-05-21 06:00:00|   440|24.166930399343176|-83.17034642802771|    207.523| 39.27|     0|    5|44301.67362239071|2021-05-21|     6|  ZMA|MIAMI|               null|              null|\n",
      "|225| 28|150|   6|2021-05-21 06:00:00|   440| 24.15087515658682|-82.97088525760823|    207.648|  37.0|     0|    5|44301.67362239071|2021-05-21|     6|  ZMA|MIAMI|               null|              null|\n",
      "|226| 28|150|   6|2021-05-21 06:00:00|   440| 24.13455228147526|-82.77147628585855|    207.711|  39.9|     0|    5|44301.67362239071|2021-05-21|     6|  ZMA|MIAMI|               null|              null|\n",
      "|227| 28|150|   6|2021-05-21 06:00:00|   440| 24.11796188467466|-82.57212035475895|    207.586| 45.95|     0|    5|44301.67362239071|2021-05-21|     6|  ZMA|MIAMI|               null|              null|\n",
      "|228| 28|150|   6|2021-05-21 06:00:00|   440| 24.10110407871657|-82.37281830492417|    207.461| 52.92|     0|    5|44301.67362239071|2021-05-21|     6|  ZMA|MIAMI|               null|              null|\n",
      "|229| 28|150|   6|2021-05-21 06:00:00|   440| 24.08397897799963|-82.17357097558329|    207.273| 58.12|     0|    5|44301.67362239071|2021-05-21|     6|  ZMA|MIAMI|               null|              null|\n",
      "|230| 28|150|   6|2021-05-21 06:00:00|   440|  24.0665866987911|  -81.974379204559|    207.273| 61.94|     0|    5|44301.67362239071|2021-05-21|     6|  ZMA|MIAMI|               null|              null|\n",
      "|231| 28|150|   6|2021-05-21 06:00:00|   440|24.048927359228983|-81.77524382824737|    207.273| 64.18|     0|    5|44301.67362239071|2021-05-21|     6|  ZMA|MIAMI|               null|              null|\n",
      "|232| 28|150|   6|2021-05-21 06:00:00|   440|24.031001079323385|-81.57616568159754|    207.273| 65.52|     0|    5|44301.67362239071|2021-05-21|     6|  ZMA|MIAMI|               null|              null|\n",
      "|233| 28|150|   6|2021-05-21 06:00:00|   440|24.012807980958584|-81.37714559809156|    207.273| 66.86|     0|    5|44301.67362239071|2021-05-21|     6|  ZMA|MIAMI|               null|              null|\n",
      "+---+---+---+----+-------------------+------+------------------+------------------+-----------+------+------+-----+-----------------+----------+------+-----+-----+-------------------+------------------+\n",
      "only showing top 10 rows\n",
      "\n"
     ]
    }
   ],
   "source": [
    "rap_centers_planes.show(10)"
   ]
  },
  {
   "cell_type": "markdown",
   "id": "80d9dbc6",
   "metadata": {},
   "source": [
    "==================================================================================================="
   ]
  },
  {
   "cell_type": "markdown",
   "id": "3d446e5e",
   "metadata": {},
   "source": [
    "## 3. Analysis"
   ]
  },
  {
   "cell_type": "markdown",
   "id": "ab671bba",
   "metadata": {},
   "source": [
    "### 3.1 Periodic (6-Hour) ISSR Cell Counts by Center (used \"rap_centers\" in 2.1)"
   ]
  },
  {
   "cell_type": "code",
   "execution_count": 23,
   "id": "9464bb39",
   "metadata": {},
   "outputs": [
    {
     "name": "stdout",
     "output_type": "stream",
     "text": [
      "+---+---+-------------------+---+------+------------------+------------------+-----------+------+------+-----+----+-----------------+----------+------+-----+-----+\n",
      "| Nx| Ny|           dateTime|hPa|FLevel|               Lat|               Lon|Temperature|RH_ice|IsISSR|month|hour|      altitude_ft|  dateOnly|period|IDENT| NAME|\n",
      "+---+---+-------------------+---+------+------------------+------------------+-----------+------+------+-----+----+-----------------+----------+------+-----+-----+\n",
      "|224| 28|2021-05-21 06:00:00|150|   440|24.166930399343176|-83.17034642802771|    207.523| 39.27|     0|    5|   6|44301.67362239071|2021-05-21|     6|  ZMA|MIAMI|\n",
      "|225| 28|2021-05-21 06:00:00|150|   440| 24.15087515658682|-82.97088525760823|    207.648|  37.0|     0|    5|   6|44301.67362239071|2021-05-21|     6|  ZMA|MIAMI|\n",
      "|226| 28|2021-05-21 06:00:00|150|   440| 24.13455228147526|-82.77147628585855|    207.711|  39.9|     0|    5|   6|44301.67362239071|2021-05-21|     6|  ZMA|MIAMI|\n",
      "|227| 28|2021-05-21 06:00:00|150|   440| 24.11796188467466|-82.57212035475895|    207.586| 45.95|     0|    5|   6|44301.67362239071|2021-05-21|     6|  ZMA|MIAMI|\n",
      "|228| 28|2021-05-21 06:00:00|150|   440| 24.10110407871657|-82.37281830492417|    207.461| 52.92|     0|    5|   6|44301.67362239071|2021-05-21|     6|  ZMA|MIAMI|\n",
      "+---+---+-------------------+---+------+------------------+------------------+-----------+------+------+-----+----+-----------------+----------+------+-----+-----+\n",
      "only showing top 5 rows\n",
      "\n"
     ]
    }
   ],
   "source": [
    "rap_centers.show(5)"
   ]
  },
  {
   "cell_type": "code",
   "execution_count": 24,
   "id": "c12adbd0",
   "metadata": {},
   "outputs": [
    {
     "name": "stdout",
     "output_type": "stream",
     "text": [
      "CPU times: user 262 ms, sys: 38 ms, total: 300 ms\n",
      "Wall time: 6min 53s\n"
     ]
    },
    {
     "data": {
      "text/html": [
       "<div>\n",
       "<style scoped>\n",
       "    .dataframe tbody tr th:only-of-type {\n",
       "        vertical-align: middle;\n",
       "    }\n",
       "\n",
       "    .dataframe tbody tr th {\n",
       "        vertical-align: top;\n",
       "    }\n",
       "\n",
       "    .dataframe thead th {\n",
       "        text-align: right;\n",
       "    }\n",
       "</style>\n",
       "<table border=\"1\" class=\"dataframe\">\n",
       "  <thead>\n",
       "    <tr style=\"text-align: right;\">\n",
       "      <th></th>\n",
       "      <th>dateOnly</th>\n",
       "      <th>period</th>\n",
       "      <th>NAME</th>\n",
       "      <th>iSSRs</th>\n",
       "    </tr>\n",
       "  </thead>\n",
       "  <tbody>\n",
       "    <tr>\n",
       "      <th>0</th>\n",
       "      <td>2020-12-24</td>\n",
       "      <td>12</td>\n",
       "      <td>ATLANTA</td>\n",
       "      <td>10898</td>\n",
       "    </tr>\n",
       "    <tr>\n",
       "      <th>1</th>\n",
       "      <td>2021-03-29</td>\n",
       "      <td>12</td>\n",
       "      <td>ALBUQUERQUE</td>\n",
       "      <td>162</td>\n",
       "    </tr>\n",
       "    <tr>\n",
       "      <th>2</th>\n",
       "      <td>2020-12-24</td>\n",
       "      <td>6</td>\n",
       "      <td>NEW YORK</td>\n",
       "      <td>889</td>\n",
       "    </tr>\n",
       "    <tr>\n",
       "      <th>3</th>\n",
       "      <td>2021-01-02</td>\n",
       "      <td>6</td>\n",
       "      <td>SALT LAKE CITY</td>\n",
       "      <td>4495</td>\n",
       "    </tr>\n",
       "    <tr>\n",
       "      <th>4</th>\n",
       "      <td>2021-03-01</td>\n",
       "      <td>18</td>\n",
       "      <td>ATLANTA</td>\n",
       "      <td>2508</td>\n",
       "    </tr>\n",
       "    <tr>\n",
       "      <th>...</th>\n",
       "      <td>...</td>\n",
       "      <td>...</td>\n",
       "      <td>...</td>\n",
       "      <td>...</td>\n",
       "    </tr>\n",
       "    <tr>\n",
       "      <th>23320</th>\n",
       "      <td>2020-07-21</td>\n",
       "      <td>0</td>\n",
       "      <td>MINNEAPOLIS</td>\n",
       "      <td>3806</td>\n",
       "    </tr>\n",
       "    <tr>\n",
       "      <th>23321</th>\n",
       "      <td>2020-07-04</td>\n",
       "      <td>18</td>\n",
       "      <td>HOUSTON</td>\n",
       "      <td>905</td>\n",
       "    </tr>\n",
       "    <tr>\n",
       "      <th>23322</th>\n",
       "      <td>2021-01-22</td>\n",
       "      <td>12</td>\n",
       "      <td>WASHINGTON</td>\n",
       "      <td>449</td>\n",
       "    </tr>\n",
       "    <tr>\n",
       "      <th>23323</th>\n",
       "      <td>2020-07-27</td>\n",
       "      <td>18</td>\n",
       "      <td>WASHINGTON</td>\n",
       "      <td>34</td>\n",
       "    </tr>\n",
       "    <tr>\n",
       "      <th>23324</th>\n",
       "      <td>2020-07-30</td>\n",
       "      <td>12</td>\n",
       "      <td>ATLANTA</td>\n",
       "      <td>624</td>\n",
       "    </tr>\n",
       "  </tbody>\n",
       "</table>\n",
       "<p>23325 rows × 4 columns</p>\n",
       "</div>"
      ],
      "text/plain": [
       "         dateOnly period            NAME  iSSRs\n",
       "0      2020-12-24     12         ATLANTA  10898\n",
       "1      2021-03-29     12     ALBUQUERQUE    162\n",
       "2      2020-12-24      6        NEW YORK    889\n",
       "3      2021-01-02      6  SALT LAKE CITY   4495\n",
       "4      2021-03-01     18         ATLANTA   2508\n",
       "...           ...    ...             ...    ...\n",
       "23320  2020-07-21      0     MINNEAPOLIS   3806\n",
       "23321  2020-07-04     18         HOUSTON    905\n",
       "23322  2021-01-22     12      WASHINGTON    449\n",
       "23323  2020-07-27     18      WASHINGTON     34\n",
       "23324  2020-07-30     12         ATLANTA    624\n",
       "\n",
       "[23325 rows x 4 columns]"
      ]
     },
     "execution_count": 24,
     "metadata": {},
     "output_type": "execute_result"
    }
   ],
   "source": [
    "%%time\n",
    "issrPeriodByCenter = rap_centers.filter(col('IsISSR') == 1)\\\n",
    "                                .groupBy(col(\"dateOnly\"), col(\"period\"), col(\"NAME\"))\\\n",
    "                                .agg((sum(col(\"isISSR\")).alias(\"iSSRs\")))\n",
    "\n",
    "issrPeriodByCenter_pd = issrPeriodByCenter.toPandas()\n",
    "issrPeriodByCenter_pd"
   ]
  },
  {
   "cell_type": "code",
   "execution_count": 25,
   "id": "67f9e06b",
   "metadata": {},
   "outputs": [
    {
     "data": {
      "text/html": [
       "<div>\n",
       "<style scoped>\n",
       "    .dataframe tbody tr th:only-of-type {\n",
       "        vertical-align: middle;\n",
       "    }\n",
       "\n",
       "    .dataframe tbody tr th {\n",
       "        vertical-align: top;\n",
       "    }\n",
       "\n",
       "    .dataframe thead th {\n",
       "        text-align: right;\n",
       "    }\n",
       "</style>\n",
       "<table border=\"1\" class=\"dataframe\">\n",
       "  <thead>\n",
       "    <tr style=\"text-align: right;\">\n",
       "      <th></th>\n",
       "      <th>dateOnly</th>\n",
       "      <th>period</th>\n",
       "      <th>NAME</th>\n",
       "      <th>iSSRs</th>\n",
       "      <th>DateTime</th>\n",
       "    </tr>\n",
       "  </thead>\n",
       "  <tbody>\n",
       "    <tr>\n",
       "      <th>0</th>\n",
       "      <td>2020-12-24</td>\n",
       "      <td>12</td>\n",
       "      <td>ATLANTA</td>\n",
       "      <td>10898</td>\n",
       "      <td>2020-12-24 12:00:00</td>\n",
       "    </tr>\n",
       "    <tr>\n",
       "      <th>1</th>\n",
       "      <td>2021-03-29</td>\n",
       "      <td>12</td>\n",
       "      <td>ALBUQUERQUE</td>\n",
       "      <td>162</td>\n",
       "      <td>2021-03-29 12:00:00</td>\n",
       "    </tr>\n",
       "    <tr>\n",
       "      <th>2</th>\n",
       "      <td>2020-12-24</td>\n",
       "      <td>6</td>\n",
       "      <td>NEW YORK</td>\n",
       "      <td>889</td>\n",
       "      <td>2020-12-24 06:00:00</td>\n",
       "    </tr>\n",
       "    <tr>\n",
       "      <th>3</th>\n",
       "      <td>2021-01-02</td>\n",
       "      <td>6</td>\n",
       "      <td>SALT LAKE CITY</td>\n",
       "      <td>4495</td>\n",
       "      <td>2021-01-02 06:00:00</td>\n",
       "    </tr>\n",
       "    <tr>\n",
       "      <th>4</th>\n",
       "      <td>2021-03-01</td>\n",
       "      <td>18</td>\n",
       "      <td>ATLANTA</td>\n",
       "      <td>2508</td>\n",
       "      <td>2021-03-01 18:00:00</td>\n",
       "    </tr>\n",
       "    <tr>\n",
       "      <th>...</th>\n",
       "      <td>...</td>\n",
       "      <td>...</td>\n",
       "      <td>...</td>\n",
       "      <td>...</td>\n",
       "      <td>...</td>\n",
       "    </tr>\n",
       "    <tr>\n",
       "      <th>23320</th>\n",
       "      <td>2020-07-21</td>\n",
       "      <td>0</td>\n",
       "      <td>MINNEAPOLIS</td>\n",
       "      <td>3806</td>\n",
       "      <td>2020-07-21 00:00:00</td>\n",
       "    </tr>\n",
       "    <tr>\n",
       "      <th>23321</th>\n",
       "      <td>2020-07-04</td>\n",
       "      <td>18</td>\n",
       "      <td>HOUSTON</td>\n",
       "      <td>905</td>\n",
       "      <td>2020-07-04 18:00:00</td>\n",
       "    </tr>\n",
       "    <tr>\n",
       "      <th>23322</th>\n",
       "      <td>2021-01-22</td>\n",
       "      <td>12</td>\n",
       "      <td>WASHINGTON</td>\n",
       "      <td>449</td>\n",
       "      <td>2021-01-22 12:00:00</td>\n",
       "    </tr>\n",
       "    <tr>\n",
       "      <th>23323</th>\n",
       "      <td>2020-07-27</td>\n",
       "      <td>18</td>\n",
       "      <td>WASHINGTON</td>\n",
       "      <td>34</td>\n",
       "      <td>2020-07-27 18:00:00</td>\n",
       "    </tr>\n",
       "    <tr>\n",
       "      <th>23324</th>\n",
       "      <td>2020-07-30</td>\n",
       "      <td>12</td>\n",
       "      <td>ATLANTA</td>\n",
       "      <td>624</td>\n",
       "      <td>2020-07-30 12:00:00</td>\n",
       "    </tr>\n",
       "  </tbody>\n",
       "</table>\n",
       "<p>23325 rows × 5 columns</p>\n",
       "</div>"
      ],
      "text/plain": [
       "         dateOnly period            NAME  iSSRs            DateTime\n",
       "0      2020-12-24     12         ATLANTA  10898 2020-12-24 12:00:00\n",
       "1      2021-03-29     12     ALBUQUERQUE    162 2021-03-29 12:00:00\n",
       "2      2020-12-24      6        NEW YORK    889 2020-12-24 06:00:00\n",
       "3      2021-01-02      6  SALT LAKE CITY   4495 2021-01-02 06:00:00\n",
       "4      2021-03-01     18         ATLANTA   2508 2021-03-01 18:00:00\n",
       "...           ...    ...             ...    ...                 ...\n",
       "23320  2020-07-21      0     MINNEAPOLIS   3806 2020-07-21 00:00:00\n",
       "23321  2020-07-04     18         HOUSTON    905 2020-07-04 18:00:00\n",
       "23322  2021-01-22     12      WASHINGTON    449 2021-01-22 12:00:00\n",
       "23323  2020-07-27     18      WASHINGTON     34 2020-07-27 18:00:00\n",
       "23324  2020-07-30     12         ATLANTA    624 2020-07-30 12:00:00\n",
       "\n",
       "[23325 rows x 5 columns]"
      ]
     },
     "execution_count": 25,
     "metadata": {},
     "output_type": "execute_result"
    }
   ],
   "source": [
    "issrPeriodByCenter_pd['DateTime'] = [pd.Timestamp(issrPeriodByCenter_pd['dateOnly'][i]) + timedelta(hours= int(issrPeriodByCenter_pd['period'][i])) for i in range(len(issrPeriodByCenter_pd))]\n",
    "issrPeriodByCenter_pd"
   ]
  },
  {
   "cell_type": "markdown",
   "id": "e6312596",
   "metadata": {},
   "source": [
    "output_bucket = 'partly-cloudy-common-area'\n",
    "outputFileName = 'issrPeriodByCenter_pd.csv' \n",
    "wr.s3.to_csv(issrPeriodByCenter_pd, f\"s3://{output_bucket}/{outputFileName}\", index=False)"
   ]
  },
  {
   "cell_type": "markdown",
   "id": "badfdba1",
   "metadata": {},
   "source": [
    "### 3.2 Daily ISSR Cell Counts by Center (used \"rap_centers\" in 2.1)"
   ]
  },
  {
   "cell_type": "code",
   "execution_count": 26,
   "id": "75cff67e",
   "metadata": {},
   "outputs": [
    {
     "name": "stdout",
     "output_type": "stream",
     "text": [
      "CPU times: user 57.4 ms, sys: 6.26 ms, total: 63.7 ms\n",
      "Wall time: 6min 29s\n"
     ]
    }
   ],
   "source": [
    "%%time\n",
    "issrDailyByCenter = rap_centers.filter(col('IsISSR') == 1)\\\n",
    "                                .groupBy(col(\"dateOnly\"), col(\"NAME\"))\\\n",
    "                                .agg((sum(col(\"isISSR\")).alias(\"iSSRs\")))\n",
    "\n",
    "issrDailyByCenter_pd = issrDailyByCenter.toPandas()"
   ]
  },
  {
   "cell_type": "code",
   "execution_count": 27,
   "id": "355eb0fc",
   "metadata": {},
   "outputs": [
    {
     "data": {
      "text/html": [
       "<div>\n",
       "<style scoped>\n",
       "    .dataframe tbody tr th:only-of-type {\n",
       "        vertical-align: middle;\n",
       "    }\n",
       "\n",
       "    .dataframe tbody tr th {\n",
       "        vertical-align: top;\n",
       "    }\n",
       "\n",
       "    .dataframe thead th {\n",
       "        text-align: right;\n",
       "    }\n",
       "</style>\n",
       "<table border=\"1\" class=\"dataframe\">\n",
       "  <thead>\n",
       "    <tr style=\"text-align: right;\">\n",
       "      <th></th>\n",
       "      <th>dateOnly</th>\n",
       "      <th>NAME</th>\n",
       "      <th>iSSRs</th>\n",
       "    </tr>\n",
       "  </thead>\n",
       "  <tbody>\n",
       "    <tr>\n",
       "      <th>0</th>\n",
       "      <td>2020-12-07</td>\n",
       "      <td>SALT LAKE CITY</td>\n",
       "      <td>3982</td>\n",
       "    </tr>\n",
       "    <tr>\n",
       "      <th>1</th>\n",
       "      <td>2021-04-11</td>\n",
       "      <td>BOSTON</td>\n",
       "      <td>5663</td>\n",
       "    </tr>\n",
       "    <tr>\n",
       "      <th>2</th>\n",
       "      <td>2020-12-17</td>\n",
       "      <td>CLEVELAND</td>\n",
       "      <td>2395</td>\n",
       "    </tr>\n",
       "    <tr>\n",
       "      <th>3</th>\n",
       "      <td>2021-04-26</td>\n",
       "      <td>DENVER</td>\n",
       "      <td>8745</td>\n",
       "    </tr>\n",
       "    <tr>\n",
       "      <th>4</th>\n",
       "      <td>2020-06-09</td>\n",
       "      <td>SALT LAKE CITY</td>\n",
       "      <td>1473</td>\n",
       "    </tr>\n",
       "    <tr>\n",
       "      <th>...</th>\n",
       "      <td>...</td>\n",
       "      <td>...</td>\n",
       "      <td>...</td>\n",
       "    </tr>\n",
       "    <tr>\n",
       "      <th>6726</th>\n",
       "      <td>2020-06-17</td>\n",
       "      <td>JACKSONVILLE</td>\n",
       "      <td>17</td>\n",
       "    </tr>\n",
       "    <tr>\n",
       "      <th>6727</th>\n",
       "      <td>2020-08-14</td>\n",
       "      <td>SEATTLE</td>\n",
       "      <td>85</td>\n",
       "    </tr>\n",
       "    <tr>\n",
       "      <th>6728</th>\n",
       "      <td>2020-08-23</td>\n",
       "      <td>INDIANAPOLIS</td>\n",
       "      <td>352</td>\n",
       "    </tr>\n",
       "    <tr>\n",
       "      <th>6729</th>\n",
       "      <td>2020-08-24</td>\n",
       "      <td>INDIANAPOLIS</td>\n",
       "      <td>91</td>\n",
       "    </tr>\n",
       "    <tr>\n",
       "      <th>6730</th>\n",
       "      <td>2020-07-20</td>\n",
       "      <td>MIAMI</td>\n",
       "      <td>462</td>\n",
       "    </tr>\n",
       "  </tbody>\n",
       "</table>\n",
       "<p>6731 rows × 3 columns</p>\n",
       "</div>"
      ],
      "text/plain": [
       "        dateOnly            NAME  iSSRs\n",
       "0     2020-12-07  SALT LAKE CITY   3982\n",
       "1     2021-04-11         BOSTON    5663\n",
       "2     2020-12-17      CLEVELAND    2395\n",
       "3     2021-04-26          DENVER   8745\n",
       "4     2020-06-09  SALT LAKE CITY   1473\n",
       "...          ...             ...    ...\n",
       "6726  2020-06-17    JACKSONVILLE     17\n",
       "6727  2020-08-14         SEATTLE     85\n",
       "6728  2020-08-23    INDIANAPOLIS    352\n",
       "6729  2020-08-24    INDIANAPOLIS     91\n",
       "6730  2020-07-20           MIAMI    462\n",
       "\n",
       "[6731 rows x 3 columns]"
      ]
     },
     "execution_count": 27,
     "metadata": {},
     "output_type": "execute_result"
    }
   ],
   "source": [
    "issrDailyByCenter_pd"
   ]
  },
  {
   "cell_type": "markdown",
   "id": "b4bb2739",
   "metadata": {},
   "source": [
    "output_bucket = 'partly-cloudy-common-area'\n",
    "outputFileName = 'issrDailyByCenter_pd.csv' \n",
    "wr.s3.to_csv(issrDailyByCenter_pd, f\"s3://{output_bucket}/{outputFileName}\", index=False)"
   ]
  },
  {
   "cell_type": "markdown",
   "id": "b15cb2c7",
   "metadata": {},
   "source": [
    "==================================================================================================="
   ]
  },
  {
   "cell_type": "markdown",
   "id": "15ee0e3f",
   "metadata": {},
   "source": [
    "### 3.3 Hourly Plane Counts in ISSR Cells (used \"rap_planes\" in 2.2)"
   ]
  },
  {
   "cell_type": "code",
   "execution_count": 28,
   "id": "22d51c75",
   "metadata": {},
   "outputs": [
    {
     "name": "stdout",
     "output_type": "stream",
     "text": [
      "+---+---+---+----+-------------------+------+------------------+-------------------+-----------+------+------+-----+-----------------+----------+------+-------------------+------------------+\n",
      "| Nx| Ny|hPa|hour|           dateTime|FLevel|               Lat|                Lon|Temperature|RH_ice|IsISSR|month|      altitude_ft|  dateOnly|period|hourlyPlanesInCells|hourlyPlanesInISSR|\n",
      "+---+---+---+----+-------------------+------+------------------+-------------------+-----------+------+------+-----+-----------------+----------+------+-------------------+------------------+\n",
      "|  1|  1|150|   6|2021-05-21 06:00:00|   440|16.280999999999988|-126.13800000000002|    203.586| 76.34|     0|    5|44301.67362239071|2021-05-21|     6|               null|              null|\n",
      "|  2|  1|150|   6|2021-05-21 06:00:00|   440|16.322011282850546|-125.95468351809222|    203.711| 76.53|     0|    5|44301.67362239071|2021-05-21|     6|               null|              null|\n",
      "|  3|  1|150|   6|2021-05-21 06:00:00|   440|  16.3627888393447|-125.77125176429101|    203.836| 74.86|     0|    5|44301.67362239071|2021-05-21|     6|               null|              null|\n",
      "|  4|  1|150|   6|2021-05-21 06:00:00|   440| 16.40333235182454|-125.58770530205761|    203.961| 72.31|     0|    5|44301.67362239071|2021-05-21|     6|               null|              null|\n",
      "|  5|  1|150|   6|2021-05-21 06:00:00|   440| 16.44364150464794|-125.40404469724044|    204.086| 69.52|     0|    5|44301.67362239071|2021-05-21|     6|               null|              null|\n",
      "+---+---+---+----+-------------------+------+------------------+-------------------+-----------+------+------+-----+-----------------+----------+------+-------------------+------------------+\n",
      "only showing top 5 rows\n",
      "\n"
     ]
    }
   ],
   "source": [
    "rap_planes.show(5)"
   ]
  },
  {
   "cell_type": "markdown",
   "id": "b33e5370",
   "metadata": {},
   "source": [
    "%%time\n",
    "df_planes.filter(df_planes['hourlyPlanesInISSR'] > 0).count()"
   ]
  },
  {
   "cell_type": "code",
   "execution_count": 29,
   "id": "0ee293d0",
   "metadata": {},
   "outputs": [
    {
     "name": "stdout",
     "output_type": "stream",
     "text": [
      "CPU times: user 286 ms, sys: 1.84 ms, total: 287 ms\n",
      "Wall time: 7min 1s\n"
     ]
    }
   ],
   "source": [
    "%%time\n",
    "\n",
    "issrPlanesHourly = rap_planes.filter(col('IsISSR') == 1)\\\n",
    "                            .groupBy(col(\"dateTime\")) \\\n",
    "                            .agg((sum(col(\"hourlyPlanesInISSR\")).alias(\"PlanesInISSR\")),\n",
    "                                 (sum(col(\"isISSR\")).alias(\"iSSRs\")))\n",
    "                                             \n",
    "issrPlanesHourly = issrPlanesHourly.toPandas()"
   ]
  },
  {
   "cell_type": "code",
   "execution_count": 30,
   "id": "8c659024",
   "metadata": {},
   "outputs": [
    {
     "data": {
      "text/html": [
       "<div>\n",
       "<style scoped>\n",
       "    .dataframe tbody tr th:only-of-type {\n",
       "        vertical-align: middle;\n",
       "    }\n",
       "\n",
       "    .dataframe tbody tr th {\n",
       "        vertical-align: top;\n",
       "    }\n",
       "\n",
       "    .dataframe thead th {\n",
       "        text-align: right;\n",
       "    }\n",
       "</style>\n",
       "<table border=\"1\" class=\"dataframe\">\n",
       "  <thead>\n",
       "    <tr style=\"text-align: right;\">\n",
       "      <th></th>\n",
       "      <th>dateTime</th>\n",
       "      <th>PlanesInISSR</th>\n",
       "      <th>iSSRs</th>\n",
       "    </tr>\n",
       "  </thead>\n",
       "  <tbody>\n",
       "    <tr>\n",
       "      <th>0</th>\n",
       "      <td>2021-03-30 03:00:00</td>\n",
       "      <td>263.0</td>\n",
       "      <td>7226</td>\n",
       "    </tr>\n",
       "    <tr>\n",
       "      <th>1</th>\n",
       "      <td>2020-12-24 11:00:00</td>\n",
       "      <td>2354.0</td>\n",
       "      <td>21674</td>\n",
       "    </tr>\n",
       "    <tr>\n",
       "      <th>2</th>\n",
       "      <td>2021-05-19 17:00:00</td>\n",
       "      <td>601.0</td>\n",
       "      <td>3306</td>\n",
       "    </tr>\n",
       "    <tr>\n",
       "      <th>3</th>\n",
       "      <td>2020-10-05 08:00:00</td>\n",
       "      <td>383.0</td>\n",
       "      <td>34426</td>\n",
       "    </tr>\n",
       "    <tr>\n",
       "      <th>4</th>\n",
       "      <td>2021-02-04 02:00:00</td>\n",
       "      <td>480.0</td>\n",
       "      <td>6431</td>\n",
       "    </tr>\n",
       "    <tr>\n",
       "      <th>...</th>\n",
       "      <td>...</td>\n",
       "      <td>...</td>\n",
       "      <td>...</td>\n",
       "    </tr>\n",
       "    <tr>\n",
       "      <th>8695</th>\n",
       "      <td>2020-08-11 16:00:00</td>\n",
       "      <td>284.0</td>\n",
       "      <td>2377</td>\n",
       "    </tr>\n",
       "    <tr>\n",
       "      <th>8696</th>\n",
       "      <td>2020-07-31 21:00:00</td>\n",
       "      <td>753.0</td>\n",
       "      <td>4146</td>\n",
       "    </tr>\n",
       "    <tr>\n",
       "      <th>8697</th>\n",
       "      <td>2021-02-08 11:00:00</td>\n",
       "      <td>23.0</td>\n",
       "      <td>8816</td>\n",
       "    </tr>\n",
       "    <tr>\n",
       "      <th>8698</th>\n",
       "      <td>2020-07-08 09:00:00</td>\n",
       "      <td>204.0</td>\n",
       "      <td>8328</td>\n",
       "    </tr>\n",
       "    <tr>\n",
       "      <th>8699</th>\n",
       "      <td>2020-07-19 08:00:00</td>\n",
       "      <td>189.0</td>\n",
       "      <td>4364</td>\n",
       "    </tr>\n",
       "  </tbody>\n",
       "</table>\n",
       "<p>8700 rows × 3 columns</p>\n",
       "</div>"
      ],
      "text/plain": [
       "                dateTime  PlanesInISSR  iSSRs\n",
       "0    2021-03-30 03:00:00         263.0   7226\n",
       "1    2020-12-24 11:00:00        2354.0  21674\n",
       "2    2021-05-19 17:00:00         601.0   3306\n",
       "3    2020-10-05 08:00:00         383.0  34426\n",
       "4    2021-02-04 02:00:00         480.0   6431\n",
       "...                  ...           ...    ...\n",
       "8695 2020-08-11 16:00:00         284.0   2377\n",
       "8696 2020-07-31 21:00:00         753.0   4146\n",
       "8697 2021-02-08 11:00:00          23.0   8816\n",
       "8698 2020-07-08 09:00:00         204.0   8328\n",
       "8699 2020-07-19 08:00:00         189.0   4364\n",
       "\n",
       "[8700 rows x 3 columns]"
      ]
     },
     "execution_count": 30,
     "metadata": {},
     "output_type": "execute_result"
    }
   ],
   "source": [
    "issrPlanesHourly"
   ]
  },
  {
   "cell_type": "markdown",
   "id": "b73733e2",
   "metadata": {},
   "source": [
    "output_bucket = 'partly-cloudy-common-area'\n",
    "outputFileName = 'issrPlanesHourly.csv' \n",
    "wr.s3.to_csv(issrPlanesHourly, f\"s3://{output_bucket}/{outputFileName}\", index=False)"
   ]
  },
  {
   "cell_type": "markdown",
   "id": "f220d68e",
   "metadata": {},
   "source": [
    "### 3.4 \"Super Hot Spot\" (used \"rap_centers_planes\" in 2.3)"
   ]
  },
  {
   "cell_type": "code",
   "execution_count": 20,
   "id": "325bccbe",
   "metadata": {},
   "outputs": [
    {
     "name": "stdout",
     "output_type": "stream",
     "text": [
      "+---+---+---+----+-------------------+------+------------------+------------------+-----------+------+------+-----+-----------------+----------+------+-----+-----+-------------------+------------------+\n",
      "| Nx| Ny|hPa|hour|           dateTime|FLevel|               Lat|               Lon|Temperature|RH_ice|IsISSR|month|      altitude_ft|  dateOnly|period|IDENT| NAME|hourlyPlanesInCells|hourlyPlanesInISSR|\n",
      "+---+---+---+----+-------------------+------+------------------+------------------+-----------+------+------+-----+-----------------+----------+------+-----+-----+-------------------+------------------+\n",
      "|224| 28|150|   6|2021-05-21 06:00:00|   440|24.166930399343176|-83.17034642802771|    207.523| 39.27|     0|    5|44301.67362239071|2021-05-21|     6|  ZMA|MIAMI|               null|              null|\n",
      "|225| 28|150|   6|2021-05-21 06:00:00|   440| 24.15087515658682|-82.97088525760823|    207.648|  37.0|     0|    5|44301.67362239071|2021-05-21|     6|  ZMA|MIAMI|               null|              null|\n",
      "|226| 28|150|   6|2021-05-21 06:00:00|   440| 24.13455228147526|-82.77147628585855|    207.711|  39.9|     0|    5|44301.67362239071|2021-05-21|     6|  ZMA|MIAMI|               null|              null|\n",
      "|227| 28|150|   6|2021-05-21 06:00:00|   440| 24.11796188467466|-82.57212035475895|    207.586| 45.95|     0|    5|44301.67362239071|2021-05-21|     6|  ZMA|MIAMI|               null|              null|\n",
      "|228| 28|150|   6|2021-05-21 06:00:00|   440| 24.10110407871657|-82.37281830492417|    207.461| 52.92|     0|    5|44301.67362239071|2021-05-21|     6|  ZMA|MIAMI|               null|              null|\n",
      "+---+---+---+----+-------------------+------+------------------+------------------+-----------+------+------+-----+-----------------+----------+------+-----+-----+-------------------+------------------+\n",
      "only showing top 5 rows\n",
      "\n"
     ]
    }
   ],
   "source": [
    "rap_centers_planes.show(5)"
   ]
  },
  {
   "cell_type": "markdown",
   "id": "c7b2cdac",
   "metadata": {},
   "source": [
    "%%time\n",
    "periodicRAP_Planes = rap_centers_planes.filter((col('FLevel') >= 200) & (col('FLevel') <= 430))\\\n",
    "                                        .groupBy(col(\"dateOnly\"), col(\"period\"), col(\"Nx\"), col(\"Ny\"), col(\"NAME\")) \\\n",
    "                                        .agg((sum(col(\"hourlyPlanesInCells\")).alias(\"PlanesInCell\")),\n",
    "                                             (sum(col(\"hourlyPlanesInISSR\")).alias(\"PlanesInISSR\")),\n",
    "                                             (sum(col(\"isISSR\")).alias(\"iSSRs\")))"
   ]
  },
  {
   "cell_type": "code",
   "execution_count": 21,
   "id": "4f46ba40",
   "metadata": {},
   "outputs": [
    {
     "name": "stdout",
     "output_type": "stream",
     "text": [
      "CPU times: user 3.21 ms, sys: 1.91 ms, total: 5.12 ms\n",
      "Wall time: 88.4 ms\n"
     ]
    }
   ],
   "source": [
    "%%time\n",
    "periodicRAP_Planes = rap_centers_planes.filter((col('FLevel') >= 200) & (col('FLevel') <= 430))\\\n",
    "                                        .groupBy(col(\"dateOnly\"), col(\"period\"), col(\"NAME\")) \\\n",
    "                                        .agg((sum(col(\"hourlyPlanesInCells\")).alias(\"PlanesInCell\")),\n",
    "                                             (sum(col(\"hourlyPlanesInISSR\")).alias(\"PlanesInISSR\")),\n",
    "                                             (sum(col(\"isISSR\")).alias(\"iSSRs\")))"
   ]
  },
  {
   "cell_type": "code",
   "execution_count": 22,
   "id": "6d9d3d3d",
   "metadata": {},
   "outputs": [
    {
     "name": "stdout",
     "output_type": "stream",
     "text": [
      "+----------+------+--------------+------------+------------+-----+\n",
      "|  dateOnly|period|          NAME|PlanesInCell|PlanesInISSR|iSSRs|\n",
      "+----------+------+--------------+------------+------------+-----+\n",
      "|2020-12-24|    12|       ATLANTA|       20463|        6038|10898|\n",
      "|2021-03-29|    12|   ALBUQUERQUE|       15877|          53|  162|\n",
      "|2021-02-03|     0|  INDIANAPOLIS|       14796|           0|    0|\n",
      "|2020-12-24|     6|      NEW YORK|        6371|           0|  889|\n",
      "|2021-01-02|     6|SALT LAKE CITY|        2928|           2| 4495|\n",
      "+----------+------+--------------+------------+------------+-----+\n",
      "only showing top 5 rows\n",
      "\n"
     ]
    }
   ],
   "source": [
    "periodicRAP_Planes.show(5)"
   ]
  },
  {
   "cell_type": "code",
   "execution_count": 23,
   "id": "e78e946e",
   "metadata": {},
   "outputs": [
    {
     "name": "stdout",
     "output_type": "stream",
     "text": [
      "CPU times: user 442 ms, sys: 133 ms, total: 575 ms\n",
      "Wall time: 33min 15s\n"
     ]
    },
    {
     "data": {
      "text/html": [
       "<div>\n",
       "<style scoped>\n",
       "    .dataframe tbody tr th:only-of-type {\n",
       "        vertical-align: middle;\n",
       "    }\n",
       "\n",
       "    .dataframe tbody tr th {\n",
       "        vertical-align: top;\n",
       "    }\n",
       "\n",
       "    .dataframe thead th {\n",
       "        text-align: right;\n",
       "    }\n",
       "</style>\n",
       "<table border=\"1\" class=\"dataframe\">\n",
       "  <thead>\n",
       "    <tr style=\"text-align: right;\">\n",
       "      <th></th>\n",
       "      <th>dateOnly</th>\n",
       "      <th>period</th>\n",
       "      <th>NAME</th>\n",
       "      <th>PlanesInCell</th>\n",
       "      <th>PlanesInISSR</th>\n",
       "      <th>iSSRs</th>\n",
       "    </tr>\n",
       "  </thead>\n",
       "  <tbody>\n",
       "    <tr>\n",
       "      <th>0</th>\n",
       "      <td>2020-12-24</td>\n",
       "      <td>12</td>\n",
       "      <td>ATLANTA</td>\n",
       "      <td>20463</td>\n",
       "      <td>6038</td>\n",
       "      <td>10898</td>\n",
       "    </tr>\n",
       "    <tr>\n",
       "      <th>1</th>\n",
       "      <td>2021-03-29</td>\n",
       "      <td>12</td>\n",
       "      <td>ALBUQUERQUE</td>\n",
       "      <td>15877</td>\n",
       "      <td>53</td>\n",
       "      <td>162</td>\n",
       "    </tr>\n",
       "    <tr>\n",
       "      <th>2</th>\n",
       "      <td>2021-02-03</td>\n",
       "      <td>0</td>\n",
       "      <td>INDIANAPOLIS</td>\n",
       "      <td>14796</td>\n",
       "      <td>0</td>\n",
       "      <td>0</td>\n",
       "    </tr>\n",
       "    <tr>\n",
       "      <th>3</th>\n",
       "      <td>2020-12-24</td>\n",
       "      <td>6</td>\n",
       "      <td>NEW YORK</td>\n",
       "      <td>6371</td>\n",
       "      <td>0</td>\n",
       "      <td>889</td>\n",
       "    </tr>\n",
       "    <tr>\n",
       "      <th>4</th>\n",
       "      <td>2021-01-02</td>\n",
       "      <td>6</td>\n",
       "      <td>SALT LAKE CITY</td>\n",
       "      <td>2928</td>\n",
       "      <td>2</td>\n",
       "      <td>4495</td>\n",
       "    </tr>\n",
       "    <tr>\n",
       "      <th>...</th>\n",
       "      <td>...</td>\n",
       "      <td>...</td>\n",
       "      <td>...</td>\n",
       "      <td>...</td>\n",
       "      <td>...</td>\n",
       "      <td>...</td>\n",
       "    </tr>\n",
       "    <tr>\n",
       "      <th>29015</th>\n",
       "      <td>2020-07-21</td>\n",
       "      <td>0</td>\n",
       "      <td>MINNEAPOLIS</td>\n",
       "      <td>9471</td>\n",
       "      <td>165</td>\n",
       "      <td>3806</td>\n",
       "    </tr>\n",
       "    <tr>\n",
       "      <th>29016</th>\n",
       "      <td>2020-07-04</td>\n",
       "      <td>18</td>\n",
       "      <td>HOUSTON</td>\n",
       "      <td>17422</td>\n",
       "      <td>121</td>\n",
       "      <td>905</td>\n",
       "    </tr>\n",
       "    <tr>\n",
       "      <th>29017</th>\n",
       "      <td>2021-01-22</td>\n",
       "      <td>12</td>\n",
       "      <td>WASHINGTON</td>\n",
       "      <td>30737</td>\n",
       "      <td>85</td>\n",
       "      <td>449</td>\n",
       "    </tr>\n",
       "    <tr>\n",
       "      <th>29018</th>\n",
       "      <td>2020-07-27</td>\n",
       "      <td>18</td>\n",
       "      <td>WASHINGTON</td>\n",
       "      <td>31060</td>\n",
       "      <td>17</td>\n",
       "      <td>34</td>\n",
       "    </tr>\n",
       "    <tr>\n",
       "      <th>29019</th>\n",
       "      <td>2020-07-30</td>\n",
       "      <td>12</td>\n",
       "      <td>ATLANTA</td>\n",
       "      <td>20463</td>\n",
       "      <td>286</td>\n",
       "      <td>624</td>\n",
       "    </tr>\n",
       "  </tbody>\n",
       "</table>\n",
       "<p>29020 rows × 6 columns</p>\n",
       "</div>"
      ],
      "text/plain": [
       "         dateOnly period            NAME  PlanesInCell  PlanesInISSR  iSSRs\n",
       "0      2020-12-24     12         ATLANTA         20463          6038  10898\n",
       "1      2021-03-29     12     ALBUQUERQUE         15877            53    162\n",
       "2      2021-02-03      0    INDIANAPOLIS         14796             0      0\n",
       "3      2020-12-24      6        NEW YORK          6371             0    889\n",
       "4      2021-01-02      6  SALT LAKE CITY          2928             2   4495\n",
       "...           ...    ...             ...           ...           ...    ...\n",
       "29015  2020-07-21      0     MINNEAPOLIS          9471           165   3806\n",
       "29016  2020-07-04     18         HOUSTON         17422           121    905\n",
       "29017  2021-01-22     12      WASHINGTON         30737            85    449\n",
       "29018  2020-07-27     18      WASHINGTON         31060            17     34\n",
       "29019  2020-07-30     12         ATLANTA         20463           286    624\n",
       "\n",
       "[29020 rows x 6 columns]"
      ]
     },
     "execution_count": 23,
     "metadata": {},
     "output_type": "execute_result"
    }
   ],
   "source": [
    "%%time\n",
    "periodicRAP_Planes_pd = periodicRAP_Planes.toPandas()\n",
    "periodicRAP_Planes_pd"
   ]
  },
  {
   "cell_type": "markdown",
   "id": "517d3f47",
   "metadata": {},
   "source": [
    "periodicRAP_Planes.write.parquet(\n",
    "    \"s3a://partly-cloudy-common-area/proof_of_concept/periodicRAP_Planes.parquet\", \n",
    "    mode= \"overwrite\", \n",
    "    compression= 'gzip')"
   ]
  },
  {
   "cell_type": "markdown",
   "id": "af5a9b8c",
   "metadata": {},
   "source": [
    "periodicRAP_Planes.repartition(1).write.format('.csv').save('s3://partly-cloudy-common-area/proof_of_concept/periodicRAP_Planes.csv')"
   ]
  },
  {
   "cell_type": "code",
   "execution_count": 25,
   "id": "36f8a807",
   "metadata": {},
   "outputs": [
    {
     "name": "stdout",
     "output_type": "stream",
     "text": [
      "CPU times: user 718 ms, sys: 0 ns, total: 718 ms\n",
      "Wall time: 720 ms\n"
     ]
    }
   ],
   "source": [
    "%%time\n",
    "periodicRAP_Planes_pd['DateTime'] = [pd.Timestamp(periodicRAP_Planes_pd['dateOnly'][i]) + timedelta(hours= int(periodicRAP_Planes_pd['period'][i])) for i in range(len(periodicRAP_Planes_pd))]"
   ]
  },
  {
   "cell_type": "code",
   "execution_count": 26,
   "id": "e4768e7c",
   "metadata": {},
   "outputs": [
    {
     "data": {
      "text/html": [
       "<div>\n",
       "<style scoped>\n",
       "    .dataframe tbody tr th:only-of-type {\n",
       "        vertical-align: middle;\n",
       "    }\n",
       "\n",
       "    .dataframe tbody tr th {\n",
       "        vertical-align: top;\n",
       "    }\n",
       "\n",
       "    .dataframe thead th {\n",
       "        text-align: right;\n",
       "    }\n",
       "</style>\n",
       "<table border=\"1\" class=\"dataframe\">\n",
       "  <thead>\n",
       "    <tr style=\"text-align: right;\">\n",
       "      <th></th>\n",
       "      <th>dateOnly</th>\n",
       "      <th>period</th>\n",
       "      <th>NAME</th>\n",
       "      <th>PlanesInCell</th>\n",
       "      <th>PlanesInISSR</th>\n",
       "      <th>iSSRs</th>\n",
       "      <th>DateTime</th>\n",
       "      <th>month</th>\n",
       "    </tr>\n",
       "  </thead>\n",
       "  <tbody>\n",
       "    <tr>\n",
       "      <th>0</th>\n",
       "      <td>2020-12-24</td>\n",
       "      <td>12</td>\n",
       "      <td>ATLANTA</td>\n",
       "      <td>20463</td>\n",
       "      <td>6038</td>\n",
       "      <td>10898</td>\n",
       "      <td>2020-12-24 12:00:00</td>\n",
       "      <td>12</td>\n",
       "    </tr>\n",
       "    <tr>\n",
       "      <th>1</th>\n",
       "      <td>2021-03-29</td>\n",
       "      <td>12</td>\n",
       "      <td>ALBUQUERQUE</td>\n",
       "      <td>15877</td>\n",
       "      <td>53</td>\n",
       "      <td>162</td>\n",
       "      <td>2021-03-29 12:00:00</td>\n",
       "      <td>3</td>\n",
       "    </tr>\n",
       "    <tr>\n",
       "      <th>2</th>\n",
       "      <td>2021-02-03</td>\n",
       "      <td>0</td>\n",
       "      <td>INDIANAPOLIS</td>\n",
       "      <td>14796</td>\n",
       "      <td>0</td>\n",
       "      <td>0</td>\n",
       "      <td>2021-02-03 00:00:00</td>\n",
       "      <td>2</td>\n",
       "    </tr>\n",
       "    <tr>\n",
       "      <th>3</th>\n",
       "      <td>2020-12-24</td>\n",
       "      <td>6</td>\n",
       "      <td>NEW YORK</td>\n",
       "      <td>6371</td>\n",
       "      <td>0</td>\n",
       "      <td>889</td>\n",
       "      <td>2020-12-24 06:00:00</td>\n",
       "      <td>12</td>\n",
       "    </tr>\n",
       "    <tr>\n",
       "      <th>4</th>\n",
       "      <td>2021-01-02</td>\n",
       "      <td>6</td>\n",
       "      <td>SALT LAKE CITY</td>\n",
       "      <td>2928</td>\n",
       "      <td>2</td>\n",
       "      <td>4495</td>\n",
       "      <td>2021-01-02 06:00:00</td>\n",
       "      <td>1</td>\n",
       "    </tr>\n",
       "    <tr>\n",
       "      <th>...</th>\n",
       "      <td>...</td>\n",
       "      <td>...</td>\n",
       "      <td>...</td>\n",
       "      <td>...</td>\n",
       "      <td>...</td>\n",
       "      <td>...</td>\n",
       "      <td>...</td>\n",
       "      <td>...</td>\n",
       "    </tr>\n",
       "    <tr>\n",
       "      <th>29015</th>\n",
       "      <td>2020-07-21</td>\n",
       "      <td>0</td>\n",
       "      <td>MINNEAPOLIS</td>\n",
       "      <td>9471</td>\n",
       "      <td>165</td>\n",
       "      <td>3806</td>\n",
       "      <td>2020-07-21 00:00:00</td>\n",
       "      <td>7</td>\n",
       "    </tr>\n",
       "    <tr>\n",
       "      <th>29016</th>\n",
       "      <td>2020-07-04</td>\n",
       "      <td>18</td>\n",
       "      <td>HOUSTON</td>\n",
       "      <td>17422</td>\n",
       "      <td>121</td>\n",
       "      <td>905</td>\n",
       "      <td>2020-07-04 18:00:00</td>\n",
       "      <td>7</td>\n",
       "    </tr>\n",
       "    <tr>\n",
       "      <th>29017</th>\n",
       "      <td>2021-01-22</td>\n",
       "      <td>12</td>\n",
       "      <td>WASHINGTON</td>\n",
       "      <td>30737</td>\n",
       "      <td>85</td>\n",
       "      <td>449</td>\n",
       "      <td>2021-01-22 12:00:00</td>\n",
       "      <td>1</td>\n",
       "    </tr>\n",
       "    <tr>\n",
       "      <th>29018</th>\n",
       "      <td>2020-07-27</td>\n",
       "      <td>18</td>\n",
       "      <td>WASHINGTON</td>\n",
       "      <td>31060</td>\n",
       "      <td>17</td>\n",
       "      <td>34</td>\n",
       "      <td>2020-07-27 18:00:00</td>\n",
       "      <td>7</td>\n",
       "    </tr>\n",
       "    <tr>\n",
       "      <th>29019</th>\n",
       "      <td>2020-07-30</td>\n",
       "      <td>12</td>\n",
       "      <td>ATLANTA</td>\n",
       "      <td>20463</td>\n",
       "      <td>286</td>\n",
       "      <td>624</td>\n",
       "      <td>2020-07-30 12:00:00</td>\n",
       "      <td>7</td>\n",
       "    </tr>\n",
       "  </tbody>\n",
       "</table>\n",
       "<p>29020 rows × 8 columns</p>\n",
       "</div>"
      ],
      "text/plain": [
       "         dateOnly period            NAME  PlanesInCell  PlanesInISSR  iSSRs  \\\n",
       "0      2020-12-24     12         ATLANTA         20463          6038  10898   \n",
       "1      2021-03-29     12     ALBUQUERQUE         15877            53    162   \n",
       "2      2021-02-03      0    INDIANAPOLIS         14796             0      0   \n",
       "3      2020-12-24      6        NEW YORK          6371             0    889   \n",
       "4      2021-01-02      6  SALT LAKE CITY          2928             2   4495   \n",
       "...           ...    ...             ...           ...           ...    ...   \n",
       "29015  2020-07-21      0     MINNEAPOLIS          9471           165   3806   \n",
       "29016  2020-07-04     18         HOUSTON         17422           121    905   \n",
       "29017  2021-01-22     12      WASHINGTON         30737            85    449   \n",
       "29018  2020-07-27     18      WASHINGTON         31060            17     34   \n",
       "29019  2020-07-30     12         ATLANTA         20463           286    624   \n",
       "\n",
       "                 DateTime  month  \n",
       "0     2020-12-24 12:00:00     12  \n",
       "1     2021-03-29 12:00:00      3  \n",
       "2     2021-02-03 00:00:00      2  \n",
       "3     2020-12-24 06:00:00     12  \n",
       "4     2021-01-02 06:00:00      1  \n",
       "...                   ...    ...  \n",
       "29015 2020-07-21 00:00:00      7  \n",
       "29016 2020-07-04 18:00:00      7  \n",
       "29017 2021-01-22 12:00:00      1  \n",
       "29018 2020-07-27 18:00:00      7  \n",
       "29019 2020-07-30 12:00:00      7  \n",
       "\n",
       "[29020 rows x 8 columns]"
      ]
     },
     "execution_count": 26,
     "metadata": {},
     "output_type": "execute_result"
    }
   ],
   "source": [
    "periodicRAP_Planes_pd['month'] = [periodicRAP_Planes_pd['DateTime'][i].month for i in range(len(periodicRAP_Planes_pd))]\n",
    "periodicRAP_Planes_pd"
   ]
  },
  {
   "cell_type": "code",
   "execution_count": 24,
   "id": "0cd4ac29",
   "metadata": {},
   "outputs": [
    {
     "data": {
      "text/plain": [
       "dateOnly        0\n",
       "period          0\n",
       "NAME            0\n",
       "PlanesInCell    0\n",
       "PlanesInISSR    0\n",
       "iSSRs           0\n",
       "dtype: int64"
      ]
     },
     "execution_count": 24,
     "metadata": {},
     "output_type": "execute_result"
    }
   ],
   "source": [
    "periodicRAP_Planes_pd.isnull().sum()"
   ]
  },
  {
   "cell_type": "code",
   "execution_count": null,
   "id": "94cf00ee",
   "metadata": {},
   "outputs": [],
   "source": [
    "periodicRAP_Planes_pd.fillna(value= 0, inplace= True)\n",
    "periodicRAP_Planes_pd.isnull().sum()"
   ]
  },
  {
   "cell_type": "markdown",
   "id": "0994fdfd",
   "metadata": {},
   "source": [
    "%%time\n",
    "latlon = pd.read_csv(\"s3://partly-cloudy-common-area/proof_of_concept/latlonRAP.csv\")\n",
    "\n",
    "latlon.count()"
   ]
  },
  {
   "cell_type": "markdown",
   "id": "756dad97",
   "metadata": {},
   "source": [
    "%%time\n",
    "periodicRAP_Planes_pd = pd.merge(periodicRAP_Planes_pd, latlon, how= 'inner', on= ['Nx', 'Ny'])\n",
    "periodicRAP_Planes_pd"
   ]
  },
  {
   "cell_type": "markdown",
   "id": "e9e4e8c7",
   "metadata": {},
   "source": [
    "output_bucket = 'partly-cloudy-common-area'\n",
    "output_directory = 'proof_of_concept'\n",
    "outputFileName = 'periodicRAP_Planes_pd.csv'\n",
    "wr.s3.to_csv(periodicRAP_Planes_pd, f\"s3://{output_bucket}/{output_directory}/{outputFileName}\", index=False)"
   ]
  },
  {
   "cell_type": "code",
   "execution_count": 28,
   "id": "b009b350",
   "metadata": {},
   "outputs": [
    {
     "name": "stdout",
     "output_type": "stream",
     "text": [
      "CPU times: user 2.51 ms, sys: 0 ns, total: 2.51 ms\n",
      "Wall time: 3.93 s\n"
     ]
    },
    {
     "data": {
      "text/plain": [
       "36743673"
      ]
     },
     "execution_count": 28,
     "metadata": {},
     "output_type": "execute_result"
    }
   ],
   "source": [
    "%%time\n",
    "periodicRAP_Planes_NxNy = spark.read.format('parquet')\\\n",
    "                                    .load(\"s3a://partly-cloudy-common-area/proof_of_concept/periodicRAP_Planes.parquet\")\n",
    "periodicRAP_Planes_NxNy.count()"
   ]
  },
  {
   "cell_type": "code",
   "execution_count": 30,
   "id": "cc8c497c",
   "metadata": {},
   "outputs": [
    {
     "name": "stdout",
     "output_type": "stream",
     "text": [
      "+----------+------+---+---+------------+------------+------------+-----+\n",
      "|  dateOnly|period| Nx| Ny|        NAME|PlanesInCell|PlanesInISSR|iSSRs|\n",
      "+----------+------+---+---+------------+------------+------------+-----+\n",
      "|2021-05-21|     6|229| 32|       MIAMI|        null|        null|    0|\n",
      "|2021-05-21|     6|159| 42|     HOUSTON|           4|           0|    0|\n",
      "|2021-05-21|     6|217| 50|       MIAMI|           4|           0|    0|\n",
      "|2021-05-21|     6|228| 50|       MIAMI|           5|           0|    0|\n",
      "|2021-05-21|     6|249| 50|       MIAMI|        null|        null|    0|\n",
      "|2021-05-21|     6|203| 55|JACKSONVILLE|        null|        null|    0|\n",
      "|2021-05-21|     6|138| 56|     HOUSTON|           1|           0|    0|\n",
      "|2021-05-21|     6|160| 61|     HOUSTON|          11|           0|    0|\n",
      "|2021-05-21|     6|176| 61|     HOUSTON|           2|           0|    0|\n",
      "|2021-05-21|     6|227| 62|JACKSONVILLE|           8|           0|    0|\n",
      "+----------+------+---+---+------------+------------+------------+-----+\n",
      "only showing top 10 rows\n",
      "\n"
     ]
    }
   ],
   "source": [
    "periodicRAP_Planes_NxNy.show(10)"
   ]
  },
  {
   "cell_type": "code",
   "execution_count": 34,
   "id": "1091da65",
   "metadata": {},
   "outputs": [
    {
     "name": "stdout",
     "output_type": "stream",
     "text": [
      "+----------+------+---+---+------------+------------+------------+-----+\n",
      "|  dateOnly|period| Nx| Ny|        NAME|PlanesInCell|PlanesInISSR|iSSRs|\n",
      "+----------+------+---+---+------------+------------+------------+-----+\n",
      "|2020-09-27|    18|229| 63|JACKSONVILLE|         203|         114|   14|\n",
      "|2020-10-29|    12|236| 80|JACKSONVILLE|         171|         101|   18|\n",
      "|2020-10-29|    12|234| 77|JACKSONVILLE|         194|         100|   18|\n",
      "|2020-06-07|    12|231| 63|JACKSONVILLE|         192|          98|   16|\n",
      "|2020-10-29|    12|235| 78|JACKSONVILLE|         181|          97|   17|\n",
      "|2020-10-29|    12|233| 75|JACKSONVILLE|         176|          96|   17|\n",
      "|2020-10-29|    12|233| 74|JACKSONVILLE|         165|          95|   18|\n",
      "|2020-10-29|    12|235| 79|JACKSONVILLE|         171|          93|   17|\n",
      "|2020-09-27|    18|229| 62|JACKSONVILLE|         201|          93|   12|\n",
      "|2021-05-12|    18|239| 85|JACKSONVILLE|         131|          91|   20|\n",
      "|2020-10-29|    12|234| 76|JACKSONVILLE|         164|          91|   17|\n",
      "|2020-11-11|    18|229| 63|JACKSONVILLE|         203|          90|   12|\n",
      "|2020-09-27|    18|229| 65|JACKSONVILLE|         153|          90|   11|\n",
      "|2020-09-27|    18|229| 66|JACKSONVILLE|         160|          90|   13|\n",
      "|2020-10-28|    18|204| 91|     MEMPHIS|         121|          89|   24|\n",
      "|2020-09-27|    18|229| 64|JACKSONVILLE|         160|          89|   11|\n",
      "|2020-10-21|    18|234| 77|JACKSONVILLE|         168|          89|   15|\n",
      "|2020-11-11|    18|229| 61|JACKSONVILLE|         212|          89|   13|\n",
      "|2020-11-11|    18|229| 62|JACKSONVILLE|         201|          88|   13|\n",
      "|2020-10-28|    18|252|110|  WASHINGTON|         141|          88|   16|\n",
      "|2021-05-12|    18|237| 82|JACKSONVILLE|         155|          87|   18|\n",
      "|2020-07-25|    12|238| 83|JACKSONVILLE|         168|          87|   13|\n",
      "|2020-10-28|    18|251|107|  WASHINGTON|         130|          87|   16|\n",
      "|2020-09-17|    18|251|107|  WASHINGTON|         130|          87|   19|\n",
      "|2020-10-04|    18|232| 73|JACKSONVILLE|         119|          87|   20|\n",
      "|2020-10-04|    18|235| 79|JACKSONVILLE|         178|          86|   14|\n",
      "|2021-04-14|    18|247|114|  WASHINGTON|         212|          86|   17|\n",
      "|2020-06-07|    12|229| 66|JACKSONVILLE|         165|          86|   14|\n",
      "|2021-05-12|    18|236| 80|JACKSONVILLE|         163|          85|   17|\n",
      "|2021-03-31|    12|233|110|  WASHINGTON|         132|          84|   20|\n",
      "|2020-09-16|    18|235| 78|JACKSONVILLE|         162|          83|   13|\n",
      "|2020-12-24|    12|213| 80|     ATLANTA|         289|          83|   18|\n",
      "|2020-10-03|    18|233| 74|JACKSONVILLE|         130|          83|   14|\n",
      "|2020-10-28|    12|235|105|  WASHINGTON|         166|          83|   16|\n",
      "|2020-06-07|    12|229| 63|JACKSONVILLE|         193|          82|   16|\n",
      "|2021-05-12|    18|238| 83|JACKSONVILLE|         160|          82|   17|\n",
      "|2020-10-28|    18|235|111|  WASHINGTON|         178|          82|   16|\n",
      "|2020-10-29|    12|251|107|  WASHINGTON|         140|          81|   16|\n",
      "|2020-09-17|    12|238| 83|JACKSONVILLE|         168|          81|   12|\n",
      "|2021-05-12|    18|238| 84|JACKSONVILLE|         139|          80|   19|\n",
      "|2020-10-28|    18|203| 92|     MEMPHIS|         144|          80|   21|\n",
      "|2020-06-07|    12|233| 74|JACKSONVILLE|         165|          80|   13|\n",
      "|2020-08-03|    18|235| 78|JACKSONVILLE|         162|          80|   14|\n",
      "|2021-02-11|    18|247|114|  WASHINGTON|         212|          80|   17|\n",
      "|2020-08-07|    18|229| 63|JACKSONVILLE|         203|          80|   11|\n",
      "|2020-10-28|    18|234|110|  WASHINGTON|         165|          80|   15|\n",
      "|2020-12-24|    18|230| 99|     ATLANTA|         125|          80|   23|\n",
      "|2020-12-24|    12|236|112|  WASHINGTON|         195|          80|   17|\n",
      "|2020-06-07|    12|232| 72|JACKSONVILLE|         129|          79|   17|\n",
      "|2020-06-07|    12|225| 67|JACKSONVILLE|         136|          79|   14|\n",
      "|2020-12-24|    18|234|110|  WASHINGTON|         165|          79|   20|\n",
      "|2020-10-29|    12|251|108|  WASHINGTON|         142|          79|   16|\n",
      "|2020-10-21|    18|233| 75|JACKSONVILLE|         150|          79|   16|\n",
      "|2020-10-03|    12|229| 67|JACKSONVILLE|         218|          79|    7|\n",
      "|2021-03-01|    12|236|112|  WASHINGTON|         195|          79|   17|\n",
      "|2020-10-28|    18|251|108|  WASHINGTON|         133|          78|   17|\n",
      "|2020-06-07|    12|229| 64|JACKSONVILLE|         169|          78|   14|\n",
      "|2020-10-03|    18|234| 76|JACKSONVILLE|         139|          78|   12|\n",
      "|2020-06-24|    18| 71| 87| LOS ANGELES|         169|          78|   15|\n",
      "|2020-10-28|    18|202| 93|     MEMPHIS|         128|          78|   21|\n",
      "|2020-12-24|    18|239|126|    NEW YORK|         160|          78|   20|\n",
      "|2020-09-16|    18|235| 79|JACKSONVILLE|         178|          78|   12|\n",
      "|2021-05-12|    18|237| 81|JACKSONVILLE|         138|          78|   17|\n",
      "|2020-10-21|    18|235| 79|JACKSONVILLE|         178|          78|   13|\n",
      "|2020-08-03|    18|235| 79|JACKSONVILLE|         178|          77|   13|\n",
      "|2020-10-03|    18|235| 78|JACKSONVILLE|         162|          77|   11|\n",
      "|2020-10-29|    12|238| 83|JACKSONVILLE|         168|          77|   14|\n",
      "|2020-08-03|    18|234| 77|JACKSONVILLE|         168|          77|   12|\n",
      "|2020-07-06|    18|229| 65|JACKSONVILLE|         153|          77|   13|\n",
      "|2021-02-28|    18|233|110|  WASHINGTON|         143|          76|   17|\n",
      "|2020-10-03|    18|235| 79|JACKSONVILLE|         178|          76|   11|\n",
      "|2020-11-12|    18|252|110|  WASHINGTON|         141|          76|   14|\n",
      "|2020-07-06|    18|231| 57|JACKSONVILLE|         123|          76|   14|\n",
      "|2020-06-07|    12|231| 65|JACKSONVILLE|         124|          76|   17|\n",
      "|2020-10-04|    18|235| 78|JACKSONVILLE|         162|          76|   13|\n",
      "|2020-06-07|    12|234| 77|JACKSONVILLE|         194|          76|    9|\n",
      "|2021-03-02|    18|229| 63|JACKSONVILLE|         203|          76|   13|\n",
      "|2020-12-24|    18|235|111|  WASHINGTON|         178|          76|   19|\n",
      "|2021-03-31|    12|236|112|  WASHINGTON|         195|          75|   14|\n",
      "|2020-10-04|    18|234| 76|JACKSONVILLE|         139|          75|   16|\n",
      "|2020-08-12|    12|236| 80|JACKSONVILLE|         171|          75|   10|\n",
      "|2020-09-27|    18|230| 64|JACKSONVILLE|         131|          75|   14|\n",
      "|2020-08-12|    12|237| 81|JACKSONVILLE|         153|          74|   11|\n",
      "|2020-10-03|    18|236| 80|JACKSONVILLE|         163|          74|   11|\n",
      "|2020-09-17|    18|240|107|  WASHINGTON|         185|          74|   14|\n",
      "|2020-09-17|    12|238| 84|JACKSONVILLE|         143|          74|   12|\n",
      "|2020-10-28|    18|205| 89|     MEMPHIS|         111|          74|   23|\n",
      "|2020-08-07|    18|229| 62|JACKSONVILLE|         201|          74|   12|\n",
      "|2020-12-13|    18|229| 63|JACKSONVILLE|         203|          73|   12|\n",
      "|2020-09-17|    18|239|106|  WASHINGTON|         165|          73|   15|\n",
      "|2021-02-28|    18|234|110|  WASHINGTON|         165|          73|   19|\n",
      "|2020-10-04|    18|233| 74|JACKSONVILLE|         130|          73|   17|\n",
      "|2021-02-28|    18|235|111|  WASHINGTON|         178|          73|   17|\n",
      "|2020-10-28|    12|236|106|  WASHINGTON|         151|          73|   14|\n",
      "|2020-10-29|    12|252|110|  WASHINGTON|         172|          73|   12|\n",
      "|2020-10-21|    18|233| 74|JACKSONVILLE|         130|          73|   15|\n",
      "|2021-04-10|    12|213| 80|     ATLANTA|         289|          73|   16|\n",
      "|2020-10-28|    12|248|102|  WASHINGTON|         115|          73|   15|\n",
      "|2020-08-12|    12|237| 82|JACKSONVILLE|         182|          73|   10|\n",
      "|2020-10-03|    18|232| 73|JACKSONVILLE|         119|          73|   13|\n",
      "+----------+------+---+---+------------+------------+------------+-----+\n",
      "only showing top 100 rows\n",
      "\n"
     ]
    }
   ],
   "source": [
    "periodicRAP_Planes_NxNy.orderBy(col(\"PlanesInISSR\").desc()).show(100)"
   ]
  },
  {
   "cell_type": "code",
   "execution_count": 36,
   "id": "f2d879b8",
   "metadata": {},
   "outputs": [],
   "source": [
    "periodicRAP_Planes_NxNy_GT0 = periodicRAP_Planes_NxNy.filter(col('PlanesInISSR') > 0)"
   ]
  },
  {
   "cell_type": "code",
   "execution_count": 37,
   "id": "3499ef7f",
   "metadata": {},
   "outputs": [
    {
     "data": {
      "text/plain": [
       "1500381"
      ]
     },
     "execution_count": 37,
     "metadata": {},
     "output_type": "execute_result"
    }
   ],
   "source": [
    "periodicRAP_Planes_NxNy_GT0.count()"
   ]
  },
  {
   "cell_type": "code",
   "execution_count": 38,
   "id": "766d432c",
   "metadata": {},
   "outputs": [
    {
     "name": "stdout",
     "output_type": "stream",
     "text": [
      "CPU times: user 11.1 s, sys: 242 ms, total: 11.4 s\n",
      "Wall time: 16.4 s\n"
     ]
    },
    {
     "data": {
      "text/html": [
       "<div>\n",
       "<style scoped>\n",
       "    .dataframe tbody tr th:only-of-type {\n",
       "        vertical-align: middle;\n",
       "    }\n",
       "\n",
       "    .dataframe tbody tr th {\n",
       "        vertical-align: top;\n",
       "    }\n",
       "\n",
       "    .dataframe thead th {\n",
       "        text-align: right;\n",
       "    }\n",
       "</style>\n",
       "<table border=\"1\" class=\"dataframe\">\n",
       "  <thead>\n",
       "    <tr style=\"text-align: right;\">\n",
       "      <th></th>\n",
       "      <th>dateOnly</th>\n",
       "      <th>period</th>\n",
       "      <th>Nx</th>\n",
       "      <th>Ny</th>\n",
       "      <th>NAME</th>\n",
       "      <th>PlanesInCell</th>\n",
       "      <th>PlanesInISSR</th>\n",
       "      <th>iSSRs</th>\n",
       "    </tr>\n",
       "  </thead>\n",
       "  <tbody>\n",
       "    <tr>\n",
       "      <th>0</th>\n",
       "      <td>2021-05-21</td>\n",
       "      <td>6</td>\n",
       "      <td>225</td>\n",
       "      <td>125</td>\n",
       "      <td>CLEVELAND</td>\n",
       "      <td>17</td>\n",
       "      <td>1</td>\n",
       "      <td>3</td>\n",
       "    </tr>\n",
       "    <tr>\n",
       "      <th>1</th>\n",
       "      <td>2021-05-20</td>\n",
       "      <td>6</td>\n",
       "      <td>165</td>\n",
       "      <td>64</td>\n",
       "      <td>HOUSTON</td>\n",
       "      <td>3</td>\n",
       "      <td>1</td>\n",
       "      <td>4</td>\n",
       "    </tr>\n",
       "    <tr>\n",
       "      <th>2</th>\n",
       "      <td>2021-05-20</td>\n",
       "      <td>6</td>\n",
       "      <td>166</td>\n",
       "      <td>76</td>\n",
       "      <td>FORT WORTH</td>\n",
       "      <td>13</td>\n",
       "      <td>1</td>\n",
       "      <td>1</td>\n",
       "    </tr>\n",
       "    <tr>\n",
       "      <th>3</th>\n",
       "      <td>2021-05-20</td>\n",
       "      <td>6</td>\n",
       "      <td>161</td>\n",
       "      <td>85</td>\n",
       "      <td>FORT WORTH</td>\n",
       "      <td>4</td>\n",
       "      <td>2</td>\n",
       "      <td>3</td>\n",
       "    </tr>\n",
       "    <tr>\n",
       "      <th>4</th>\n",
       "      <td>2021-05-20</td>\n",
       "      <td>6</td>\n",
       "      <td>225</td>\n",
       "      <td>121</td>\n",
       "      <td>CLEVELAND</td>\n",
       "      <td>17</td>\n",
       "      <td>1</td>\n",
       "      <td>5</td>\n",
       "    </tr>\n",
       "    <tr>\n",
       "      <th>...</th>\n",
       "      <td>...</td>\n",
       "      <td>...</td>\n",
       "      <td>...</td>\n",
       "      <td>...</td>\n",
       "      <td>...</td>\n",
       "      <td>...</td>\n",
       "      <td>...</td>\n",
       "      <td>...</td>\n",
       "    </tr>\n",
       "    <tr>\n",
       "      <th>1500376</th>\n",
       "      <td>2020-07-06</td>\n",
       "      <td>12</td>\n",
       "      <td>224</td>\n",
       "      <td>77</td>\n",
       "      <td>ATLANTA</td>\n",
       "      <td>28</td>\n",
       "      <td>5</td>\n",
       "      <td>6</td>\n",
       "    </tr>\n",
       "    <tr>\n",
       "      <th>1500377</th>\n",
       "      <td>2020-07-06</td>\n",
       "      <td>12</td>\n",
       "      <td>215</td>\n",
       "      <td>78</td>\n",
       "      <td>ATLANTA</td>\n",
       "      <td>32</td>\n",
       "      <td>6</td>\n",
       "      <td>8</td>\n",
       "    </tr>\n",
       "    <tr>\n",
       "      <th>1500378</th>\n",
       "      <td>2020-07-06</td>\n",
       "      <td>12</td>\n",
       "      <td>255</td>\n",
       "      <td>117</td>\n",
       "      <td>WASHINGTON</td>\n",
       "      <td>64</td>\n",
       "      <td>1</td>\n",
       "      <td>1</td>\n",
       "    </tr>\n",
       "    <tr>\n",
       "      <th>1500379</th>\n",
       "      <td>2021-02-10</td>\n",
       "      <td>18</td>\n",
       "      <td>151</td>\n",
       "      <td>87</td>\n",
       "      <td>FORT WORTH</td>\n",
       "      <td>37</td>\n",
       "      <td>1</td>\n",
       "      <td>3</td>\n",
       "    </tr>\n",
       "    <tr>\n",
       "      <th>1500380</th>\n",
       "      <td>2021-02-10</td>\n",
       "      <td>18</td>\n",
       "      <td>211</td>\n",
       "      <td>114</td>\n",
       "      <td>INDIANAPOLIS</td>\n",
       "      <td>77</td>\n",
       "      <td>3</td>\n",
       "      <td>2</td>\n",
       "    </tr>\n",
       "  </tbody>\n",
       "</table>\n",
       "<p>1500381 rows × 8 columns</p>\n",
       "</div>"
      ],
      "text/plain": [
       "           dateOnly period   Nx   Ny          NAME  PlanesInCell  \\\n",
       "0        2021-05-21      6  225  125    CLEVELAND             17   \n",
       "1        2021-05-20      6  165   64       HOUSTON             3   \n",
       "2        2021-05-20      6  166   76    FORT WORTH            13   \n",
       "3        2021-05-20      6  161   85    FORT WORTH             4   \n",
       "4        2021-05-20      6  225  121    CLEVELAND             17   \n",
       "...             ...    ...  ...  ...           ...           ...   \n",
       "1500376  2020-07-06     12  224   77       ATLANTA            28   \n",
       "1500377  2020-07-06     12  215   78       ATLANTA            32   \n",
       "1500378  2020-07-06     12  255  117    WASHINGTON            64   \n",
       "1500379  2021-02-10     18  151   87    FORT WORTH            37   \n",
       "1500380  2021-02-10     18  211  114  INDIANAPOLIS            77   \n",
       "\n",
       "         PlanesInISSR  iSSRs  \n",
       "0                   1      3  \n",
       "1                   1      4  \n",
       "2                   1      1  \n",
       "3                   2      3  \n",
       "4                   1      5  \n",
       "...               ...    ...  \n",
       "1500376             5      6  \n",
       "1500377             6      8  \n",
       "1500378             1      1  \n",
       "1500379             1      3  \n",
       "1500380             3      2  \n",
       "\n",
       "[1500381 rows x 8 columns]"
      ]
     },
     "execution_count": 38,
     "metadata": {},
     "output_type": "execute_result"
    }
   ],
   "source": [
    "%%time\n",
    "periodicRAP_Planes_NxNy_GT0_pd = periodicRAP_Planes_NxNy_GT0.toPandas()\n",
    "periodicRAP_Planes_NxNy_GT0_pd"
   ]
  },
  {
   "cell_type": "code",
   "execution_count": 41,
   "id": "d2b0e1bd",
   "metadata": {},
   "outputs": [
    {
     "name": "stdout",
     "output_type": "stream",
     "text": [
      "CPU times: user 62.9 ms, sys: 4.67 ms, total: 67.5 ms\n",
      "Wall time: 187 ms\n"
     ]
    }
   ],
   "source": [
    "%%time\n",
    "latlon = pd.read_csv(\"s3://partly-cloudy-common-area/proof_of_concept/latlonRAP.csv\")"
   ]
  },
  {
   "cell_type": "code",
   "execution_count": 42,
   "id": "28db8436",
   "metadata": {},
   "outputs": [
    {
     "name": "stdout",
     "output_type": "stream",
     "text": [
      "CPU times: user 1.11 s, sys: 32.5 ms, total: 1.14 s\n",
      "Wall time: 1.23 s\n"
     ]
    },
    {
     "data": {
      "text/html": [
       "<div>\n",
       "<style scoped>\n",
       "    .dataframe tbody tr th:only-of-type {\n",
       "        vertical-align: middle;\n",
       "    }\n",
       "\n",
       "    .dataframe tbody tr th {\n",
       "        vertical-align: top;\n",
       "    }\n",
       "\n",
       "    .dataframe thead th {\n",
       "        text-align: right;\n",
       "    }\n",
       "</style>\n",
       "<table border=\"1\" class=\"dataframe\">\n",
       "  <thead>\n",
       "    <tr style=\"text-align: right;\">\n",
       "      <th></th>\n",
       "      <th>dateOnly</th>\n",
       "      <th>period</th>\n",
       "      <th>Nx</th>\n",
       "      <th>Ny</th>\n",
       "      <th>NAME</th>\n",
       "      <th>PlanesInCell</th>\n",
       "      <th>PlanesInISSR</th>\n",
       "      <th>iSSRs</th>\n",
       "      <th>Lat</th>\n",
       "      <th>Lon</th>\n",
       "    </tr>\n",
       "  </thead>\n",
       "  <tbody>\n",
       "    <tr>\n",
       "      <th>0</th>\n",
       "      <td>2021-05-21</td>\n",
       "      <td>6</td>\n",
       "      <td>225</td>\n",
       "      <td>125</td>\n",
       "      <td>CLEVELAND</td>\n",
       "      <td>17</td>\n",
       "      <td>1</td>\n",
       "      <td>3</td>\n",
       "      <td>41.549106</td>\n",
       "      <td>-80.963614</td>\n",
       "    </tr>\n",
       "    <tr>\n",
       "      <th>1</th>\n",
       "      <td>2020-06-01</td>\n",
       "      <td>18</td>\n",
       "      <td>225</td>\n",
       "      <td>125</td>\n",
       "      <td>CLEVELAND</td>\n",
       "      <td>45</td>\n",
       "      <td>1</td>\n",
       "      <td>1</td>\n",
       "      <td>41.549106</td>\n",
       "      <td>-80.963614</td>\n",
       "    </tr>\n",
       "    <tr>\n",
       "      <th>2</th>\n",
       "      <td>2020-06-11</td>\n",
       "      <td>0</td>\n",
       "      <td>225</td>\n",
       "      <td>125</td>\n",
       "      <td>CLEVELAND</td>\n",
       "      <td>30</td>\n",
       "      <td>5</td>\n",
       "      <td>2</td>\n",
       "      <td>41.549106</td>\n",
       "      <td>-80.963614</td>\n",
       "    </tr>\n",
       "    <tr>\n",
       "      <th>3</th>\n",
       "      <td>2020-06-03</td>\n",
       "      <td>18</td>\n",
       "      <td>225</td>\n",
       "      <td>125</td>\n",
       "      <td>CLEVELAND</td>\n",
       "      <td>45</td>\n",
       "      <td>1</td>\n",
       "      <td>1</td>\n",
       "      <td>41.549106</td>\n",
       "      <td>-80.963614</td>\n",
       "    </tr>\n",
       "    <tr>\n",
       "      <th>4</th>\n",
       "      <td>2020-12-25</td>\n",
       "      <td>0</td>\n",
       "      <td>225</td>\n",
       "      <td>125</td>\n",
       "      <td>CLEVELAND</td>\n",
       "      <td>30</td>\n",
       "      <td>7</td>\n",
       "      <td>8</td>\n",
       "      <td>41.549106</td>\n",
       "      <td>-80.963614</td>\n",
       "    </tr>\n",
       "    <tr>\n",
       "      <th>...</th>\n",
       "      <td>...</td>\n",
       "      <td>...</td>\n",
       "      <td>...</td>\n",
       "      <td>...</td>\n",
       "      <td>...</td>\n",
       "      <td>...</td>\n",
       "      <td>...</td>\n",
       "      <td>...</td>\n",
       "      <td>...</td>\n",
       "      <td>...</td>\n",
       "    </tr>\n",
       "    <tr>\n",
       "      <th>1500376</th>\n",
       "      <td>2021-03-13</td>\n",
       "      <td>12</td>\n",
       "      <td>132</td>\n",
       "      <td>100</td>\n",
       "      <td>KANSAS CITY</td>\n",
       "      <td>1</td>\n",
       "      <td>1</td>\n",
       "      <td>6</td>\n",
       "      <td>37.524418</td>\n",
       "      <td>-102.418848</td>\n",
       "    </tr>\n",
       "    <tr>\n",
       "      <th>1500377</th>\n",
       "      <td>2020-10-14</td>\n",
       "      <td>12</td>\n",
       "      <td>120</td>\n",
       "      <td>97</td>\n",
       "      <td>DENVER</td>\n",
       "      <td>6</td>\n",
       "      <td>2</td>\n",
       "      <td>2</td>\n",
       "      <td>36.852220</td>\n",
       "      <td>-105.058036</td>\n",
       "    </tr>\n",
       "    <tr>\n",
       "      <th>1500378</th>\n",
       "      <td>2020-09-23</td>\n",
       "      <td>18</td>\n",
       "      <td>88</td>\n",
       "      <td>120</td>\n",
       "      <td>SALT LAKE CITY</td>\n",
       "      <td>1</td>\n",
       "      <td>1</td>\n",
       "      <td>3</td>\n",
       "      <td>40.328876</td>\n",
       "      <td>-112.819566</td>\n",
       "    </tr>\n",
       "    <tr>\n",
       "      <th>1500379</th>\n",
       "      <td>2020-10-16</td>\n",
       "      <td>6</td>\n",
       "      <td>43</td>\n",
       "      <td>174</td>\n",
       "      <td>SEATTLE</td>\n",
       "      <td>1</td>\n",
       "      <td>1</td>\n",
       "      <td>4</td>\n",
       "      <td>48.085744</td>\n",
       "      <td>-125.760166</td>\n",
       "    </tr>\n",
       "    <tr>\n",
       "      <th>1500380</th>\n",
       "      <td>2020-09-24</td>\n",
       "      <td>6</td>\n",
       "      <td>96</td>\n",
       "      <td>153</td>\n",
       "      <td>SALT LAKE CITY</td>\n",
       "      <td>1</td>\n",
       "      <td>1</td>\n",
       "      <td>2</td>\n",
       "      <td>46.164595</td>\n",
       "      <td>-111.936734</td>\n",
       "    </tr>\n",
       "  </tbody>\n",
       "</table>\n",
       "<p>1500381 rows × 10 columns</p>\n",
       "</div>"
      ],
      "text/plain": [
       "           dateOnly period   Nx   Ny            NAME  PlanesInCell  \\\n",
       "0        2021-05-21      6  225  125      CLEVELAND             17   \n",
       "1        2020-06-01     18  225  125      CLEVELAND             45   \n",
       "2        2020-06-11      0  225  125      CLEVELAND             30   \n",
       "3        2020-06-03     18  225  125      CLEVELAND             45   \n",
       "4        2020-12-25      0  225  125      CLEVELAND             30   \n",
       "...             ...    ...  ...  ...             ...           ...   \n",
       "1500376  2021-03-13     12  132  100     KANSAS CITY             1   \n",
       "1500377  2020-10-14     12  120   97          DENVER             6   \n",
       "1500378  2020-09-23     18   88  120  SALT LAKE CITY             1   \n",
       "1500379  2020-10-16      6   43  174         SEATTLE             1   \n",
       "1500380  2020-09-24      6   96  153  SALT LAKE CITY             1   \n",
       "\n",
       "         PlanesInISSR  iSSRs        Lat         Lon  \n",
       "0                   1      3  41.549106  -80.963614  \n",
       "1                   1      1  41.549106  -80.963614  \n",
       "2                   5      2  41.549106  -80.963614  \n",
       "3                   1      1  41.549106  -80.963614  \n",
       "4                   7      8  41.549106  -80.963614  \n",
       "...               ...    ...        ...         ...  \n",
       "1500376             1      6  37.524418 -102.418848  \n",
       "1500377             2      2  36.852220 -105.058036  \n",
       "1500378             1      3  40.328876 -112.819566  \n",
       "1500379             1      4  48.085744 -125.760166  \n",
       "1500380             1      2  46.164595 -111.936734  \n",
       "\n",
       "[1500381 rows x 10 columns]"
      ]
     },
     "execution_count": 42,
     "metadata": {},
     "output_type": "execute_result"
    }
   ],
   "source": [
    "%%time\n",
    "periodicRAP_Planes_NxNy_GT0_pd = pd.merge(periodicRAP_Planes_NxNy_GT0_pd, latlon, how= 'inner', on= ['Nx', 'Ny'])\n",
    "periodicRAP_Planes_NxNy_GT0_pd"
   ]
  },
  {
   "cell_type": "code",
   "execution_count": 43,
   "id": "d967470d",
   "metadata": {},
   "outputs": [
    {
     "data": {
      "text/plain": [
       "{'paths': ['s3://partly-cloudy-common-area/proof_of_concept/periodicRAP_Planes_NxNy_GT0_pd.csv'],\n",
       " 'partitions_values': {}}"
      ]
     },
     "execution_count": 43,
     "metadata": {},
     "output_type": "execute_result"
    }
   ],
   "source": [
    "output_bucket = 'partly-cloudy-common-area'\n",
    "output_directory = 'proof_of_concept'\n",
    "outputFileName = 'periodicRAP_Planes_NxNy_GT0_pd.csv'\n",
    "wr.s3.to_csv(periodicRAP_Planes_NxNy_GT0_pd, f\"s3://{output_bucket}/{output_directory}/{outputFileName}\", index=False)"
   ]
  },
  {
   "cell_type": "markdown",
   "id": "3c5fd42c",
   "metadata": {},
   "source": [
    "============================================================================================================================"
   ]
  },
  {
   "cell_type": "code",
   "execution_count": 32,
   "id": "334504bf",
   "metadata": {},
   "outputs": [
    {
     "name": "stdout",
     "output_type": "stream",
     "text": [
      "CPU times: user 55.5 ms, sys: 12.4 ms, total: 67.9 ms\n",
      "Wall time: 6min 47s\n"
     ]
    }
   ],
   "source": [
    "%%time\n",
    "issrsPlanesDailyCenter = rap_centers_planes.filter(col('IsISSR') == 1)\\\n",
    "                                            .groupBy(col(\"dateOnly\"), col(\"NAME\")) \\\n",
    "                                            .agg((sum(col(\"hourlyPlanesInISSR\")).alias(\"PlanesInISSR\")),\n",
    "                                             (sum(col(\"isISSR\")).alias(\"iSSRs\")))\n",
    "                                             \n",
    "issrsPlanesDailyCenter_pd = issrsPlanesDailyCenter.toPandas()"
   ]
  },
  {
   "cell_type": "code",
   "execution_count": 33,
   "id": "2bc91064",
   "metadata": {},
   "outputs": [
    {
     "data": {
      "text/html": [
       "<div>\n",
       "<style scoped>\n",
       "    .dataframe tbody tr th:only-of-type {\n",
       "        vertical-align: middle;\n",
       "    }\n",
       "\n",
       "    .dataframe tbody tr th {\n",
       "        vertical-align: top;\n",
       "    }\n",
       "\n",
       "    .dataframe thead th {\n",
       "        text-align: right;\n",
       "    }\n",
       "</style>\n",
       "<table border=\"1\" class=\"dataframe\">\n",
       "  <thead>\n",
       "    <tr style=\"text-align: right;\">\n",
       "      <th></th>\n",
       "      <th>dateOnly</th>\n",
       "      <th>NAME</th>\n",
       "      <th>PlanesInISSR</th>\n",
       "      <th>iSSRs</th>\n",
       "    </tr>\n",
       "  </thead>\n",
       "  <tbody>\n",
       "    <tr>\n",
       "      <th>0</th>\n",
       "      <td>2020-12-07</td>\n",
       "      <td>SALT LAKE CITY</td>\n",
       "      <td>40.0</td>\n",
       "      <td>3982</td>\n",
       "    </tr>\n",
       "    <tr>\n",
       "      <th>1</th>\n",
       "      <td>2021-04-11</td>\n",
       "      <td>BOSTON</td>\n",
       "      <td>1505.0</td>\n",
       "      <td>5663</td>\n",
       "    </tr>\n",
       "    <tr>\n",
       "      <th>2</th>\n",
       "      <td>2020-12-17</td>\n",
       "      <td>CLEVELAND</td>\n",
       "      <td>985.0</td>\n",
       "      <td>2395</td>\n",
       "    </tr>\n",
       "    <tr>\n",
       "      <th>3</th>\n",
       "      <td>2021-04-26</td>\n",
       "      <td>DENVER</td>\n",
       "      <td>1385.0</td>\n",
       "      <td>8745</td>\n",
       "    </tr>\n",
       "    <tr>\n",
       "      <th>4</th>\n",
       "      <td>2020-06-09</td>\n",
       "      <td>SALT LAKE CITY</td>\n",
       "      <td>36.0</td>\n",
       "      <td>1473</td>\n",
       "    </tr>\n",
       "    <tr>\n",
       "      <th>...</th>\n",
       "      <td>...</td>\n",
       "      <td>...</td>\n",
       "      <td>...</td>\n",
       "      <td>...</td>\n",
       "    </tr>\n",
       "    <tr>\n",
       "      <th>6726</th>\n",
       "      <td>2020-06-17</td>\n",
       "      <td>JACKSONVILLE</td>\n",
       "      <td>NaN</td>\n",
       "      <td>17</td>\n",
       "    </tr>\n",
       "    <tr>\n",
       "      <th>6727</th>\n",
       "      <td>2020-08-14</td>\n",
       "      <td>SEATTLE</td>\n",
       "      <td>32.0</td>\n",
       "      <td>85</td>\n",
       "    </tr>\n",
       "    <tr>\n",
       "      <th>6728</th>\n",
       "      <td>2020-08-23</td>\n",
       "      <td>INDIANAPOLIS</td>\n",
       "      <td>328.0</td>\n",
       "      <td>352</td>\n",
       "    </tr>\n",
       "    <tr>\n",
       "      <th>6729</th>\n",
       "      <td>2020-08-24</td>\n",
       "      <td>INDIANAPOLIS</td>\n",
       "      <td>43.0</td>\n",
       "      <td>91</td>\n",
       "    </tr>\n",
       "    <tr>\n",
       "      <th>6730</th>\n",
       "      <td>2020-07-20</td>\n",
       "      <td>MIAMI</td>\n",
       "      <td>91.0</td>\n",
       "      <td>462</td>\n",
       "    </tr>\n",
       "  </tbody>\n",
       "</table>\n",
       "<p>6731 rows × 4 columns</p>\n",
       "</div>"
      ],
      "text/plain": [
       "        dateOnly            NAME  PlanesInISSR  iSSRs\n",
       "0     2020-12-07  SALT LAKE CITY          40.0   3982\n",
       "1     2021-04-11         BOSTON         1505.0   5663\n",
       "2     2020-12-17      CLEVELAND          985.0   2395\n",
       "3     2021-04-26          DENVER        1385.0   8745\n",
       "4     2020-06-09  SALT LAKE CITY          36.0   1473\n",
       "...          ...             ...           ...    ...\n",
       "6726  2020-06-17    JACKSONVILLE           NaN     17\n",
       "6727  2020-08-14         SEATTLE          32.0     85\n",
       "6728  2020-08-23    INDIANAPOLIS         328.0    352\n",
       "6729  2020-08-24    INDIANAPOLIS          43.0     91\n",
       "6730  2020-07-20           MIAMI          91.0    462\n",
       "\n",
       "[6731 rows x 4 columns]"
      ]
     },
     "execution_count": 33,
     "metadata": {},
     "output_type": "execute_result"
    }
   ],
   "source": [
    "issrsPlanesDailyCenter_pd"
   ]
  },
  {
   "cell_type": "code",
   "execution_count": 34,
   "id": "7b9b73bc",
   "metadata": {},
   "outputs": [
    {
     "data": {
      "text/html": [
       "<div>\n",
       "<style scoped>\n",
       "    .dataframe tbody tr th:only-of-type {\n",
       "        vertical-align: middle;\n",
       "    }\n",
       "\n",
       "    .dataframe tbody tr th {\n",
       "        vertical-align: top;\n",
       "    }\n",
       "\n",
       "    .dataframe thead th {\n",
       "        text-align: right;\n",
       "    }\n",
       "</style>\n",
       "<table border=\"1\" class=\"dataframe\">\n",
       "  <thead>\n",
       "    <tr style=\"text-align: right;\">\n",
       "      <th></th>\n",
       "      <th>dateOnly</th>\n",
       "      <th>NAME</th>\n",
       "      <th>PlanesInISSR</th>\n",
       "      <th>iSSRs</th>\n",
       "    </tr>\n",
       "  </thead>\n",
       "  <tbody>\n",
       "    <tr>\n",
       "      <th>3493</th>\n",
       "      <td>2020-10-29</td>\n",
       "      <td>WASHINGTON</td>\n",
       "      <td>17654.0</td>\n",
       "      <td>40158</td>\n",
       "    </tr>\n",
       "    <tr>\n",
       "      <th>4681</th>\n",
       "      <td>2020-10-28</td>\n",
       "      <td>WASHINGTON</td>\n",
       "      <td>15766.0</td>\n",
       "      <td>15096</td>\n",
       "    </tr>\n",
       "    <tr>\n",
       "      <th>550</th>\n",
       "      <td>2020-10-28</td>\n",
       "      <td>INDIANAPOLIS</td>\n",
       "      <td>14244.0</td>\n",
       "      <td>10975</td>\n",
       "    </tr>\n",
       "    <tr>\n",
       "      <th>495</th>\n",
       "      <td>2021-05-27</td>\n",
       "      <td>KANSAS CITY</td>\n",
       "      <td>14126.0</td>\n",
       "      <td>20229</td>\n",
       "    </tr>\n",
       "    <tr>\n",
       "      <th>3290</th>\n",
       "      <td>2020-10-04</td>\n",
       "      <td>JACKSONVILLE</td>\n",
       "      <td>13240.0</td>\n",
       "      <td>26486</td>\n",
       "    </tr>\n",
       "    <tr>\n",
       "      <th>...</th>\n",
       "      <td>...</td>\n",
       "      <td>...</td>\n",
       "      <td>...</td>\n",
       "      <td>...</td>\n",
       "    </tr>\n",
       "    <tr>\n",
       "      <th>6658</th>\n",
       "      <td>2020-12-06</td>\n",
       "      <td>FORT WORTH</td>\n",
       "      <td>NaN</td>\n",
       "      <td>248</td>\n",
       "    </tr>\n",
       "    <tr>\n",
       "      <th>6693</th>\n",
       "      <td>2020-07-03</td>\n",
       "      <td>ALBUQUERQUE</td>\n",
       "      <td>NaN</td>\n",
       "      <td>17</td>\n",
       "    </tr>\n",
       "    <tr>\n",
       "      <th>6702</th>\n",
       "      <td>2021-01-23</td>\n",
       "      <td>MIAMI</td>\n",
       "      <td>NaN</td>\n",
       "      <td>11</td>\n",
       "    </tr>\n",
       "    <tr>\n",
       "      <th>6720</th>\n",
       "      <td>2021-02-05</td>\n",
       "      <td>KANSAS CITY</td>\n",
       "      <td>NaN</td>\n",
       "      <td>7</td>\n",
       "    </tr>\n",
       "    <tr>\n",
       "      <th>6726</th>\n",
       "      <td>2020-06-17</td>\n",
       "      <td>JACKSONVILLE</td>\n",
       "      <td>NaN</td>\n",
       "      <td>17</td>\n",
       "    </tr>\n",
       "  </tbody>\n",
       "</table>\n",
       "<p>6731 rows × 4 columns</p>\n",
       "</div>"
      ],
      "text/plain": [
       "        dateOnly          NAME  PlanesInISSR  iSSRs\n",
       "3493  2020-10-29    WASHINGTON       17654.0  40158\n",
       "4681  2020-10-28    WASHINGTON       15766.0  15096\n",
       "550   2020-10-28  INDIANAPOLIS       14244.0  10975\n",
       "495   2021-05-27   KANSAS CITY       14126.0  20229\n",
       "3290  2020-10-04  JACKSONVILLE       13240.0  26486\n",
       "...          ...           ...           ...    ...\n",
       "6658  2020-12-06    FORT WORTH           NaN    248\n",
       "6693  2020-07-03   ALBUQUERQUE           NaN     17\n",
       "6702  2021-01-23         MIAMI           NaN     11\n",
       "6720  2021-02-05   KANSAS CITY           NaN      7\n",
       "6726  2020-06-17  JACKSONVILLE           NaN     17\n",
       "\n",
       "[6731 rows x 4 columns]"
      ]
     },
     "execution_count": 34,
     "metadata": {},
     "output_type": "execute_result"
    }
   ],
   "source": [
    "issrsPlanesDailyCenter_pd.sort_values(by= ['PlanesInISSR'], axis= 0, ascending= False, inplace= False)"
   ]
  },
  {
   "cell_type": "markdown",
   "id": "011dcd92",
   "metadata": {},
   "source": [
    "==================================================================================================="
   ]
  },
  {
   "cell_type": "markdown",
   "id": "4fe95119",
   "metadata": {},
   "source": [
    "# https://stackoverflow.com/questions/47605552/passing-spark-dataframe-columns-to-geohash-function-pyspark-cannot-convert-co\n",
    "# https://github.com/vinsci/geohash\n",
    "\n",
    "udf1 = udf(lambda x,y: pgh.encode(x,y))\n",
    "df.select('Lat','Lon', udf1('Lat','Lon').alias('geoEncode')).show()\n",
    "\n",
    "df = df.withColumn(\"geoEncode\", udf1(col('Lat'), col('Lon')))"
   ]
  },
  {
   "cell_type": "code",
   "execution_count": 37,
   "id": "bb030811",
   "metadata": {},
   "outputs": [
    {
     "name": "stdout",
     "output_type": "stream",
     "text": [
      "CPU times: user 202 ms, sys: 7.73 ms, total: 209 ms\n",
      "Wall time: 7min 49s\n"
     ]
    }
   ],
   "source": [
    "%%time\n",
    "#issrDailyVol = df.filter(df['IsISSR'] == 1).groupBy(col('dateTime')).count()\n",
    "\n",
    "issrHourly = rap.filter(col('IsISSR') == 1).groupBy(col(\"dateTime\")) \\\n",
    "                                        .agg((sum(col(\"isISSR\")).alias(\"iSSRs\")), \\\n",
    "                                             (min(col(\"altitude_ft\")).alias(\"floor\")), \\\n",
    "                                             (max(col(\"altitude_ft\")).alias(\"ceiling\")))\n",
    "issrHourly_df = issrHourly.toPandas()"
   ]
  },
  {
   "cell_type": "code",
   "execution_count": 38,
   "id": "61ab9913",
   "metadata": {},
   "outputs": [],
   "source": [
    "issrHourly_df.sort_values(by= [\"dateTime\"], axis= 0, ascending= True, inplace= True)"
   ]
  },
  {
   "cell_type": "code",
   "execution_count": 39,
   "id": "89478845",
   "metadata": {},
   "outputs": [
    {
     "data": {
      "text/html": [
       "<div>\n",
       "<style scoped>\n",
       "    .dataframe tbody tr th:only-of-type {\n",
       "        vertical-align: middle;\n",
       "    }\n",
       "\n",
       "    .dataframe tbody tr th {\n",
       "        vertical-align: top;\n",
       "    }\n",
       "\n",
       "    .dataframe thead th {\n",
       "        text-align: right;\n",
       "    }\n",
       "</style>\n",
       "<table border=\"1\" class=\"dataframe\">\n",
       "  <thead>\n",
       "    <tr style=\"text-align: right;\">\n",
       "      <th></th>\n",
       "      <th>index</th>\n",
       "      <th>dateTime</th>\n",
       "      <th>iSSRs</th>\n",
       "      <th>floor</th>\n",
       "      <th>ceiling</th>\n",
       "    </tr>\n",
       "  </thead>\n",
       "  <tbody>\n",
       "    <tr>\n",
       "      <th>0</th>\n",
       "      <td>7897</td>\n",
       "      <td>2020-06-01 00:00:00</td>\n",
       "      <td>7406</td>\n",
       "      <td>23564.338504</td>\n",
       "      <td>41293.296054</td>\n",
       "    </tr>\n",
       "    <tr>\n",
       "      <th>1</th>\n",
       "      <td>7195</td>\n",
       "      <td>2020-06-01 01:00:00</td>\n",
       "      <td>7250</td>\n",
       "      <td>23564.338504</td>\n",
       "      <td>41293.296054</td>\n",
       "    </tr>\n",
       "    <tr>\n",
       "      <th>2</th>\n",
       "      <td>1910</td>\n",
       "      <td>2020-06-01 02:00:00</td>\n",
       "      <td>6401</td>\n",
       "      <td>23564.338504</td>\n",
       "      <td>41293.296054</td>\n",
       "    </tr>\n",
       "    <tr>\n",
       "      <th>3</th>\n",
       "      <td>8406</td>\n",
       "      <td>2020-06-01 03:00:00</td>\n",
       "      <td>6448</td>\n",
       "      <td>23564.338504</td>\n",
       "      <td>41293.296054</td>\n",
       "    </tr>\n",
       "    <tr>\n",
       "      <th>4</th>\n",
       "      <td>3731</td>\n",
       "      <td>2020-06-01 04:00:00</td>\n",
       "      <td>7185</td>\n",
       "      <td>23564.338504</td>\n",
       "      <td>41293.296054</td>\n",
       "    </tr>\n",
       "    <tr>\n",
       "      <th>...</th>\n",
       "      <td>...</td>\n",
       "      <td>...</td>\n",
       "      <td>...</td>\n",
       "      <td>...</td>\n",
       "      <td>...</td>\n",
       "    </tr>\n",
       "    <tr>\n",
       "      <th>8695</th>\n",
       "      <td>892</td>\n",
       "      <td>2021-05-31 19:00:00</td>\n",
       "      <td>5596</td>\n",
       "      <td>26620.205882</td>\n",
       "      <td>41293.296054</td>\n",
       "    </tr>\n",
       "    <tr>\n",
       "      <th>8696</th>\n",
       "      <td>7173</td>\n",
       "      <td>2021-05-31 20:00:00</td>\n",
       "      <td>6053</td>\n",
       "      <td>26620.205882</td>\n",
       "      <td>41293.296054</td>\n",
       "    </tr>\n",
       "    <tr>\n",
       "      <th>8697</th>\n",
       "      <td>3308</td>\n",
       "      <td>2021-05-31 21:00:00</td>\n",
       "      <td>8466</td>\n",
       "      <td>26620.205882</td>\n",
       "      <td>41293.296054</td>\n",
       "    </tr>\n",
       "    <tr>\n",
       "      <th>8698</th>\n",
       "      <td>1074</td>\n",
       "      <td>2021-05-31 22:00:00</td>\n",
       "      <td>8361</td>\n",
       "      <td>26620.205882</td>\n",
       "      <td>41293.296054</td>\n",
       "    </tr>\n",
       "    <tr>\n",
       "      <th>8699</th>\n",
       "      <td>3844</td>\n",
       "      <td>2021-05-31 23:00:00</td>\n",
       "      <td>8973</td>\n",
       "      <td>26620.205882</td>\n",
       "      <td>41293.296054</td>\n",
       "    </tr>\n",
       "  </tbody>\n",
       "</table>\n",
       "<p>8700 rows × 5 columns</p>\n",
       "</div>"
      ],
      "text/plain": [
       "      index            dateTime  iSSRs         floor       ceiling\n",
       "0      7897 2020-06-01 00:00:00   7406  23564.338504  41293.296054\n",
       "1      7195 2020-06-01 01:00:00   7250  23564.338504  41293.296054\n",
       "2      1910 2020-06-01 02:00:00   6401  23564.338504  41293.296054\n",
       "3      8406 2020-06-01 03:00:00   6448  23564.338504  41293.296054\n",
       "4      3731 2020-06-01 04:00:00   7185  23564.338504  41293.296054\n",
       "...     ...                 ...    ...           ...           ...\n",
       "8695    892 2021-05-31 19:00:00   5596  26620.205882  41293.296054\n",
       "8696   7173 2021-05-31 20:00:00   6053  26620.205882  41293.296054\n",
       "8697   3308 2021-05-31 21:00:00   8466  26620.205882  41293.296054\n",
       "8698   1074 2021-05-31 22:00:00   8361  26620.205882  41293.296054\n",
       "8699   3844 2021-05-31 23:00:00   8973  26620.205882  41293.296054\n",
       "\n",
       "[8700 rows x 5 columns]"
      ]
     },
     "execution_count": 39,
     "metadata": {},
     "output_type": "execute_result"
    }
   ],
   "source": [
    "issrHourly_df.reset_index(inplace= True)\n",
    "issrHourly_df"
   ]
  },
  {
   "cell_type": "code",
   "execution_count": 40,
   "id": "57edba52",
   "metadata": {},
   "outputs": [],
   "source": [
    "%matplotlib inline\n",
    "\n",
    "plt.style.use('ggplot')"
   ]
  },
  {
   "cell_type": "code",
   "execution_count": 41,
   "id": "5e49c0d1",
   "metadata": {},
   "outputs": [
    {
     "data": {
      "image/png": "[encoded data removed]",
      "text/plain": [
       "<Figure size 900x400 with 1 Axes>"
      ]
     },
     "metadata": {},
     "output_type": "display_data"
    }
   ],
   "source": [
    "# Graph median speed by Day of Week for all TMC Segments during Morning Rush Hours\n",
    "width = 0.1\n",
    "plt.figure(figsize=(9, 4), dpi=100)\n",
    "plt.bar(issrHourly_df['dateTime'], issrHourly_df['iSSRs'], width)\n",
    "\n",
    "plt.title('Hourly ISSR Volume (total space = 880,425)')\n",
    "plt.xlabel('Date/Hour')\n",
    "plt.ylabel('ISSR Volume')\n",
    "plt.xticks(rotation= 90)\n",
    "\n",
    "#plt.xticks(dayOfWeekMedianSpeed_2020['dayOfWeek'] + width/2, dayOfWeekMedianSpeed_2020['dayOfWeek'])\n",
    "#plt.legend(loc= 'upper right')\n",
    "plt.show()"
   ]
  },
  {
   "cell_type": "code",
   "execution_count": 42,
   "id": "c8059c9a",
   "metadata": {},
   "outputs": [
    {
     "data": {
      "image/png": "[encoded data removed]",
      "text/plain": [
       "<Figure size 900x400 with 1 Axes>"
      ]
     },
     "metadata": {},
     "output_type": "display_data"
    }
   ],
   "source": [
    "# Graph median speed by Day of Week for all TMC Segments during Morning Rush Hours\n",
    "plt.figure(figsize=(9, 4), dpi=100)\n",
    "plt.plot(issrHourly_df.index, issrHourly_df['ceiling'], label= 'ceiling')\n",
    "plt.plot(issrHourly_df.index, issrHourly_df['floor'], label= 'floor')\n",
    "\n",
    "tickDateTimes = pd.date_range('2020-05-01 00:00:00', '2021-07-01 00:00:00', freq= pd.offsets.MonthBegin(1))\n",
    "timesList = [str(t) for t in tickDateTimes]\n",
    "idxList = [i for i in issrHourly_df.index if str(issrHourly_df['dateTime'][i]) in timesList]\n",
    "\n",
    "plt.title('ISSR High/Low Altitudes')\n",
    "plt.xlabel('Date/Hour')\n",
    "plt.ylabel('Altitude (ft)')\n",
    "plt.xticks(idxList, list((issrHourly_df['dateTime'][idxList])), rotation= 90)\n",
    "\n",
    "#plt.xticks(dayOfWeekMedianSpeed_2020['dayOfWeek'] + width/2, dayOfWeekMedianSpeed_2020['dayOfWeek'])\n",
    "plt.legend(loc= 'right')\n",
    "plt.show()"
   ]
  },
  {
   "cell_type": "code",
   "execution_count": 43,
   "id": "44359052",
   "metadata": {},
   "outputs": [],
   "source": [
    "months = [issrHourly_df['dateTime'][i].month for i in range(issrHourly_df.shape[0])]"
   ]
  },
  {
   "cell_type": "code",
   "execution_count": 44,
   "id": "30d64e82",
   "metadata": {},
   "outputs": [],
   "source": [
    "issr_list = list(issrHourly_df['iSSRs'])"
   ]
  },
  {
   "cell_type": "code",
   "execution_count": 45,
   "id": "b6cf1fd9",
   "metadata": {},
   "outputs": [],
   "source": [
    "issrMonthly = pd.DataFrame({'month': months, 'issrs': issr_list} )"
   ]
  },
  {
   "cell_type": "code",
   "execution_count": 46,
   "id": "af9fd283",
   "metadata": {},
   "outputs": [
    {
     "data": {
      "text/html": [
       "<div>\n",
       "<style scoped>\n",
       "    .dataframe tbody tr th:only-of-type {\n",
       "        vertical-align: middle;\n",
       "    }\n",
       "\n",
       "    .dataframe tbody tr th {\n",
       "        vertical-align: top;\n",
       "    }\n",
       "\n",
       "    .dataframe thead th {\n",
       "        text-align: right;\n",
       "    }\n",
       "</style>\n",
       "<table border=\"1\" class=\"dataframe\">\n",
       "  <thead>\n",
       "    <tr style=\"text-align: right;\">\n",
       "      <th></th>\n",
       "      <th>month</th>\n",
       "      <th>issrs</th>\n",
       "    </tr>\n",
       "  </thead>\n",
       "  <tbody>\n",
       "    <tr>\n",
       "      <th>0</th>\n",
       "      <td>6</td>\n",
       "      <td>7406</td>\n",
       "    </tr>\n",
       "    <tr>\n",
       "      <th>1</th>\n",
       "      <td>6</td>\n",
       "      <td>7250</td>\n",
       "    </tr>\n",
       "    <tr>\n",
       "      <th>2</th>\n",
       "      <td>6</td>\n",
       "      <td>6401</td>\n",
       "    </tr>\n",
       "    <tr>\n",
       "      <th>3</th>\n",
       "      <td>6</td>\n",
       "      <td>6448</td>\n",
       "    </tr>\n",
       "    <tr>\n",
       "      <th>4</th>\n",
       "      <td>6</td>\n",
       "      <td>7185</td>\n",
       "    </tr>\n",
       "    <tr>\n",
       "      <th>...</th>\n",
       "      <td>...</td>\n",
       "      <td>...</td>\n",
       "    </tr>\n",
       "    <tr>\n",
       "      <th>8695</th>\n",
       "      <td>5</td>\n",
       "      <td>5596</td>\n",
       "    </tr>\n",
       "    <tr>\n",
       "      <th>8696</th>\n",
       "      <td>5</td>\n",
       "      <td>6053</td>\n",
       "    </tr>\n",
       "    <tr>\n",
       "      <th>8697</th>\n",
       "      <td>5</td>\n",
       "      <td>8466</td>\n",
       "    </tr>\n",
       "    <tr>\n",
       "      <th>8698</th>\n",
       "      <td>5</td>\n",
       "      <td>8361</td>\n",
       "    </tr>\n",
       "    <tr>\n",
       "      <th>8699</th>\n",
       "      <td>5</td>\n",
       "      <td>8973</td>\n",
       "    </tr>\n",
       "  </tbody>\n",
       "</table>\n",
       "<p>8700 rows × 2 columns</p>\n",
       "</div>"
      ],
      "text/plain": [
       "      month  issrs\n",
       "0         6   7406\n",
       "1         6   7250\n",
       "2         6   6401\n",
       "3         6   6448\n",
       "4         6   7185\n",
       "...     ...    ...\n",
       "8695      5   5596\n",
       "8696      5   6053\n",
       "8697      5   8466\n",
       "8698      5   8361\n",
       "8699      5   8973\n",
       "\n",
       "[8700 rows x 2 columns]"
      ]
     },
     "execution_count": 46,
     "metadata": {},
     "output_type": "execute_result"
    }
   ],
   "source": [
    "issrMonthly"
   ]
  },
  {
   "cell_type": "code",
   "execution_count": 47,
   "id": "a1001a91",
   "metadata": {},
   "outputs": [],
   "source": [
    "issrMonthly_df = issrMonthly.groupby('month').sum()"
   ]
  },
  {
   "cell_type": "code",
   "execution_count": 48,
   "id": "a7eaaddf",
   "metadata": {},
   "outputs": [
    {
     "data": {
      "text/html": [
       "<div>\n",
       "<style scoped>\n",
       "    .dataframe tbody tr th:only-of-type {\n",
       "        vertical-align: middle;\n",
       "    }\n",
       "\n",
       "    .dataframe tbody tr th {\n",
       "        vertical-align: top;\n",
       "    }\n",
       "\n",
       "    .dataframe thead th {\n",
       "        text-align: right;\n",
       "    }\n",
       "</style>\n",
       "<table border=\"1\" class=\"dataframe\">\n",
       "  <thead>\n",
       "    <tr style=\"text-align: right;\">\n",
       "      <th></th>\n",
       "      <th>issrs</th>\n",
       "    </tr>\n",
       "    <tr>\n",
       "      <th>month</th>\n",
       "      <th></th>\n",
       "    </tr>\n",
       "  </thead>\n",
       "  <tbody>\n",
       "    <tr>\n",
       "      <th>1</th>\n",
       "      <td>6427921</td>\n",
       "    </tr>\n",
       "    <tr>\n",
       "      <th>2</th>\n",
       "      <td>5121588</td>\n",
       "    </tr>\n",
       "    <tr>\n",
       "      <th>3</th>\n",
       "      <td>6287976</td>\n",
       "    </tr>\n",
       "    <tr>\n",
       "      <th>4</th>\n",
       "      <td>3948918</td>\n",
       "    </tr>\n",
       "    <tr>\n",
       "      <th>5</th>\n",
       "      <td>3403485</td>\n",
       "    </tr>\n",
       "    <tr>\n",
       "      <th>6</th>\n",
       "      <td>4917631</td>\n",
       "    </tr>\n",
       "    <tr>\n",
       "      <th>7</th>\n",
       "      <td>4075105</td>\n",
       "    </tr>\n",
       "    <tr>\n",
       "      <th>8</th>\n",
       "      <td>3827339</td>\n",
       "    </tr>\n",
       "    <tr>\n",
       "      <th>9</th>\n",
       "      <td>4041602</td>\n",
       "    </tr>\n",
       "    <tr>\n",
       "      <th>10</th>\n",
       "      <td>5849366</td>\n",
       "    </tr>\n",
       "    <tr>\n",
       "      <th>11</th>\n",
       "      <td>5424961</td>\n",
       "    </tr>\n",
       "    <tr>\n",
       "      <th>12</th>\n",
       "      <td>7343869</td>\n",
       "    </tr>\n",
       "  </tbody>\n",
       "</table>\n",
       "</div>"
      ],
      "text/plain": [
       "         issrs\n",
       "month         \n",
       "1      6427921\n",
       "2      5121588\n",
       "3      6287976\n",
       "4      3948918\n",
       "5      3403485\n",
       "6      4917631\n",
       "7      4075105\n",
       "8      3827339\n",
       "9      4041602\n",
       "10     5849366\n",
       "11     5424961\n",
       "12     7343869"
      ]
     },
     "execution_count": 48,
     "metadata": {},
     "output_type": "execute_result"
    }
   ],
   "source": [
    "issrMonthly_df"
   ]
  },
  {
   "cell_type": "code",
   "execution_count": 49,
   "id": "91a78cba",
   "metadata": {},
   "outputs": [
    {
     "data": {
      "image/png": "[encoded data removed]",
      "text/plain": [
       "<Figure size 900x400 with 1 Axes>"
      ]
     },
     "metadata": {},
     "output_type": "display_data"
    }
   ],
   "source": [
    "width = 0.5\n",
    "plt.figure(figsize=(9, 4), dpi=100)\n",
    "plt.bar(issrMonthly_df.index, issrMonthly_df['issrs'], width)\n",
    "\n",
    "plt.title('Monthly ISSR Volume')\n",
    "plt.xlabel('Month')\n",
    "plt.ylabel('ISSR Volume')\n",
    "plt.xticks(rotation= 90)\n",
    "\n",
    "#plt.xticks(dayOfWeekMedianSpeed_2020['dayOfWeek'] + width/2, dayOfWeekMedianSpeed_2020['dayOfWeek'])\n",
    "#plt.legend(loc= 'upper right')\n",
    "plt.show()"
   ]
  },
  {
   "cell_type": "markdown",
   "id": "0dd9ccb6",
   "metadata": {},
   "source": [
    "Below code stores a dataframe to s3 Bucket"
   ]
  },
  {
   "cell_type": "code",
   "execution_count": 50,
   "id": "de5f4439",
   "metadata": {},
   "outputs": [
    {
     "name": "stdout",
     "output_type": "stream",
     "text": [
      "CPU times: user 2 µs, sys: 0 ns, total: 2 µs\n",
      "Wall time: 4.77 µs\n"
     ]
    }
   ],
   "source": [
    "%%time\n",
    "# wr.s3.to_csv(issrDaily_df, 's3://partly-cloudy-common-area/hourly_issr_summary.csv', index=False)"
   ]
  },
  {
   "cell_type": "code",
   "execution_count": 53,
   "id": "7f0b4ee6",
   "metadata": {},
   "outputs": [
    {
     "name": "stdout",
     "output_type": "stream",
     "text": [
      "CPU times: user 1.05 s, sys: 24.2 ms, total: 1.07 s\n",
      "Wall time: 7min 15s\n"
     ]
    }
   ],
   "source": [
    "%%time\n",
    "issrHours = rap.filter(col('IsISSR') == 1).groupBy(col(\"Nx\"), col(\"Ny\")) \\\n",
    "                                        .agg((sum(col(\"IsISSR\")).alias(\"iSSR_hours\")))\n",
    "issrHours_df = issrHours.toPandas()"
   ]
  },
  {
   "cell_type": "code",
   "execution_count": 54,
   "id": "3ee1be18",
   "metadata": {},
   "outputs": [
    {
     "data": {
      "text/html": [
       "<div>\n",
       "<style scoped>\n",
       "    .dataframe tbody tr th:only-of-type {\n",
       "        vertical-align: middle;\n",
       "    }\n",
       "\n",
       "    .dataframe tbody tr th {\n",
       "        vertical-align: top;\n",
       "    }\n",
       "\n",
       "    .dataframe thead th {\n",
       "        text-align: right;\n",
       "    }\n",
       "</style>\n",
       "<table border=\"1\" class=\"dataframe\">\n",
       "  <thead>\n",
       "    <tr style=\"text-align: right;\">\n",
       "      <th></th>\n",
       "      <th>Nx</th>\n",
       "      <th>Ny</th>\n",
       "      <th>iSSR_hours</th>\n",
       "    </tr>\n",
       "  </thead>\n",
       "  <tbody>\n",
       "    <tr>\n",
       "      <th>0</th>\n",
       "      <td>201</td>\n",
       "      <td>114</td>\n",
       "      <td>981</td>\n",
       "    </tr>\n",
       "    <tr>\n",
       "      <th>1</th>\n",
       "      <td>71</td>\n",
       "      <td>4</td>\n",
       "      <td>720</td>\n",
       "    </tr>\n",
       "    <tr>\n",
       "      <th>2</th>\n",
       "      <td>275</td>\n",
       "      <td>19</td>\n",
       "      <td>706</td>\n",
       "    </tr>\n",
       "    <tr>\n",
       "      <th>3</th>\n",
       "      <td>58</td>\n",
       "      <td>34</td>\n",
       "      <td>517</td>\n",
       "    </tr>\n",
       "    <tr>\n",
       "      <th>4</th>\n",
       "      <td>195</td>\n",
       "      <td>46</td>\n",
       "      <td>962</td>\n",
       "    </tr>\n",
       "    <tr>\n",
       "      <th>...</th>\n",
       "      <td>...</td>\n",
       "      <td>...</td>\n",
       "      <td>...</td>\n",
       "    </tr>\n",
       "    <tr>\n",
       "      <th>67720</th>\n",
       "      <td>164</td>\n",
       "      <td>1</td>\n",
       "      <td>526</td>\n",
       "    </tr>\n",
       "    <tr>\n",
       "      <th>67721</th>\n",
       "      <td>91</td>\n",
       "      <td>99</td>\n",
       "      <td>304</td>\n",
       "    </tr>\n",
       "    <tr>\n",
       "      <th>67722</th>\n",
       "      <td>219</td>\n",
       "      <td>16</td>\n",
       "      <td>855</td>\n",
       "    </tr>\n",
       "    <tr>\n",
       "      <th>67723</th>\n",
       "      <td>149</td>\n",
       "      <td>23</td>\n",
       "      <td>504</td>\n",
       "    </tr>\n",
       "    <tr>\n",
       "      <th>67724</th>\n",
       "      <td>284</td>\n",
       "      <td>2</td>\n",
       "      <td>633</td>\n",
       "    </tr>\n",
       "  </tbody>\n",
       "</table>\n",
       "<p>67725 rows × 3 columns</p>\n",
       "</div>"
      ],
      "text/plain": [
       "        Nx   Ny  iSSR_hours\n",
       "0      201  114         981\n",
       "1       71    4         720\n",
       "2      275   19         706\n",
       "3       58   34         517\n",
       "4      195   46         962\n",
       "...    ...  ...         ...\n",
       "67720  164    1         526\n",
       "67721   91   99         304\n",
       "67722  219   16         855\n",
       "67723  149   23         504\n",
       "67724  284    2         633\n",
       "\n",
       "[67725 rows x 3 columns]"
      ]
     },
     "execution_count": 54,
     "metadata": {},
     "output_type": "execute_result"
    }
   ],
   "source": [
    "issrHours_df"
   ]
  },
  {
   "cell_type": "code",
   "execution_count": 55,
   "id": "2582407b",
   "metadata": {},
   "outputs": [],
   "source": [
    "latlonRAP = wr.s3.read_csv(path= 's3://partly-cloudy-common-area/proof_of_concept/latlonRAP.csv')"
   ]
  },
  {
   "cell_type": "code",
   "execution_count": 56,
   "id": "6da69524",
   "metadata": {},
   "outputs": [
    {
     "data": {
      "text/html": [
       "<div>\n",
       "<style scoped>\n",
       "    .dataframe tbody tr th:only-of-type {\n",
       "        vertical-align: middle;\n",
       "    }\n",
       "\n",
       "    .dataframe tbody tr th {\n",
       "        vertical-align: top;\n",
       "    }\n",
       "\n",
       "    .dataframe thead th {\n",
       "        text-align: right;\n",
       "    }\n",
       "</style>\n",
       "<table border=\"1\" class=\"dataframe\">\n",
       "  <thead>\n",
       "    <tr style=\"text-align: right;\">\n",
       "      <th></th>\n",
       "      <th>Nx</th>\n",
       "      <th>Ny</th>\n",
       "      <th>iSSR_hours</th>\n",
       "      <th>Lat</th>\n",
       "      <th>Lon</th>\n",
       "    </tr>\n",
       "  </thead>\n",
       "  <tbody>\n",
       "    <tr>\n",
       "      <th>0</th>\n",
       "      <td>201</td>\n",
       "      <td>114</td>\n",
       "      <td>981</td>\n",
       "      <td>39.971007</td>\n",
       "      <td>-86.716282</td>\n",
       "    </tr>\n",
       "    <tr>\n",
       "      <th>1</th>\n",
       "      <td>71</td>\n",
       "      <td>4</td>\n",
       "      <td>720</td>\n",
       "      <td>19.111985</td>\n",
       "      <td>-113.137049</td>\n",
       "    </tr>\n",
       "    <tr>\n",
       "      <th>2</th>\n",
       "      <td>275</td>\n",
       "      <td>19</td>\n",
       "      <td>706</td>\n",
       "      <td>21.388344</td>\n",
       "      <td>-73.365253</td>\n",
       "    </tr>\n",
       "    <tr>\n",
       "      <th>3</th>\n",
       "      <td>58</td>\n",
       "      <td>34</td>\n",
       "      <td>517</td>\n",
       "      <td>24.178984</td>\n",
       "      <td>-116.518989</td>\n",
       "    </tr>\n",
       "    <tr>\n",
       "      <th>4</th>\n",
       "      <td>195</td>\n",
       "      <td>46</td>\n",
       "      <td>962</td>\n",
       "      <td>27.800133</td>\n",
       "      <td>-88.808579</td>\n",
       "    </tr>\n",
       "    <tr>\n",
       "      <th>...</th>\n",
       "      <td>...</td>\n",
       "      <td>...</td>\n",
       "      <td>...</td>\n",
       "      <td>...</td>\n",
       "      <td>...</td>\n",
       "    </tr>\n",
       "    <tr>\n",
       "      <th>67720</th>\n",
       "      <td>164</td>\n",
       "      <td>1</td>\n",
       "      <td>526</td>\n",
       "      <td>19.711466</td>\n",
       "      <td>-95.193307</td>\n",
       "    </tr>\n",
       "    <tr>\n",
       "      <th>67721</th>\n",
       "      <td>91</td>\n",
       "      <td>99</td>\n",
       "      <td>304</td>\n",
       "      <td>36.700235</td>\n",
       "      <td>-111.542597</td>\n",
       "    </tr>\n",
       "    <tr>\n",
       "      <th>67722</th>\n",
       "      <td>219</td>\n",
       "      <td>16</td>\n",
       "      <td>855</td>\n",
       "      <td>22.058713</td>\n",
       "      <td>-84.356972</td>\n",
       "    </tr>\n",
       "    <tr>\n",
       "      <th>67723</th>\n",
       "      <td>149</td>\n",
       "      <td>23</td>\n",
       "      <td>504</td>\n",
       "      <td>23.689634</td>\n",
       "      <td>-98.191992</td>\n",
       "    </tr>\n",
       "    <tr>\n",
       "      <th>67724</th>\n",
       "      <td>284</td>\n",
       "      <td>2</td>\n",
       "      <td>633</td>\n",
       "      <td>18.069735</td>\n",
       "      <td>-72.185164</td>\n",
       "    </tr>\n",
       "  </tbody>\n",
       "</table>\n",
       "<p>67725 rows × 5 columns</p>\n",
       "</div>"
      ],
      "text/plain": [
       "        Nx   Ny  iSSR_hours        Lat         Lon\n",
       "0      201  114         981  39.971007  -86.716282\n",
       "1       71    4         720  19.111985 -113.137049\n",
       "2      275   19         706  21.388344  -73.365253\n",
       "3       58   34         517  24.178984 -116.518989\n",
       "4      195   46         962  27.800133  -88.808579\n",
       "...    ...  ...         ...        ...         ...\n",
       "67720  164    1         526  19.711466  -95.193307\n",
       "67721   91   99         304  36.700235 -111.542597\n",
       "67722  219   16         855  22.058713  -84.356972\n",
       "67723  149   23         504  23.689634  -98.191992\n",
       "67724  284    2         633  18.069735  -72.185164\n",
       "\n",
       "[67725 rows x 5 columns]"
      ]
     },
     "execution_count": 56,
     "metadata": {},
     "output_type": "execute_result"
    }
   ],
   "source": [
    "issrHours_df = pd.merge(issrHours_df, latlonRAP, on= ['Nx', 'Ny'])\n",
    "issrHours_df"
   ]
  },
  {
   "cell_type": "markdown",
   "id": "157014f9",
   "metadata": {},
   "source": [
    "output_bucket = 'partly-cloudy-common-area'\n",
    "outputFileName = 'AnnualTotalISSR_CellHours_df.csv' \n",
    "wr.s3.to_csv(issrHours_df, f\"s3://{output_bucket}/{outputFileName}\", index=False)"
   ]
  },
  {
   "cell_type": "code",
   "execution_count": 61,
   "id": "21d946fd",
   "metadata": {},
   "outputs": [],
   "source": [
    "issrHoursMonthly = rap.filter(col('IsISSR') == 1).groupBy(col(\"Nx\"), col(\"Ny\"), col('month')) \\\n",
    "                                        .agg((sum(col(\"IsISSR\")).alias(\"iSSR_hours\")))\n",
    "issrHoursMonthly_df = issrHoursMonthly.toPandas()"
   ]
  },
  {
   "cell_type": "code",
   "execution_count": 62,
   "id": "0fc3aa15",
   "metadata": {},
   "outputs": [
    {
     "data": {
      "text/html": [
       "<div>\n",
       "<style scoped>\n",
       "    .dataframe tbody tr th:only-of-type {\n",
       "        vertical-align: middle;\n",
       "    }\n",
       "\n",
       "    .dataframe tbody tr th {\n",
       "        vertical-align: top;\n",
       "    }\n",
       "\n",
       "    .dataframe thead th {\n",
       "        text-align: right;\n",
       "    }\n",
       "</style>\n",
       "<table border=\"1\" class=\"dataframe\">\n",
       "  <thead>\n",
       "    <tr style=\"text-align: right;\">\n",
       "      <th></th>\n",
       "      <th>Nx</th>\n",
       "      <th>Ny</th>\n",
       "      <th>month</th>\n",
       "      <th>iSSR_hours</th>\n",
       "    </tr>\n",
       "  </thead>\n",
       "  <tbody>\n",
       "    <tr>\n",
       "      <th>0</th>\n",
       "      <td>217</td>\n",
       "      <td>146</td>\n",
       "      <td>5</td>\n",
       "      <td>39</td>\n",
       "    </tr>\n",
       "    <tr>\n",
       "      <th>1</th>\n",
       "      <td>75</td>\n",
       "      <td>3</td>\n",
       "      <td>5</td>\n",
       "      <td>29</td>\n",
       "    </tr>\n",
       "    <tr>\n",
       "      <th>2</th>\n",
       "      <td>295</td>\n",
       "      <td>17</td>\n",
       "      <td>5</td>\n",
       "      <td>23</td>\n",
       "    </tr>\n",
       "    <tr>\n",
       "      <th>3</th>\n",
       "      <td>21</td>\n",
       "      <td>118</td>\n",
       "      <td>5</td>\n",
       "      <td>39</td>\n",
       "    </tr>\n",
       "    <tr>\n",
       "      <th>4</th>\n",
       "      <td>201</td>\n",
       "      <td>168</td>\n",
       "      <td>5</td>\n",
       "      <td>60</td>\n",
       "    </tr>\n",
       "    <tr>\n",
       "      <th>...</th>\n",
       "      <td>...</td>\n",
       "      <td>...</td>\n",
       "      <td>...</td>\n",
       "      <td>...</td>\n",
       "    </tr>\n",
       "    <tr>\n",
       "      <th>794934</th>\n",
       "      <td>267</td>\n",
       "      <td>39</td>\n",
       "      <td>2</td>\n",
       "      <td>3</td>\n",
       "    </tr>\n",
       "    <tr>\n",
       "      <th>794935</th>\n",
       "      <td>65</td>\n",
       "      <td>45</td>\n",
       "      <td>7</td>\n",
       "      <td>3</td>\n",
       "    </tr>\n",
       "    <tr>\n",
       "      <th>794936</th>\n",
       "      <td>74</td>\n",
       "      <td>126</td>\n",
       "      <td>7</td>\n",
       "      <td>1</td>\n",
       "    </tr>\n",
       "    <tr>\n",
       "      <th>794937</th>\n",
       "      <td>64</td>\n",
       "      <td>35</td>\n",
       "      <td>7</td>\n",
       "      <td>1</td>\n",
       "    </tr>\n",
       "    <tr>\n",
       "      <th>794938</th>\n",
       "      <td>5</td>\n",
       "      <td>21</td>\n",
       "      <td>7</td>\n",
       "      <td>1</td>\n",
       "    </tr>\n",
       "  </tbody>\n",
       "</table>\n",
       "<p>794939 rows × 4 columns</p>\n",
       "</div>"
      ],
      "text/plain": [
       "         Nx   Ny  month  iSSR_hours\n",
       "0       217  146      5          39\n",
       "1        75    3      5          29\n",
       "2       295   17      5          23\n",
       "3        21  118      5          39\n",
       "4       201  168      5          60\n",
       "...     ...  ...    ...         ...\n",
       "794934  267   39      2           3\n",
       "794935   65   45      7           3\n",
       "794936   74  126      7           1\n",
       "794937   64   35      7           1\n",
       "794938    5   21      7           1\n",
       "\n",
       "[794939 rows x 4 columns]"
      ]
     },
     "execution_count": 62,
     "metadata": {},
     "output_type": "execute_result"
    }
   ],
   "source": [
    "issrHoursMonthly_df"
   ]
  },
  {
   "cell_type": "code",
   "execution_count": 63,
   "id": "90dfcf6f",
   "metadata": {},
   "outputs": [],
   "source": [
    "latlonRAP = wr.s3.read_csv(path= 's3://partly-cloudy-common-area/proof_of_concept/latlonRAP.csv')\n",
    "issrHoursMonthly_df = pd.merge(issrHoursMonthly_df, latlonRAP, on= ['Nx', 'Ny'])\n"
   ]
  },
  {
   "cell_type": "markdown",
   "id": "765dcd02",
   "metadata": {},
   "source": [
    "output_bucket = 'partly-cloudy-common-area'\n",
    "outputFileName = 'MonthlyTotalISSR_CellHours_df.csv' \n",
    "wr.s3.to_csv(issrHoursMonthly_df, f\"s3://{output_bucket}/{outputFileName}\", index=False)"
   ]
  },
  {
   "cell_type": "code",
   "execution_count": null,
   "id": "535f7a34",
   "metadata": {},
   "outputs": [],
   "source": []
  }
 ],
 "metadata": {
  "kernelspec": {
   "display_name": "conda_python3",
   "language": "python",
   "name": "conda_python3"
  },
  "language_info": {
   "codemirror_mode": {
    "name": "ipython",
    "version": 3
   },
   "file_extension": ".py",
   "mimetype": "text/x-python",
   "name": "python",
   "nbconvert_exporter": "python",
   "pygments_lexer": "ipython3",
   "version": "3.6.13"
  }
 },
 "nbformat": 4,
 "nbformat_minor": 5
}
