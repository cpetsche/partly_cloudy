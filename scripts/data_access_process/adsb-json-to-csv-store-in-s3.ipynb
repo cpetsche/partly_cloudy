{
 "cells": [
  {
   "cell_type": "markdown",
   "id": "21fa62ef",
   "metadata": {},
   "source": [
    "https://aws-data-wrangler.readthedocs.io/en/stable/stubs/awswrangler.s3.read_csv.html"
   ]
  },
  {
   "cell_type": "markdown",
   "id": "47758463",
   "metadata": {},
   "source": [
    "The scrip below performs the following:\n",
    "1. Read all ADS-B jason files as a single dataframe\n",
    "2. Compute NOAA RAP pressure level (hPa) for each flight track record in the dataframe\n",
    "3. Filter the records in the dataframe for CONUS\n",
    "4. Save the dataframe to AWS S3 Bucket"
   ]
  },
  {
   "cell_type": "code",
   "execution_count": null,
   "id": "40ab659c",
   "metadata": {},
   "outputs": [],
   "source": [
    "pip install awswrangler"
   ]
  },
  {
   "cell_type": "code",
   "execution_count": null,
   "id": "9c05af58",
   "metadata": {},
   "outputs": [],
   "source": [
    "pip install haversine"
   ]
  },
  {
   "cell_type": "code",
   "execution_count": null,
   "id": "77929316",
   "metadata": {},
   "outputs": [],
   "source": [
    "import sagemaker\n",
    "import boto3\n",
    "import awswrangler as wr\n",
    "\n",
    "import pandas as pd\n",
    "import numpy as np\n",
    "from datetime import datetime\n",
    "\n",
    "import json\n",
    "from haversine import haversine, Unit\n",
    "from scipy.spatial import distance"
   ]
  },
  {
   "cell_type": "code",
   "execution_count": null,
   "id": "6f7af063",
   "metadata": {},
   "outputs": [],
   "source": [
    "input_bucket = 'adsb-data'\n",
    "input_subfolder = ''\n",
    "\n",
    "output_bucket = 'partly-cloudy-common-area'\n",
    "output_subfolder = ''"
   ]
  },
  {
   "cell_type": "code",
   "execution_count": null,
   "id": "c68529a1",
   "metadata": {},
   "outputs": [],
   "source": [
    "from sagemaker import get_execution_role\n",
    "role = get_execution_role()"
   ]
  },
  {
   "cell_type": "code",
   "execution_count": null,
   "id": "48a48c5a",
   "metadata": {},
   "outputs": [],
   "source": [
    "# Examine the files in the 'adsb-data s3 Bucket\n",
    "conn = boto3.client('s3')\n",
    "contents = conn.list_objects(Bucket= input_bucket, Prefix= input_subfolder)['Contents']\n",
    "for f in contents:\n",
    "    print(f['Key'])"
   ]
  },
  {
   "cell_type": "code",
   "execution_count": null,
   "id": "b53330db",
   "metadata": {},
   "outputs": [],
   "source": [
    "# Examine the contents in the 'adsb-data' s3 Bucket\n",
    "contents"
   ]
  },
  {
   "cell_type": "code",
   "execution_count": null,
   "id": "9bdaf154",
   "metadata": {},
   "outputs": [],
   "source": [
    "# Get all file names in 'adsb-data' Bucket into a list \n",
    "myFileNames = [f['Key'] for f in contents] # <---------------------- Using 'AWS contents' does not work!!!\n",
    "# myFileNames = ['2016_06_20_0002Z.json', '2016_06_20_0003Z.json']"
   ]
  },
  {
   "cell_type": "code",
   "execution_count": null,
   "id": "61f02987",
   "metadata": {},
   "outputs": [],
   "source": [
    "# Generate all file names assume to be in 'adsb-data' <--------------------------------- Redo by Iteration\n",
    "dateTimes = pd.date_range('2016-06-20 00:00:00', '2016-06-20 23:59:00', freq= 'T')\n",
    "dateTimesSer = pd.Series([str(dateTime) for dateTime in dateTimes], name= 'temp')\n",
    "myFileNames = [dateTimesSer[i][0:4] + '_' + dateTimesSer[i][5:7] + '_' + dateTimesSer[i][8:10] + '_' + dateTimesSer[i][11:13] + dateTimesSer[i][14:16] +'Z.json' for i in range(len(dateTimesSer))]"
   ]
  },
  {
   "cell_type": "code",
   "execution_count": null,
   "id": "27986888",
   "metadata": {},
   "outputs": [],
   "source": [
    "myFileNames"
   ]
  },
  {
   "cell_type": "code",
   "execution_count": null,
   "id": "1686fc94",
   "metadata": {},
   "outputs": [],
   "source": [
    "%%time\n",
    "# Obtain necessary data items from all json files in 'adsb-data' in a single dataframe\n",
    "\n",
    "dt = []\n",
    "eyedee = []\n",
    "alt = []\n",
    "lat = []\n",
    "long = []\n",
    "\n",
    "for myFileName in myFileNames:\n",
    "    s3_obj = boto3.client('s3')\n",
    "    s3_myobj = s3_obj.get_object(Bucket= input_bucket, Key= myFileName)\n",
    "    s3_mydata = s3_myobj['Body'].read().decode('utf-8')\n",
    "    js = json.loads(s3_mydata)\n",
    "    \n",
    "    dattim = datetime(year= int(myFileName[0:4]),\n",
    "                      month= int(myFileName[5:7]),\n",
    "                      day= int(myFileName[8:10]),\n",
    "                      hour= int(myFileName[11:13]),\n",
    "                      minute= int(myFileName[13:15]),\n",
    "                      second= 0)\n",
    "    \n",
    "    for i in range(len(js['acList'])):\n",
    "        dt.append(str(dattim))\n",
    "        if \"Id\" in js['acList'][i].keys():\n",
    "            eyedee.append(js['acList'][i]['Id'])\n",
    "        else:\n",
    "            eyedee.append(np.nan)\n",
    "        if \"Alt\" in js['acList'][i].keys():\n",
    "            alt.append(js['acList'][i]['Alt'])\n",
    "        else:\n",
    "            alt.append(np.nan)\n",
    "        if (\"Lat\" in js['acList'][i].keys()):\n",
    "            if type(js['acList'][i]['Lat']) == np.float:\n",
    "                lat.append(js['acList'][i]['Lat'])\n",
    "            else:\n",
    "                lat.append(np.nan)\n",
    "        else:\n",
    "            lat.append(np.nan)\n",
    "        if \"Long\" in js['acList'][i].keys():\n",
    "            long.append(js['acList'][i]['Long'])\n",
    "        else:\n",
    "            long.append(np.nan)\n"
   ]
  },
  {
   "cell_type": "code",
   "execution_count": null,
   "id": "1c886395",
   "metadata": {},
   "outputs": [],
   "source": [
    "df = pd.DataFrame({\"DateTime\":dt, \"id\":eyedee, 'Altitude':alt, 'Latitude':lat, 'Longitude':long})"
   ]
  },
  {
   "cell_type": "code",
   "execution_count": null,
   "id": "e5f432e8",
   "metadata": {},
   "outputs": [],
   "source": [
    "df"
   ]
  },
  {
   "cell_type": "code",
   "execution_count": null,
   "id": "d8d6442b",
   "metadata": {},
   "outputs": [],
   "source": [
    "# Examine number of records with NULL\n",
    "df.isnull().sum()"
   ]
  },
  {
   "cell_type": "code",
   "execution_count": null,
   "id": "96449f10",
   "metadata": {},
   "outputs": [],
   "source": [
    "df['DateTime'].value_counts()"
   ]
  },
  {
   "cell_type": "code",
   "execution_count": null,
   "id": "101452a2",
   "metadata": {},
   "outputs": [],
   "source": [
    "df_select = df.dropna(axis= 0, how= 'any').copy() # Per Dr. Cherry on 6/17/2021"
   ]
  },
  {
   "cell_type": "code",
   "execution_count": null,
   "id": "e5846545",
   "metadata": {},
   "outputs": [],
   "source": [
    "df_select"
   ]
  },
  {
   "cell_type": "code",
   "execution_count": null,
   "id": "2aa23f39",
   "metadata": {},
   "outputs": [],
   "source": [
    "latlong_bucket = 'partly-cloudy-common-area'\n",
    "latlongFileName = 'latlonRAP.csv'\n",
    "latlongRAP = wr.s3.read_csv(path= f\"s3://{latlong_bucket}/{latlongFileName}\")"
   ]
  },
  {
   "cell_type": "code",
   "execution_count": null,
   "id": "d4c2d572",
   "metadata": {},
   "outputs": [],
   "source": [
    "latlongRAP"
   ]
  },
  {
   "cell_type": "code",
   "execution_count": null,
   "id": "ae074cf8",
   "metadata": {},
   "outputs": [],
   "source": [
    "minLatRAP = min(latlongRAP['Lat']) - 0.04\n",
    "maxLatRAP = max(latlongRAP['Lat']) + 0.04\n",
    "minLonRAP = min(latlongRAP['Lon']) - 0.2\n",
    "maxLonRAP = max(latlongRAP['Lon']) + 0.2"
   ]
  },
  {
   "cell_type": "code",
   "execution_count": null,
   "id": "ee8d839e",
   "metadata": {},
   "outputs": [],
   "source": [
    "adsb_conus = df_select.loc[(df_select['Latitude'] >= minLatRAP) & \n",
    "                          (df_select['Latitude'] <= maxLatRAP) &\n",
    "                          (df_select['Longitude'] >= minLonRAP) & \n",
    "                          (df_select['Longitude'] <= maxLonRAP)].copy()"
   ]
  },
  {
   "cell_type": "code",
   "execution_count": null,
   "id": "92c1ccb7",
   "metadata": {},
   "outputs": [],
   "source": [
    "adsb_conus.reset_index(inplace= True)"
   ]
  },
  {
   "cell_type": "code",
   "execution_count": null,
   "id": "cc60a055",
   "metadata": {},
   "outputs": [],
   "source": [
    "adsb_conus"
   ]
  },
  {
   "cell_type": "code",
   "execution_count": null,
   "id": "5a9595eb",
   "metadata": {},
   "outputs": [],
   "source": [
    "# Obtain NOAA RAP hPa (to the nearest 25 hPa) from altitude value in feet\n",
    "def alt_ft_to_nearest_hPa(alt):\n",
    "    if alt > 51805: # upper limit altitude of 100 hPa (51805 ft)\n",
    "        return 100\n",
    "    elif alt < 364: # lower limit altitude of 1000 hPa (364 ft)\n",
    "        return 1000\n",
    "    else:\n",
    "        a = (1/0.190284)\n",
    "        b =  alt/145366.45\n",
    "        P_hpa  = ((1-b)**a) * 1013.25\n",
    "        return int(25 * round(P_hpa/25))"
   ]
  },
  {
   "cell_type": "code",
   "execution_count": null,
   "id": "0309e464",
   "metadata": {},
   "outputs": [],
   "source": [
    "ls = list(adsb_conus['Altitude'])\n",
    "nearest_hpa = [alt_ft_to_nearest_hPa(i) for i  in ls]\n",
    "\n",
    "adsb_conus['hPa'] = nearest_hpa"
   ]
  },
  {
   "cell_type": "code",
   "execution_count": null,
   "id": "563e17d3",
   "metadata": {},
   "outputs": [],
   "source": [
    "adsb_conus"
   ]
  },
  {
   "cell_type": "code",
   "execution_count": null,
   "id": "1b633f12",
   "metadata": {},
   "outputs": [],
   "source": [
    "# Develop lists of lat,long tuples for haversine\n",
    "adsb_coord = list(zip(adsb_conus['Latitude'], adsb_conus['Longitude'])) # a list of (Latitude, Longitude) tuples from \"adsb_conus\"\n",
    "latlonRAP_coord = list(zip(latlongRAP['Lat'], latlongRAP['Lon'])) # a list of (Lat, Lon) tuples from \"latlongRAP\""
   ]
  },
  {
   "cell_type": "code",
   "execution_count": null,
   "id": "99170299",
   "metadata": {},
   "outputs": [],
   "source": [
    "%%time\n",
    "from datetime import datetime\n",
    "\n",
    "# for each (Latitude, Longitude) tuple in \"adsb_coord\" list, find the index in 'latlonRAP_coord' that has the minimum distance to (Lat, Lon) tuple \n",
    "idx = []\n",
    "for i in range(len(adsb_coord)):\n",
    "    idx.append(np.argmin([haversine(adsb_coord[i], latlonRAP_coord[j]) for j in range(len(latlonRAP_coord))]))\n",
    "    print(i, datetime.now().time())"
   ]
  },
  {
   "cell_type": "code",
   "execution_count": null,
   "id": "83f7ce09",
   "metadata": {},
   "outputs": [],
   "source": [
    "x = np.array(latlongRAP['Nx']) # All \"Nx\" in 'latlongRAP' in an array\n",
    "y = np.array(latlongRAP['Ny']) # All \"Ny\" in 'latlongRAP' in an array\n",
    "\n",
    "adsb_conus['Nx'] = list(x[idx]) # \"Nx\" values with indexes with minimum distance\n",
    "adsb_conus['Ny'] = list(y[idx]) # \"Ny\" values with indexes with minimum distance"
   ]
  },
  {
   "cell_type": "code",
   "execution_count": null,
   "id": "d8a74370",
   "metadata": {},
   "outputs": [],
   "source": [
    "# Examine the list of files are already in the output_bucket (i.e., \"partly-cloudy-common-area\")\n",
    "conn = boto3.client('s3')\n",
    "contents = conn.list_objects(Bucket= output_bucket, Prefix= output_subfolder)['Contents']\n",
    "for f in contents:\n",
    "    print(f['Key'])"
   ]
  },
  {
   "cell_type": "code",
   "execution_count": null,
   "id": "ab3e250e",
   "metadata": {},
   "outputs": [],
   "source": []
  },
  {
   "cell_type": "code",
   "execution_count": null,
   "id": "49aebb0c",
   "metadata": {},
   "outputs": [],
   "source": [
    "outputFileName = 'adsb_conus.parquet' # <--------------------------------------------- Specify"
   ]
  },
  {
   "cell_type": "markdown",
   "id": "7b2c6337",
   "metadata": {},
   "source": [
    "wr.s3.to_csv(df_select, f\"s3://{output_bucket}/{outputFileName}\", index=False)"
   ]
  },
  {
   "cell_type": "code",
   "execution_count": null,
   "id": "e5e7ef22",
   "metadata": {},
   "outputs": [],
   "source": [
    "wr.s3.to_parquet(adsb_conus, f\"s3://{output_bucket}/{outputFileName}\")"
   ]
  }
 ],
 "metadata": {
  "kernelspec": {
   "display_name": "conda_python3",
   "language": "python",
   "name": "conda_python3"
  },
  "language_info": {
   "codemirror_mode": {
    "name": "ipython",
    "version": 3
   },
   "file_extension": ".py",
   "mimetype": "text/x-python",
   "name": "python",
   "nbconvert_exporter": "python",
   "pygments_lexer": "ipython3",
   "version": "3.6.13"
  }
 },
 "nbformat": 4,
 "nbformat_minor": 5
}
