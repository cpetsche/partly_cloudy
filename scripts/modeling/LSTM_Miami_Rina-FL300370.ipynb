{
 "cells": [
  {
   "cell_type": "code",
   "execution_count": 1,
   "id": "893ef306",
   "metadata": {},
   "outputs": [
    {
     "name": "stdout",
     "output_type": "stream",
     "text": [
      "Collecting tensorflow\n",
      "  Downloading tensorflow-2.5.0-cp36-cp36m-manylinux2010_x86_64.whl (454.3 MB)\n",
      "\u001b[K     |████████████████████████████████| 454.3 MB 12 kB/s s eta 0:00:01     |████████████████████████████▌   | 405.0 MB 68.9 MB/s eta 0:00:01     |██████████████████████████████▌ | 432.5 MB 68.9 MB/s eta 0:00:01\n",
      "\u001b[?25hCollecting google-pasta~=0.2\n",
      "  Using cached google_pasta-0.2.0-py3-none-any.whl (57 kB)\n",
      "Collecting six~=1.15.0\n",
      "  Downloading six-1.15.0-py2.py3-none-any.whl (10 kB)\n",
      "Collecting opt-einsum~=3.3.0\n",
      "  Downloading opt_einsum-3.3.0-py3-none-any.whl (65 kB)\n",
      "\u001b[K     |████████████████████████████████| 65 kB 5.6 MB/s  eta 0:00:01\n",
      "\u001b[?25hCollecting tensorflow-estimator<2.6.0,>=2.5.0rc0\n",
      "  Downloading tensorflow_estimator-2.5.0-py2.py3-none-any.whl (462 kB)\n",
      "\u001b[K     |████████████████████████████████| 462 kB 77.6 MB/s eta 0:00:01\n",
      "\u001b[?25hCollecting protobuf>=3.9.2\n",
      "  Downloading protobuf-3.17.3-cp36-cp36m-manylinux_2_5_x86_64.manylinux1_x86_64.whl (1.0 MB)\n",
      "\u001b[K     |████████████████████████████████| 1.0 MB 45.0 MB/s eta 0:00:01\n",
      "\u001b[?25hCollecting keras-nightly~=2.5.0.dev\n",
      "  Downloading keras_nightly-2.5.0.dev2021032900-py2.py3-none-any.whl (1.2 MB)\n",
      "\u001b[K     |████████████████████████████████| 1.2 MB 56.6 MB/s eta 0:00:01\n",
      "\u001b[?25hCollecting keras-preprocessing~=1.1.2\n",
      "  Downloading Keras_Preprocessing-1.1.2-py2.py3-none-any.whl (42 kB)\n",
      "\u001b[K     |████████████████████████████████| 42 kB 1.9 MB/s  eta 0:00:01\n",
      "\u001b[?25hCollecting wheel~=0.35\n",
      "  Downloading wheel-0.36.2-py2.py3-none-any.whl (35 kB)\n",
      "Collecting termcolor~=1.1.0\n",
      "  Downloading termcolor-1.1.0.tar.gz (3.9 kB)\n",
      "Collecting flatbuffers~=1.12.0\n",
      "  Downloading flatbuffers-1.12-py2.py3-none-any.whl (15 kB)\n",
      "Collecting gast==0.4.0\n",
      "  Downloading gast-0.4.0-py3-none-any.whl (9.8 kB)\n",
      "Collecting grpcio~=1.34.0\n",
      "  Downloading grpcio-1.34.1-cp36-cp36m-manylinux2014_x86_64.whl (4.0 MB)\n",
      "\u001b[K     |████████████████████████████████| 4.0 MB 50.3 MB/s eta 0:00:01\n",
      "\u001b[?25hCollecting absl-py~=0.10\n",
      "  Downloading absl_py-0.13.0-py3-none-any.whl (132 kB)\n",
      "\u001b[K     |████████████████████████████████| 132 kB 59.8 MB/s eta 0:00:01\n",
      "\u001b[?25hCollecting astunparse~=1.6.3\n",
      "  Downloading astunparse-1.6.3-py2.py3-none-any.whl (12 kB)\n",
      "Collecting typing-extensions~=3.7.4\n",
      "  Downloading typing_extensions-3.7.4.3-py3-none-any.whl (22 kB)\n",
      "Collecting wrapt~=1.12.1\n",
      "  Downloading wrapt-1.12.1.tar.gz (27 kB)\n",
      "Collecting numpy~=1.19.2\n",
      "  Downloading numpy-1.19.5-cp36-cp36m-manylinux2010_x86_64.whl (14.8 MB)\n",
      "\u001b[K     |████████████████████████████████| 14.8 MB 44.5 MB/s eta 0:00:01\n",
      "\u001b[?25hCollecting tensorboard~=2.5\n",
      "  Downloading tensorboard-2.5.0-py3-none-any.whl (6.0 MB)\n",
      "\u001b[K     |████████████████████████████████| 6.0 MB 50.8 MB/s eta 0:00:01\n",
      "\u001b[?25hCollecting h5py~=3.1.0\n",
      "  Downloading h5py-3.1.0-cp36-cp36m-manylinux1_x86_64.whl (4.0 MB)\n",
      "\u001b[K     |████████████████████████████████| 4.0 MB 45.5 MB/s eta 0:00:01\n",
      "\u001b[?25hCollecting cached-property\n",
      "  Using cached cached_property-1.5.2-py2.py3-none-any.whl (7.6 kB)\n",
      "Collecting markdown>=2.6.8\n",
      "  Downloading Markdown-3.3.4-py3-none-any.whl (97 kB)\n",
      "\u001b[K     |████████████████████████████████| 97 kB 8.3 MB/s  eta 0:00:01\n",
      "\u001b[?25hCollecting requests<3,>=2.21.0\n",
      "  Downloading requests-2.26.0-py2.py3-none-any.whl (62 kB)\n",
      "\u001b[K     |████████████████████████████████| 62 kB 1.2 MB/s  eta 0:00:01\n",
      "\u001b[?25hCollecting tensorboard-data-server<0.7.0,>=0.6.0\n",
      "  Downloading tensorboard_data_server-0.6.1-py3-none-manylinux2010_x86_64.whl (4.9 MB)\n",
      "\u001b[K     |████████████████████████████████| 4.9 MB 55.6 MB/s eta 0:00:01\n",
      "\u001b[?25hCollecting google-auth<2,>=1.6.3\n",
      "  Downloading google_auth-1.33.1-py2.py3-none-any.whl (152 kB)\n",
      "\u001b[K     |████████████████████████████████| 152 kB 76.4 MB/s eta 0:00:01\n",
      "\u001b[?25hCollecting tensorboard-plugin-wit>=1.6.0\n",
      "  Downloading tensorboard_plugin_wit-1.8.0-py3-none-any.whl (781 kB)\n",
      "\u001b[K     |████████████████████████████████| 781 kB 61.4 MB/s eta 0:00:01\n",
      "\u001b[?25hCollecting setuptools>=41.0.0\n",
      "  Downloading setuptools-57.4.0-py3-none-any.whl (819 kB)\n",
      "\u001b[K     |████████████████████████████████| 819 kB 50.7 MB/s eta 0:00:01\n",
      "\u001b[?25hCollecting google-auth-oauthlib<0.5,>=0.4.1\n",
      "  Downloading google_auth_oauthlib-0.4.4-py2.py3-none-any.whl (18 kB)\n",
      "Collecting werkzeug>=0.11.15\n",
      "  Downloading Werkzeug-2.0.1-py3-none-any.whl (288 kB)\n",
      "\u001b[K     |████████████████████████████████| 288 kB 78.9 MB/s eta 0:00:01\n",
      "\u001b[?25hCollecting pyasn1-modules>=0.2.1\n",
      "  Downloading pyasn1_modules-0.2.8-py2.py3-none-any.whl (155 kB)\n",
      "\u001b[K     |████████████████████████████████| 155 kB 59.9 MB/s eta 0:00:01\n",
      "\u001b[?25hCollecting cachetools<5.0,>=2.0.0\n",
      "  Downloading cachetools-4.2.2-py3-none-any.whl (11 kB)\n",
      "Collecting rsa<5,>=3.1.4\n",
      "  Using cached rsa-4.7.2-py3-none-any.whl (34 kB)\n",
      "Collecting requests-oauthlib>=0.7.0\n",
      "  Downloading requests_oauthlib-1.3.0-py2.py3-none-any.whl (23 kB)\n",
      "Collecting importlib-metadata\n",
      "  Downloading importlib_metadata-4.6.1-py3-none-any.whl (17 kB)\n",
      "Collecting pyasn1<0.5.0,>=0.4.6\n",
      "  Using cached pyasn1-0.4.8-py2.py3-none-any.whl (77 kB)\n",
      "Collecting charset-normalizer~=2.0.0\n",
      "  Downloading charset_normalizer-2.0.3-py3-none-any.whl (35 kB)\n",
      "Collecting idna<4,>=2.5\n",
      "  Downloading idna-3.2-py3-none-any.whl (59 kB)\n",
      "\u001b[K     |████████████████████████████████| 59 kB 9.7 MB/s  eta 0:00:01\n",
      "\u001b[?25hCollecting urllib3<1.27,>=1.21.1\n",
      "  Downloading urllib3-1.26.6-py2.py3-none-any.whl (138 kB)\n",
      "\u001b[K     |████████████████████████████████| 138 kB 62.2 MB/s eta 0:00:01\n",
      "\u001b[?25hCollecting certifi>=2017.4.17\n",
      "  Downloading certifi-2021.5.30-py2.py3-none-any.whl (145 kB)\n",
      "\u001b[K     |████████████████████████████████| 145 kB 80.2 MB/s eta 0:00:01\n",
      "\u001b[?25hCollecting oauthlib>=3.0.0\n",
      "  Downloading oauthlib-3.1.1-py2.py3-none-any.whl (146 kB)\n",
      "\u001b[K     |████████████████████████████████| 146 kB 80.1 MB/s eta 0:00:01\n",
      "\u001b[?25hCollecting dataclasses\n",
      "  Downloading dataclasses-0.8-py3-none-any.whl (19 kB)\n",
      "Collecting zipp>=0.5\n",
      "  Downloading zipp-3.5.0-py3-none-any.whl (5.7 kB)\n",
      "Building wheels for collected packages: termcolor, wrapt\n",
      "  Building wheel for termcolor (setup.py) ... \u001b[?25ldone\n",
      "\u001b[?25h  Created wheel for termcolor: filename=termcolor-1.1.0-py3-none-any.whl size=4829 sha256=10e7a77e1a6a12a5759139c99772c8dab252f075bc293561e4f80c000f7e687e\n",
      "  Stored in directory: /home/ec2-user/.cache/pip/wheels/93/2a/eb/e58dbcbc963549ee4f065ff80a59f274cc7210b6eab962acdc\n",
      "  Building wheel for wrapt (setup.py) ... \u001b[?25ldone\n",
      "\u001b[?25h  Created wheel for wrapt: filename=wrapt-1.12.1-cp36-cp36m-linux_x86_64.whl size=66667 sha256=51f476b537efe729e1feb37fe2c29dad01dc16a1f057340c80548add7c35f22f\n",
      "  Stored in directory: /home/ec2-user/.cache/pip/wheels/32/42/7f/23cae9ff6ef66798d00dc5d659088e57dbba01566f6c60db63\n",
      "Successfully built termcolor wrapt\n",
      "Installing collected packages: urllib3, pyasn1, idna, charset-normalizer, certifi, zipp, typing-extensions, six, setuptools, rsa, requests, pyasn1-modules, oauthlib, cachetools, requests-oauthlib, importlib-metadata, google-auth, dataclasses, wheel, werkzeug, tensorboard-plugin-wit, tensorboard-data-server, protobuf, numpy, markdown, grpcio, google-auth-oauthlib, cached-property, absl-py, wrapt, termcolor, tensorflow-estimator, tensorboard, opt-einsum, keras-preprocessing, keras-nightly, h5py, google-pasta, gast, flatbuffers, astunparse, tensorflow\n",
      "\u001b[31mERROR: pip's dependency resolver does not currently take into account all the packages that are installed. This behaviour is the source of the following dependency conflicts.\n",
      "anaconda-project 0.9.1 requires ruamel-yaml, which is not installed.\n",
      "aiobotocore 1.3.0 requires botocore<1.20.50,>=1.20.49, but you have botocore 1.20.99 which is incompatible.\u001b[0m\n",
      "Successfully installed absl-py-0.13.0 astunparse-1.6.3 cached-property-1.5.2 cachetools-4.2.2 certifi-2021.5.30 charset-normalizer-2.0.3 dataclasses-0.8 flatbuffers-1.12 gast-0.4.0 google-auth-1.33.1 google-auth-oauthlib-0.4.4 google-pasta-0.2.0 grpcio-1.34.1 h5py-3.1.0 idna-3.2 importlib-metadata-4.6.1 keras-nightly-2.5.0.dev2021032900 keras-preprocessing-1.1.2 markdown-3.3.4 numpy-1.19.5 oauthlib-3.1.1 opt-einsum-3.3.0 protobuf-3.17.3 pyasn1-0.4.8 pyasn1-modules-0.2.8 requests-2.26.0 requests-oauthlib-1.3.0 rsa-4.7.2 setuptools-57.4.0 six-1.15.0 tensorboard-2.5.0 tensorboard-data-server-0.6.1 tensorboard-plugin-wit-1.8.0 tensorflow-2.5.0 tensorflow-estimator-2.5.0 termcolor-1.1.0 typing-extensions-3.7.4.3 urllib3-1.26.6 werkzeug-2.0.1 wheel-0.36.2 wrapt-1.12.1 zipp-3.5.0\n",
      "\u001b[33mWARNING: Target directory /home/ec2-user/SageMaker/tensorflow_estimator-2.5.0.dist-info already exists. Specify --upgrade to force replacement.\u001b[0m\n",
      "\u001b[33mWARNING: Target directory /home/ec2-user/SageMaker/pyasn1-0.4.8.dist-info already exists. Specify --upgrade to force replacement.\u001b[0m\n",
      "\u001b[33mWARNING: Target directory /home/ec2-user/SageMaker/typing_extensions.py already exists. Specify --upgrade to force replacement.\u001b[0m\n",
      "\u001b[33mWARNING: Target directory /home/ec2-user/SageMaker/dataclasses-0.8.dist-info already exists. Specify --upgrade to force replacement.\u001b[0m\n",
      "\u001b[33mWARNING: Target directory /home/ec2-user/SageMaker/requests_oauthlib-1.3.0.dist-info already exists. Specify --upgrade to force replacement.\u001b[0m\n",
      "\u001b[33mWARNING: Target directory /home/ec2-user/SageMaker/certifi already exists. Specify --upgrade to force replacement.\u001b[0m\n",
      "\u001b[33mWARNING: Target directory /home/ec2-user/SageMaker/setuptools already exists. Specify --upgrade to force replacement.\u001b[0m\n",
      "\u001b[33mWARNING: Target directory /home/ec2-user/SageMaker/numpy.libs already exists. Specify --upgrade to force replacement.\u001b[0m\n",
      "\u001b[33mWARNING: Target directory /home/ec2-user/SageMaker/wheel already exists. Specify --upgrade to force replacement.\u001b[0m\n",
      "\u001b[33mWARNING: Target directory /home/ec2-user/SageMaker/tensorboard-2.5.0.dist-info already exists. Specify --upgrade to force replacement.\u001b[0m\n",
      "\u001b[33mWARNING: Target directory /home/ec2-user/SageMaker/absl already exists. Specify --upgrade to force replacement.\u001b[0m\n",
      "\u001b[33mWARNING: Target directory /home/ec2-user/SageMaker/grpc already exists. Specify --upgrade to force replacement.\u001b[0m\n",
      "\u001b[33mWARNING: Target directory /home/ec2-user/SageMaker/pasta already exists. Specify --upgrade to force replacement.\u001b[0m\n",
      "\u001b[33mWARNING: Target directory /home/ec2-user/SageMaker/distutils-precedence.pth already exists. Specify --upgrade to force replacement.\u001b[0m\n",
      "\u001b[33mWARNING: Target directory /home/ec2-user/SageMaker/flatbuffers-1.12.dist-info already exists. Specify --upgrade to force replacement.\u001b[0m\n",
      "\u001b[33mWARNING: Target directory /home/ec2-user/SageMaker/h5py-3.1.0.dist-info already exists. Specify --upgrade to force replacement.\u001b[0m\n",
      "\u001b[33mWARNING: Target directory /home/ec2-user/SageMaker/rsa already exists. Specify --upgrade to force replacement.\u001b[0m\n",
      "\u001b[33mWARNING: Target directory /home/ec2-user/SageMaker/tensorflow already exists. Specify --upgrade to force replacement.\u001b[0m\n",
      "\u001b[33mWARNING: Target directory /home/ec2-user/SageMaker/idna-3.2.dist-info already exists. Specify --upgrade to force replacement.\u001b[0m\n",
      "\u001b[33mWARNING: Target directory /home/ec2-user/SageMaker/gast already exists. Specify --upgrade to force replacement.\u001b[0m\n",
      "\u001b[33mWARNING: Target directory /home/ec2-user/SageMaker/dataclasses.py already exists. Specify --upgrade to force replacement.\u001b[0m\n",
      "\u001b[33mWARNING: Target directory /home/ec2-user/SageMaker/protobuf-3.17.3.dist-info already exists. Specify --upgrade to force replacement.\u001b[0m\n",
      "\u001b[33mWARNING: Target directory /home/ec2-user/SageMaker/requests-2.26.0.dist-info already exists. Specify --upgrade to force replacement.\u001b[0m\n",
      "\u001b[33mWARNING: Target directory /home/ec2-user/SageMaker/google_auth-1.33.1.dist-info already exists. Specify --upgrade to force replacement.\u001b[0m\n",
      "\u001b[33mWARNING: Target directory /home/ec2-user/SageMaker/absl_py-0.13.0.dist-info already exists. Specify --upgrade to force replacement.\u001b[0m\n",
      "\u001b[33mWARNING: Target directory /home/ec2-user/SageMaker/keras_preprocessing already exists. Specify --upgrade to force replacement.\u001b[0m\n",
      "\u001b[33mWARNING: Target directory /home/ec2-user/SageMaker/importlib_metadata-4.6.1.dist-info already exists. Specify --upgrade to force replacement.\u001b[0m\n",
      "\u001b[33mWARNING: Target directory /home/ec2-user/SageMaker/pkg_resources already exists. Specify --upgrade to force replacement.\u001b[0m\n",
      "\u001b[33mWARNING: Target directory /home/ec2-user/SageMaker/pyasn1_modules-0.2.8.dist-info already exists. Specify --upgrade to force replacement.\u001b[0m\n",
      "\u001b[33mWARNING: Target directory /home/ec2-user/SageMaker/termcolor-1.1.0.dist-info already exists. Specify --upgrade to force replacement.\u001b[0m\n",
      "\u001b[33mWARNING: Target directory /home/ec2-user/SageMaker/setuptools-57.4.0.dist-info already exists. Specify --upgrade to force replacement.\u001b[0m\n",
      "\u001b[33mWARNING: Target directory /home/ec2-user/SageMaker/gast-0.4.0.dist-info already exists. Specify --upgrade to force replacement.\u001b[0m\n",
      "\u001b[33mWARNING: Target directory /home/ec2-user/SageMaker/cachetools already exists. Specify --upgrade to force replacement.\u001b[0m\n",
      "\u001b[33mWARNING: Target directory /home/ec2-user/SageMaker/opt_einsum-3.3.0.dist-info already exists. Specify --upgrade to force replacement.\u001b[0m\n",
      "\u001b[33mWARNING: Target directory /home/ec2-user/SageMaker/oauthlib-3.1.1.dist-info already exists. Specify --upgrade to force replacement.\u001b[0m\n",
      "\u001b[33mWARNING: Target directory /home/ec2-user/SageMaker/wheel-0.36.2.dist-info already exists. Specify --upgrade to force replacement.\u001b[0m\n",
      "\u001b[33mWARNING: Target directory /home/ec2-user/SageMaker/google_pasta-0.2.0.dist-info already exists. Specify --upgrade to force replacement.\u001b[0m\n",
      "\u001b[33mWARNING: Target directory /home/ec2-user/SageMaker/tensorflow-2.5.0.dist-info already exists. Specify --upgrade to force replacement.\u001b[0m\n",
      "\u001b[33mWARNING: Target directory /home/ec2-user/SageMaker/google_auth-1.33.1-py3.9-nspkg.pth already exists. Specify --upgrade to force replacement.\u001b[0m\n",
      "\u001b[33mWARNING: Target directory /home/ec2-user/SageMaker/oauthlib already exists. Specify --upgrade to force replacement.\u001b[0m\n",
      "\u001b[33mWARNING: Target directory /home/ec2-user/SageMaker/pyasn1_modules already exists. Specify --upgrade to force replacement.\u001b[0m\n",
      "\u001b[33mWARNING: Target directory /home/ec2-user/SageMaker/keras already exists. Specify --upgrade to force replacement.\u001b[0m\n",
      "\u001b[33mWARNING: Target directory /home/ec2-user/SageMaker/rsa-4.7.2.dist-info already exists. Specify --upgrade to force replacement.\u001b[0m\n",
      "\u001b[33mWARNING: Target directory /home/ec2-user/SageMaker/charset_normalizer already exists. Specify --upgrade to force replacement.\u001b[0m\n",
      "\u001b[33mWARNING: Target directory /home/ec2-user/SageMaker/numpy-1.19.5.dist-info already exists. Specify --upgrade to force replacement.\u001b[0m\n",
      "\u001b[33mWARNING: Target directory /home/ec2-user/SageMaker/wrapt already exists. Specify --upgrade to force replacement.\u001b[0m\n",
      "\u001b[33mWARNING: Target directory /home/ec2-user/SageMaker/tensorboard_data_server already exists. Specify --upgrade to force replacement.\u001b[0m\n",
      "\u001b[33mWARNING: Target directory /home/ec2-user/SageMaker/idna already exists. Specify --upgrade to force replacement.\u001b[0m\n",
      "\u001b[33mWARNING: Target directory /home/ec2-user/SageMaker/tensorboard_plugin_wit-1.8.0.dist-info already exists. Specify --upgrade to force replacement.\u001b[0m\n",
      "\u001b[33mWARNING: Target directory /home/ec2-user/SageMaker/h5py.libs already exists. Specify --upgrade to force replacement.\u001b[0m\n",
      "\u001b[33mWARNING: Target directory /home/ec2-user/SageMaker/flatbuffers already exists. Specify --upgrade to force replacement.\u001b[0m\n",
      "\u001b[33mWARNING: Target directory /home/ec2-user/SageMaker/cached_property-1.5.2.dist-info already exists. Specify --upgrade to force replacement.\u001b[0m\n",
      "\u001b[33mWARNING: Target directory /home/ec2-user/SageMaker/wrapt-1.12.1.dist-info already exists. Specify --upgrade to force replacement.\u001b[0m\n",
      "\u001b[33mWARNING: Target directory /home/ec2-user/SageMaker/requests already exists. Specify --upgrade to force replacement.\u001b[0m\n",
      "\u001b[33mWARNING: Target directory /home/ec2-user/SageMaker/cachetools-4.2.2.dist-info already exists. Specify --upgrade to force replacement.\u001b[0m\n",
      "\u001b[33mWARNING: Target directory /home/ec2-user/SageMaker/tensorboard already exists. Specify --upgrade to force replacement.\u001b[0m\n",
      "\u001b[33mWARNING: Target directory /home/ec2-user/SageMaker/google_auth_oauthlib already exists. Specify --upgrade to force replacement.\u001b[0m\n",
      "\u001b[33mWARNING: Target directory /home/ec2-user/SageMaker/importlib_metadata already exists. Specify --upgrade to force replacement.\u001b[0m\n",
      "\u001b[33mWARNING: Target directory /home/ec2-user/SageMaker/six-1.15.0.dist-info already exists. Specify --upgrade to force replacement.\u001b[0m\n",
      "\u001b[33mWARNING: Target directory /home/ec2-user/SageMaker/markdown already exists. Specify --upgrade to force replacement.\u001b[0m\n",
      "\u001b[33mWARNING: Target directory /home/ec2-user/SageMaker/keras_nightly-2.5.0.dev2021032900.dist-info already exists. Specify --upgrade to force replacement.\u001b[0m\n",
      "\u001b[33mWARNING: Target directory /home/ec2-user/SageMaker/Keras_Preprocessing-1.1.2.dist-info already exists. Specify --upgrade to force replacement.\u001b[0m\n",
      "\u001b[33mWARNING: Target directory /home/ec2-user/SageMaker/charset_normalizer-2.0.3.dist-info already exists. Specify --upgrade to force replacement.\u001b[0m\n",
      "\u001b[33mWARNING: Target directory /home/ec2-user/SageMaker/requests_oauthlib already exists. Specify --upgrade to force replacement.\u001b[0m\n",
      "\u001b[33mWARNING: Target directory /home/ec2-user/SageMaker/zipp-3.5.0.dist-info already exists. Specify --upgrade to force replacement.\u001b[0m\n",
      "\u001b[33mWARNING: Target directory /home/ec2-user/SageMaker/termcolor.py already exists. Specify --upgrade to force replacement.\u001b[0m\n",
      "\u001b[33mWARNING: Target directory /home/ec2-user/SageMaker/tensorboard_plugin_wit already exists. Specify --upgrade to force replacement.\u001b[0m\n",
      "\u001b[33mWARNING: Target directory /home/ec2-user/SageMaker/h5py already exists. Specify --upgrade to force replacement.\u001b[0m\n",
      "\u001b[33mWARNING: Target directory /home/ec2-user/SageMaker/protobuf-3.17.3-py3.6-nspkg.pth already exists. Specify --upgrade to force replacement.\u001b[0m\n",
      "\u001b[33mWARNING: Target directory /home/ec2-user/SageMaker/Werkzeug-2.0.1.dist-info already exists. Specify --upgrade to force replacement.\u001b[0m\n",
      "\u001b[33mWARNING: Target directory /home/ec2-user/SageMaker/six.py already exists. Specify --upgrade to force replacement.\u001b[0m\n",
      "\u001b[33mWARNING: Target directory /home/ec2-user/SageMaker/google already exists. Specify --upgrade to force replacement.\u001b[0m\n",
      "\u001b[33mWARNING: Target directory /home/ec2-user/SageMaker/Misc already exists. Specify --upgrade to force replacement.\u001b[0m\n",
      "\u001b[33mWARNING: Target directory /home/ec2-user/SageMaker/tensorflow_estimator already exists. Specify --upgrade to force replacement.\u001b[0m\n",
      "\u001b[33mWARNING: Target directory /home/ec2-user/SageMaker/cached_property.py already exists. Specify --upgrade to force replacement.\u001b[0m\n",
      "\u001b[33mWARNING: Target directory /home/ec2-user/SageMaker/zipp.py already exists. Specify --upgrade to force replacement.\u001b[0m\n",
      "\u001b[33mWARNING: Target directory /home/ec2-user/SageMaker/certifi-2021.5.30.dist-info already exists. Specify --upgrade to force replacement.\u001b[0m\n",
      "\u001b[33mWARNING: Target directory /home/ec2-user/SageMaker/urllib3-1.26.6.dist-info already exists. Specify --upgrade to force replacement.\u001b[0m\n",
      "\u001b[33mWARNING: Target directory /home/ec2-user/SageMaker/grpcio-1.34.1.dist-info already exists. Specify --upgrade to force replacement.\u001b[0m\n",
      "\u001b[33mWARNING: Target directory /home/ec2-user/SageMaker/tensorboard_data_server-0.6.1.dist-info already exists. Specify --upgrade to force replacement.\u001b[0m\n",
      "\u001b[33mWARNING: Target directory /home/ec2-user/SageMaker/urllib3 already exists. Specify --upgrade to force replacement.\u001b[0m\n",
      "\u001b[33mWARNING: Target directory /home/ec2-user/SageMaker/pyasn1 already exists. Specify --upgrade to force replacement.\u001b[0m\n",
      "\u001b[33mWARNING: Target directory /home/ec2-user/SageMaker/numpy already exists. Specify --upgrade to force replacement.\u001b[0m\n",
      "\u001b[33mWARNING: Target directory /home/ec2-user/SageMaker/werkzeug already exists. Specify --upgrade to force replacement.\u001b[0m\n",
      "\u001b[33mWARNING: Target directory /home/ec2-user/SageMaker/google_auth_oauthlib-0.4.4.dist-info already exists. Specify --upgrade to force replacement.\u001b[0m\n",
      "\u001b[33mWARNING: Target directory /home/ec2-user/SageMaker/opt_einsum already exists. Specify --upgrade to force replacement.\u001b[0m\n",
      "\u001b[33mWARNING: Target directory /home/ec2-user/SageMaker/__pycache__ already exists. Specify --upgrade to force replacement.\u001b[0m\n",
      "\u001b[33mWARNING: Target directory /home/ec2-user/SageMaker/astunparse already exists. Specify --upgrade to force replacement.\u001b[0m\n",
      "\u001b[33mWARNING: Target directory /home/ec2-user/SageMaker/typing_extensions-3.7.4.3.dist-info already exists. Specify --upgrade to force replacement.\u001b[0m\n",
      "\u001b[33mWARNING: Target directory /home/ec2-user/SageMaker/_distutils_hack already exists. Specify --upgrade to force replacement.\u001b[0m\n",
      "\u001b[33mWARNING: Target directory /home/ec2-user/SageMaker/Markdown-3.3.4.dist-info already exists. Specify --upgrade to force replacement.\u001b[0m\n",
      "\u001b[33mWARNING: Target directory /home/ec2-user/SageMaker/astunparse-1.6.3.dist-info already exists. Specify --upgrade to force replacement.\u001b[0m\n",
      "\u001b[33mWARNING: Target directory /home/ec2-user/SageMaker/bin already exists. Specify --upgrade to force replacement.\u001b[0m\n",
      "\u001b[33mWARNING: You are using pip version 21.1.2; however, version 21.1.3 is available.\r\n",
      "You should consider upgrading via the '/home/ec2-user/anaconda3/envs/python3/bin/python -m pip install --upgrade pip' command.\u001b[0m\r\n"
     ]
    }
   ],
   "source": [
    "!pip install tensorflow -t ./"
   ]
  },
  {
   "cell_type": "code",
   "execution_count": 10,
   "id": "31eada7d",
   "metadata": {},
   "outputs": [],
   "source": [
    "#import libraries\n",
    "import pandas as pd\n",
    "import numpy as np\n",
    "from keras.models import Sequential\n",
    "from keras.layers import LSTM, Dense, Dropout\n",
    "from matplotlib import pyplot as plt\n",
    "from sklearn.preprocessing import MinMaxScaler, StandardScaler\n",
    "import seaborn as sns\n",
    "from keras.preprocessing.sequence import TimeseriesGenerator \n",
    "from sklearn.model_selection import train_test_split\n",
    "import tensorflow as tf"
   ]
  },
  {
   "cell_type": "code",
   "execution_count": 2,
   "id": "36ab8090",
   "metadata": {},
   "outputs": [
    {
     "name": "stdout",
     "output_type": "stream",
     "text": [
      "   LocalDateTimePeriod   Nx  Ny       Lat        Lon geoEncode   NAME  \\\n",
      "0  2020-06-03 00:00:00  242  58  29.27751 -78.877894     djpyt  MIAMI   \n",
      "1  2021-03-04 12:00:00  242  58  29.27751 -78.877894     djpyt  MIAMI   \n",
      "2  2021-01-20 18:00:00  242  58  29.27751 -78.877894     djpyt  MIAMI   \n",
      "3  2020-12-15 18:00:00  242  58  29.27751 -78.877894     djpyt  MIAMI   \n",
      "4  2021-04-23 00:00:00  242  58  29.27751 -78.877894     djpyt  MIAMI   \n",
      "\n",
      "   pdISSRs200430  pdISSRs300370  pdMeanTemp200430  pdMeanTemp300370  \\\n",
      "0              1              0        238.740347        231.558500   \n",
      "1              0              0        235.731056        227.435583   \n",
      "2              0              0        235.499222        228.468417   \n",
      "3              0              0        236.010181        226.869250   \n",
      "4              0              0        236.284875        229.807958   \n",
      "\n",
      "   pdMeanRH_ice200430  pdMeanRH_ice300370  \n",
      "0           48.891528           70.813750  \n",
      "1            7.273333            9.849583  \n",
      "2           64.471528           64.190833  \n",
      "3           53.896111           78.581250  \n",
      "4           54.430417           78.384167  \n"
     ]
    }
   ],
   "source": [
    "all_miami = pd.read_csv('s3://partly-cloudy-ml-inputs/MIAMI_6_hour_flat.csv')\n",
    "print(all_miami.head())"
   ]
  },
  {
   "cell_type": "code",
   "execution_count": 4,
   "id": "d371f783",
   "metadata": {},
   "outputs": [],
   "source": [
    "#Creating a subset of the dataframe - Going to just look at ISSRs at FL 300 to FL 370\n",
    "df2 = all_miami[['LocalDateTimePeriod', 'pdISSRs300370','Nx', 'Ny', 'Lat', 'Lon', 'pdMeanTemp300370', 'pdMeanRH_ice300370']]\n",
    "df2 = df2[df2.LocalDateTimePeriod <= '2021-05-15 00:00:00']\n",
    "df2 = df2[df2.LocalDateTimePeriod >= '2021-05-11 00:00:00']\n",
    "\n",
    "\n",
    "df = all_miami[['LocalDateTimePeriod', 'pdISSRs300370','Nx', 'Ny', 'pdMeanTemp300370', 'pdMeanRH_ice300370']]\n",
    "#Filter down to the time periodwe want to examine\n",
    "#Going to use July 1st at midnight to July 5th 2020 at midnight\n",
    "df = df[df.LocalDateTimePeriod <= '2021-05-14 00:00:00']\n",
    "df = df[df.LocalDateTimePeriod >= '2021-05-11 00:00:00']"
   ]
  },
  {
   "cell_type": "code",
   "execution_count": 5,
   "id": "4bd8286d",
   "metadata": {},
   "outputs": [
    {
     "name": "stdout",
     "output_type": "stream",
     "text": [
      "     LocalDateTimePeriod  pdISSRs300370   Nx  Ny  pdMeanTemp300370  \\\n",
      "34   2021-05-12 18:00:00              0  242  58        231.553208   \n",
      "80   2021-05-13 12:00:00              1  242  58        231.546125   \n",
      "255  2021-05-14 00:00:00              0  242  58        230.917542   \n",
      "294  2021-05-13 18:00:00              1  242  58        231.243458   \n",
      "361  2021-05-12 12:00:00              1  242  58        231.489083   \n",
      "\n",
      "     pdMeanRH_ice300370  \n",
      "34            88.930000  \n",
      "80            88.775000  \n",
      "255           66.565833  \n",
      "294           83.837500  \n",
      "361           68.444583  \n",
      "<class 'pandas.core.frame.DataFrame'>\n",
      "Int64Index: 10673 entries, 34 to 1193715\n",
      "Data columns (total 6 columns):\n",
      " #   Column               Non-Null Count  Dtype  \n",
      "---  ------               --------------  -----  \n",
      " 0   LocalDateTimePeriod  10673 non-null  object \n",
      " 1   pdISSRs300370        10673 non-null  int64  \n",
      " 2   Nx                   10673 non-null  int64  \n",
      " 3   Ny                   10673 non-null  int64  \n",
      " 4   pdMeanTemp300370     10673 non-null  float64\n",
      " 5   pdMeanRH_ice300370   10673 non-null  float64\n",
      "dtypes: float64(2), int64(3), object(1)\n",
      "memory usage: 583.7+ KB\n",
      "None\n"
     ]
    }
   ],
   "source": [
    "print(df.head())\n",
    "print(df.info())"
   ]
  },
  {
   "cell_type": "code",
   "execution_count": 6,
   "id": "42dd909a",
   "metadata": {},
   "outputs": [
    {
     "name": "stdout",
     "output_type": "stream",
     "text": [
      "<class 'pandas.core.frame.DataFrame'>\n",
      "Int64Index: 10673 entries, 34 to 1193715\n",
      "Data columns (total 6 columns):\n",
      " #   Column               Non-Null Count  Dtype         \n",
      "---  ------               --------------  -----         \n",
      " 0   LocalDateTimePeriod  10673 non-null  datetime64[ns]\n",
      " 1   pdISSRs300370        10673 non-null  int64         \n",
      " 2   Nx                   10673 non-null  int64         \n",
      " 3   Ny                   10673 non-null  int64         \n",
      " 4   pdMeanTemp300370     10673 non-null  float64       \n",
      " 5   pdMeanRH_ice300370   10673 non-null  float64       \n",
      "dtypes: datetime64[ns](1), float64(2), int64(3)\n",
      "memory usage: 583.7 KB\n"
     ]
    }
   ],
   "source": [
    "#Convert variables into appropriate formats for analysis\n",
    "#1. LocalDateTimePeriod -> Date object\n",
    "df['LocalDateTimePeriod'] = pd.to_datetime(df['LocalDateTimePeriod'], infer_datetime_format=True)\n",
    "#Check change has occured\n",
    "df.info()"
   ]
  },
  {
   "cell_type": "code",
   "execution_count": 7,
   "id": "ecef9907",
   "metadata": {},
   "outputs": [
    {
     "name": "stdout",
     "output_type": "stream",
     "text": [
      "         pdISSRs300370   Nx  Ny  pdMeanTemp300370  pdMeanRH_ice300370\n",
      "34                   0  242  58        231.553208           88.930000\n",
      "80                   1  242  58        231.546125           88.775000\n",
      "255                  0  242  58        230.917542           66.565833\n",
      "294                  1  242  58        231.243458           83.837500\n",
      "361                  1  242  58        231.489083           68.444583\n",
      "...                ...  ...  ..               ...                 ...\n",
      "1193575              0  241  33        231.370542           37.496667\n",
      "1193599              0  241  33        232.607875           80.333333\n",
      "1193609              0  241  33        231.420792           80.698333\n",
      "1193674              0  241  33        231.877500           36.448333\n",
      "1193715              0  241  33        231.472083           72.250833\n",
      "\n",
      "[10673 rows x 5 columns]\n"
     ]
    }
   ],
   "source": [
    "#Create dataframe just for our inputs - Focusing on FL 300-370 For now\n",
    "#Subsetting with pdISSRs300370, Nx, Ny\n",
    "df_input = df[['pdISSRs300370', 'Nx', 'Ny', 'pdMeanTemp300370', 'pdMeanRH_ice300370']]\n",
    "print(df_input)"
   ]
  },
  {
   "cell_type": "code",
   "execution_count": 8,
   "id": "4b22274e",
   "metadata": {},
   "outputs": [
    {
     "data": {
      "text/html": [
       "<div>\n",
       "<style scoped>\n",
       "    .dataframe tbody tr th:only-of-type {\n",
       "        vertical-align: middle;\n",
       "    }\n",
       "\n",
       "    .dataframe tbody tr th {\n",
       "        vertical-align: top;\n",
       "    }\n",
       "\n",
       "    .dataframe thead th {\n",
       "        text-align: right;\n",
       "    }\n",
       "</style>\n",
       "<table border=\"1\" class=\"dataframe\">\n",
       "  <thead>\n",
       "    <tr style=\"text-align: right;\">\n",
       "      <th></th>\n",
       "      <th>pdISSRs300370</th>\n",
       "      <th>Nx</th>\n",
       "      <th>Ny</th>\n",
       "      <th>pdMeanTemp300370</th>\n",
       "      <th>pdMeanRH_ice300370</th>\n",
       "    </tr>\n",
       "  </thead>\n",
       "  <tbody>\n",
       "    <tr>\n",
       "      <th>count</th>\n",
       "      <td>10673.000000</td>\n",
       "      <td>10673.000000</td>\n",
       "      <td>10673.000000</td>\n",
       "      <td>10673.000000</td>\n",
       "      <td>10673.000000</td>\n",
       "    </tr>\n",
       "    <tr>\n",
       "      <th>mean</th>\n",
       "      <td>0.144477</td>\n",
       "      <td>235.537150</td>\n",
       "      <td>44.494519</td>\n",
       "      <td>231.685506</td>\n",
       "      <td>73.931839</td>\n",
       "    </tr>\n",
       "    <tr>\n",
       "      <th>std</th>\n",
       "      <td>0.458880</td>\n",
       "      <td>9.398792</td>\n",
       "      <td>9.065840</td>\n",
       "      <td>0.966689</td>\n",
       "      <td>12.845356</td>\n",
       "    </tr>\n",
       "    <tr>\n",
       "      <th>min</th>\n",
       "      <td>0.000000</td>\n",
       "      <td>213.000000</td>\n",
       "      <td>28.000000</td>\n",
       "      <td>229.396583</td>\n",
       "      <td>23.047500</td>\n",
       "    </tr>\n",
       "    <tr>\n",
       "      <th>25%</th>\n",
       "      <td>0.000000</td>\n",
       "      <td>228.000000</td>\n",
       "      <td>37.000000</td>\n",
       "      <td>231.045792</td>\n",
       "      <td>67.630833</td>\n",
       "    </tr>\n",
       "    <tr>\n",
       "      <th>50%</th>\n",
       "      <td>0.000000</td>\n",
       "      <td>236.000000</td>\n",
       "      <td>45.000000</td>\n",
       "      <td>231.683125</td>\n",
       "      <td>76.891250</td>\n",
       "    </tr>\n",
       "    <tr>\n",
       "      <th>75%</th>\n",
       "      <td>0.000000</td>\n",
       "      <td>243.000000</td>\n",
       "      <td>51.000000</td>\n",
       "      <td>232.473208</td>\n",
       "      <td>83.050417</td>\n",
       "    </tr>\n",
       "    <tr>\n",
       "      <th>max</th>\n",
       "      <td>5.000000</td>\n",
       "      <td>255.000000</td>\n",
       "      <td>63.000000</td>\n",
       "      <td>233.946542</td>\n",
       "      <td>96.980417</td>\n",
       "    </tr>\n",
       "  </tbody>\n",
       "</table>\n",
       "</div>"
      ],
      "text/plain": [
       "       pdISSRs300370            Nx            Ny  pdMeanTemp300370  \\\n",
       "count   10673.000000  10673.000000  10673.000000      10673.000000   \n",
       "mean        0.144477    235.537150     44.494519        231.685506   \n",
       "std         0.458880      9.398792      9.065840          0.966689   \n",
       "min         0.000000    213.000000     28.000000        229.396583   \n",
       "25%         0.000000    228.000000     37.000000        231.045792   \n",
       "50%         0.000000    236.000000     45.000000        231.683125   \n",
       "75%         0.000000    243.000000     51.000000        232.473208   \n",
       "max         5.000000    255.000000     63.000000        233.946542   \n",
       "\n",
       "       pdMeanRH_ice300370  \n",
       "count        10673.000000  \n",
       "mean            73.931839  \n",
       "std             12.845356  \n",
       "min             23.047500  \n",
       "25%             67.630833  \n",
       "50%             76.891250  \n",
       "75%             83.050417  \n",
       "max             96.980417  "
      ]
     },
     "execution_count": 8,
     "metadata": {},
     "output_type": "execute_result"
    }
   ],
   "source": [
    "#Even though last 2 columns are float-64 want all input variables to be.\n",
    "df_input= df_input.astype('float64')\n",
    "df_input.describe()"
   ]
  },
  {
   "cell_type": "code",
   "execution_count": 11,
   "id": "af621879",
   "metadata": {},
   "outputs": [
    {
     "data": {
      "text/plain": [
       "array([[-0.31486082,  0.68765785,  1.48978069, -0.13686238,  1.16764875],\n",
       "       [ 1.86445794,  0.68765785,  1.48978069, -0.14419013,  1.15558157],\n",
       "       [-0.31486082,  0.68765785,  1.48978069, -0.79446393, -0.57346412],\n",
       "       ...,\n",
       "       [-0.31486082,  0.58125622, -1.26795277, -0.27384833,  0.5267905 ],\n",
       "       [-0.31486082,  0.58125622, -1.26795277,  0.19861959, -2.91819566],\n",
       "       [-0.31486082,  0.58125622, -1.26795277, -0.22078675, -0.13087098]])"
      ]
     },
     "execution_count": 11,
     "metadata": {},
     "output_type": "execute_result"
    }
   ],
   "source": [
    "#Scale inputs - Sigmmoid and Tanh functions\n",
    "scaler = StandardScaler()\n",
    "data_scaled = scaler.fit_transform(df_input)\n",
    "#scaled data is a 2D array all values are between 0-1.\n",
    "data_scaled"
   ]
  },
  {
   "cell_type": "code",
   "execution_count": 12,
   "id": "0c29ff84",
   "metadata": {},
   "outputs": [
    {
     "name": "stdout",
     "output_type": "stream",
     "text": [
      "[-0.31486082  1.86445794 -0.31486082 ... -0.31486082 -0.31486082\n",
      " -0.31486082]\n"
     ]
    }
   ],
   "source": [
    "#store as feature variable\n",
    "features = data_scaled\n",
    "#our output/target variable is also pdISSRs300370 so will index for first part of array and store as target.\n",
    "target = data_scaled[:,0]\n",
    "print(target)"
   ]
  },
  {
   "cell_type": "code",
   "execution_count": 13,
   "id": "2e3dcf9f",
   "metadata": {},
   "outputs": [
    {
     "data": {
      "text/plain": [
       "(array([[[-0.31486082,  0.68765785,  1.48978069, -0.13686238,\n",
       "           1.16764875]]]),\n",
       " array([1.86445794]))"
      ]
     },
     "execution_count": 13,
     "metadata": {},
     "output_type": "execute_result"
    }
   ],
   "source": [
    "#Using timseriesgenerator to convert 2d to 3d arrays but also using a sample of data for this:\n",
    "#Will update batch size to be larger later, length is the period of time in which we want to be able to predict\n",
    "#Since data is in 6-hour increments, lets set length = 1 which means predicting 6 hours ahead.\n",
    "#First row printed reflects our input values and the 2nd array printed is the output when predicting 6 hours ahead\n",
    "#This prediction gives us an ISSR count of 0\n",
    "TimeseriesGenerator(features, target, length = 1, sampling_rate = 1, batch_size =1)[0]"
   ]
  },
  {
   "cell_type": "code",
   "execution_count": 14,
   "id": "958a11bc",
   "metadata": {},
   "outputs": [
    {
     "name": "stdout",
     "output_type": "stream",
     "text": [
      "(7471, 5)\n",
      "(3202, 5)\n"
     ]
    }
   ],
   "source": [
    "#Split our data into training and testing data - 70% training & 30% testing. Also don't want to shuffle, keep\n",
    "#order in tact\n",
    "x_train, x_test, y_train, y_test = train_test_split(features, target, test_size = 0.30,\n",
    "random_state = 123, shuffle = False)\n",
    "\n",
    "print(x_train.shape)\n",
    "print(x_test.shape)"
   ]
  },
  {
   "cell_type": "code",
   "execution_count": 15,
   "id": "ab4a0217",
   "metadata": {},
   "outputs": [
    {
     "data": {
      "text/plain": [
       "(array([[[-0.31486082,  0.68765785,  1.48978069, -0.13686238,\n",
       "           1.16764875],\n",
       "         [ 1.86445794,  0.68765785,  1.48978069, -0.14419013,\n",
       "           1.15558157],\n",
       "         [-0.31486082,  0.68765785,  1.48978069, -0.79446393,\n",
       "          -0.57346412],\n",
       "         ...,\n",
       "         [-0.31486082,  0.68765785,  1.48978069, -0.22401958,\n",
       "           0.79398778],\n",
       "         [-0.31486082,  0.68765785,  1.48978069, -1.64056127,\n",
       "          -1.407819  ],\n",
       "         [-0.31486082,  0.68765785,  1.48978069, -1.80121157,\n",
       "          -1.37992175]],\n",
       " \n",
       "        [[ 1.86445794,  0.68765785,  1.48978069, -0.14419013,\n",
       "           1.15558157],\n",
       "         [-0.31486082,  0.68765785,  1.48978069, -0.79446393,\n",
       "          -0.57346412],\n",
       "         [ 1.86445794,  0.68765785,  1.48978069, -0.45730089,\n",
       "           0.7711834 ],\n",
       "         ...,\n",
       "         [-0.31486082,  0.68765785,  1.48978069, -1.64056127,\n",
       "          -1.407819  ],\n",
       "         [-0.31486082,  0.68765785,  1.48978069, -1.80121157,\n",
       "          -1.37992175],\n",
       "         [-0.31486082,  0.68765785,  1.48978069, -2.134409  ,\n",
       "           0.33913283]],\n",
       " \n",
       "        [[-0.31486082,  0.68765785,  1.48978069, -0.79446393,\n",
       "          -0.57346412],\n",
       "         [ 1.86445794,  0.68765785,  1.48978069, -0.45730089,\n",
       "           0.7711834 ],\n",
       "         [ 1.86445794,  0.68765785,  1.48978069, -0.20320013,\n",
       "          -0.42719818],\n",
       "         ...,\n",
       "         [-0.31486082,  0.68765785,  1.48978069, -1.80121157,\n",
       "          -1.37992175],\n",
       "         [-0.31486082,  0.68765785,  1.48978069, -2.134409  ,\n",
       "           0.33913283],\n",
       "         [-0.31486082, -0.05715362,  0.82792466, -1.64047506,\n",
       "           0.05857082]],\n",
       " \n",
       "        ...,\n",
       " \n",
       "        [[ 1.86445794,  0.47485458,  1.93101804, -0.36208315,\n",
       "          -0.28476001],\n",
       "         [-0.31486082,  0.47485458,  1.93101804, -1.46465199,\n",
       "          -1.53277274],\n",
       "         [-0.31486082,  0.47485458,  1.93101804, -1.79409933,\n",
       "          -1.93069783],\n",
       "         ...,\n",
       "         [-0.31486082,  0.47485458,  1.93101804, -2.00509564,\n",
       "           0.97168678],\n",
       "         [-0.31486082, -0.48276018,  0.3866873 ,  0.18198127,\n",
       "           0.80358962],\n",
       "         [-0.31486082, -0.48276018,  0.3866873 ,  0.34176948,\n",
       "           0.68450729]],\n",
       " \n",
       "        [[-0.31486082,  0.47485458,  1.93101804, -1.46465199,\n",
       "          -1.53277274],\n",
       "         [-0.31486082,  0.47485458,  1.93101804, -1.79409933,\n",
       "          -1.93069783],\n",
       "         [-0.31486082,  0.47485458,  1.93101804, -0.45997337,\n",
       "          -0.02401802],\n",
       "         ...,\n",
       "         [-0.31486082, -0.48276018,  0.3866873 ,  0.18198127,\n",
       "           0.80358962],\n",
       "         [-0.31486082, -0.48276018,  0.3866873 ,  0.34176948,\n",
       "           0.68450729],\n",
       "         [-0.31486082, -0.48276018,  0.3866873 , -0.41031704,\n",
       "           0.20224166]],\n",
       " \n",
       "        [[-0.31486082,  0.47485458,  1.93101804, -1.79409933,\n",
       "          -1.93069783],\n",
       "         [-0.31486082,  0.47485458,  1.93101804, -0.45997337,\n",
       "          -0.02401802],\n",
       "         [-0.31486082,  0.47485458,  1.93101804, -2.03565669,\n",
       "          -1.22372958],\n",
       "         ...,\n",
       "         [-0.31486082, -0.48276018,  0.3866873 ,  0.34176948,\n",
       "           0.68450729],\n",
       "         [-0.31486082, -0.48276018,  0.3866873 , -0.41031704,\n",
       "           0.20224166],\n",
       "         [-0.31486082, -0.48276018,  0.3866873 ,  0.84906581,\n",
       "           0.30066057]]]),\n",
       " array([-0.31486082, -0.31486082, -0.31486082, -0.31486082, -0.31486082,\n",
       "        -0.31486082, -0.31486082, -0.31486082, -0.31486082, -0.31486082,\n",
       "        -0.31486082, -0.31486082, -0.31486082, -0.31486082, -0.31486082,\n",
       "        -0.31486082,  1.86445794,  1.86445794, -0.31486082, -0.31486082,\n",
       "        -0.31486082, -0.31486082, 10.581733  , -0.31486082, -0.31486082,\n",
       "         1.86445794, -0.31486082, -0.31486082, -0.31486082, -0.31486082,\n",
       "        -0.31486082, -0.31486082]))"
      ]
     },
     "execution_count": 15,
     "metadata": {},
     "output_type": "execute_result"
    }
   ],
   "source": [
    "#Actual Timseries generator\n",
    "#Data for every 6 hours, 24 hours we have 4 data points of 6 hours\n",
    "#In day of 6 hour intervals we have 4 Data Points, we are taking 3 days of data so 4 x 3 = 12 for window length\n",
    "#5 features now.\n",
    "\n",
    "#Each day we have 4 data points, we have 3 days of training data and using the 3 days of data going to print next\n",
    "#observation. Batch size 32 - Each training instance, passing 32 batch size of data, with 5 features (input size)\n",
    "win_length = 12\n",
    "batch_size = 32\n",
    "num_features = 5\n",
    "\n",
    "#train generator - Passes the 70% of data, length is 12 for those 3 days of data and predict next instance.\n",
    "train_generator = TimeseriesGenerator(x_train, y_train, length = win_length, sampling_rate =1,batch_size = batch_size)\n",
    "#test generator based on 30% of data\n",
    "test_generator = TimeseriesGenerator(x_test, y_test, length = win_length, sampling_rate=1, batch_size = batch_size)\n",
    "\n",
    "#Will contain 32 observations bc of the batch size variable each 12 having 5 observations bc 5 features\n",
    "train_generator[0]"
   ]
  },
  {
   "cell_type": "code",
   "execution_count": 16,
   "id": "f2c8333f",
   "metadata": {},
   "outputs": [
    {
     "name": "stdout",
     "output_type": "stream",
     "text": [
      "Model: \"sequential\"\n",
      "_________________________________________________________________\n",
      "Layer (type)                 Output Shape              Param #   \n",
      "=================================================================\n",
      "lstm (LSTM)                  (None, 120)               60480     \n",
      "_________________________________________________________________\n",
      "dropout (Dropout)            (None, 120)               0         \n",
      "_________________________________________________________________\n",
      "dense (Dense)                (None, 1)                 121       \n",
      "=================================================================\n",
      "Total params: 60,601\n",
      "Trainable params: 60,601\n",
      "Non-trainable params: 0\n",
      "_________________________________________________________________\n"
     ]
    }
   ],
   "source": [
    "#Define our model architecture\n",
    "model = Sequential()\n",
    "\n",
    "#4(nm+n^2) where n - length of input vector in each time step (5) m - length of output vector (1)\n",
    "#4(5*1 + 5^2) = 4(5 + 25) =4(30) = 120.\n",
    "\n",
    "#telling LSTM layer number of units is 120, input shape is 12 instances with 5 features\n",
    "#need hidden state for each observation\n",
    "model.add(LSTM(120, activation='relu', input_shape = (win_length, num_features), return_sequences=False))\n",
    "#model.add(LSTM(20, activation='relu', return_sequences=False))\n",
    "model.add(Dropout(0.2))\n",
    "model.add(Dense(1))\n",
    "model.compile(optimizer='adam', loss='mean_squared_error', metrics = ['mse', 'accuracy'])\n",
    "model.summary()"
   ]
  },
  {
   "cell_type": "code",
   "execution_count": 17,
   "id": "02951876",
   "metadata": {},
   "outputs": [],
   "source": [
    "#early stopping is telling model to monitor the loss in the valiation dataset, will decrease for validation accuracy\n",
    "#training will stop when chosen performance measure stops imporving\n",
    "early_stopping = tf.keras.callbacks.EarlyStopping(monitor='val_loss', patience = 2, mode='min')"
   ]
  },
  {
   "cell_type": "code",
   "execution_count": 18,
   "id": "a6c5243f",
   "metadata": {},
   "outputs": [
    {
     "name": "stderr",
     "output_type": "stream",
     "text": [
      "/home/ec2-user/SageMaker/keras/engine/training.py:1915: UserWarning: `Model.fit_generator` is deprecated and will be removed in a future version. Please use `Model.fit`, which supports generators.\n",
      "  warnings.warn('`Model.fit_generator` is deprecated and '\n"
     ]
    },
    {
     "name": "stdout",
     "output_type": "stream",
     "text": [
      "Epoch 1/5\n",
      "234/234 [==============================] - 28s 12ms/step - loss: 1.0606 - mse: 1.0606 - accuracy: 0.0000e+00 - val_loss: 0.9414 - val_mse: 0.9414 - val_accuracy: 0.0000e+00\n",
      "Epoch 2/5\n",
      "234/234 [==============================] - 2s 9ms/step - loss: 1.0312 - mse: 1.0312 - accuracy: 0.0000e+00 - val_loss: 0.9436 - val_mse: 0.9436 - val_accuracy: 0.0000e+00\n",
      "Epoch 3/5\n",
      "234/234 [==============================] - 2s 9ms/step - loss: 1.0224 - mse: 1.0224 - accuracy: 0.0000e+00 - val_loss: 0.9487 - val_mse: 0.9487 - val_accuracy: 0.0000e+00\n"
     ]
    }
   ],
   "source": [
    "#defining model\n",
    "\n",
    "model.compile(optimizer='adam', loss='mse', metrics = ['mse', 'accuracy'])\n",
    "#passing training df. don't shuffle the data, for now validation and test will be the same - change in future.\n",
    "history = model.fit_generator(train_generator, epochs = 5, validation_data = test_generator, shuffle = False\n",
    "                             ,callbacks=[early_stopping])"
   ]
  },
  {
   "cell_type": "code",
   "execution_count": 1,
   "id": "5cf5225b",
   "metadata": {},
   "outputs": [
    {
     "ename": "NameError",
     "evalue": "name 'history' is not defined",
     "output_type": "error",
     "traceback": [
      "\u001b[0;31m---------------------------------------------------------------------------\u001b[0m",
      "\u001b[0;31mNameError\u001b[0m                                 Traceback (most recent call last)",
      "\u001b[0;32m<ipython-input-1-20686812e3e3>\u001b[0m in \u001b[0;36m<module>\u001b[0;34m\u001b[0m\n\u001b[1;32m      1\u001b[0m \u001b[0;31m#Loss for each feature\u001b[0m\u001b[0;34m\u001b[0m\u001b[0;34m\u001b[0m\u001b[0;34m\u001b[0m\u001b[0m\n\u001b[0;32m----> 2\u001b[0;31m \u001b[0mprint\u001b[0m\u001b[0;34m(\u001b[0m\u001b[0mhistory\u001b[0m\u001b[0;34m.\u001b[0m\u001b[0mhistory\u001b[0m\u001b[0;34m[\u001b[0m\u001b[0;34m'loss'\u001b[0m\u001b[0;34m]\u001b[0m\u001b[0;34m)\u001b[0m\u001b[0;34m\u001b[0m\u001b[0;34m\u001b[0m\u001b[0m\n\u001b[0m\u001b[1;32m      3\u001b[0m \u001b[0;31m#Accuracy for each feature\u001b[0m\u001b[0;34m\u001b[0m\u001b[0;34m\u001b[0m\u001b[0;34m\u001b[0m\u001b[0m\n\u001b[1;32m      4\u001b[0m \u001b[0mprint\u001b[0m\u001b[0;34m(\u001b[0m\u001b[0mhistory\u001b[0m\u001b[0;34m.\u001b[0m\u001b[0mhistory\u001b[0m\u001b[0;34m[\u001b[0m\u001b[0;34m'accuracy'\u001b[0m\u001b[0;34m]\u001b[0m\u001b[0;34m)\u001b[0m\u001b[0;34m\u001b[0m\u001b[0;34m\u001b[0m\u001b[0m\n\u001b[1;32m      5\u001b[0m \u001b[0;31m#Validation loss for each feature\u001b[0m\u001b[0;34m\u001b[0m\u001b[0;34m\u001b[0m\u001b[0;34m\u001b[0m\u001b[0m\n",
      "\u001b[0;31mNameError\u001b[0m: name 'history' is not defined"
     ]
    }
   ],
   "source": [
    "#Loss for each feature\n",
    "print(history.history['loss'])\n",
    "#Accuracy for each feature\n",
    "print(history.history['accuracy'])\n",
    "#Validation loss for each feature\n",
    "print(history.history['val_loss'])\n",
    "#Validation accuracy for each feature\n",
    "print(history.history['val_accuracy'])\n",
    "\n",
    "#plotting loss of training data vs. validation data loss for each epoch.\n",
    "from matplotlib import pyplot\n",
    "pyplot.plot(history.history['loss'])\n",
    "pyplot.plot(history.history['val_loss'])\n",
    "pyplot.title('model train vs validation loss')\n",
    "pyplot.ylabel('loss')\n",
    "pyplot.xlabel('epoch')\n",
    "pyplot.legend(['train', 'validation'], loc='upper right')\n",
    "pyplot.show()"
   ]
  },
  {
   "cell_type": "code",
   "execution_count": 20,
   "id": "5293f370",
   "metadata": {},
   "outputs": [
    {
     "name": "stderr",
     "output_type": "stream",
     "text": [
      "/home/ec2-user/SageMaker/keras/engine/training.py:1948: UserWarning: `Model.evaluate_generator` is deprecated and will be removed in a future version. Please use `Model.evaluate`, which supports generators.\n",
      "  warnings.warn('`Model.evaluate_generator` is deprecated and '\n"
     ]
    },
    {
     "data": {
      "text/plain": [
       "[0.9487083554267883, 0.9487083554267883, 0.0]"
      ]
     },
     "execution_count": 20,
     "metadata": {},
     "output_type": "execute_result"
    }
   ],
   "source": [
    "model.evaluate_generator(test_generator, verbose = 0)"
   ]
  },
  {
   "cell_type": "code",
   "execution_count": 21,
   "id": "64948148",
   "metadata": {},
   "outputs": [
    {
     "name": "stderr",
     "output_type": "stream",
     "text": [
      "/home/ec2-user/SageMaker/keras/engine/training.py:1976: UserWarning: `Model.predict_generator` is deprecated and will be removed in a future version. Please use `Model.predict`, which supports generators.\n",
      "  warnings.warn('`Model.predict_generator` is deprecated and '\n"
     ]
    },
    {
     "name": "stdout",
     "output_type": "stream",
     "text": [
      "3190\n",
      "[[ 0.3999713 ]\n",
      " [ 0.4154691 ]\n",
      " [ 0.41558158]\n",
      " ...\n",
      " [-0.1673248 ]\n",
      " [-0.19456431]\n",
      " [-0.2008    ]]\n"
     ]
    }
   ],
   "source": [
    "#training_predictions = model.predict_generator(train_generator)\n",
    "#print(training_predictions)\n",
    "\n",
    "#using test generator data for the predictive model\n",
    "predictions = model.predict_generator(test_generator)\n",
    "print(predictions.shape[0])\n",
    "\n",
    "print(predictions)"
   ]
  },
  {
   "cell_type": "code",
   "execution_count": 22,
   "id": "df22b23c",
   "metadata": {},
   "outputs": [
    {
     "data": {
      "text/plain": [
       "array([-0.31486082, -0.31486082, -0.31486082, ..., -0.31486082,\n",
       "       -0.31486082, -0.31486082])"
      ]
     },
     "execution_count": 22,
     "metadata": {},
     "output_type": "execute_result"
    }
   ],
   "source": [
    "y_test"
   ]
  },
  {
   "cell_type": "code",
   "execution_count": 23,
   "id": "ae51e163",
   "metadata": {},
   "outputs": [
    {
     "data": {
      "text/plain": [
       "array([[-0.31486082, -1.44037493, -0.93702476,  1.14838314,  0.25041308],\n",
       "       [-0.31486082, -1.44037493, -0.93702476,  0.87333361,  0.33199632],\n",
       "       [-0.31486082, -1.44037493, -0.93702476,  0.05322827,  0.85795682],\n",
       "       ...,\n",
       "       [-0.31486082,  0.58125622, -1.26795277, -0.27384833,  0.5267905 ],\n",
       "       [-0.31486082,  0.58125622, -1.26795277,  0.19861959, -2.91819566],\n",
       "       [-0.31486082,  0.58125622, -1.26795277, -0.22078675, -0.13087098]])"
      ]
     },
     "execution_count": 23,
     "metadata": {},
     "output_type": "execute_result"
    }
   ],
   "source": [
    "x_test"
   ]
  },
  {
   "cell_type": "code",
   "execution_count": 24,
   "id": "9a158fe4",
   "metadata": {},
   "outputs": [
    {
     "data": {
      "text/plain": [
       "array([[-2.39798969,  0.16606863,  0.87066114,  1.31738563],\n",
       "       [-2.39798969,  0.16606863,  0.2868113 ,  1.59999127],\n",
       "       [-2.39798969,  0.16606863, -1.52456718,  0.01610861],\n",
       "       ...,\n",
       "       [ 0.58125622, -1.26795277, -0.27384833,  0.5267905 ],\n",
       "       [ 0.58125622, -1.26795277,  0.19861959, -2.91819566],\n",
       "       [ 0.58125622, -1.26795277, -0.22078675, -0.13087098]])"
      ]
     },
     "execution_count": 24,
     "metadata": {},
     "output_type": "execute_result"
    }
   ],
   "source": [
    "x_test[:,1:][win_length:]"
   ]
  },
  {
   "cell_type": "code",
   "execution_count": 25,
   "id": "e0d9cd8d",
   "metadata": {
    "scrolled": true
   },
   "outputs": [
    {
     "name": "stdout",
     "output_type": "stream",
     "text": [
      "             0         0         1         2         3\n",
      "0     0.399971 -2.397990  0.166069  0.870661  1.317386\n",
      "1     0.415469 -2.397990  0.166069  0.286811  1.599991\n",
      "2     0.415582 -2.397990  0.166069 -1.524567  0.016109\n",
      "3     0.266448 -2.397990  0.166069 -1.143955 -0.619300\n",
      "4     0.224805 -2.397990  0.166069  1.103468  0.450592\n",
      "...        ...       ...       ...       ...       ...\n",
      "3185 -0.184432  0.581256 -1.267953 -0.325832 -2.836580\n",
      "3186 -0.226274  0.581256 -1.267953  0.954198  0.498374\n",
      "3187 -0.167325  0.581256 -1.267953 -0.273848  0.526790\n",
      "3188 -0.194564  0.581256 -1.267953  0.198620 -2.918196\n",
      "3189 -0.200800  0.581256 -1.267953 -0.220787 -0.130871\n",
      "\n",
      "[3190 rows x 5 columns]\n"
     ]
    }
   ],
   "source": [
    "#df_train_pred = pd.concat([pd.DataFrame(training_predictions), pd.DataFrame(x_test[:,1:][win_length:])], axis=1)\n",
    "df_pred=pd.concat([pd.DataFrame(predictions), pd.DataFrame(x_test[:,1:][win_length:])], axis=1)\n",
    "print(df_pred)"
   ]
  },
  {
   "cell_type": "code",
   "execution_count": 26,
   "id": "256528a1",
   "metadata": {},
   "outputs": [
    {
     "name": "stdout",
     "output_type": "stream",
     "text": [
      "[[3.28007145e-01 2.13000000e+02 4.60000000e+01 2.32527125e+02\n",
      "  9.08533333e+01]\n",
      " [3.35118452e-01 2.13000000e+02 4.60000000e+01 2.31962750e+02\n",
      "  9.44833333e+01]\n",
      " [3.35170061e-01 2.13000000e+02 4.60000000e+01 2.30211792e+02\n",
      "  7.41387500e+01]\n",
      " ...\n",
      " [6.76982305e-02 2.41000000e+02 3.30000000e+01 2.31420792e+02\n",
      "  8.06983333e+01]\n",
      " [5.51991336e-02 2.41000000e+02 3.30000000e+01 2.31877500e+02\n",
      "  3.64483333e+01]\n",
      " [5.23378317e-02 2.41000000e+02 3.30000000e+01 2.31472083e+02\n",
      "  7.22508333e+01]]\n"
     ]
    }
   ],
   "source": [
    "#rev_training = scaler.inverse_transform(df_train_pred)\n",
    "#print(rev_training)\n",
    "\n",
    "#Inversing the scaler\n",
    "rev_trans = scaler.inverse_transform(df_pred)\n",
    "print(rev_trans)"
   ]
  },
  {
   "cell_type": "code",
   "execution_count": 27,
   "id": "fee83a4b",
   "metadata": {},
   "outputs": [
    {
     "name": "stdout",
     "output_type": "stream",
     "text": [
      "         pdISSRs300370     Nx    Ny  pdMeanTemp300370  pdMeanRH_ice300370\n",
      "836755             0.0  213.0  46.0        232.527125           90.853333\n",
      "836855             1.0  213.0  46.0        231.962750           94.483333\n",
      "837085             0.0  213.0  46.0        230.211792           74.138750\n",
      "837105             0.0  213.0  46.0        230.579708           65.977083\n",
      "837411             0.0  213.0  46.0        232.752167           79.719583\n",
      "...                ...    ...   ...               ...                 ...\n",
      "1193575            0.0  241.0  33.0        231.370542           37.496667\n",
      "1193599            0.0  241.0  33.0        232.607875           80.333333\n",
      "1193609            0.0  241.0  33.0        231.420792           80.698333\n",
      "1193674            0.0  241.0  33.0        231.877500           36.448333\n",
      "1193715            0.0  241.0  33.0        231.472083           72.250833\n",
      "\n",
      "[3190 rows x 5 columns]\n"
     ]
    }
   ],
   "source": [
    "#df_training_results = df_input[training_predictions.shape[0]*-1:]\n",
    "#print(df_training_results)\n",
    "\n",
    "\n",
    "df_final = df_input[predictions.shape[0]*-1:]\n",
    "print(df_final)"
   ]
  },
  {
   "cell_type": "code",
   "execution_count": 28,
   "id": "b94f0585",
   "metadata": {},
   "outputs": [
    {
     "data": {
      "text/plain": [
       "pdISSRs300370         3190\n",
       "Nx                    3190\n",
       "Ny                    3190\n",
       "pdMeanTemp300370      3190\n",
       "pdMeanRH_ice300370    3190\n",
       "dtype: int64"
      ]
     },
     "execution_count": 28,
     "metadata": {},
     "output_type": "execute_result"
    }
   ],
   "source": [
    "#Ensure count is correct.\n",
    "df_final.count()"
   ]
  },
  {
   "cell_type": "code",
   "execution_count": 29,
   "id": "3039930a",
   "metadata": {},
   "outputs": [
    {
     "name": "stdout",
     "output_type": "stream",
     "text": [
      "         pdISSRs300370     Nx    Ny  pdMeanTemp300370  pdMeanRH_ice300370  \\\n",
      "836755             0.0  213.0  46.0        232.527125           90.853333   \n",
      "836855             1.0  213.0  46.0        231.962750           94.483333   \n",
      "837085             0.0  213.0  46.0        230.211792           74.138750   \n",
      "837105             0.0  213.0  46.0        230.579708           65.977083   \n",
      "837411             0.0  213.0  46.0        232.752167           79.719583   \n",
      "...                ...    ...   ...               ...                 ...   \n",
      "1193575            0.0  241.0  33.0        231.370542           37.496667   \n",
      "1193599            0.0  241.0  33.0        232.607875           80.333333   \n",
      "1193609            0.0  241.0  33.0        231.420792           80.698333   \n",
      "1193674            0.0  241.0  33.0        231.877500           36.448333   \n",
      "1193715            0.0  241.0  33.0        231.472083           72.250833   \n",
      "\n",
      "         ISSR_300370_Pred  \n",
      "836755           0.328007  \n",
      "836855           0.335118  \n",
      "837085           0.335170  \n",
      "837105           0.266739  \n",
      "837411           0.247631  \n",
      "...                   ...  \n",
      "1193575          0.059849  \n",
      "1193599          0.040649  \n",
      "1193609          0.067698  \n",
      "1193674          0.055199  \n",
      "1193715          0.052338  \n",
      "\n",
      "[3190 rows x 6 columns]\n"
     ]
    },
    {
     "name": "stderr",
     "output_type": "stream",
     "text": [
      "/home/ec2-user/anaconda3/envs/python3/lib/python3.6/site-packages/ipykernel/__main__.py:4: SettingWithCopyWarning: \n",
      "A value is trying to be set on a copy of a slice from a DataFrame.\n",
      "Try using .loc[row_indexer,col_indexer] = value instead\n",
      "\n",
      "See the caveats in the documentation: https://pandas.pydata.org/pandas-docs/stable/user_guide/indexing.html#returning-a-view-versus-a-copy\n"
     ]
    }
   ],
   "source": [
    "#df_training_results['ISSR_200430_Pred'] = rev_training[:,0]\n",
    "#print(df_training_results)\n",
    "#printing entire df with predicted values attached\n",
    "df_final['ISSR_300370_Pred'] = rev_trans[:,0]\n",
    "print(df_final)"
   ]
  },
  {
   "cell_type": "code",
   "execution_count": 30,
   "id": "c4fde55e",
   "metadata": {
    "scrolled": true
   },
   "outputs": [
    {
     "data": {
      "text/plain": [
       "<AxesSubplot:>"
      ]
     },
     "execution_count": 30,
     "metadata": {},
     "output_type": "execute_result"
    },
    {
     "data": {
      "image/png": "[encoded data removed]",
      "text/plain": [
       "<Figure size 432x288 with 1 Axes>"
      ]
     },
     "metadata": {
      "needs_background": "light"
     },
     "output_type": "display_data"
    }
   ],
   "source": [
    "#df_training_results[['pdISSRs300370', 'ISSR_300370_Pred']].plot()\n",
    "\n",
    "#Plot comparison of actual ISSR count for FL 300-370(blue) and Predicted ISSR count (orange)\n",
    "df_final[['pdISSRs300370', 'ISSR_300370_Pred']].plot()"
   ]
  },
  {
   "cell_type": "code",
   "execution_count": 31,
   "id": "36696be0",
   "metadata": {},
   "outputs": [
    {
     "data": {
      "text/plain": [
       "836755     0.0\n",
       "836855     0.0\n",
       "837085     0.0\n",
       "837105     0.0\n",
       "837411     0.0\n",
       "          ... \n",
       "1193575    0.0\n",
       "1193599    0.0\n",
       "1193609    0.0\n",
       "1193674    0.0\n",
       "1193715    0.0\n",
       "Name: ISSR_300370_Pred, Length: 3190, dtype: float64"
      ]
     },
     "execution_count": 31,
     "metadata": {},
     "output_type": "execute_result"
    }
   ],
   "source": [
    "round(df_final['ISSR_300370_Pred'],0)"
   ]
  },
  {
   "cell_type": "code",
   "execution_count": 32,
   "id": "38036266",
   "metadata": {},
   "outputs": [
    {
     "data": {
      "text/plain": [
       "count    3190.000000\n",
       "mean        0.137554\n",
       "std         0.091639\n",
       "min        -0.155019\n",
       "25%         0.076208\n",
       "50%         0.126511\n",
       "75%         0.187162\n",
       "max         0.552870\n",
       "Name: ISSR_300370_Pred, dtype: float64"
      ]
     },
     "execution_count": 32,
     "metadata": {},
     "output_type": "execute_result"
    }
   ],
   "source": [
    "#df_training_results['ISSR_300370_Pred'].describe()\n",
    "#Distribution of predicted values\n",
    "df_final['ISSR_300370_Pred'].describe()"
   ]
  },
  {
   "cell_type": "code",
   "execution_count": 33,
   "id": "bea2e6a9",
   "metadata": {},
   "outputs": [
    {
     "data": {
      "text/plain": [
       "count    3190.000000\n",
       "mean        0.143887\n",
       "std         0.445512\n",
       "min         0.000000\n",
       "25%         0.000000\n",
       "50%         0.000000\n",
       "75%         0.000000\n",
       "max         5.000000\n",
       "Name: pdISSRs300370, dtype: float64"
      ]
     },
     "execution_count": 33,
     "metadata": {},
     "output_type": "execute_result"
    }
   ],
   "source": [
    "#Distribution of predicted values\n",
    "df_final['pdISSRs300370'].describe()"
   ]
  },
  {
   "cell_type": "code",
   "execution_count": 34,
   "id": "e8ae0773",
   "metadata": {},
   "outputs": [
    {
     "name": "stdout",
     "output_type": "stream",
     "text": [
      "         pdISSRs300370     Nx    Ny  pdMeanTemp300370  pdMeanRH_ice300370  \\\n",
      "836755             0.0  213.0  46.0        232.527125           90.853333   \n",
      "836855             1.0  213.0  46.0        231.962750           94.483333   \n",
      "837085             0.0  213.0  46.0        230.211792           74.138750   \n",
      "837105             0.0  213.0  46.0        230.579708           65.977083   \n",
      "837411             0.0  213.0  46.0        232.752167           79.719583   \n",
      "...                ...    ...   ...               ...                 ...   \n",
      "1193575            0.0  241.0  33.0        231.370542           37.496667   \n",
      "1193599            0.0  241.0  33.0        232.607875           80.333333   \n",
      "1193609            0.0  241.0  33.0        231.420792           80.698333   \n",
      "1193674            0.0  241.0  33.0        231.877500           36.448333   \n",
      "1193715            0.0  241.0  33.0        231.472083           72.250833   \n",
      "\n",
      "         ISSR_300370_Pred  \n",
      "836755           0.328007  \n",
      "836855           0.335118  \n",
      "837085           0.335170  \n",
      "837105           0.266739  \n",
      "837411           0.247631  \n",
      "...                   ...  \n",
      "1193575          0.059849  \n",
      "1193599          0.040649  \n",
      "1193609          0.067698  \n",
      "1193674          0.055199  \n",
      "1193715          0.052338  \n",
      "\n",
      "[3190 rows x 6 columns]\n"
     ]
    }
   ],
   "source": [
    "print(df_final)"
   ]
  },
  {
   "cell_type": "code",
   "execution_count": 35,
   "id": "328a1452",
   "metadata": {},
   "outputs": [
    {
     "name": "stdout",
     "output_type": "stream",
     "text": [
      "         LocalDateTimePeriod  pdISSRs300370   Nx  Ny        Lat        Lon  \\\n",
      "920834   2021-05-11 12:00:00              0  217  48  27.913740 -84.250476   \n",
      "921044   2021-05-14 06:00:00              0  217  48  27.913740 -84.250476   \n",
      "921229   2021-05-11 06:00:00              0  217  48  27.913740 -84.250476   \n",
      "921330   2021-05-14 00:00:00              1  217  48  27.913740 -84.250476   \n",
      "921369   2021-05-14 12:00:00              0  217  48  27.913740 -84.250476   \n",
      "...                      ...            ...  ...  ..        ...        ...   \n",
      "1193593  2021-05-14 06:00:00              0  241  33  24.765398 -79.674515   \n",
      "1193599  2021-05-13 00:00:00              0  241  33  24.765398 -79.674515   \n",
      "1193609  2021-05-12 06:00:00              0  241  33  24.765398 -79.674515   \n",
      "1193674  2021-05-11 12:00:00              0  241  33  24.765398 -79.674515   \n",
      "1193715  2021-05-12 00:00:00              0  241  33  24.765398 -79.674515   \n",
      "\n",
      "         pdMeanTemp300370  pdMeanRH_ice300370  \n",
      "920834         231.234375           82.676667  \n",
      "921044         229.446208           19.967083  \n",
      "921229         230.202250           74.219167  \n",
      "921330         231.019083           56.404583  \n",
      "921369         228.274750           38.800417  \n",
      "...                   ...                 ...  \n",
      "1193593        232.792625           86.637500  \n",
      "1193599        232.607875           80.333333  \n",
      "1193609        231.420792           80.698333  \n",
      "1193674        231.877500           36.448333  \n",
      "1193715        231.472083           72.250833  \n",
      "\n",
      "[3190 rows x 8 columns]\n"
     ]
    }
   ],
   "source": [
    "#last 30% of original dataframe - want to join the timestamp to predicted results\n",
    "#so look at last 3190\n",
    "\n",
    "df2 = df2.iloc[-3190:]\n",
    "print(df2)"
   ]
  },
  {
   "cell_type": "code",
   "execution_count": 36,
   "id": "2d75bffc",
   "metadata": {},
   "outputs": [
    {
     "name": "stdout",
     "output_type": "stream",
     "text": [
      "         pdISSRs300370     Nx    Ny  pdMeanTemp300370  pdMeanRH_ice300370  \\\n",
      "836755             0.0  213.0  46.0        232.527125           90.853333   \n",
      "836855             1.0  213.0  46.0        231.962750           94.483333   \n",
      "837085             0.0  213.0  46.0        230.211792           74.138750   \n",
      "837105             0.0  213.0  46.0        230.579708           65.977083   \n",
      "837411             0.0  213.0  46.0        232.752167           79.719583   \n",
      "...                ...    ...   ...               ...                 ...   \n",
      "1193575            0.0  241.0  33.0        231.370542           37.496667   \n",
      "1193599            0.0  241.0  33.0        232.607875           80.333333   \n",
      "1193609            0.0  241.0  33.0        231.420792           80.698333   \n",
      "1193674            0.0  241.0  33.0        231.877500           36.448333   \n",
      "1193715            0.0  241.0  33.0        231.472083           72.250833   \n",
      "\n",
      "         ISSR_300370_Pred             datetime        Lat        Lon  \n",
      "836755           0.328007                  NaN        NaN        NaN  \n",
      "836855           0.335118                  NaN        NaN        NaN  \n",
      "837085           0.335170                  NaN        NaN        NaN  \n",
      "837105           0.266739                  NaN        NaN        NaN  \n",
      "837411           0.247631                  NaN        NaN        NaN  \n",
      "...                   ...                  ...        ...        ...  \n",
      "1193575          0.059849  2021-05-11 00:00:00  24.765398 -79.674515  \n",
      "1193599          0.040649  2021-05-13 00:00:00  24.765398 -79.674515  \n",
      "1193609          0.067698  2021-05-12 06:00:00  24.765398 -79.674515  \n",
      "1193674          0.055199  2021-05-11 12:00:00  24.765398 -79.674515  \n",
      "1193715          0.052338  2021-05-12 00:00:00  24.765398 -79.674515  \n",
      "\n",
      "[3190 rows x 9 columns]\n"
     ]
    },
    {
     "name": "stderr",
     "output_type": "stream",
     "text": [
      "/home/ec2-user/anaconda3/envs/python3/lib/python3.6/site-packages/ipykernel/__main__.py:2: SettingWithCopyWarning: \n",
      "A value is trying to be set on a copy of a slice from a DataFrame.\n",
      "Try using .loc[row_indexer,col_indexer] = value instead\n",
      "\n",
      "See the caveats in the documentation: https://pandas.pydata.org/pandas-docs/stable/user_guide/indexing.html#returning-a-view-versus-a-copy\n",
      "  from ipykernel import kernelapp as app\n",
      "/home/ec2-user/anaconda3/envs/python3/lib/python3.6/site-packages/ipykernel/__main__.py:3: SettingWithCopyWarning: \n",
      "A value is trying to be set on a copy of a slice from a DataFrame.\n",
      "Try using .loc[row_indexer,col_indexer] = value instead\n",
      "\n",
      "See the caveats in the documentation: https://pandas.pydata.org/pandas-docs/stable/user_guide/indexing.html#returning-a-view-versus-a-copy\n",
      "  app.launch_new_instance()\n",
      "/home/ec2-user/anaconda3/envs/python3/lib/python3.6/site-packages/ipykernel/__main__.py:4: SettingWithCopyWarning: \n",
      "A value is trying to be set on a copy of a slice from a DataFrame.\n",
      "Try using .loc[row_indexer,col_indexer] = value instead\n",
      "\n",
      "See the caveats in the documentation: https://pandas.pydata.org/pandas-docs/stable/user_guide/indexing.html#returning-a-view-versus-a-copy\n"
     ]
    }
   ],
   "source": [
    "#concat original date-time-stamp to results\n",
    "df_final['datetime'] = df2['LocalDateTimePeriod']\n",
    "df_final['Lat'] = df2['Lat']\n",
    "df_final['Lon'] = df2['Lon']\n",
    "print(df_final)"
   ]
  },
  {
   "cell_type": "code",
   "execution_count": 37,
   "id": "a9c2ba86",
   "metadata": {},
   "outputs": [
    {
     "name": "stdout",
     "output_type": "stream",
     "text": [
      "<class 'pandas.core.frame.DataFrame'>\n",
      "Int64Index: 3190 entries, 836755 to 1193715\n",
      "Data columns (total 9 columns):\n",
      " #   Column              Non-Null Count  Dtype  \n",
      "---  ------              --------------  -----  \n",
      " 0   pdISSRs300370       3190 non-null   float64\n",
      " 1   Nx                  3190 non-null   float64\n",
      " 2   Ny                  3190 non-null   float64\n",
      " 3   pdMeanTemp300370    3190 non-null   float64\n",
      " 4   pdMeanRH_ice300370  3190 non-null   float64\n",
      " 5   ISSR_300370_Pred    3190 non-null   float64\n",
      " 6   datetime            2438 non-null   object \n",
      " 7   Lat                 2438 non-null   float64\n",
      " 8   Lon                 2438 non-null   float64\n",
      "dtypes: float64(8), object(1)\n",
      "memory usage: 249.2+ KB\n",
      "<class 'pandas.core.frame.DataFrame'>\n",
      "Int64Index: 3190 entries, 836755 to 1193715\n",
      "Data columns (total 9 columns):\n",
      " #   Column              Non-Null Count  Dtype         \n",
      "---  ------              --------------  -----         \n",
      " 0   pdISSRs300370       3190 non-null   float64       \n",
      " 1   Nx                  3190 non-null   float64       \n",
      " 2   Ny                  3190 non-null   float64       \n",
      " 3   pdMeanTemp300370    3190 non-null   float64       \n",
      " 4   pdMeanRH_ice300370  3190 non-null   float64       \n",
      " 5   ISSR_300370_Pred    3190 non-null   float64       \n",
      " 6   datetime            2438 non-null   datetime64[ns]\n",
      " 7   Lat                 2438 non-null   float64       \n",
      " 8   Lon                 2438 non-null   float64       \n",
      "dtypes: datetime64[ns](1), float64(8)\n",
      "memory usage: 249.2 KB\n"
     ]
    },
    {
     "name": "stderr",
     "output_type": "stream",
     "text": [
      "/home/ec2-user/anaconda3/envs/python3/lib/python3.6/site-packages/ipykernel/__main__.py:4: SettingWithCopyWarning: \n",
      "A value is trying to be set on a copy of a slice from a DataFrame.\n",
      "Try using .loc[row_indexer,col_indexer] = value instead\n",
      "\n",
      "See the caveats in the documentation: https://pandas.pydata.org/pandas-docs/stable/user_guide/indexing.html#returning-a-view-versus-a-copy\n"
     ]
    }
   ],
   "source": [
    "df_final.info()\n",
    "\n",
    "#date column not datetime type\n",
    "df_final['datetime'] = pd.to_datetime(df_final['datetime']) \n",
    "df_final.info()"
   ]
  },
  {
   "cell_type": "code",
   "execution_count": 38,
   "id": "b08a5af0",
   "metadata": {},
   "outputs": [
    {
     "data": {
      "text/plain": [
       "2021-05-13 12:00:00    188\n",
       "2021-05-12 06:00:00    188\n",
       "2021-05-13 18:00:00    188\n",
       "2021-05-12 12:00:00    188\n",
       "2021-05-11 06:00:00    188\n",
       "2021-05-14 00:00:00    188\n",
       "2021-05-11 12:00:00    188\n",
       "2021-05-11 00:00:00    187\n",
       "2021-05-13 00:00:00    187\n",
       "2021-05-11 18:00:00    187\n",
       "2021-05-13 06:00:00    187\n",
       "2021-05-12 00:00:00    187\n",
       "2021-05-12 18:00:00    187\n",
       "Name: datetime, dtype: int64"
      ]
     },
     "execution_count": 38,
     "metadata": {},
     "output_type": "execute_result"
    }
   ],
   "source": [
    "df_final['datetime'].value_counts()"
   ]
  },
  {
   "cell_type": "code",
   "execution_count": 40,
   "id": "618de204",
   "metadata": {},
   "outputs": [
    {
     "name": "stdout",
     "output_type": "stream",
     "text": [
      "                   datetime  pdISSRs300370  ISSR_300370_Pred\n",
      "836755                  NaT            0.0          0.328007\n",
      "836855                  NaT            1.0          0.335118\n",
      "837085                  NaT            0.0          0.335170\n",
      "837105                  NaT            0.0          0.266739\n",
      "837411                  NaT            0.0          0.247631\n",
      "...                     ...            ...               ...\n",
      "1193575 2021-05-11 00:00:00            0.0          0.059849\n",
      "1193599 2021-05-13 00:00:00            0.0          0.040649\n",
      "1193609 2021-05-12 06:00:00            0.0          0.067698\n",
      "1193674 2021-05-11 12:00:00            0.0          0.055199\n",
      "1193715 2021-05-12 00:00:00            0.0          0.052338\n",
      "\n",
      "[3190 rows x 3 columns]\n"
     ]
    },
    {
     "data": {
      "text/html": [
       "<div>\n",
       "<style scoped>\n",
       "    .dataframe tbody tr th:only-of-type {\n",
       "        vertical-align: middle;\n",
       "    }\n",
       "\n",
       "    .dataframe tbody tr th {\n",
       "        vertical-align: top;\n",
       "    }\n",
       "\n",
       "    .dataframe thead th {\n",
       "        text-align: right;\n",
       "    }\n",
       "</style>\n",
       "<table border=\"1\" class=\"dataframe\">\n",
       "  <thead>\n",
       "    <tr style=\"text-align: right;\">\n",
       "      <th></th>\n",
       "      <th>pdISSRs300370</th>\n",
       "      <th>ISSR_300370_Pred</th>\n",
       "    </tr>\n",
       "    <tr>\n",
       "      <th>datetime</th>\n",
       "      <th></th>\n",
       "      <th></th>\n",
       "    </tr>\n",
       "  </thead>\n",
       "  <tbody>\n",
       "    <tr>\n",
       "      <th>2021-05-11</th>\n",
       "      <td>83.0</td>\n",
       "      <td>102.267576</td>\n",
       "    </tr>\n",
       "    <tr>\n",
       "      <th>2021-05-12</th>\n",
       "      <td>164.0</td>\n",
       "      <td>103.717518</td>\n",
       "    </tr>\n",
       "    <tr>\n",
       "      <th>2021-05-13</th>\n",
       "      <td>97.0</td>\n",
       "      <td>103.684235</td>\n",
       "    </tr>\n",
       "    <tr>\n",
       "      <th>2021-05-14</th>\n",
       "      <td>8.0</td>\n",
       "      <td>24.882701</td>\n",
       "    </tr>\n",
       "  </tbody>\n",
       "</table>\n",
       "</div>"
      ],
      "text/plain": [
       "            pdISSRs300370  ISSR_300370_Pred\n",
       "datetime                                   \n",
       "2021-05-11           83.0        102.267576\n",
       "2021-05-12          164.0        103.717518\n",
       "2021-05-13           97.0        103.684235\n",
       "2021-05-14            8.0         24.882701"
      ]
     },
     "execution_count": 40,
     "metadata": {},
     "output_type": "execute_result"
    }
   ],
   "source": [
    "#Create a new dataframe of just the datetime, original ISSR counts, and predicted ISSR counts\n",
    "#https://stackoverflow.com/questions/34682828/extracting-specific-selected-columns-to-new-dataframe-as-a-copy\n",
    "df_ISSR_counts = df_final[['datetime', 'pdISSRs300370', 'ISSR_300370_Pred']].copy()\n",
    "print(df_ISSR_counts)\n",
    "\n",
    "#group the dataframe by date and sum of the ISSR counts\n",
    "df_ISSR_counts.resample('D', on='datetime').sum()\n",
    "\n",
    "\n",
    "#df_ISSR_counts.resample('D', on='datetime').mean()"
   ]
  },
  {
   "cell_type": "code",
   "execution_count": 49,
   "id": "8035e835",
   "metadata": {},
   "outputs": [
    {
     "data": {
      "text/html": [
       "<div>\n",
       "<style scoped>\n",
       "    .dataframe tbody tr th:only-of-type {\n",
       "        vertical-align: middle;\n",
       "    }\n",
       "\n",
       "    .dataframe tbody tr th {\n",
       "        vertical-align: top;\n",
       "    }\n",
       "\n",
       "    .dataframe thead th {\n",
       "        text-align: right;\n",
       "    }\n",
       "</style>\n",
       "<table border=\"1\" class=\"dataframe\">\n",
       "  <thead>\n",
       "    <tr style=\"text-align: right;\">\n",
       "      <th></th>\n",
       "      <th>pdISSRs300370</th>\n",
       "      <th>ISSR_300370_Pred</th>\n",
       "    </tr>\n",
       "    <tr>\n",
       "      <th>datetime</th>\n",
       "      <th></th>\n",
       "      <th></th>\n",
       "    </tr>\n",
       "  </thead>\n",
       "  <tbody>\n",
       "    <tr>\n",
       "      <th>2021-05-11 00:00:00</th>\n",
       "      <td>8.0</td>\n",
       "      <td>24.714874</td>\n",
       "    </tr>\n",
       "    <tr>\n",
       "      <th>2021-05-11 06:00:00</th>\n",
       "      <td>14.0</td>\n",
       "      <td>25.228778</td>\n",
       "    </tr>\n",
       "    <tr>\n",
       "      <th>2021-05-11 12:00:00</th>\n",
       "      <td>33.0</td>\n",
       "      <td>25.903136</td>\n",
       "    </tr>\n",
       "    <tr>\n",
       "      <th>2021-05-11 18:00:00</th>\n",
       "      <td>28.0</td>\n",
       "      <td>26.420788</td>\n",
       "    </tr>\n",
       "    <tr>\n",
       "      <th>2021-05-12 00:00:00</th>\n",
       "      <td>41.0</td>\n",
       "      <td>26.799469</td>\n",
       "    </tr>\n",
       "    <tr>\n",
       "      <th>2021-05-12 06:00:00</th>\n",
       "      <td>49.0</td>\n",
       "      <td>25.317237</td>\n",
       "    </tr>\n",
       "    <tr>\n",
       "      <th>2021-05-12 12:00:00</th>\n",
       "      <td>51.0</td>\n",
       "      <td>25.465946</td>\n",
       "    </tr>\n",
       "    <tr>\n",
       "      <th>2021-05-12 18:00:00</th>\n",
       "      <td>23.0</td>\n",
       "      <td>26.134866</td>\n",
       "    </tr>\n",
       "    <tr>\n",
       "      <th>2021-05-13 00:00:00</th>\n",
       "      <td>51.0</td>\n",
       "      <td>26.369150</td>\n",
       "    </tr>\n",
       "    <tr>\n",
       "      <th>2021-05-13 06:00:00</th>\n",
       "      <td>13.0</td>\n",
       "      <td>25.829036</td>\n",
       "    </tr>\n",
       "    <tr>\n",
       "      <th>2021-05-13 12:00:00</th>\n",
       "      <td>27.0</td>\n",
       "      <td>25.266008</td>\n",
       "    </tr>\n",
       "    <tr>\n",
       "      <th>2021-05-13 18:00:00</th>\n",
       "      <td>6.0</td>\n",
       "      <td>26.220042</td>\n",
       "    </tr>\n",
       "    <tr>\n",
       "      <th>2021-05-14 00:00:00</th>\n",
       "      <td>8.0</td>\n",
       "      <td>24.882701</td>\n",
       "    </tr>\n",
       "  </tbody>\n",
       "</table>\n",
       "</div>"
      ],
      "text/plain": [
       "                     pdISSRs300370  ISSR_300370_Pred\n",
       "datetime                                            \n",
       "2021-05-11 00:00:00            8.0         24.714874\n",
       "2021-05-11 06:00:00           14.0         25.228778\n",
       "2021-05-11 12:00:00           33.0         25.903136\n",
       "2021-05-11 18:00:00           28.0         26.420788\n",
       "2021-05-12 00:00:00           41.0         26.799469\n",
       "2021-05-12 06:00:00           49.0         25.317237\n",
       "2021-05-12 12:00:00           51.0         25.465946\n",
       "2021-05-12 18:00:00           23.0         26.134866\n",
       "2021-05-13 00:00:00           51.0         26.369150\n",
       "2021-05-13 06:00:00           13.0         25.829036\n",
       "2021-05-13 12:00:00           27.0         25.266008\n",
       "2021-05-13 18:00:00            6.0         26.220042\n",
       "2021-05-14 00:00:00            8.0         24.882701"
      ]
     },
     "execution_count": 49,
     "metadata": {},
     "output_type": "execute_result"
    }
   ],
   "source": [
    "#Actual vs. Predicted at each 6 hour interval\n",
    "df_ISSR_counts.resample('6H', on='datetime').sum()"
   ]
  },
  {
   "cell_type": "code",
   "execution_count": 42,
   "id": "4b957a00",
   "metadata": {},
   "outputs": [],
   "source": [
    "df_6_ISSR_count = df_ISSR_counts.resample('6H', on='datetime').sum()"
   ]
  },
  {
   "cell_type": "code",
   "execution_count": 50,
   "id": "549fb2a9",
   "metadata": {},
   "outputs": [
    {
     "data": {
      "image/png": "[encoded data removed]",
      "text/plain": [
       "<Figure size 1080x360 with 1 Axes>"
      ]
     },
     "metadata": {},
     "output_type": "display_data"
    }
   ],
   "source": [
    "sns.lineplot(x = 'datetime', y = 'pdISSRs300370', data = df_6_ISSR_count,)\n",
    "sns.lineplot(x = 'datetime', y = 'ISSR_300370_Pred', data = df_6_ISSR_count)\n",
    "plt.title('Actual vs. Predicted ISSR count at FL 300-370')\n",
    "plt.xlabel('Date and Time')\n",
    "plt.ylabel ('Total ISSR count')\n",
    "plt.xticks(rotation = 45)\n",
    "sns.set(rc={'figure.figsize':(15,5)})\n",
    "plt.legend(labels=[\"Actual ISSR Counts\",\"Predicted ISSR Counts\"])\n",
    "plt.show()"
   ]
  },
  {
   "cell_type": "code",
   "execution_count": null,
   "id": "9df63e63",
   "metadata": {},
   "outputs": [],
   "source": []
  }
 ],
 "metadata": {
  "kernelspec": {
   "display_name": "conda_python3",
   "language": "python",
   "name": "conda_python3"
  },
  "language_info": {
   "codemirror_mode": {
    "name": "ipython",
    "version": 3
   },
   "file_extension": ".py",
   "mimetype": "text/x-python",
   "name": "python",
   "nbconvert_exporter": "python",
   "pygments_lexer": "ipython3",
   "version": "3.6.13"
  }
 },
 "nbformat": 4,
 "nbformat_minor": 5
}
