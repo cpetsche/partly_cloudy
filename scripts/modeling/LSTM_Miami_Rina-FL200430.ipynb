{
 "cells": [
  {
   "cell_type": "code",
   "execution_count": 1,
   "id": "cf895486",
   "metadata": {},
   "outputs": [
    {
     "name": "stdout",
     "output_type": "stream",
     "text": [
      "Collecting tensorflow\n",
      "  Downloading tensorflow-2.5.0-cp36-cp36m-manylinux2010_x86_64.whl (454.3 MB)\n",
      "\u001b[K     |████████████████████████████████| 454.3 MB 12 kB/s s eta 0:00:01     |████████████████████████████▌   | 405.0 MB 68.9 MB/s eta 0:00:01     |██████████████████████████████▌ | 432.5 MB 68.9 MB/s eta 0:00:01\n",
      "\u001b[?25hCollecting google-pasta~=0.2\n",
      "  Using cached google_pasta-0.2.0-py3-none-any.whl (57 kB)\n",
      "Collecting six~=1.15.0\n",
      "  Downloading six-1.15.0-py2.py3-none-any.whl (10 kB)\n",
      "Collecting opt-einsum~=3.3.0\n",
      "  Downloading opt_einsum-3.3.0-py3-none-any.whl (65 kB)\n",
      "\u001b[K     |████████████████████████████████| 65 kB 5.6 MB/s  eta 0:00:01\n",
      "\u001b[?25hCollecting tensorflow-estimator<2.6.0,>=2.5.0rc0\n",
      "  Downloading tensorflow_estimator-2.5.0-py2.py3-none-any.whl (462 kB)\n",
      "\u001b[K     |████████████████████████████████| 462 kB 77.6 MB/s eta 0:00:01\n",
      "\u001b[?25hCollecting protobuf>=3.9.2\n",
      "  Downloading protobuf-3.17.3-cp36-cp36m-manylinux_2_5_x86_64.manylinux1_x86_64.whl (1.0 MB)\n",
      "\u001b[K     |████████████████████████████████| 1.0 MB 45.0 MB/s eta 0:00:01\n",
      "\u001b[?25hCollecting keras-nightly~=2.5.0.dev\n",
      "  Downloading keras_nightly-2.5.0.dev2021032900-py2.py3-none-any.whl (1.2 MB)\n",
      "\u001b[K     |████████████████████████████████| 1.2 MB 56.6 MB/s eta 0:00:01\n",
      "\u001b[?25hCollecting keras-preprocessing~=1.1.2\n",
      "  Downloading Keras_Preprocessing-1.1.2-py2.py3-none-any.whl (42 kB)\n",
      "\u001b[K     |████████████████████████████████| 42 kB 1.9 MB/s  eta 0:00:01\n",
      "\u001b[?25hCollecting wheel~=0.35\n",
      "  Downloading wheel-0.36.2-py2.py3-none-any.whl (35 kB)\n",
      "Collecting termcolor~=1.1.0\n",
      "  Downloading termcolor-1.1.0.tar.gz (3.9 kB)\n",
      "Collecting flatbuffers~=1.12.0\n",
      "  Downloading flatbuffers-1.12-py2.py3-none-any.whl (15 kB)\n",
      "Collecting gast==0.4.0\n",
      "  Downloading gast-0.4.0-py3-none-any.whl (9.8 kB)\n",
      "Collecting grpcio~=1.34.0\n",
      "  Downloading grpcio-1.34.1-cp36-cp36m-manylinux2014_x86_64.whl (4.0 MB)\n",
      "\u001b[K     |████████████████████████████████| 4.0 MB 50.3 MB/s eta 0:00:01\n",
      "\u001b[?25hCollecting absl-py~=0.10\n",
      "  Downloading absl_py-0.13.0-py3-none-any.whl (132 kB)\n",
      "\u001b[K     |████████████████████████████████| 132 kB 59.8 MB/s eta 0:00:01\n",
      "\u001b[?25hCollecting astunparse~=1.6.3\n",
      "  Downloading astunparse-1.6.3-py2.py3-none-any.whl (12 kB)\n",
      "Collecting typing-extensions~=3.7.4\n",
      "  Downloading typing_extensions-3.7.4.3-py3-none-any.whl (22 kB)\n",
      "Collecting wrapt~=1.12.1\n",
      "  Downloading wrapt-1.12.1.tar.gz (27 kB)\n",
      "Collecting numpy~=1.19.2\n",
      "  Downloading numpy-1.19.5-cp36-cp36m-manylinux2010_x86_64.whl (14.8 MB)\n",
      "\u001b[K     |████████████████████████████████| 14.8 MB 44.5 MB/s eta 0:00:01\n",
      "\u001b[?25hCollecting tensorboard~=2.5\n",
      "  Downloading tensorboard-2.5.0-py3-none-any.whl (6.0 MB)\n",
      "\u001b[K     |████████████████████████████████| 6.0 MB 50.8 MB/s eta 0:00:01\n",
      "\u001b[?25hCollecting h5py~=3.1.0\n",
      "  Downloading h5py-3.1.0-cp36-cp36m-manylinux1_x86_64.whl (4.0 MB)\n",
      "\u001b[K     |████████████████████████████████| 4.0 MB 45.5 MB/s eta 0:00:01\n",
      "\u001b[?25hCollecting cached-property\n",
      "  Using cached cached_property-1.5.2-py2.py3-none-any.whl (7.6 kB)\n",
      "Collecting markdown>=2.6.8\n",
      "  Downloading Markdown-3.3.4-py3-none-any.whl (97 kB)\n",
      "\u001b[K     |████████████████████████████████| 97 kB 8.3 MB/s  eta 0:00:01\n",
      "\u001b[?25hCollecting requests<3,>=2.21.0\n",
      "  Downloading requests-2.26.0-py2.py3-none-any.whl (62 kB)\n",
      "\u001b[K     |████████████████████████████████| 62 kB 1.2 MB/s  eta 0:00:01\n",
      "\u001b[?25hCollecting tensorboard-data-server<0.7.0,>=0.6.0\n",
      "  Downloading tensorboard_data_server-0.6.1-py3-none-manylinux2010_x86_64.whl (4.9 MB)\n",
      "\u001b[K     |████████████████████████████████| 4.9 MB 55.6 MB/s eta 0:00:01\n",
      "\u001b[?25hCollecting google-auth<2,>=1.6.3\n",
      "  Downloading google_auth-1.33.1-py2.py3-none-any.whl (152 kB)\n",
      "\u001b[K     |████████████████████████████████| 152 kB 76.4 MB/s eta 0:00:01\n",
      "\u001b[?25hCollecting tensorboard-plugin-wit>=1.6.0\n",
      "  Downloading tensorboard_plugin_wit-1.8.0-py3-none-any.whl (781 kB)\n",
      "\u001b[K     |████████████████████████████████| 781 kB 61.4 MB/s eta 0:00:01\n",
      "\u001b[?25hCollecting setuptools>=41.0.0\n",
      "  Downloading setuptools-57.4.0-py3-none-any.whl (819 kB)\n",
      "\u001b[K     |████████████████████████████████| 819 kB 50.7 MB/s eta 0:00:01\n",
      "\u001b[?25hCollecting google-auth-oauthlib<0.5,>=0.4.1\n",
      "  Downloading google_auth_oauthlib-0.4.4-py2.py3-none-any.whl (18 kB)\n",
      "Collecting werkzeug>=0.11.15\n",
      "  Downloading Werkzeug-2.0.1-py3-none-any.whl (288 kB)\n",
      "\u001b[K     |████████████████████████████████| 288 kB 78.9 MB/s eta 0:00:01\n",
      "\u001b[?25hCollecting pyasn1-modules>=0.2.1\n",
      "  Downloading pyasn1_modules-0.2.8-py2.py3-none-any.whl (155 kB)\n",
      "\u001b[K     |████████████████████████████████| 155 kB 59.9 MB/s eta 0:00:01\n",
      "\u001b[?25hCollecting cachetools<5.0,>=2.0.0\n",
      "  Downloading cachetools-4.2.2-py3-none-any.whl (11 kB)\n",
      "Collecting rsa<5,>=3.1.4\n",
      "  Using cached rsa-4.7.2-py3-none-any.whl (34 kB)\n",
      "Collecting requests-oauthlib>=0.7.0\n",
      "  Downloading requests_oauthlib-1.3.0-py2.py3-none-any.whl (23 kB)\n",
      "Collecting importlib-metadata\n",
      "  Downloading importlib_metadata-4.6.1-py3-none-any.whl (17 kB)\n",
      "Collecting pyasn1<0.5.0,>=0.4.6\n",
      "  Using cached pyasn1-0.4.8-py2.py3-none-any.whl (77 kB)\n",
      "Collecting charset-normalizer~=2.0.0\n",
      "  Downloading charset_normalizer-2.0.3-py3-none-any.whl (35 kB)\n",
      "Collecting idna<4,>=2.5\n",
      "  Downloading idna-3.2-py3-none-any.whl (59 kB)\n",
      "\u001b[K     |████████████████████████████████| 59 kB 9.7 MB/s  eta 0:00:01\n",
      "\u001b[?25hCollecting urllib3<1.27,>=1.21.1\n",
      "  Downloading urllib3-1.26.6-py2.py3-none-any.whl (138 kB)\n",
      "\u001b[K     |████████████████████████████████| 138 kB 62.2 MB/s eta 0:00:01\n",
      "\u001b[?25hCollecting certifi>=2017.4.17\n",
      "  Downloading certifi-2021.5.30-py2.py3-none-any.whl (145 kB)\n",
      "\u001b[K     |████████████████████████████████| 145 kB 80.2 MB/s eta 0:00:01\n",
      "\u001b[?25hCollecting oauthlib>=3.0.0\n",
      "  Downloading oauthlib-3.1.1-py2.py3-none-any.whl (146 kB)\n",
      "\u001b[K     |████████████████████████████████| 146 kB 80.1 MB/s eta 0:00:01\n",
      "\u001b[?25hCollecting dataclasses\n",
      "  Downloading dataclasses-0.8-py3-none-any.whl (19 kB)\n",
      "Collecting zipp>=0.5\n",
      "  Downloading zipp-3.5.0-py3-none-any.whl (5.7 kB)\n",
      "Building wheels for collected packages: termcolor, wrapt\n",
      "  Building wheel for termcolor (setup.py) ... \u001b[?25ldone\n",
      "\u001b[?25h  Created wheel for termcolor: filename=termcolor-1.1.0-py3-none-any.whl size=4829 sha256=10e7a77e1a6a12a5759139c99772c8dab252f075bc293561e4f80c000f7e687e\n",
      "  Stored in directory: /home/ec2-user/.cache/pip/wheels/93/2a/eb/e58dbcbc963549ee4f065ff80a59f274cc7210b6eab962acdc\n",
      "  Building wheel for wrapt (setup.py) ... \u001b[?25ldone\n",
      "\u001b[?25h  Created wheel for wrapt: filename=wrapt-1.12.1-cp36-cp36m-linux_x86_64.whl size=66667 sha256=51f476b537efe729e1feb37fe2c29dad01dc16a1f057340c80548add7c35f22f\n",
      "  Stored in directory: /home/ec2-user/.cache/pip/wheels/32/42/7f/23cae9ff6ef66798d00dc5d659088e57dbba01566f6c60db63\n",
      "Successfully built termcolor wrapt\n",
      "Installing collected packages: urllib3, pyasn1, idna, charset-normalizer, certifi, zipp, typing-extensions, six, setuptools, rsa, requests, pyasn1-modules, oauthlib, cachetools, requests-oauthlib, importlib-metadata, google-auth, dataclasses, wheel, werkzeug, tensorboard-plugin-wit, tensorboard-data-server, protobuf, numpy, markdown, grpcio, google-auth-oauthlib, cached-property, absl-py, wrapt, termcolor, tensorflow-estimator, tensorboard, opt-einsum, keras-preprocessing, keras-nightly, h5py, google-pasta, gast, flatbuffers, astunparse, tensorflow\n",
      "\u001b[31mERROR: pip's dependency resolver does not currently take into account all the packages that are installed. This behaviour is the source of the following dependency conflicts.\n",
      "anaconda-project 0.9.1 requires ruamel-yaml, which is not installed.\n",
      "aiobotocore 1.3.0 requires botocore<1.20.50,>=1.20.49, but you have botocore 1.20.99 which is incompatible.\u001b[0m\n",
      "Successfully installed absl-py-0.13.0 astunparse-1.6.3 cached-property-1.5.2 cachetools-4.2.2 certifi-2021.5.30 charset-normalizer-2.0.3 dataclasses-0.8 flatbuffers-1.12 gast-0.4.0 google-auth-1.33.1 google-auth-oauthlib-0.4.4 google-pasta-0.2.0 grpcio-1.34.1 h5py-3.1.0 idna-3.2 importlib-metadata-4.6.1 keras-nightly-2.5.0.dev2021032900 keras-preprocessing-1.1.2 markdown-3.3.4 numpy-1.19.5 oauthlib-3.1.1 opt-einsum-3.3.0 protobuf-3.17.3 pyasn1-0.4.8 pyasn1-modules-0.2.8 requests-2.26.0 requests-oauthlib-1.3.0 rsa-4.7.2 setuptools-57.4.0 six-1.15.0 tensorboard-2.5.0 tensorboard-data-server-0.6.1 tensorboard-plugin-wit-1.8.0 tensorflow-2.5.0 tensorflow-estimator-2.5.0 termcolor-1.1.0 typing-extensions-3.7.4.3 urllib3-1.26.6 werkzeug-2.0.1 wheel-0.36.2 wrapt-1.12.1 zipp-3.5.0\n",
      "\u001b[33mWARNING: Target directory /home/ec2-user/SageMaker/tensorflow_estimator-2.5.0.dist-info already exists. Specify --upgrade to force replacement.\u001b[0m\n",
      "\u001b[33mWARNING: Target directory /home/ec2-user/SageMaker/pyasn1-0.4.8.dist-info already exists. Specify --upgrade to force replacement.\u001b[0m\n",
      "\u001b[33mWARNING: Target directory /home/ec2-user/SageMaker/typing_extensions.py already exists. Specify --upgrade to force replacement.\u001b[0m\n",
      "\u001b[33mWARNING: Target directory /home/ec2-user/SageMaker/dataclasses-0.8.dist-info already exists. Specify --upgrade to force replacement.\u001b[0m\n",
      "\u001b[33mWARNING: Target directory /home/ec2-user/SageMaker/requests_oauthlib-1.3.0.dist-info already exists. Specify --upgrade to force replacement.\u001b[0m\n",
      "\u001b[33mWARNING: Target directory /home/ec2-user/SageMaker/certifi already exists. Specify --upgrade to force replacement.\u001b[0m\n",
      "\u001b[33mWARNING: Target directory /home/ec2-user/SageMaker/setuptools already exists. Specify --upgrade to force replacement.\u001b[0m\n",
      "\u001b[33mWARNING: Target directory /home/ec2-user/SageMaker/numpy.libs already exists. Specify --upgrade to force replacement.\u001b[0m\n",
      "\u001b[33mWARNING: Target directory /home/ec2-user/SageMaker/wheel already exists. Specify --upgrade to force replacement.\u001b[0m\n",
      "\u001b[33mWARNING: Target directory /home/ec2-user/SageMaker/tensorboard-2.5.0.dist-info already exists. Specify --upgrade to force replacement.\u001b[0m\n",
      "\u001b[33mWARNING: Target directory /home/ec2-user/SageMaker/absl already exists. Specify --upgrade to force replacement.\u001b[0m\n",
      "\u001b[33mWARNING: Target directory /home/ec2-user/SageMaker/grpc already exists. Specify --upgrade to force replacement.\u001b[0m\n",
      "\u001b[33mWARNING: Target directory /home/ec2-user/SageMaker/pasta already exists. Specify --upgrade to force replacement.\u001b[0m\n",
      "\u001b[33mWARNING: Target directory /home/ec2-user/SageMaker/distutils-precedence.pth already exists. Specify --upgrade to force replacement.\u001b[0m\n",
      "\u001b[33mWARNING: Target directory /home/ec2-user/SageMaker/flatbuffers-1.12.dist-info already exists. Specify --upgrade to force replacement.\u001b[0m\n",
      "\u001b[33mWARNING: Target directory /home/ec2-user/SageMaker/h5py-3.1.0.dist-info already exists. Specify --upgrade to force replacement.\u001b[0m\n",
      "\u001b[33mWARNING: Target directory /home/ec2-user/SageMaker/rsa already exists. Specify --upgrade to force replacement.\u001b[0m\n",
      "\u001b[33mWARNING: Target directory /home/ec2-user/SageMaker/tensorflow already exists. Specify --upgrade to force replacement.\u001b[0m\n",
      "\u001b[33mWARNING: Target directory /home/ec2-user/SageMaker/idna-3.2.dist-info already exists. Specify --upgrade to force replacement.\u001b[0m\n",
      "\u001b[33mWARNING: Target directory /home/ec2-user/SageMaker/gast already exists. Specify --upgrade to force replacement.\u001b[0m\n",
      "\u001b[33mWARNING: Target directory /home/ec2-user/SageMaker/dataclasses.py already exists. Specify --upgrade to force replacement.\u001b[0m\n",
      "\u001b[33mWARNING: Target directory /home/ec2-user/SageMaker/protobuf-3.17.3.dist-info already exists. Specify --upgrade to force replacement.\u001b[0m\n",
      "\u001b[33mWARNING: Target directory /home/ec2-user/SageMaker/requests-2.26.0.dist-info already exists. Specify --upgrade to force replacement.\u001b[0m\n",
      "\u001b[33mWARNING: Target directory /home/ec2-user/SageMaker/google_auth-1.33.1.dist-info already exists. Specify --upgrade to force replacement.\u001b[0m\n",
      "\u001b[33mWARNING: Target directory /home/ec2-user/SageMaker/absl_py-0.13.0.dist-info already exists. Specify --upgrade to force replacement.\u001b[0m\n",
      "\u001b[33mWARNING: Target directory /home/ec2-user/SageMaker/keras_preprocessing already exists. Specify --upgrade to force replacement.\u001b[0m\n",
      "\u001b[33mWARNING: Target directory /home/ec2-user/SageMaker/importlib_metadata-4.6.1.dist-info already exists. Specify --upgrade to force replacement.\u001b[0m\n",
      "\u001b[33mWARNING: Target directory /home/ec2-user/SageMaker/pkg_resources already exists. Specify --upgrade to force replacement.\u001b[0m\n",
      "\u001b[33mWARNING: Target directory /home/ec2-user/SageMaker/pyasn1_modules-0.2.8.dist-info already exists. Specify --upgrade to force replacement.\u001b[0m\n",
      "\u001b[33mWARNING: Target directory /home/ec2-user/SageMaker/termcolor-1.1.0.dist-info already exists. Specify --upgrade to force replacement.\u001b[0m\n",
      "\u001b[33mWARNING: Target directory /home/ec2-user/SageMaker/setuptools-57.4.0.dist-info already exists. Specify --upgrade to force replacement.\u001b[0m\n",
      "\u001b[33mWARNING: Target directory /home/ec2-user/SageMaker/gast-0.4.0.dist-info already exists. Specify --upgrade to force replacement.\u001b[0m\n",
      "\u001b[33mWARNING: Target directory /home/ec2-user/SageMaker/cachetools already exists. Specify --upgrade to force replacement.\u001b[0m\n",
      "\u001b[33mWARNING: Target directory /home/ec2-user/SageMaker/opt_einsum-3.3.0.dist-info already exists. Specify --upgrade to force replacement.\u001b[0m\n",
      "\u001b[33mWARNING: Target directory /home/ec2-user/SageMaker/oauthlib-3.1.1.dist-info already exists. Specify --upgrade to force replacement.\u001b[0m\n",
      "\u001b[33mWARNING: Target directory /home/ec2-user/SageMaker/wheel-0.36.2.dist-info already exists. Specify --upgrade to force replacement.\u001b[0m\n",
      "\u001b[33mWARNING: Target directory /home/ec2-user/SageMaker/google_pasta-0.2.0.dist-info already exists. Specify --upgrade to force replacement.\u001b[0m\n",
      "\u001b[33mWARNING: Target directory /home/ec2-user/SageMaker/tensorflow-2.5.0.dist-info already exists. Specify --upgrade to force replacement.\u001b[0m\n",
      "\u001b[33mWARNING: Target directory /home/ec2-user/SageMaker/google_auth-1.33.1-py3.9-nspkg.pth already exists. Specify --upgrade to force replacement.\u001b[0m\n",
      "\u001b[33mWARNING: Target directory /home/ec2-user/SageMaker/oauthlib already exists. Specify --upgrade to force replacement.\u001b[0m\n",
      "\u001b[33mWARNING: Target directory /home/ec2-user/SageMaker/pyasn1_modules already exists. Specify --upgrade to force replacement.\u001b[0m\n",
      "\u001b[33mWARNING: Target directory /home/ec2-user/SageMaker/keras already exists. Specify --upgrade to force replacement.\u001b[0m\n",
      "\u001b[33mWARNING: Target directory /home/ec2-user/SageMaker/rsa-4.7.2.dist-info already exists. Specify --upgrade to force replacement.\u001b[0m\n",
      "\u001b[33mWARNING: Target directory /home/ec2-user/SageMaker/charset_normalizer already exists. Specify --upgrade to force replacement.\u001b[0m\n",
      "\u001b[33mWARNING: Target directory /home/ec2-user/SageMaker/numpy-1.19.5.dist-info already exists. Specify --upgrade to force replacement.\u001b[0m\n",
      "\u001b[33mWARNING: Target directory /home/ec2-user/SageMaker/wrapt already exists. Specify --upgrade to force replacement.\u001b[0m\n",
      "\u001b[33mWARNING: Target directory /home/ec2-user/SageMaker/tensorboard_data_server already exists. Specify --upgrade to force replacement.\u001b[0m\n",
      "\u001b[33mWARNING: Target directory /home/ec2-user/SageMaker/idna already exists. Specify --upgrade to force replacement.\u001b[0m\n",
      "\u001b[33mWARNING: Target directory /home/ec2-user/SageMaker/tensorboard_plugin_wit-1.8.0.dist-info already exists. Specify --upgrade to force replacement.\u001b[0m\n",
      "\u001b[33mWARNING: Target directory /home/ec2-user/SageMaker/h5py.libs already exists. Specify --upgrade to force replacement.\u001b[0m\n",
      "\u001b[33mWARNING: Target directory /home/ec2-user/SageMaker/flatbuffers already exists. Specify --upgrade to force replacement.\u001b[0m\n",
      "\u001b[33mWARNING: Target directory /home/ec2-user/SageMaker/cached_property-1.5.2.dist-info already exists. Specify --upgrade to force replacement.\u001b[0m\n",
      "\u001b[33mWARNING: Target directory /home/ec2-user/SageMaker/wrapt-1.12.1.dist-info already exists. Specify --upgrade to force replacement.\u001b[0m\n",
      "\u001b[33mWARNING: Target directory /home/ec2-user/SageMaker/requests already exists. Specify --upgrade to force replacement.\u001b[0m\n",
      "\u001b[33mWARNING: Target directory /home/ec2-user/SageMaker/cachetools-4.2.2.dist-info already exists. Specify --upgrade to force replacement.\u001b[0m\n",
      "\u001b[33mWARNING: Target directory /home/ec2-user/SageMaker/tensorboard already exists. Specify --upgrade to force replacement.\u001b[0m\n",
      "\u001b[33mWARNING: Target directory /home/ec2-user/SageMaker/google_auth_oauthlib already exists. Specify --upgrade to force replacement.\u001b[0m\n",
      "\u001b[33mWARNING: Target directory /home/ec2-user/SageMaker/importlib_metadata already exists. Specify --upgrade to force replacement.\u001b[0m\n",
      "\u001b[33mWARNING: Target directory /home/ec2-user/SageMaker/six-1.15.0.dist-info already exists. Specify --upgrade to force replacement.\u001b[0m\n",
      "\u001b[33mWARNING: Target directory /home/ec2-user/SageMaker/markdown already exists. Specify --upgrade to force replacement.\u001b[0m\n",
      "\u001b[33mWARNING: Target directory /home/ec2-user/SageMaker/keras_nightly-2.5.0.dev2021032900.dist-info already exists. Specify --upgrade to force replacement.\u001b[0m\n",
      "\u001b[33mWARNING: Target directory /home/ec2-user/SageMaker/Keras_Preprocessing-1.1.2.dist-info already exists. Specify --upgrade to force replacement.\u001b[0m\n",
      "\u001b[33mWARNING: Target directory /home/ec2-user/SageMaker/charset_normalizer-2.0.3.dist-info already exists. Specify --upgrade to force replacement.\u001b[0m\n",
      "\u001b[33mWARNING: Target directory /home/ec2-user/SageMaker/requests_oauthlib already exists. Specify --upgrade to force replacement.\u001b[0m\n",
      "\u001b[33mWARNING: Target directory /home/ec2-user/SageMaker/zipp-3.5.0.dist-info already exists. Specify --upgrade to force replacement.\u001b[0m\n",
      "\u001b[33mWARNING: Target directory /home/ec2-user/SageMaker/termcolor.py already exists. Specify --upgrade to force replacement.\u001b[0m\n",
      "\u001b[33mWARNING: Target directory /home/ec2-user/SageMaker/tensorboard_plugin_wit already exists. Specify --upgrade to force replacement.\u001b[0m\n",
      "\u001b[33mWARNING: Target directory /home/ec2-user/SageMaker/h5py already exists. Specify --upgrade to force replacement.\u001b[0m\n",
      "\u001b[33mWARNING: Target directory /home/ec2-user/SageMaker/protobuf-3.17.3-py3.6-nspkg.pth already exists. Specify --upgrade to force replacement.\u001b[0m\n",
      "\u001b[33mWARNING: Target directory /home/ec2-user/SageMaker/Werkzeug-2.0.1.dist-info already exists. Specify --upgrade to force replacement.\u001b[0m\n",
      "\u001b[33mWARNING: Target directory /home/ec2-user/SageMaker/six.py already exists. Specify --upgrade to force replacement.\u001b[0m\n",
      "\u001b[33mWARNING: Target directory /home/ec2-user/SageMaker/google already exists. Specify --upgrade to force replacement.\u001b[0m\n",
      "\u001b[33mWARNING: Target directory /home/ec2-user/SageMaker/Misc already exists. Specify --upgrade to force replacement.\u001b[0m\n",
      "\u001b[33mWARNING: Target directory /home/ec2-user/SageMaker/tensorflow_estimator already exists. Specify --upgrade to force replacement.\u001b[0m\n",
      "\u001b[33mWARNING: Target directory /home/ec2-user/SageMaker/cached_property.py already exists. Specify --upgrade to force replacement.\u001b[0m\n",
      "\u001b[33mWARNING: Target directory /home/ec2-user/SageMaker/zipp.py already exists. Specify --upgrade to force replacement.\u001b[0m\n",
      "\u001b[33mWARNING: Target directory /home/ec2-user/SageMaker/certifi-2021.5.30.dist-info already exists. Specify --upgrade to force replacement.\u001b[0m\n",
      "\u001b[33mWARNING: Target directory /home/ec2-user/SageMaker/urllib3-1.26.6.dist-info already exists. Specify --upgrade to force replacement.\u001b[0m\n",
      "\u001b[33mWARNING: Target directory /home/ec2-user/SageMaker/grpcio-1.34.1.dist-info already exists. Specify --upgrade to force replacement.\u001b[0m\n",
      "\u001b[33mWARNING: Target directory /home/ec2-user/SageMaker/tensorboard_data_server-0.6.1.dist-info already exists. Specify --upgrade to force replacement.\u001b[0m\n",
      "\u001b[33mWARNING: Target directory /home/ec2-user/SageMaker/urllib3 already exists. Specify --upgrade to force replacement.\u001b[0m\n",
      "\u001b[33mWARNING: Target directory /home/ec2-user/SageMaker/pyasn1 already exists. Specify --upgrade to force replacement.\u001b[0m\n",
      "\u001b[33mWARNING: Target directory /home/ec2-user/SageMaker/numpy already exists. Specify --upgrade to force replacement.\u001b[0m\n",
      "\u001b[33mWARNING: Target directory /home/ec2-user/SageMaker/werkzeug already exists. Specify --upgrade to force replacement.\u001b[0m\n",
      "\u001b[33mWARNING: Target directory /home/ec2-user/SageMaker/google_auth_oauthlib-0.4.4.dist-info already exists. Specify --upgrade to force replacement.\u001b[0m\n",
      "\u001b[33mWARNING: Target directory /home/ec2-user/SageMaker/opt_einsum already exists. Specify --upgrade to force replacement.\u001b[0m\n",
      "\u001b[33mWARNING: Target directory /home/ec2-user/SageMaker/__pycache__ already exists. Specify --upgrade to force replacement.\u001b[0m\n",
      "\u001b[33mWARNING: Target directory /home/ec2-user/SageMaker/astunparse already exists. Specify --upgrade to force replacement.\u001b[0m\n",
      "\u001b[33mWARNING: Target directory /home/ec2-user/SageMaker/typing_extensions-3.7.4.3.dist-info already exists. Specify --upgrade to force replacement.\u001b[0m\n",
      "\u001b[33mWARNING: Target directory /home/ec2-user/SageMaker/_distutils_hack already exists. Specify --upgrade to force replacement.\u001b[0m\n",
      "\u001b[33mWARNING: Target directory /home/ec2-user/SageMaker/Markdown-3.3.4.dist-info already exists. Specify --upgrade to force replacement.\u001b[0m\n",
      "\u001b[33mWARNING: Target directory /home/ec2-user/SageMaker/astunparse-1.6.3.dist-info already exists. Specify --upgrade to force replacement.\u001b[0m\n",
      "\u001b[33mWARNING: Target directory /home/ec2-user/SageMaker/bin already exists. Specify --upgrade to force replacement.\u001b[0m\n",
      "\u001b[33mWARNING: You are using pip version 21.1.2; however, version 21.1.3 is available.\r\n",
      "You should consider upgrading via the '/home/ec2-user/anaconda3/envs/python3/bin/python -m pip install --upgrade pip' command.\u001b[0m\r\n"
     ]
    }
   ],
   "source": [
    "!pip install tensorflow -t ./"
   ]
  },
  {
   "cell_type": "code",
   "execution_count": 36,
   "id": "8e2b267f",
   "metadata": {},
   "outputs": [],
   "source": [
    "#import libraries\n",
    "import boto3\n",
    "import pandas as pd\n",
    "import numpy as np\n",
    "from keras.models import Sequential\n",
    "from keras.layers import LSTM, Dense, Dropout\n",
    "from matplotlib import pyplot as plt\n",
    "from sklearn.preprocessing import MinMaxScaler, StandardScaler\n",
    "import seaborn as sns\n",
    "from keras.preprocessing.sequence import TimeseriesGenerator \n",
    "from sklearn.model_selection import train_test_split\n",
    "import tensorflow as tf"
   ]
  },
  {
   "cell_type": "code",
   "execution_count": 37,
   "id": "e1c58a7d",
   "metadata": {},
   "outputs": [
    {
     "name": "stdout",
     "output_type": "stream",
     "text": [
      "         localDateTime   Nx  Ny        Lat       Lon geoEncode   NAME  \\\n",
      "0  2020-06-01 00:00:00  233  33  24.921705 -81.27609     dhqjy  MIAMI   \n",
      "1  2020-10-04 18:00:00  233  33  24.921705 -81.27609     dhqjy  MIAMI   \n",
      "2  2020-10-23 18:00:00  233  33  24.921705 -81.27609     dhqjy  MIAMI   \n",
      "3  2020-11-05 12:00:00  233  33  24.921705 -81.27609     dhqjy  MIAMI   \n",
      "4  2020-12-12 12:00:00  233  33  24.921705 -81.27609     dhqjy  MIAMI   \n",
      "\n",
      "   iSSRs200430  iSSRs300430  meanTemp200430  meanTemp300430  meanRH_ice200430  \\\n",
      "0            0            0      241.380000      228.127833         81.680833   \n",
      "1            1            1      243.788250      230.275333         33.925833   \n",
      "2            0            0      241.995833      228.875167         49.405833   \n",
      "3            0            0      239.876000      227.803333         22.170833   \n",
      "4            0            0      238.642750      225.028667         45.038333   \n",
      "\n",
      "   meanRH_ice300430  \n",
      "0         73.265000  \n",
      "1         58.361667  \n",
      "2         52.705000  \n",
      "3         39.806667  \n",
      "4         66.601667  \n"
     ]
    }
   ],
   "source": [
    "all_miami = pd.read_csv('s3://partly-cloudy-ml-inputs/MIAMI_every_6_hour_flat.csv')\n",
    "print(all_miami.head())"
   ]
  },
  {
   "cell_type": "code",
   "execution_count": 39,
   "id": "ac466f5e",
   "metadata": {},
   "outputs": [],
   "source": [
    "df = all_miami[['localDateTime', 'iSSRs200430','Nx', 'Ny', 'meanTemp200430', 'meanRH_ice200430']]\n",
    "#Filter down to the time period we want to examine\n",
    "#Going to use May 11th at midnight to May 15th 2021 at midnight\n",
    "df = df[df.localDateTime <= '2021-05-15 00:00:00']\n",
    "df = df[df.localDateTime >= '2021-05-11 00:00:00']"
   ]
  },
  {
   "cell_type": "code",
   "execution_count": 40,
   "id": "9a751ec2",
   "metadata": {},
   "outputs": [
    {
     "name": "stdout",
     "output_type": "stream",
     "text": [
      "           localDateTime  iSSRs200430   Nx  Ny  meanTemp200430  \\\n",
      "40   2021-05-12 12:00:00            0  233  33      239.980583   \n",
      "41   2021-05-13 00:00:00            0  233  33      240.298333   \n",
      "219  2021-05-12 00:00:00            0  233  33      239.503083   \n",
      "353  2021-05-14 12:00:00            0  233  33      238.922750   \n",
      "388  2021-05-13 12:00:00            0  233  33      240.295917   \n",
      "\n",
      "     meanRH_ice200430  \n",
      "40          64.234167  \n",
      "41          63.120000  \n",
      "219         62.707500  \n",
      "353         75.771667  \n",
      "388         65.371667  \n",
      "<class 'pandas.core.frame.DataFrame'>\n",
      "Int64Index: 13957 entries, 40 to 1190428\n",
      "Data columns (total 6 columns):\n",
      " #   Column            Non-Null Count  Dtype  \n",
      "---  ------            --------------  -----  \n",
      " 0   localDateTime     13957 non-null  object \n",
      " 1   iSSRs200430       13957 non-null  int64  \n",
      " 2   Nx                13957 non-null  int64  \n",
      " 3   Ny                13957 non-null  int64  \n",
      " 4   meanTemp200430    13957 non-null  float64\n",
      " 5   meanRH_ice200430  13957 non-null  float64\n",
      "dtypes: float64(2), int64(3), object(1)\n",
      "memory usage: 763.3+ KB\n",
      "None\n"
     ]
    }
   ],
   "source": [
    "#ensure date time filtering occured and checking data types for variables.\n",
    "print(df.head())\n",
    "print(df.info())"
   ]
  },
  {
   "cell_type": "code",
   "execution_count": 41,
   "id": "1b7c067c",
   "metadata": {},
   "outputs": [
    {
     "name": "stdout",
     "output_type": "stream",
     "text": [
      "<class 'pandas.core.frame.DataFrame'>\n",
      "Int64Index: 13957 entries, 40 to 1190428\n",
      "Data columns (total 6 columns):\n",
      " #   Column            Non-Null Count  Dtype         \n",
      "---  ------            --------------  -----         \n",
      " 0   localDateTime     13957 non-null  datetime64[ns]\n",
      " 1   iSSRs200430       13957 non-null  int64         \n",
      " 2   Nx                13957 non-null  int64         \n",
      " 3   Ny                13957 non-null  int64         \n",
      " 4   meanTemp200430    13957 non-null  float64       \n",
      " 5   meanRH_ice200430  13957 non-null  float64       \n",
      "dtypes: datetime64[ns](1), float64(2), int64(3)\n",
      "memory usage: 763.3 KB\n"
     ]
    }
   ],
   "source": [
    "#Convert variables into appropriate formats for analysis\n",
    "#LocalDateTimePeriod -> Date object\n",
    "df['localDateTime'] = pd.to_datetime(df['localDateTime'], infer_datetime_format=True)\n",
    "#Check change has occured\n",
    "df.info()"
   ]
  },
  {
   "cell_type": "code",
   "execution_count": 42,
   "id": "833a10b2",
   "metadata": {},
   "outputs": [
    {
     "name": "stdout",
     "output_type": "stream",
     "text": [
      "         iSSRs200430   Nx  Ny  meanTemp200430  meanRH_ice200430\n",
      "353                0  233  33      238.922750         75.771667\n",
      "1093               0  233  33      238.922500         33.183333\n",
      "1278               0  233  33      239.559417         80.273333\n",
      "1398               0  233  33      240.306583         61.123333\n",
      "1467               0  242  37      238.844333         48.023333\n",
      "...              ...  ...  ..             ...               ...\n",
      "1188746            0  227  37      239.640000         86.507500\n",
      "1189251            0  248  62      237.473333         55.523333\n",
      "1189458            0  248  62      236.856250         59.329167\n",
      "1189879            0  248  62      236.193417         35.971667\n",
      "1190050            0  248  62      235.401583         15.040000\n",
      "\n",
      "[3284 rows x 5 columns]\n"
     ]
    }
   ],
   "source": [
    "#Create dataframe just for our inputs - Focusing on FL 300-430\n",
    "#Subsetting with ISSR count, cell locations, temperature, and relative humidity.\n",
    "\n",
    "df_input =test_df[['iSSRs200430', 'Nx', 'Ny', 'meanTemp200430', 'meanRH_ice200430']]\n",
    "print(df_input)"
   ]
  },
  {
   "cell_type": "code",
   "execution_count": 43,
   "id": "312afe3d",
   "metadata": {},
   "outputs": [
    {
     "data": {
      "text/html": [
       "<div>\n",
       "<style scoped>\n",
       "    .dataframe tbody tr th:only-of-type {\n",
       "        vertical-align: middle;\n",
       "    }\n",
       "\n",
       "    .dataframe tbody tr th {\n",
       "        vertical-align: top;\n",
       "    }\n",
       "\n",
       "    .dataframe thead th {\n",
       "        text-align: right;\n",
       "    }\n",
       "</style>\n",
       "<table border=\"1\" class=\"dataframe\">\n",
       "  <thead>\n",
       "    <tr style=\"text-align: right;\">\n",
       "      <th></th>\n",
       "      <th>iSSRs200430</th>\n",
       "      <th>Nx</th>\n",
       "      <th>Ny</th>\n",
       "      <th>meanTemp200430</th>\n",
       "      <th>meanRH_ice200430</th>\n",
       "    </tr>\n",
       "  </thead>\n",
       "  <tbody>\n",
       "    <tr>\n",
       "      <th>count</th>\n",
       "      <td>1.131338e+06</td>\n",
       "      <td>1.131338e+06</td>\n",
       "      <td>1.131338e+06</td>\n",
       "      <td>1.131338e+06</td>\n",
       "      <td>1.131338e+06</td>\n",
       "    </tr>\n",
       "    <tr>\n",
       "      <th>mean</th>\n",
       "      <td>1.164674e-01</td>\n",
       "      <td>2.355371e+02</td>\n",
       "      <td>4.449452e+01</td>\n",
       "      <td>2.392555e+02</td>\n",
       "      <td>4.738263e+01</td>\n",
       "    </tr>\n",
       "    <tr>\n",
       "      <th>std</th>\n",
       "      <td>4.512848e-01</td>\n",
       "      <td>9.398356e+00</td>\n",
       "      <td>9.065420e+00</td>\n",
       "      <td>2.618881e+00</td>\n",
       "      <td>2.476856e+01</td>\n",
       "    </tr>\n",
       "    <tr>\n",
       "      <th>min</th>\n",
       "      <td>0.000000e+00</td>\n",
       "      <td>2.130000e+02</td>\n",
       "      <td>2.800000e+01</td>\n",
       "      <td>2.304304e+02</td>\n",
       "      <td>2.991667e+00</td>\n",
       "    </tr>\n",
       "    <tr>\n",
       "      <th>25%</th>\n",
       "      <td>0.000000e+00</td>\n",
       "      <td>2.280000e+02</td>\n",
       "      <td>3.700000e+01</td>\n",
       "      <td>2.372644e+02</td>\n",
       "      <td>2.674833e+01</td>\n",
       "    </tr>\n",
       "    <tr>\n",
       "      <th>50%</th>\n",
       "      <td>0.000000e+00</td>\n",
       "      <td>2.360000e+02</td>\n",
       "      <td>4.500000e+01</td>\n",
       "      <td>2.392927e+02</td>\n",
       "      <td>4.477750e+01</td>\n",
       "    </tr>\n",
       "    <tr>\n",
       "      <th>75%</th>\n",
       "      <td>0.000000e+00</td>\n",
       "      <td>2.430000e+02</td>\n",
       "      <td>5.100000e+01</td>\n",
       "      <td>2.413540e+02</td>\n",
       "      <td>6.644667e+01</td>\n",
       "    </tr>\n",
       "    <tr>\n",
       "      <th>max</th>\n",
       "      <td>4.000000e+00</td>\n",
       "      <td>2.550000e+02</td>\n",
       "      <td>6.300000e+01</td>\n",
       "      <td>2.467280e+02</td>\n",
       "      <td>1.015783e+02</td>\n",
       "    </tr>\n",
       "  </tbody>\n",
       "</table>\n",
       "</div>"
      ],
      "text/plain": [
       "        iSSRs200430            Nx            Ny  meanTemp200430  \\\n",
       "count  1.131338e+06  1.131338e+06  1.131338e+06    1.131338e+06   \n",
       "mean   1.164674e-01  2.355371e+02  4.449452e+01    2.392555e+02   \n",
       "std    4.512848e-01  9.398356e+00  9.065420e+00    2.618881e+00   \n",
       "min    0.000000e+00  2.130000e+02  2.800000e+01    2.304304e+02   \n",
       "25%    0.000000e+00  2.280000e+02  3.700000e+01    2.372644e+02   \n",
       "50%    0.000000e+00  2.360000e+02  4.500000e+01    2.392927e+02   \n",
       "75%    0.000000e+00  2.430000e+02  5.100000e+01    2.413540e+02   \n",
       "max    4.000000e+00  2.550000e+02  6.300000e+01    2.467280e+02   \n",
       "\n",
       "       meanRH_ice200430  \n",
       "count      1.131338e+06  \n",
       "mean       4.738263e+01  \n",
       "std        2.476856e+01  \n",
       "min        2.991667e+00  \n",
       "25%        2.674833e+01  \n",
       "50%        4.477750e+01  \n",
       "75%        6.644667e+01  \n",
       "max        1.015783e+02  "
      ]
     },
     "execution_count": 43,
     "metadata": {},
     "output_type": "execute_result"
    }
   ],
   "source": [
    "#Even though last 2 columns are float-64 want all input variables to be.\n",
    "df_input= traindf_input.astype('float64')\n",
    "#Checkout distribution of variables.\n",
    "df_input.describe()"
   ]
  },
  {
   "cell_type": "code",
   "execution_count": 44,
   "id": "54ea932a",
   "metadata": {
    "scrolled": true
   },
   "outputs": [
    {
     "data": {
      "text/plain": [
       "array([[-0.25807973, -0.2699569 , -1.26795277,  0.81123807,  1.38474822],\n",
       "       [ 1.95781689, -0.2699569 , -1.26795277,  1.73081072, -0.54330206],\n",
       "       [-0.25807973, -0.2699569 , -1.26795277,  1.04638953,  0.08168419],\n",
       "       ...,\n",
       "       [-0.25807973,  1.32606769,  1.93101804, -1.03487585,  0.1566785 ],\n",
       "       [-0.25807973,  1.32606769,  1.93101804, -1.49884654, -0.33941443],\n",
       "       [-0.25807973,  1.32606769,  1.93101804, -2.56520588, -1.24694991]])"
      ]
     },
     "execution_count": 44,
     "metadata": {},
     "output_type": "execute_result"
    }
   ],
   "source": [
    "#Scale inputs - Sigmoid and Tanh functions to normalize input variables.\n",
    "scaler = StandardScaler()\n",
    "data_scaled = scaler.fit_transform(traindf_input)\n",
    "#scaled data is a 2D array all values are between 0-1.\n",
    "data_scaled"
   ]
  },
  {
   "cell_type": "code",
   "execution_count": 45,
   "id": "de9b4d6d",
   "metadata": {},
   "outputs": [
    {
     "name": "stdout",
     "output_type": "stream",
     "text": [
      "[-0.25807973  1.95781689 -0.25807973 ... -0.25807973 -0.25807973\n",
      " -0.25807973]\n"
     ]
    }
   ],
   "source": [
    "#store as feature variable\n",
    "features = data_scaled\n",
    "#our output/target variable is also pdISSRs200430 so will index for first part of array and store as target.\n",
    "target = data_scaled[:,0]\n",
    "print(target)"
   ]
  },
  {
   "cell_type": "code",
   "execution_count": 46,
   "id": "d1194593",
   "metadata": {},
   "outputs": [
    {
     "name": "stdout",
     "output_type": "stream",
     "text": [
      "[-0.25807973  1.95781689 -0.25807973 ... -0.25807973 -0.25807973\n",
      " -0.25807973]\n"
     ]
    }
   ],
   "source": [
    "#store as feature variable\n",
    "features = data_scaled\n",
    "#our output/target variable is also pdISSRs200430 so will index for first part of array and store as target.\n",
    "target = data_scaled[:,0]\n",
    "print(target)"
   ]
  },
  {
   "cell_type": "code",
   "execution_count": 47,
   "id": "5173cfc5",
   "metadata": {},
   "outputs": [
    {
     "data": {
      "text/plain": [
       "(array([[[-0.25807973, -0.2699569 , -1.26795277,  0.81123807,\n",
       "           1.38474822]]]),\n",
       " array([1.95781689]))"
      ]
     },
     "execution_count": 47,
     "metadata": {},
     "output_type": "execute_result"
    }
   ],
   "source": [
    "#Using timseriesgenerator to convert 2d to 3d arrays but also using a sample of data for this:\n",
    "#Will update batch size to be larger later, length is the period of time in which we want to be able to predict\n",
    "#Since data is in 6-hour increments, lets set length = 1 which means predicting 6 hours ahead.\n",
    "#First row printed reflects our input values and the 2nd array printed is the output when predicting 6 hours ahead\n",
    "#This prediction gives us an ISSR count of 0\n",
    "TimeseriesGenerator(features_train, target_train, length = 1, sampling_rate = 1, batch_size =1)[0]"
   ]
  },
  {
   "cell_type": "code",
   "execution_count": 48,
   "id": "b70327c3",
   "metadata": {},
   "outputs": [],
   "source": [
    "#Split our data into training and testing data - 70% training & 30% testing. Also don't want to shuffle, keep\n",
    "#order in tact\n",
    "\n",
    "x_train, x_test, y_train, y_test = train_test_split(features, target, test_size = 0.30,\n",
    "random_state = 123, shuffle = False)"
   ]
  },
  {
   "cell_type": "code",
   "execution_count": 49,
   "id": "f1383d42",
   "metadata": {},
   "outputs": [
    {
     "data": {
      "text/plain": [
       "(array([[[-0.25807973, -0.2699569 , -1.26795277,  0.81123807,\n",
       "           1.38474822],\n",
       "         [ 1.95781689, -0.2699569 , -1.26795277,  1.73081072,\n",
       "          -0.54330206],\n",
       "         [-0.25807973, -0.2699569 , -1.26795277,  1.04638953,\n",
       "           0.08168419],\n",
       "         ...,\n",
       "         [-0.25807973, -0.2699569 , -1.26795277,  0.24521993,\n",
       "          -0.59053939],\n",
       "         [-0.25807973, -0.2699569 , -1.26795277, -0.97791765,\n",
       "          -0.82430363],\n",
       "         [-0.25807973, -0.2699569 , -1.26795277,  1.26881289,\n",
       "          -0.07190443]],\n",
       " \n",
       "        [[ 1.95781689, -0.2699569 , -1.26795277,  1.73081072,\n",
       "          -0.54330206],\n",
       "         [-0.25807973, -0.2699569 , -1.26795277,  1.04638953,\n",
       "           0.08168419],\n",
       "         [-0.25807973, -0.2699569 , -1.26795277,  0.23694667,\n",
       "          -1.01789595],\n",
       "         ...,\n",
       "         [-0.25807973, -0.2699569 , -1.26795277, -0.97791765,\n",
       "          -0.82430363],\n",
       "         [-0.25807973, -0.2699569 , -1.26795277,  1.26881289,\n",
       "          -0.07190443],\n",
       "         [-0.25807973, -0.2699569 , -1.26795277,  1.46781657,\n",
       "          -0.29227803]],\n",
       " \n",
       "        [[-0.25807973, -0.2699569 , -1.26795277,  1.04638953,\n",
       "           0.08168419],\n",
       "         [-0.25807973, -0.2699569 , -1.26795277,  0.23694667,\n",
       "          -1.01789595],\n",
       "         [-0.25807973, -0.2699569 , -1.26795277, -0.23396082,\n",
       "          -0.09464833],\n",
       "         ...,\n",
       "         [-0.25807973, -0.2699569 , -1.26795277,  1.26881289,\n",
       "          -0.07190443],\n",
       "         [-0.25807973, -0.2699569 , -1.26795277,  1.46781657,\n",
       "          -0.29227803],\n",
       "         [-0.25807973, -0.2699569 , -1.26795277,  0.90338944,\n",
       "          -1.00443802]],\n",
       " \n",
       "        ...,\n",
       " \n",
       "        [[-0.25807973, -0.2699569 , -1.26795277,  0.75609363,\n",
       "           1.20747364],\n",
       "         [ 6.38961012, -0.2699569 , -1.26795277,  1.92679148,\n",
       "           2.1781941 ],\n",
       "         [-0.25807973, -0.2699569 , -1.26795277,  0.67342469,\n",
       "          -1.35972736],\n",
       "         ...,\n",
       "         [-0.25807973, -0.2699569 , -1.26795277,  1.14299573,\n",
       "           0.00810296],\n",
       "         [-0.25807973, -0.2699569 , -1.26795277, -0.96636691,\n",
       "          -1.40161517],\n",
       "         [-0.25807973, -0.2699569 , -1.26795277, -0.80907955,\n",
       "          -1.54309165]],\n",
       " \n",
       "        [[ 6.38961012, -0.2699569 , -1.26795277,  1.92679148,\n",
       "           2.1781941 ],\n",
       "         [-0.25807973, -0.2699569 , -1.26795277,  0.67342469,\n",
       "          -1.35972736],\n",
       "         [-0.25807973, -0.2699569 , -1.26795277, -0.36595111,\n",
       "          -0.36690225],\n",
       "         ...,\n",
       "         [-0.25807973, -0.2699569 , -1.26795277, -0.96636691,\n",
       "          -1.40161517],\n",
       "         [-0.25807973, -0.2699569 , -1.26795277, -0.80907955,\n",
       "          -1.54309165],\n",
       "         [-0.25807973, -0.2699569 , -1.26795277, -0.46236639,\n",
       "          -1.58296077]],\n",
       " \n",
       "        [[-0.25807973, -0.2699569 , -1.26795277,  0.67342469,\n",
       "          -1.35972736],\n",
       "         [-0.25807973, -0.2699569 , -1.26795277, -0.36595111,\n",
       "          -0.36690225],\n",
       "         [-0.25807973, -0.2699569 , -1.26795277,  0.46089741,\n",
       "           1.89547665],\n",
       "         ...,\n",
       "         [-0.25807973, -0.2699569 , -1.26795277, -0.80907955,\n",
       "          -1.54309165],\n",
       "         [-0.25807973, -0.2699569 , -1.26795277, -0.46236639,\n",
       "          -1.58296077],\n",
       "         [-0.25807973, -0.2699569 , -1.26795277, -0.41116765,\n",
       "          -0.41545173]]]),\n",
       " array([-0.25807973, -0.25807973, -0.25807973, -0.25807973, -0.25807973,\n",
       "        -0.25807973, -0.25807973, -0.25807973, -0.25807973, -0.25807973,\n",
       "        -0.25807973, -0.25807973, -0.25807973,  6.38961012, -0.25807973,\n",
       "        -0.25807973, -0.25807973, -0.25807973, -0.25807973, -0.25807973,\n",
       "        -0.25807973, -0.25807973, -0.25807973, -0.25807973, -0.25807973,\n",
       "        -0.25807973, -0.25807973, -0.25807973, -0.25807973, -0.25807973,\n",
       "        -0.25807973,  1.95781689]))"
      ]
     },
     "execution_count": 49,
     "metadata": {},
     "output_type": "execute_result"
    }
   ],
   "source": [
    "#Actual Timseries generator\n",
    "#Data for every 6 hours, 24 hours we have 4 data points of 6 hours\n",
    "#In day of 6 hour intervals we have 4 Data Points, we are taking 3 days of data so 4 x 365 = 1460 for window length\n",
    "#5 features now.\n",
    "\n",
    "#Each day we have 4 data points, we have 3 days of training data and using the 3 days of data going to print next\n",
    "#observation. Batch size 32 - Each training instance, passing 32 batch size of data, with 5 features (input size)\n",
    "win_length = 100\n",
    "batch_size = 32\n",
    "num_features = 5\n",
    "\n",
    "#train generator - Passes the 70% of data, length is 12 for those 3 days of data and predict next instance.\n",
    "train_generator = TimeseriesGenerator(x_train, y_train, length = win_length, sampling_rate =1,batch_size = batch_size)\n",
    "#test generator based on 30% of data\n",
    "test_generator = TimeseriesGenerator(x_test, y_test, length = win_length, sampling_rate=1, batch_size = batch_size)\n",
    "\n",
    "#Will contain 32 observations bc of the batch size variable each 12 having 5 observations bc 5 features\n",
    "train_generator[0]"
   ]
  },
  {
   "cell_type": "code",
   "execution_count": 50,
   "id": "51c65a6e",
   "metadata": {},
   "outputs": [
    {
     "name": "stdout",
     "output_type": "stream",
     "text": [
      "Model: \"sequential_1\"\n",
      "_________________________________________________________________\n",
      "Layer (type)                 Output Shape              Param #   \n",
      "=================================================================\n",
      "lstm_2 (LSTM)                (None, 100, 120)          60480     \n",
      "_________________________________________________________________\n",
      "dropout_1 (Dropout)          (None, 100, 120)          0         \n",
      "_________________________________________________________________\n",
      "dense_1 (Dense)              (None, 100, 1)            121       \n",
      "=================================================================\n",
      "Total params: 60,601\n",
      "Trainable params: 60,601\n",
      "Non-trainable params: 0\n",
      "_________________________________________________________________\n"
     ]
    }
   ],
   "source": [
    "#Define our model architecture\n",
    "model = Sequential()\n",
    "\n",
    "#4(nm+n^2) where n - length of input vector in each time step (5) m - length of output vector (1)\n",
    "#4(5*1 + 5^2) = 4(5 + 25) =4(30) = 120.\n",
    "\n",
    "#telling LSTM layer number of units is 120, input shape is 12 instances with 5 features\n",
    "#need hidden state for each observation\n",
    "model.add(LSTM(120, activation='relu', input_shape = (win_length, num_features), return_sequences=True))\n",
    "#model.add(LSTM(20, activation='relu', return_sequences=False))\n",
    "model.add(Dropout(0.2))\n",
    "model.add(Dense(1))\n",
    "model.compile(optimizer='adam', loss='mean_squared_error', metrics = ['mse', 'accuracy'])\n",
    "model.summary()"
   ]
  },
  {
   "cell_type": "code",
   "execution_count": 51,
   "id": "6596d8ca",
   "metadata": {},
   "outputs": [],
   "source": [
    "#early stopping is telling model to monitor the loss in the valiation dataset, will decrease for validation accuracy\n",
    "#training will stop when chosen performance measure stops imporving\n",
    "early_stopping = tf.keras.callbacks.EarlyStopping(monitor='val_loss', patience = 2, mode='min')"
   ]
  },
  {
   "cell_type": "code",
   "execution_count": null,
   "id": "e35571ee",
   "metadata": {},
   "outputs": [
    {
     "name": "stdout",
     "output_type": "stream",
     "text": [
      "Epoch 1/5\n",
      "24745/24745 [==============================] - ETA: 0s - loss: 1.0073 - mse: 1.0073 - accuracy: 0.0000e+00"
     ]
    }
   ],
   "source": [
    "#defining model\n",
    "model.compile(optimizer='adam', loss='mse', metrics = ['mse', 'accuracy'])\n",
    "#passing training df. don't shuffle the data, for now validation and test will be the same - change in future.\n",
    "history = model.fit(train_generator, epochs = 5, validation_data = test_generator, shuffle = False\n",
    "                             ,callbacks=[early_stopping])"
   ]
  },
  {
   "cell_type": "code",
   "execution_count": null,
   "id": "ea5a8fa9",
   "metadata": {},
   "outputs": [],
   "source": [
    "#Loss for each feature\n",
    "print(history.history['loss'])\n",
    "#Accuracy for each feature\n",
    "print(history.history['accuracy'])\n",
    "#Validation loss for each feature\n",
    "print(history.history['val_loss'])\n",
    "#Validation accuracy for each feature\n",
    "print(history.history['val_accuracy'])\n",
    "\n",
    "#plotting loss of training data vs. validation data loss for each epoch.\n",
    "from matplotlib import pyplot\n",
    "pyplot.plot(history.history['loss'])\n",
    "pyplot.plot(history.history['val_loss'])\n",
    "pyplot.title('model train vs validation loss')\n",
    "pyplot.ylabel('loss')\n",
    "pyplot.xlabel('epoch')\n",
    "pyplot.legend(['train', 'validation'], loc='upper right')\n",
    "pyplot.show()"
   ]
  },
  {
   "cell_type": "code",
   "execution_count": null,
   "id": "b493cb37",
   "metadata": {},
   "outputs": [],
   "source": [
    "model.evaluate_generator(test_generator, verbose = 0)"
   ]
  },
  {
   "cell_type": "code",
   "execution_count": 21,
   "id": "7991c1ad",
   "metadata": {},
   "outputs": [
    {
     "name": "stderr",
     "output_type": "stream",
     "text": [
      "/home/ec2-user/SageMaker/keras/engine/training.py:1976: UserWarning: `Model.predict_generator` is deprecated and will be removed in a future version. Please use `Model.predict`, which supports generators.\n",
      "  warnings.warn('`Model.predict_generator` is deprecated and '\n"
     ]
    },
    {
     "name": "stdout",
     "output_type": "stream",
     "text": [
      "4176\n",
      "[[ 0.02172169]\n",
      " [ 0.00229769]\n",
      " [ 0.01307041]\n",
      " ...\n",
      " [-0.15081798]\n",
      " [-0.1481768 ]\n",
      " [-0.14081432]]\n"
     ]
    }
   ],
   "source": [
    "#training_predictions = model.predict_generator(train_generator)\n",
    "#print(training_predictions)\n",
    "\n",
    "#using test generator data for the predictive model\n",
    "predictions = model.predict_generator(test_generator)\n",
    "print(predictions.shape[0])\n",
    "\n",
    "print(predictions)"
   ]
  },
  {
   "cell_type": "code",
   "execution_count": 22,
   "id": "aa7aa902",
   "metadata": {},
   "outputs": [
    {
     "data": {
      "text/plain": [
       "array([-0.35993784, -0.35993784, -0.35993784, ..., -0.35993784,\n",
       "       -0.35993784, -0.35993784])"
      ]
     },
     "execution_count": 22,
     "metadata": {},
     "output_type": "execute_result"
    }
   ],
   "source": [
    "y_test"
   ]
  },
  {
   "cell_type": "code",
   "execution_count": 23,
   "id": "b75f50e4",
   "metadata": {},
   "outputs": [
    {
     "data": {
      "text/plain": [
       "array([[-0.35993784, -1.44037493, -0.93702476,  1.3773957 ,  0.77528698],\n",
       "       [-0.35993784, -1.44037493, -0.93702476, -0.46877835, -1.54778063],\n",
       "       [-0.35993784, -1.44037493, -0.93702476,  0.70927777,  0.37010543],\n",
       "       ...,\n",
       "       [-0.35993784,  0.58125622, -1.26795277,  0.57160998, -0.28583079],\n",
       "       [-0.35993784,  0.58125622, -1.26795277,  0.87756803, -1.63320137],\n",
       "       [-0.35993784,  0.58125622, -1.26795277,  0.64349884, -0.29554225]])"
      ]
     },
     "execution_count": 23,
     "metadata": {},
     "output_type": "execute_result"
    }
   ],
   "source": [
    "x_test"
   ]
  },
  {
   "cell_type": "code",
   "execution_count": 24,
   "id": "546ee18d",
   "metadata": {},
   "outputs": [
    {
     "data": {
      "text/plain": [
       "array([[-2.39798969,  0.16606863,  0.01061009,  0.64167148],\n",
       "       [-2.39798969,  0.16606863,  0.3448509 ,  0.11431375],\n",
       "       [-2.39798969,  0.16606863,  0.3329462 ,  0.84861274],\n",
       "       ...,\n",
       "       [ 0.58125622, -1.26795277,  0.57160998, -0.28583079],\n",
       "       [ 0.58125622, -1.26795277,  0.87756803, -1.63320137],\n",
       "       [ 0.58125622, -1.26795277,  0.64349884, -0.29554225]])"
      ]
     },
     "execution_count": 24,
     "metadata": {},
     "output_type": "execute_result"
    }
   ],
   "source": [
    "x_test[:,1:][win_length:]"
   ]
  },
  {
   "cell_type": "code",
   "execution_count": 25,
   "id": "d565d45a",
   "metadata": {
    "scrolled": true
   },
   "outputs": [
    {
     "name": "stdout",
     "output_type": "stream",
     "text": [
      "             0         0         1         2         3\n",
      "0     0.021722 -2.397990  0.166069  0.010610  0.641671\n",
      "1     0.002298 -2.397990  0.166069  0.344851  0.114314\n",
      "2     0.013070 -2.397990  0.166069  0.332946  0.848613\n",
      "3     0.005862 -2.397990  0.166069 -2.219036 -1.910290\n",
      "4     0.039330 -2.397990  0.166069  1.036936  1.498494\n",
      "...        ...       ...       ...       ...       ...\n",
      "4171 -0.144174  0.581256 -1.267953  0.859129  0.539589\n",
      "4172 -0.157618  0.581256 -1.267953  1.416019 -0.363060\n",
      "4173 -0.150818  0.581256 -1.267953  0.571610 -0.285831\n",
      "4174 -0.148177  0.581256 -1.267953  0.877568 -1.633201\n",
      "4175 -0.140814  0.581256 -1.267953  0.643499 -0.295542\n",
      "\n",
      "[4176 rows x 5 columns]\n"
     ]
    }
   ],
   "source": [
    "#df_train_pred = pd.concat([pd.DataFrame(training_predictions), pd.DataFrame(x_test[:,1:][win_length:])], axis=1)\n",
    "df_pred=pd.concat([pd.DataFrame(predictions), pd.DataFrame(x_test[:,1:][win_length:])], axis=1)\n",
    "print(df_pred)"
   ]
  },
  {
   "cell_type": "code",
   "execution_count": 26,
   "id": "61f3181f",
   "metadata": {},
   "outputs": [
    {
     "name": "stdout",
     "output_type": "stream",
     "text": [
      "[[2.26246162e-01 2.13000000e+02 4.60000000e+01 2.38755542e+02\n",
      "  7.46027778e+01]\n",
      " [2.14731698e-01 2.13000000e+02 4.60000000e+01 2.39138472e+02\n",
      "  6.51073611e+01]\n",
      " [2.21117721e-01 2.13000000e+02 4.60000000e+01 2.39124833e+02\n",
      "  7.83288889e+01]\n",
      " ...\n",
      " [1.23965376e-01 2.41000000e+02 3.30000000e+01 2.39398264e+02\n",
      "  5.79025000e+01]\n",
      " [1.25531051e-01 2.41000000e+02 3.30000000e+01 2.39748792e+02\n",
      "  3.36422222e+01]\n",
      " [1.29895501e-01 2.41000000e+02 3.30000000e+01 2.39480625e+02\n",
      "  5.77276389e+01]]\n"
     ]
    }
   ],
   "source": [
    "#Inversing the scaler\n",
    "rev_trans = scaler.inverse_transform(df_pred)\n",
    "print(rev_trans)"
   ]
  },
  {
   "cell_type": "code",
   "execution_count": 27,
   "id": "a48c52f2",
   "metadata": {},
   "outputs": [
    {
     "name": "stdout",
     "output_type": "stream",
     "text": [
      "         pdISSRs200430     Nx    Ny  pdMeanTemp200430  pdMeanRH_ice200430\n",
      "836516             0.0  213.0  46.0        238.755542           74.602778\n",
      "836613             0.0  213.0  46.0        239.138472           65.107361\n",
      "836633             0.0  213.0  46.0        239.124833           78.328889\n",
      "836733             0.0  213.0  46.0        236.201097           28.653056\n",
      "836755             0.0  213.0  46.0        239.931375           90.030417\n",
      "...                ...    ...   ...               ...                 ...\n",
      "1193593            0.0  241.0  33.0        239.727667           72.764722\n",
      "1193599            0.0  241.0  33.0        240.365681           56.511944\n",
      "1193609            0.0  241.0  33.0        239.398264           57.902500\n",
      "1193674            0.0  241.0  33.0        239.748792           33.642222\n",
      "1193715            0.0  241.0  33.0        239.480625           57.727639\n",
      "\n",
      "[4176 rows x 5 columns]\n"
     ]
    }
   ],
   "source": [
    "df_final = df_input[predictions.shape[0]*-1:]\n",
    "print(df_final)"
   ]
  },
  {
   "cell_type": "code",
   "execution_count": 28,
   "id": "e9988975",
   "metadata": {},
   "outputs": [
    {
     "data": {
      "text/plain": [
       "pdISSRs200430         4176\n",
       "Nx                    4176\n",
       "Ny                    4176\n",
       "pdMeanTemp200430      4176\n",
       "pdMeanRH_ice200430    4176\n",
       "dtype: int64"
      ]
     },
     "execution_count": 28,
     "metadata": {},
     "output_type": "execute_result"
    }
   ],
   "source": [
    "#Ensure count is correct.\n",
    "df_final.count()"
   ]
  },
  {
   "cell_type": "code",
   "execution_count": 29,
   "id": "28b03500",
   "metadata": {},
   "outputs": [
    {
     "name": "stdout",
     "output_type": "stream",
     "text": [
      "         pdISSRs200430     Nx    Ny  pdMeanTemp200430  pdMeanRH_ice200430  \\\n",
      "836516             0.0  213.0  46.0        238.755542           74.602778   \n",
      "836613             0.0  213.0  46.0        239.138472           65.107361   \n",
      "836633             0.0  213.0  46.0        239.124833           78.328889   \n",
      "836733             0.0  213.0  46.0        236.201097           28.653056   \n",
      "836755             0.0  213.0  46.0        239.931375           90.030417   \n",
      "...                ...    ...   ...               ...                 ...   \n",
      "1193593            0.0  241.0  33.0        239.727667           72.764722   \n",
      "1193599            0.0  241.0  33.0        240.365681           56.511944   \n",
      "1193609            0.0  241.0  33.0        239.398264           57.902500   \n",
      "1193674            0.0  241.0  33.0        239.748792           33.642222   \n",
      "1193715            0.0  241.0  33.0        239.480625           57.727639   \n",
      "\n",
      "         ISSR_200430_Pred  \n",
      "836516           0.226246  \n",
      "836613           0.214732  \n",
      "836633           0.221118  \n",
      "836733           0.216844  \n",
      "836755           0.236684  \n",
      "...                   ...  \n",
      "1193593          0.127904  \n",
      "1193599          0.119934  \n",
      "1193609          0.123965  \n",
      "1193674          0.125531  \n",
      "1193715          0.129896  \n",
      "\n",
      "[4176 rows x 6 columns]\n"
     ]
    },
    {
     "name": "stderr",
     "output_type": "stream",
     "text": [
      "/home/ec2-user/anaconda3/envs/python3/lib/python3.6/site-packages/ipykernel/__main__.py:1: SettingWithCopyWarning: \n",
      "A value is trying to be set on a copy of a slice from a DataFrame.\n",
      "Try using .loc[row_indexer,col_indexer] = value instead\n",
      "\n",
      "See the caveats in the documentation: https://pandas.pydata.org/pandas-docs/stable/user_guide/indexing.html#returning-a-view-versus-a-copy\n",
      "  if __name__ == '__main__':\n"
     ]
    }
   ],
   "source": [
    "df_final['ISSR_200430_Pred'] = rev_trans[:,0]\n",
    "print(df_final)"
   ]
  },
  {
   "cell_type": "code",
   "execution_count": 30,
   "id": "2a3946be",
   "metadata": {
    "scrolled": true
   },
   "outputs": [
    {
     "data": {
      "text/plain": [
       "<AxesSubplot:>"
      ]
     },
     "execution_count": 30,
     "metadata": {},
     "output_type": "execute_result"
    },
    {
     "data": {
      "image/png": "[encoded data removed]",
      "text/plain": [
       "<Figure size 432x288 with 1 Axes>"
      ]
     },
     "metadata": {
      "needs_background": "light"
     },
     "output_type": "display_data"
    }
   ],
   "source": [
    "#Plot comparison of actual ISSR count for FL 200-430 (blue) and Predicted ISSR count (orange)\n",
    "df_final[['pdISSRs200430', 'ISSR_200430_Pred']].plot()"
   ]
  },
  {
   "cell_type": "code",
   "execution_count": 31,
   "id": "2201295a",
   "metadata": {},
   "outputs": [
    {
     "data": {
      "text/plain": [
       "836516     0.0\n",
       "836613     0.0\n",
       "836633     0.0\n",
       "836733     0.0\n",
       "836755     0.0\n",
       "          ... \n",
       "1193593    0.0\n",
       "1193599    0.0\n",
       "1193609    0.0\n",
       "1193674    0.0\n",
       "1193715    0.0\n",
       "Name: ISSR_200430_Pred, Length: 4176, dtype: float64"
      ]
     },
     "execution_count": 31,
     "metadata": {},
     "output_type": "execute_result"
    }
   ],
   "source": [
    "round(df_final['ISSR_200430_Pred'],0)"
   ]
  },
  {
   "cell_type": "code",
   "execution_count": 32,
   "id": "270cb7ee",
   "metadata": {},
   "outputs": [
    {
     "data": {
      "text/plain": [
       "count    4176.000000\n",
       "mean        0.228577\n",
       "std         0.083916\n",
       "min        -0.010301\n",
       "25%         0.173686\n",
       "50%         0.215219\n",
       "75%         0.275785\n",
       "max         0.585328\n",
       "Name: ISSR_200430_Pred, dtype: float64"
      ]
     },
     "execution_count": 32,
     "metadata": {},
     "output_type": "execute_result"
    }
   ],
   "source": [
    "df_final['ISSR_200430_Pred'].describe()"
   ]
  },
  {
   "cell_type": "code",
   "execution_count": 33,
   "id": "1937e986",
   "metadata": {},
   "outputs": [
    {
     "data": {
      "text/plain": [
       "count    4176.000000\n",
       "mean        0.201868\n",
       "std         0.559047\n",
       "min         0.000000\n",
       "25%         0.000000\n",
       "50%         0.000000\n",
       "75%         0.000000\n",
       "max         6.000000\n",
       "Name: pdISSRs200430, dtype: float64"
      ]
     },
     "execution_count": 33,
     "metadata": {},
     "output_type": "execute_result"
    }
   ],
   "source": [
    "#Distribution of predicted values\n",
    "df_final['pdISSRs200430'].describe()"
   ]
  },
  {
   "cell_type": "code",
   "execution_count": 34,
   "id": "61f8a8d4",
   "metadata": {},
   "outputs": [
    {
     "name": "stdout",
     "output_type": "stream",
     "text": [
      "         pdISSRs200430     Nx    Ny  pdMeanTemp200430  pdMeanRH_ice200430  \\\n",
      "836516             0.0  213.0  46.0        238.755542           74.602778   \n",
      "836613             0.0  213.0  46.0        239.138472           65.107361   \n",
      "836633             0.0  213.0  46.0        239.124833           78.328889   \n",
      "836733             0.0  213.0  46.0        236.201097           28.653056   \n",
      "836755             0.0  213.0  46.0        239.931375           90.030417   \n",
      "...                ...    ...   ...               ...                 ...   \n",
      "1193593            0.0  241.0  33.0        239.727667           72.764722   \n",
      "1193599            0.0  241.0  33.0        240.365681           56.511944   \n",
      "1193609            0.0  241.0  33.0        239.398264           57.902500   \n",
      "1193674            0.0  241.0  33.0        239.748792           33.642222   \n",
      "1193715            0.0  241.0  33.0        239.480625           57.727639   \n",
      "\n",
      "         ISSR_200430_Pred  \n",
      "836516           0.226246  \n",
      "836613           0.214732  \n",
      "836633           0.221118  \n",
      "836733           0.216844  \n",
      "836755           0.236684  \n",
      "...                   ...  \n",
      "1193593          0.127904  \n",
      "1193599          0.119934  \n",
      "1193609          0.123965  \n",
      "1193674          0.125531  \n",
      "1193715          0.129896  \n",
      "\n",
      "[4176 rows x 6 columns]\n"
     ]
    }
   ],
   "source": [
    "print(df_final)"
   ]
  },
  {
   "cell_type": "code",
   "execution_count": 35,
   "id": "e1f4b06c",
   "metadata": {},
   "outputs": [
    {
     "name": "stdout",
     "output_type": "stream",
     "text": [
      "         LocalDateTimePeriod  pdISSRs200430   Nx  Ny        Lat        Lon  \\\n",
      "34       2021-05-12 18:00:00              0  242  58  29.277510 -78.877894   \n",
      "80       2021-05-13 12:00:00              2  242  58  29.277510 -78.877894   \n",
      "255      2021-05-14 00:00:00              0  242  58  29.277510 -78.877894   \n",
      "294      2021-05-13 18:00:00              1  242  58  29.277510 -78.877894   \n",
      "361      2021-05-12 12:00:00              3  242  58  29.277510 -78.877894   \n",
      "...                      ...            ...  ...  ..        ...        ...   \n",
      "1193593  2021-05-14 06:00:00              0  241  33  24.765398 -79.674515   \n",
      "1193599  2021-05-13 00:00:00              0  241  33  24.765398 -79.674515   \n",
      "1193609  2021-05-12 06:00:00              0  241  33  24.765398 -79.674515   \n",
      "1193674  2021-05-11 12:00:00              0  241  33  24.765398 -79.674515   \n",
      "1193715  2021-05-12 00:00:00              0  241  33  24.765398 -79.674515   \n",
      "\n",
      "         pdMeanTemp200430  pdMeanRH_ice200430  \n",
      "34             238.888861           92.030556  \n",
      "80             238.555333           91.021250  \n",
      "255            237.436514           53.795000  \n",
      "294            238.046028           59.666806  \n",
      "361            238.718028           71.099028  \n",
      "...                   ...                 ...  \n",
      "1193593        239.727667           72.764722  \n",
      "1193599        240.365681           56.511944  \n",
      "1193609        239.398264           57.902500  \n",
      "1193674        239.748792           33.642222  \n",
      "1193715        239.480625           57.727639  \n",
      "\n",
      "[13957 rows x 8 columns]\n"
     ]
    }
   ],
   "source": [
    "print(df2)"
   ]
  },
  {
   "cell_type": "code",
   "execution_count": 36,
   "id": "4f95c35a",
   "metadata": {},
   "outputs": [
    {
     "name": "stdout",
     "output_type": "stream",
     "text": [
      "         LocalDateTimePeriod  pdISSRs200430   Nx  Ny        Lat        Lon  \\\n",
      "836516   2021-05-11 18:00:00              0  213  46  27.605318 -85.104425   \n",
      "836613   2021-05-13 06:00:00              0  213  46  27.605318 -85.104425   \n",
      "836633   2021-05-12 06:00:00              0  213  46  27.605318 -85.104425   \n",
      "836733   2021-05-14 12:00:00              0  213  46  27.605318 -85.104425   \n",
      "836755   2021-05-12 18:00:00              0  213  46  27.605318 -85.104425   \n",
      "...                      ...            ...  ...  ..        ...        ...   \n",
      "1193593  2021-05-14 06:00:00              0  241  33  24.765398 -79.674515   \n",
      "1193599  2021-05-13 00:00:00              0  241  33  24.765398 -79.674515   \n",
      "1193609  2021-05-12 06:00:00              0  241  33  24.765398 -79.674515   \n",
      "1193674  2021-05-11 12:00:00              0  241  33  24.765398 -79.674515   \n",
      "1193715  2021-05-12 00:00:00              0  241  33  24.765398 -79.674515   \n",
      "\n",
      "         pdMeanTemp200430  pdMeanRH_ice200430  \n",
      "836516         238.755542           74.602778  \n",
      "836613         239.138472           65.107361  \n",
      "836633         239.124833           78.328889  \n",
      "836733         236.201097           28.653056  \n",
      "836755         239.931375           90.030417  \n",
      "...                   ...                 ...  \n",
      "1193593        239.727667           72.764722  \n",
      "1193599        240.365681           56.511944  \n",
      "1193609        239.398264           57.902500  \n",
      "1193674        239.748792           33.642222  \n",
      "1193715        239.480625           57.727639  \n",
      "\n",
      "[4176 rows x 8 columns]\n"
     ]
    }
   ],
   "source": [
    "#last 30% of original dataframe - want to join the timestamp to predicted results\n",
    "#https://stackoverflow.com/questions/14663004/how-to-get-the-last-n-rows-of-a-pandas-dataframe\n",
    "\n",
    "df2 = df2.iloc[-4176:]\n",
    "print(df2)"
   ]
  },
  {
   "cell_type": "code",
   "execution_count": 37,
   "id": "0eefcffc",
   "metadata": {},
   "outputs": [
    {
     "name": "stdout",
     "output_type": "stream",
     "text": [
      "         pdISSRs200430     Nx    Ny  pdMeanTemp200430  pdMeanRH_ice200430  \\\n",
      "836516             0.0  213.0  46.0        238.755542           74.602778   \n",
      "836613             0.0  213.0  46.0        239.138472           65.107361   \n",
      "836633             0.0  213.0  46.0        239.124833           78.328889   \n",
      "836733             0.0  213.0  46.0        236.201097           28.653056   \n",
      "836755             0.0  213.0  46.0        239.931375           90.030417   \n",
      "...                ...    ...   ...               ...                 ...   \n",
      "1193593            0.0  241.0  33.0        239.727667           72.764722   \n",
      "1193599            0.0  241.0  33.0        240.365681           56.511944   \n",
      "1193609            0.0  241.0  33.0        239.398264           57.902500   \n",
      "1193674            0.0  241.0  33.0        239.748792           33.642222   \n",
      "1193715            0.0  241.0  33.0        239.480625           57.727639   \n",
      "\n",
      "         ISSR_200430_Pred             datetime        Lat        Lon  \n",
      "836516           0.226246  2021-05-11 18:00:00  27.605318 -85.104425  \n",
      "836613           0.214732  2021-05-13 06:00:00  27.605318 -85.104425  \n",
      "836633           0.221118  2021-05-12 06:00:00  27.605318 -85.104425  \n",
      "836733           0.216844  2021-05-14 12:00:00  27.605318 -85.104425  \n",
      "836755           0.236684  2021-05-12 18:00:00  27.605318 -85.104425  \n",
      "...                   ...                  ...        ...        ...  \n",
      "1193593          0.127904  2021-05-14 06:00:00  24.765398 -79.674515  \n",
      "1193599          0.119934  2021-05-13 00:00:00  24.765398 -79.674515  \n",
      "1193609          0.123965  2021-05-12 06:00:00  24.765398 -79.674515  \n",
      "1193674          0.125531  2021-05-11 12:00:00  24.765398 -79.674515  \n",
      "1193715          0.129896  2021-05-12 00:00:00  24.765398 -79.674515  \n",
      "\n",
      "[4176 rows x 9 columns]\n"
     ]
    },
    {
     "name": "stderr",
     "output_type": "stream",
     "text": [
      "/home/ec2-user/anaconda3/envs/python3/lib/python3.6/site-packages/ipykernel/__main__.py:2: SettingWithCopyWarning: \n",
      "A value is trying to be set on a copy of a slice from a DataFrame.\n",
      "Try using .loc[row_indexer,col_indexer] = value instead\n",
      "\n",
      "See the caveats in the documentation: https://pandas.pydata.org/pandas-docs/stable/user_guide/indexing.html#returning-a-view-versus-a-copy\n",
      "  from ipykernel import kernelapp as app\n",
      "/home/ec2-user/anaconda3/envs/python3/lib/python3.6/site-packages/ipykernel/__main__.py:3: SettingWithCopyWarning: \n",
      "A value is trying to be set on a copy of a slice from a DataFrame.\n",
      "Try using .loc[row_indexer,col_indexer] = value instead\n",
      "\n",
      "See the caveats in the documentation: https://pandas.pydata.org/pandas-docs/stable/user_guide/indexing.html#returning-a-view-versus-a-copy\n",
      "  app.launch_new_instance()\n",
      "/home/ec2-user/anaconda3/envs/python3/lib/python3.6/site-packages/ipykernel/__main__.py:4: SettingWithCopyWarning: \n",
      "A value is trying to be set on a copy of a slice from a DataFrame.\n",
      "Try using .loc[row_indexer,col_indexer] = value instead\n",
      "\n",
      "See the caveats in the documentation: https://pandas.pydata.org/pandas-docs/stable/user_guide/indexing.html#returning-a-view-versus-a-copy\n"
     ]
    }
   ],
   "source": [
    "#concat original date-time-stamp to results\n",
    "df_final['datetime'] = df2['LocalDateTimePeriod']\n",
    "df_final['Lat'] = df2['Lat']\n",
    "df_final['Lon'] = df2['Lon']\n",
    "print(df_final)"
   ]
  },
  {
   "cell_type": "code",
   "execution_count": 38,
   "id": "2fc6f194",
   "metadata": {},
   "outputs": [
    {
     "name": "stdout",
     "output_type": "stream",
     "text": [
      "<class 'pandas.core.frame.DataFrame'>\n",
      "Int64Index: 4176 entries, 836516 to 1193715\n",
      "Data columns (total 9 columns):\n",
      " #   Column              Non-Null Count  Dtype  \n",
      "---  ------              --------------  -----  \n",
      " 0   pdISSRs200430       4176 non-null   float64\n",
      " 1   Nx                  4176 non-null   float64\n",
      " 2   Ny                  4176 non-null   float64\n",
      " 3   pdMeanTemp200430    4176 non-null   float64\n",
      " 4   pdMeanRH_ice200430  4176 non-null   float64\n",
      " 5   ISSR_200430_Pred    4176 non-null   float64\n",
      " 6   datetime            4176 non-null   object \n",
      " 7   Lat                 4176 non-null   float64\n",
      " 8   Lon                 4176 non-null   float64\n",
      "dtypes: float64(8), object(1)\n",
      "memory usage: 326.2+ KB\n",
      "<class 'pandas.core.frame.DataFrame'>\n",
      "Int64Index: 4176 entries, 836516 to 1193715\n",
      "Data columns (total 9 columns):\n",
      " #   Column              Non-Null Count  Dtype         \n",
      "---  ------              --------------  -----         \n",
      " 0   pdISSRs200430       4176 non-null   float64       \n",
      " 1   Nx                  4176 non-null   float64       \n",
      " 2   Ny                  4176 non-null   float64       \n",
      " 3   pdMeanTemp200430    4176 non-null   float64       \n",
      " 4   pdMeanRH_ice200430  4176 non-null   float64       \n",
      " 5   ISSR_200430_Pred    4176 non-null   float64       \n",
      " 6   datetime            4176 non-null   datetime64[ns]\n",
      " 7   Lat                 4176 non-null   float64       \n",
      " 8   Lon                 4176 non-null   float64       \n",
      "dtypes: datetime64[ns](1), float64(8)\n",
      "memory usage: 326.2 KB\n"
     ]
    },
    {
     "name": "stderr",
     "output_type": "stream",
     "text": [
      "/home/ec2-user/anaconda3/envs/python3/lib/python3.6/site-packages/ipykernel/__main__.py:4: SettingWithCopyWarning: \n",
      "A value is trying to be set on a copy of a slice from a DataFrame.\n",
      "Try using .loc[row_indexer,col_indexer] = value instead\n",
      "\n",
      "See the caveats in the documentation: https://pandas.pydata.org/pandas-docs/stable/user_guide/indexing.html#returning-a-view-versus-a-copy\n"
     ]
    }
   ],
   "source": [
    "df_final.info()\n",
    "\n",
    "#date column not datetime type\n",
    "df_final['datetime'] = pd.to_datetime(df_final['datetime']) \n",
    "df_final.info()"
   ]
  },
  {
   "cell_type": "code",
   "execution_count": 39,
   "id": "32ba5a36",
   "metadata": {},
   "outputs": [
    {
     "data": {
      "text/plain": [
       "2021-05-12 06:00:00    246\n",
       "2021-05-13 12:00:00    246\n",
       "2021-05-13 06:00:00    246\n",
       "2021-05-12 12:00:00    246\n",
       "2021-05-15 00:00:00    246\n",
       "2021-05-11 18:00:00    246\n",
       "2021-05-11 00:00:00    246\n",
       "2021-05-12 18:00:00    246\n",
       "2021-05-14 12:00:00    246\n",
       "2021-05-11 06:00:00    246\n",
       "2021-05-14 18:00:00    246\n",
       "2021-05-13 00:00:00    245\n",
       "2021-05-14 06:00:00    245\n",
       "2021-05-12 00:00:00    245\n",
       "2021-05-13 18:00:00    245\n",
       "2021-05-14 00:00:00    245\n",
       "2021-05-11 12:00:00    245\n",
       "Name: datetime, dtype: int64"
      ]
     },
     "execution_count": 39,
     "metadata": {},
     "output_type": "execute_result"
    }
   ],
   "source": [
    "df_final['datetime'].value_counts()"
   ]
  },
  {
   "cell_type": "code",
   "execution_count": 40,
   "id": "12a20152",
   "metadata": {},
   "outputs": [],
   "source": [
    "#output bucket - S3 bucket designaton\n",
    "output_bucket = 'partly-cloudy-common-area'\n",
    "outputFileName = 'Miami_Results_FL200430.csv' "
   ]
  },
  {
   "cell_type": "code",
   "execution_count": 41,
   "id": "d7a282ba",
   "metadata": {},
   "outputs": [
    {
     "data": {
      "text/plain": [
       "{'paths': ['s3://partly-cloudy-common-area/Miami_Results_FL200430.csv'],\n",
       " 'partitions_values': {}}"
      ]
     },
     "execution_count": 41,
     "metadata": {},
     "output_type": "execute_result"
    }
   ],
   "source": [
    "#use wrangler to write the dataframe into a CSV.\n",
    "wr.s3.to_csv(df_final, f\"s3://{output_bucket}/{outputFileName}\", index=False)"
   ]
  },
  {
   "cell_type": "code",
   "execution_count": 42,
   "id": "909daf5f",
   "metadata": {},
   "outputs": [],
   "source": [
    "results = (pd.to_datetime(df_final['datetime']).dt.floor('6h').value_counts().rename_axis('date').reset_index(name = 'count'))"
   ]
  },
  {
   "cell_type": "code",
   "execution_count": 43,
   "id": "2f0f0d4d",
   "metadata": {},
   "outputs": [
    {
     "name": "stdout",
     "output_type": "stream",
     "text": [
      "                  date  count\n",
      "0  2021-05-12 06:00:00    246\n",
      "1  2021-05-13 12:00:00    246\n",
      "2  2021-05-13 06:00:00    246\n",
      "3  2021-05-12 12:00:00    246\n",
      "4  2021-05-15 00:00:00    246\n",
      "5  2021-05-11 18:00:00    246\n",
      "6  2021-05-11 00:00:00    246\n",
      "7  2021-05-12 18:00:00    246\n",
      "8  2021-05-14 12:00:00    246\n",
      "9  2021-05-11 06:00:00    246\n",
      "10 2021-05-14 18:00:00    246\n",
      "11 2021-05-13 00:00:00    245\n",
      "12 2021-05-14 06:00:00    245\n",
      "13 2021-05-12 00:00:00    245\n",
      "14 2021-05-13 18:00:00    245\n",
      "15 2021-05-14 00:00:00    245\n",
      "16 2021-05-11 12:00:00    245\n"
     ]
    }
   ],
   "source": [
    "#results counted based on how many data points for each date.\n",
    "print(results)"
   ]
  },
  {
   "cell_type": "code",
   "execution_count": 44,
   "id": "65714ce8",
   "metadata": {},
   "outputs": [
    {
     "name": "stdout",
     "output_type": "stream",
     "text": [
      "                   datetime  pdISSRs200430  ISSR_200430_Pred\n",
      "836516  2021-05-11 18:00:00            0.0          0.226246\n",
      "836613  2021-05-13 06:00:00            0.0          0.214732\n",
      "836633  2021-05-12 06:00:00            0.0          0.221118\n",
      "836733  2021-05-14 12:00:00            0.0          0.216844\n",
      "836755  2021-05-12 18:00:00            0.0          0.236684\n",
      "...                     ...            ...               ...\n",
      "1193593 2021-05-14 06:00:00            0.0          0.127904\n",
      "1193599 2021-05-13 00:00:00            0.0          0.119934\n",
      "1193609 2021-05-12 06:00:00            0.0          0.123965\n",
      "1193674 2021-05-11 12:00:00            0.0          0.125531\n",
      "1193715 2021-05-12 00:00:00            0.0          0.129896\n",
      "\n",
      "[4176 rows x 3 columns]\n"
     ]
    },
    {
     "data": {
      "text/html": [
       "<div>\n",
       "<style scoped>\n",
       "    .dataframe tbody tr th:only-of-type {\n",
       "        vertical-align: middle;\n",
       "    }\n",
       "\n",
       "    .dataframe tbody tr th {\n",
       "        vertical-align: top;\n",
       "    }\n",
       "\n",
       "    .dataframe thead th {\n",
       "        text-align: right;\n",
       "    }\n",
       "</style>\n",
       "<table border=\"1\" class=\"dataframe\">\n",
       "  <thead>\n",
       "    <tr style=\"text-align: right;\">\n",
       "      <th></th>\n",
       "      <th>pdISSRs200430</th>\n",
       "      <th>ISSR_200430_Pred</th>\n",
       "    </tr>\n",
       "    <tr>\n",
       "      <th>datetime</th>\n",
       "      <th></th>\n",
       "      <th></th>\n",
       "    </tr>\n",
       "  </thead>\n",
       "  <tbody>\n",
       "    <tr>\n",
       "      <th>2021-05-11</th>\n",
       "      <td>174.0</td>\n",
       "      <td>225.006334</td>\n",
       "    </tr>\n",
       "    <tr>\n",
       "      <th>2021-05-12</th>\n",
       "      <td>245.0</td>\n",
       "      <td>225.712903</td>\n",
       "    </tr>\n",
       "    <tr>\n",
       "      <th>2021-05-13</th>\n",
       "      <td>192.0</td>\n",
       "      <td>221.582942</td>\n",
       "    </tr>\n",
       "    <tr>\n",
       "      <th>2021-05-14</th>\n",
       "      <td>232.0</td>\n",
       "      <td>225.390324</td>\n",
       "    </tr>\n",
       "    <tr>\n",
       "      <th>2021-05-15</th>\n",
       "      <td>0.0</td>\n",
       "      <td>56.844835</td>\n",
       "    </tr>\n",
       "  </tbody>\n",
       "</table>\n",
       "</div>"
      ],
      "text/plain": [
       "            pdISSRs200430  ISSR_200430_Pred\n",
       "datetime                                   \n",
       "2021-05-11          174.0        225.006334\n",
       "2021-05-12          245.0        225.712903\n",
       "2021-05-13          192.0        221.582942\n",
       "2021-05-14          232.0        225.390324\n",
       "2021-05-15            0.0         56.844835"
      ]
     },
     "execution_count": 44,
     "metadata": {},
     "output_type": "execute_result"
    }
   ],
   "source": [
    "#Create a new dataframe of just the datetime, original ISSR counts, and predicted ISSR counts\n",
    "#https://stackoverflow.com/questions/34682828/extracting-specific-selected-columns-to-new-dataframe-as-a-copy\n",
    "df_ISSR_counts = df_final[['datetime', 'pdISSRs200430', 'ISSR_200430_Pred']].copy()\n",
    "print(df_ISSR_counts)\n",
    "\n",
    "#group the dataframe by date and sum of the ISSR counts\n",
    "df_ISSR_counts.resample('D', on='datetime').sum()\n",
    "\n",
    "\n",
    "#df_ISSR_counts.resample('D', on='datetime').mean()"
   ]
  },
  {
   "cell_type": "code",
   "execution_count": 45,
   "id": "147b559d",
   "metadata": {},
   "outputs": [
    {
     "data": {
      "text/html": [
       "<div>\n",
       "<style scoped>\n",
       "    .dataframe tbody tr th:only-of-type {\n",
       "        vertical-align: middle;\n",
       "    }\n",
       "\n",
       "    .dataframe tbody tr th {\n",
       "        vertical-align: top;\n",
       "    }\n",
       "\n",
       "    .dataframe thead th {\n",
       "        text-align: right;\n",
       "    }\n",
       "</style>\n",
       "<table border=\"1\" class=\"dataframe\">\n",
       "  <thead>\n",
       "    <tr style=\"text-align: right;\">\n",
       "      <th></th>\n",
       "      <th>pdISSRs200430</th>\n",
       "      <th>ISSR_200430_Pred</th>\n",
       "    </tr>\n",
       "    <tr>\n",
       "      <th>datetime</th>\n",
       "      <th></th>\n",
       "      <th></th>\n",
       "    </tr>\n",
       "  </thead>\n",
       "  <tbody>\n",
       "    <tr>\n",
       "      <th>2021-05-11 00:00:00</th>\n",
       "      <td>56.0</td>\n",
       "      <td>54.977334</td>\n",
       "    </tr>\n",
       "    <tr>\n",
       "      <th>2021-05-11 06:00:00</th>\n",
       "      <td>22.0</td>\n",
       "      <td>55.720300</td>\n",
       "    </tr>\n",
       "    <tr>\n",
       "      <th>2021-05-11 12:00:00</th>\n",
       "      <td>46.0</td>\n",
       "      <td>56.859851</td>\n",
       "    </tr>\n",
       "    <tr>\n",
       "      <th>2021-05-11 18:00:00</th>\n",
       "      <td>50.0</td>\n",
       "      <td>57.448849</td>\n",
       "    </tr>\n",
       "    <tr>\n",
       "      <th>2021-05-12 00:00:00</th>\n",
       "      <td>54.0</td>\n",
       "      <td>58.069962</td>\n",
       "    </tr>\n",
       "    <tr>\n",
       "      <th>2021-05-12 06:00:00</th>\n",
       "      <td>58.0</td>\n",
       "      <td>56.201046</td>\n",
       "    </tr>\n",
       "    <tr>\n",
       "      <th>2021-05-12 12:00:00</th>\n",
       "      <td>93.0</td>\n",
       "      <td>54.834053</td>\n",
       "    </tr>\n",
       "    <tr>\n",
       "      <th>2021-05-12 18:00:00</th>\n",
       "      <td>40.0</td>\n",
       "      <td>56.607841</td>\n",
       "    </tr>\n",
       "    <tr>\n",
       "      <th>2021-05-13 00:00:00</th>\n",
       "      <td>103.0</td>\n",
       "      <td>56.702736</td>\n",
       "    </tr>\n",
       "    <tr>\n",
       "      <th>2021-05-13 06:00:00</th>\n",
       "      <td>18.0</td>\n",
       "      <td>55.590676</td>\n",
       "    </tr>\n",
       "    <tr>\n",
       "      <th>2021-05-13 12:00:00</th>\n",
       "      <td>59.0</td>\n",
       "      <td>54.489168</td>\n",
       "    </tr>\n",
       "    <tr>\n",
       "      <th>2021-05-13 18:00:00</th>\n",
       "      <td>12.0</td>\n",
       "      <td>54.800362</td>\n",
       "    </tr>\n",
       "    <tr>\n",
       "      <th>2021-05-14 00:00:00</th>\n",
       "      <td>33.0</td>\n",
       "      <td>55.013458</td>\n",
       "    </tr>\n",
       "    <tr>\n",
       "      <th>2021-05-14 06:00:00</th>\n",
       "      <td>148.0</td>\n",
       "      <td>58.822927</td>\n",
       "    </tr>\n",
       "    <tr>\n",
       "      <th>2021-05-14 12:00:00</th>\n",
       "      <td>48.0</td>\n",
       "      <td>55.561339</td>\n",
       "    </tr>\n",
       "    <tr>\n",
       "      <th>2021-05-14 18:00:00</th>\n",
       "      <td>3.0</td>\n",
       "      <td>55.992600</td>\n",
       "    </tr>\n",
       "    <tr>\n",
       "      <th>2021-05-15 00:00:00</th>\n",
       "      <td>0.0</td>\n",
       "      <td>56.844835</td>\n",
       "    </tr>\n",
       "  </tbody>\n",
       "</table>\n",
       "</div>"
      ],
      "text/plain": [
       "                     pdISSRs200430  ISSR_200430_Pred\n",
       "datetime                                            \n",
       "2021-05-11 00:00:00           56.0         54.977334\n",
       "2021-05-11 06:00:00           22.0         55.720300\n",
       "2021-05-11 12:00:00           46.0         56.859851\n",
       "2021-05-11 18:00:00           50.0         57.448849\n",
       "2021-05-12 00:00:00           54.0         58.069962\n",
       "2021-05-12 06:00:00           58.0         56.201046\n",
       "2021-05-12 12:00:00           93.0         54.834053\n",
       "2021-05-12 18:00:00           40.0         56.607841\n",
       "2021-05-13 00:00:00          103.0         56.702736\n",
       "2021-05-13 06:00:00           18.0         55.590676\n",
       "2021-05-13 12:00:00           59.0         54.489168\n",
       "2021-05-13 18:00:00           12.0         54.800362\n",
       "2021-05-14 00:00:00           33.0         55.013458\n",
       "2021-05-14 06:00:00          148.0         58.822927\n",
       "2021-05-14 12:00:00           48.0         55.561339\n",
       "2021-05-14 18:00:00            3.0         55.992600\n",
       "2021-05-15 00:00:00            0.0         56.844835"
      ]
     },
     "execution_count": 45,
     "metadata": {},
     "output_type": "execute_result"
    }
   ],
   "source": [
    "#Actual vs. Predicted at each 6 hour interval\n",
    "df_ISSR_counts.resample('6H', on='datetime').sum()"
   ]
  },
  {
   "cell_type": "code",
   "execution_count": 46,
   "id": "4b8c435f",
   "metadata": {},
   "outputs": [],
   "source": [
    "df_6_ISSR_count = df_ISSR_counts.resample('6H', on='datetime').sum()"
   ]
  },
  {
   "cell_type": "code",
   "execution_count": 59,
   "id": "a7964939",
   "metadata": {},
   "outputs": [
    {
     "data": {
      "image/png": "[encoded data removed]",
      "text/plain": [
       "<Figure size 1080x360 with 1 Axes>"
      ]
     },
     "metadata": {},
     "output_type": "display_data"
    }
   ],
   "source": [
    "sns.lineplot(x = 'datetime', y = 'pdISSRs200430', data = df_6_ISSR_count,)\n",
    "sns.lineplot(x = 'datetime', y = 'ISSR_200430_Pred', data = df_6_ISSR_count)\n",
    "plt.title('Actual vs. Predicted ISSR count at FL 200-430')\n",
    "plt.xlabel('Date and Time')\n",
    "plt.ylabel ('Total ISSR count')\n",
    "plt.xticks(rotation = 45)\n",
    "sns.set(rc={'figure.figsize':(15,5)})\n",
    "plt.legend(labels=[\"Actual ISSR Counts\",\"Predicted ISSR Counts\"])\n",
    "\n",
    "plt.show()"
   ]
  },
  {
   "cell_type": "code",
   "execution_count": null,
   "id": "55ec852f",
   "metadata": {},
   "outputs": [],
   "source": []
  }
 ],
 "metadata": {
  "kernelspec": {
   "display_name": "conda_python3",
   "language": "python",
   "name": "conda_python3"
  },
  "language_info": {
   "codemirror_mode": {
    "name": "ipython",
    "version": 3
   },
   "file_extension": ".py",
   "mimetype": "text/x-python",
   "name": "python",
   "nbconvert_exporter": "python",
   "pygments_lexer": "ipython3",
   "version": "3.6.13"
  }
 },
 "nbformat": 4,
 "nbformat_minor": 5
}
