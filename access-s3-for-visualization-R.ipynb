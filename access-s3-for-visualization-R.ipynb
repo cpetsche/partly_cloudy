{
 "cells": [
  {
   "cell_type": "code",
   "execution_count": 1,
   "id": "2bf5c048",
   "metadata": {},
   "outputs": [],
   "source": [
    "library(reticulate)\n",
    "sagemaker <- import('sagemaker')"
   ]
  },
  {
   "cell_type": "code",
   "execution_count": 2,
   "id": "e019e77a",
   "metadata": {},
   "outputs": [],
   "source": [
    "role_arn <- sagemaker$get_execution_role()"
   ]
  },
  {
   "cell_type": "code",
   "execution_count": 3,
   "id": "6414c71e",
   "metadata": {},
   "outputs": [],
   "source": [
    "session <- sagemaker$Session()\n",
    "bucket <- session$default_bucket()\n",
    "prefix <- ''"
   ]
  },
  {
   "cell_type": "code",
   "execution_count": 4,
   "id": "c0c458cd",
   "metadata": {},
   "outputs": [],
   "source": [
    "library(readr)\n",
    "data_file <- 's3://partly-cloudy-common-area/hourly_issr_summary.csv'\n",
    "mydata <- read_csv(file = sagemaker$s3$S3Downloader$read_file(data_file,\n",
    "                                                              sagemaker_session= session),\n",
    "                   col_names = TRUE)"
   ]
  },
  {
   "cell_type": "code",
   "execution_count": 5,
   "id": "0a645604",
   "metadata": {},
   "outputs": [],
   "source": [
    "df <- as.data.frame(mydata)"
   ]
  },
  {
   "cell_type": "code",
   "execution_count": 9,
   "id": "d031e5f5",
   "metadata": {},
   "outputs": [
    {
     "data": {
      "text/html": [
       "<table class=\"dataframe\">\n",
       "<caption>A data.frame: 6 × 5</caption>\n",
       "<thead>\n",
       "\t<tr><th></th><th scope=col>index</th><th scope=col>dateTime</th><th scope=col>iSSRs</th><th scope=col>floor</th><th scope=col>ceiling</th></tr>\n",
       "\t<tr><th></th><th scope=col>&lt;dbl&gt;</th><th scope=col>&lt;dttm&gt;</th><th scope=col>&lt;dbl&gt;</th><th scope=col>&lt;dbl&gt;</th><th scope=col>&lt;dbl&gt;</th></tr>\n",
       "</thead>\n",
       "<tbody>\n",
       "\t<tr><th scope=row>1</th><td>7900</td><td>2020-06-01 00:00:00</td><td>7406</td><td>23564.34</td><td>41293.3</td></tr>\n",
       "\t<tr><th scope=row>2</th><td>7205</td><td>2020-06-01 01:00:00</td><td>7250</td><td>23564.34</td><td>41293.3</td></tr>\n",
       "\t<tr><th scope=row>3</th><td>1910</td><td>2020-06-01 02:00:00</td><td>6401</td><td>23564.34</td><td>41293.3</td></tr>\n",
       "\t<tr><th scope=row>4</th><td>8435</td><td>2020-06-01 03:00:00</td><td>6448</td><td>23564.34</td><td>41293.3</td></tr>\n",
       "\t<tr><th scope=row>5</th><td>3739</td><td>2020-06-01 04:00:00</td><td>7185</td><td>23564.34</td><td>41293.3</td></tr>\n",
       "\t<tr><th scope=row>6</th><td> 502</td><td>2020-06-01 05:00:00</td><td>7429</td><td>23564.34</td><td>41293.3</td></tr>\n",
       "</tbody>\n",
       "</table>\n"
      ],
      "text/latex": [
       "A data.frame: 6 × 5\n",
       "\\begin{tabular}{r|lllll}\n",
       "  & index & dateTime & iSSRs & floor & ceiling\\\\\n",
       "  & <dbl> & <dttm> & <dbl> & <dbl> & <dbl>\\\\\n",
       "\\hline\n",
       "\t1 & 7900 & 2020-06-01 00:00:00 & 7406 & 23564.34 & 41293.3\\\\\n",
       "\t2 & 7205 & 2020-06-01 01:00:00 & 7250 & 23564.34 & 41293.3\\\\\n",
       "\t3 & 1910 & 2020-06-01 02:00:00 & 6401 & 23564.34 & 41293.3\\\\\n",
       "\t4 & 8435 & 2020-06-01 03:00:00 & 6448 & 23564.34 & 41293.3\\\\\n",
       "\t5 & 3739 & 2020-06-01 04:00:00 & 7185 & 23564.34 & 41293.3\\\\\n",
       "\t6 &  502 & 2020-06-01 05:00:00 & 7429 & 23564.34 & 41293.3\\\\\n",
       "\\end{tabular}\n"
      ],
      "text/markdown": [
       "\n",
       "A data.frame: 6 × 5\n",
       "\n",
       "| <!--/--> | index &lt;dbl&gt; | dateTime &lt;dttm&gt; | iSSRs &lt;dbl&gt; | floor &lt;dbl&gt; | ceiling &lt;dbl&gt; |\n",
       "|---|---|---|---|---|---|\n",
       "| 1 | 7900 | 2020-06-01 00:00:00 | 7406 | 23564.34 | 41293.3 |\n",
       "| 2 | 7205 | 2020-06-01 01:00:00 | 7250 | 23564.34 | 41293.3 |\n",
       "| 3 | 1910 | 2020-06-01 02:00:00 | 6401 | 23564.34 | 41293.3 |\n",
       "| 4 | 8435 | 2020-06-01 03:00:00 | 6448 | 23564.34 | 41293.3 |\n",
       "| 5 | 3739 | 2020-06-01 04:00:00 | 7185 | 23564.34 | 41293.3 |\n",
       "| 6 |  502 | 2020-06-01 05:00:00 | 7429 | 23564.34 | 41293.3 |\n",
       "\n"
      ],
      "text/plain": [
       "  index dateTime            iSSRs floor    ceiling\n",
       "1 7900  2020-06-01 00:00:00 7406  23564.34 41293.3\n",
       "2 7205  2020-06-01 01:00:00 7250  23564.34 41293.3\n",
       "3 1910  2020-06-01 02:00:00 6401  23564.34 41293.3\n",
       "4 8435  2020-06-01 03:00:00 6448  23564.34 41293.3\n",
       "5 3739  2020-06-01 04:00:00 7185  23564.34 41293.3\n",
       "6  502  2020-06-01 05:00:00 7429  23564.34 41293.3"
      ]
     },
     "metadata": {},
     "output_type": "display_data"
    }
   ],
   "source": [
    "head(df)"
   ]
  },
  {
   "cell_type": "markdown",
   "id": "ad219833",
   "metadata": {},
   "source": [
    "http://r-statistics.co/Top50-Ggplot2-Visualizations-MasterList-R-Code.html#Bar%20Chart"
   ]
  },
  {
   "cell_type": "code",
   "execution_count": 10,
   "id": "3ad5dd1a",
   "metadata": {},
   "outputs": [
    {
     "data": {
      "image/png": "[encoded data removed]",
      "text/plain": [
       "plot without title"
      ]
     },
     "metadata": {
      "image/png": {
       "height": 420,
       "width": 420
      }
     },
     "output_type": "display_data"
    }
   ],
   "source": [
    "# plot\n",
    "library(ggplot2)\n",
    "theme_set(theme_classic())\n",
    "\n",
    "# Plot\n",
    "g <- ggplot(df, aes(dateTime, iSSRs))\n",
    "g + geom_col(width= 0.5, fill= \"tomato2\") + \n",
    "      labs(title= \"Hourly ISSR Volumn\", \n",
    "           subtitle= \"from June 2020 to May 2021\", \n",
    "           caption= \"Source: NOAA RAP\") +\n",
    "      theme(axis.text.x = element_text(angle=65, vjust=0.6))"
   ]
  },
  {
   "cell_type": "code",
   "execution_count": null,
   "id": "af2b952e",
   "metadata": {},
   "outputs": [],
   "source": []
  }
 ],
 "metadata": {
  "kernelspec": {
   "display_name": "R",
   "language": "R",
   "name": "ir"
  },
  "language_info": {
   "codemirror_mode": "r",
   "file_extension": ".r",
   "mimetype": "text/x-r-source",
   "name": "R",
   "pygments_lexer": "r",
   "version": "4.0.5"
  }
 },
 "nbformat": 4,
 "nbformat_minor": 5
}
